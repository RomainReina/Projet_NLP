{
  "nbformat": 4,
  "nbformat_minor": 0,
  "metadata": {
    "colab": {
      "name": "Projet_NLP_REINAROMAIN.ipynb",
      "provenance": [],
      "collapsed_sections": [],
      "include_colab_link": true
    },
    "kernelspec": {
      "display_name": "Python 3",
      "language": "python",
      "name": "python3"
    },
    "language_info": {
      "codemirror_mode": {
        "name": "ipython",
        "version": 3
      },
      "file_extension": ".py",
      "mimetype": "text/x-python",
      "name": "python",
      "nbconvert_exporter": "python",
      "pygments_lexer": "ipython3",
      "version": "3.8.5"
    }
  },
  "cells": [
    {
      "cell_type": "markdown",
      "metadata": {
        "id": "view-in-github",
        "colab_type": "text"
      },
      "source": [
        "<a href=\"https://colab.research.google.com/github/RomainReina/Projet_NLP/blob/main/Projet_NLP_REINAROMAIN.ipynb\" target=\"_parent\"><img src=\"https://colab.research.google.com/assets/colab-badge.svg\" alt=\"Open In Colab\"/></a>"
      ]
    },
    {
      "cell_type": "markdown",
      "metadata": {
        "id": "ika5Kt-qqZht"
      },
      "source": [
        "## Sommaire\n",
        "- [Introduction](#0)\n",
        "- [Part 1:  Load de la data](#1)\n",
        "    - [1.1  embeding](#1.1)\n",
        "    - [1.2  Data generator](#1.2)\n",
        "\t\t- [Exercise 01](#ex01)\n",
        "- [Part 2:  Word embedding](#2)\n",
        "\t- [Exercise 02](#ex02)\n",
        "- [Part 3:  initialisation du modele](#3)\n",
        "\t- [Exercise 03](#ex03)\n",
        "- [Part 4:  training](#4)\n"
      ]
    },
    {
      "cell_type": "markdown",
      "metadata": {
        "id": "_NE4zxSaqwNP"
      },
      "source": [
        ""
      ]
    },
    {
      "cell_type": "code",
      "metadata": {
        "colab": {
          "base_uri": "https://localhost:8080/"
        },
        "id": "QjldiytrsHb9",
        "outputId": "48b9f044-a05c-4ef1-efb5-c45e364f90d5"
      },
      "source": [
        "!pip -q install trax==1.3.1\n"
      ],
      "execution_count": 1,
      "outputs": [
        {
          "output_type": "stream",
          "text": [
            "\u001b[K     |████████████████████████████████| 348kB 4.3MB/s \n",
            "\u001b[K     |████████████████████████████████| 3.4MB 7.4MB/s \n",
            "\u001b[K     |████████████████████████████████| 1.5MB 42.3MB/s \n",
            "\u001b[K     |████████████████████████████████| 215kB 49.8MB/s \n",
            "\u001b[K     |████████████████████████████████| 983kB 40.3MB/s \n",
            "\u001b[K     |████████████████████████████████| 5.6MB 45.1MB/s \n",
            "\u001b[K     |████████████████████████████████| 368kB 54.6MB/s \n",
            "\u001b[K     |████████████████████████████████| 368kB 49.5MB/s \n",
            "\u001b[K     |████████████████████████████████| 655kB 22.6MB/s \n",
            "\u001b[K     |████████████████████████████████| 358kB 46.1MB/s \n",
            "\u001b[K     |████████████████████████████████| 81kB 8.5MB/s \n",
            "\u001b[K     |████████████████████████████████| 194kB 47.4MB/s \n",
            "\u001b[K     |████████████████████████████████| 706kB 35.0MB/s \n",
            "\u001b[K     |████████████████████████████████| 1.9MB 45.3MB/s \n",
            "\u001b[K     |████████████████████████████████| 3.8MB 53.8MB/s \n",
            "\u001b[K     |████████████████████████████████| 71kB 7.9MB/s \n",
            "\u001b[K     |████████████████████████████████| 1.2MB 50.1MB/s \n",
            "\u001b[K     |████████████████████████████████| 245kB 55.3MB/s \n",
            "\u001b[K     |████████████████████████████████| 163kB 53.7MB/s \n",
            "\u001b[K     |████████████████████████████████| 890kB 45.4MB/s \n",
            "\u001b[K     |████████████████████████████████| 3.2MB 39.9MB/s \n",
            "\u001b[?25h  Building wheel for pypng (setup.py) ... \u001b[?25l\u001b[?25hdone\n",
            "  Building wheel for bz2file (setup.py) ... \u001b[?25l\u001b[?25hdone\n",
            "  Building wheel for sacremoses (setup.py) ... \u001b[?25l\u001b[?25hdone\n",
            "\u001b[31mERROR: kfac 0.2.3 has requirement tensorflow-probability==0.8, but you'll have tensorflow-probability 0.7.0 which is incompatible.\u001b[0m\n"
          ],
          "name": "stdout"
        }
      ]
    },
    {
      "cell_type": "code",
      "metadata": {
        "colab": {
          "base_uri": "https://localhost:8080/"
        },
        "id": "n8gjHp8jwH6j",
        "outputId": "acdcd656-0a08-4a98-a9be-7258f27bfe0c"
      },
      "source": [
        "# Import Python libraries and helper functions \n",
        "from keras.datasets import imdb\n",
        "import pandas as pd\n",
        "import numpy as np\n",
        "from keras.layers import LSTM, Activation, Dropout, Dense, Input\n",
        "from keras.layers.embeddings import Embedding\n",
        "from keras.models import Model\n",
        "import string\n",
        "import re\n",
        "from keras.preprocessing.text import Tokenizer\n",
        "from sklearn.preprocessing import LabelBinarizer\n",
        "from keras.preprocessing.sequence import pad_sequences\n",
        "import keras\n",
        "from sklearn.model_selection import train_test_split\n",
        "\n",
        "import trax \n",
        "from trax import layers as tl\n",
        "\n",
        "from nltk.tokenize import word_tokenize\n",
        "from nltk.text import Text\n",
        "from nltk.stem.lancaster import LancasterStemmer\n",
        "from nltk.stem import WordNetLemmatizer\n",
        "import nltk\n",
        "\n",
        "import random\n",
        "\n",
        "import matplotlib.pyplot as plt\n",
        "\n",
        "\n",
        "\n",
        "nltk.download('punkt')\n",
        "nltk.download('stopwords')\n",
        "nltk.download('wordnet')\n",
        "nltk.download('averaged_perceptron_tagger')"
      ],
      "execution_count": 2,
      "outputs": [
        {
          "output_type": "stream",
          "text": [
            "WARNING:root:Argument blacklist is deprecated. Please use denylist.\n",
            "WARNING:root:Argument blacklist is deprecated. Please use denylist.\n",
            "WARNING:root:Argument blacklist is deprecated. Please use denylist.\n",
            "WARNING:root:Argument blacklist is deprecated. Please use denylist.\n",
            "WARNING:root:Argument blacklist is deprecated. Please use denylist.\n",
            "WARNING:root:Argument blacklist is deprecated. Please use denylist.\n",
            "WARNING:root:Argument blacklist is deprecated. Please use denylist.\n",
            "WARNING:root:Argument blacklist is deprecated. Please use denylist.\n",
            "WARNING:root:Argument blacklist is deprecated. Please use denylist.\n",
            "WARNING:root:Argument blacklist is deprecated. Please use denylist.\n",
            "WARNING:root:Argument blacklist is deprecated. Please use denylist.\n",
            "WARNING:root:Argument blacklist is deprecated. Please use denylist.\n",
            "WARNING:root:Argument blacklist is deprecated. Please use denylist.\n",
            "WARNING:root:Argument blacklist is deprecated. Please use denylist.\n",
            "WARNING:root:Argument blacklist is deprecated. Please use denylist.\n",
            "WARNING:root:Argument blacklist is deprecated. Please use denylist.\n",
            "WARNING:root:Argument blacklist is deprecated. Please use denylist.\n",
            "WARNING:root:Argument blacklist is deprecated. Please use denylist.\n",
            "WARNING:root:Argument blacklist is deprecated. Please use denylist.\n",
            "WARNING:root:Argument blacklist is deprecated. Please use denylist.\n",
            "WARNING:root:Argument blacklist is deprecated. Please use denylist.\n",
            "WARNING:root:Argument blacklist is deprecated. Please use denylist.\n",
            "WARNING:root:Argument blacklist is deprecated. Please use denylist.\n",
            "WARNING:root:Argument blacklist is deprecated. Please use denylist.\n",
            "WARNING:root:Argument blacklist is deprecated. Please use denylist.\n"
          ],
          "name": "stderr"
        },
        {
          "output_type": "stream",
          "text": [
            "[nltk_data] Downloading package punkt to /root/nltk_data...\n",
            "[nltk_data]   Unzipping tokenizers/punkt.zip.\n",
            "[nltk_data] Downloading package stopwords to /root/nltk_data...\n",
            "[nltk_data]   Unzipping corpora/stopwords.zip.\n",
            "[nltk_data] Downloading package wordnet to /root/nltk_data...\n",
            "[nltk_data]   Unzipping corpora/wordnet.zip.\n",
            "[nltk_data] Downloading package averaged_perceptron_tagger to\n",
            "[nltk_data]     /root/nltk_data...\n",
            "[nltk_data]   Unzipping taggers/averaged_perceptron_tagger.zip.\n"
          ],
          "name": "stdout"
        },
        {
          "output_type": "execute_result",
          "data": {
            "text/plain": [
              "True"
            ]
          },
          "metadata": {
            "tags": []
          },
          "execution_count": 2
        }
      ]
    },
    {
      "cell_type": "code",
      "metadata": {
        "colab": {
          "base_uri": "https://localhost:8080/"
        },
        "id": "pbYDGro7g9qB",
        "outputId": "7b06bb5c-e34e-4866-a7ac-948086506eb6"
      },
      "source": [
        "from google.colab import drive\n",
        "drive.mount('/content/gdrive',force_remount= True)"
      ],
      "execution_count": 3,
      "outputs": [
        {
          "output_type": "stream",
          "text": [
            "Mounted at /content/gdrive\n"
          ],
          "name": "stdout"
        }
      ]
    },
    {
      "cell_type": "code",
      "metadata": {
        "colab": {
          "base_uri": "https://localhost:8080/",
          "height": 424
        },
        "id": "FenOCLzGgEtg",
        "outputId": "f25de207-e455-4b1b-fb04-cf34b8ab1faf"
      },
      "source": [
        "csv = pd.read_csv('gdrive/MyDrive/Projet_NLP/training.1600000.processed.noemoticon.csv', encoding = 'latin', header=None)\n",
        "csv"
      ],
      "execution_count": 5,
      "outputs": [
        {
          "output_type": "execute_result",
          "data": {
            "text/html": [
              "<div>\n",
              "<style scoped>\n",
              "    .dataframe tbody tr th:only-of-type {\n",
              "        vertical-align: middle;\n",
              "    }\n",
              "\n",
              "    .dataframe tbody tr th {\n",
              "        vertical-align: top;\n",
              "    }\n",
              "\n",
              "    .dataframe thead th {\n",
              "        text-align: right;\n",
              "    }\n",
              "</style>\n",
              "<table border=\"1\" class=\"dataframe\">\n",
              "  <thead>\n",
              "    <tr style=\"text-align: right;\">\n",
              "      <th></th>\n",
              "      <th>0</th>\n",
              "      <th>1</th>\n",
              "      <th>2</th>\n",
              "      <th>3</th>\n",
              "      <th>4</th>\n",
              "      <th>5</th>\n",
              "    </tr>\n",
              "  </thead>\n",
              "  <tbody>\n",
              "    <tr>\n",
              "      <th>0</th>\n",
              "      <td>0</td>\n",
              "      <td>1467810369</td>\n",
              "      <td>Mon Apr 06 22:19:45 PDT 2009</td>\n",
              "      <td>NO_QUERY</td>\n",
              "      <td>_TheSpecialOne_</td>\n",
              "      <td>@switchfoot http://twitpic.com/2y1zl - Awww, t...</td>\n",
              "    </tr>\n",
              "    <tr>\n",
              "      <th>1</th>\n",
              "      <td>0</td>\n",
              "      <td>1467810672</td>\n",
              "      <td>Mon Apr 06 22:19:49 PDT 2009</td>\n",
              "      <td>NO_QUERY</td>\n",
              "      <td>scotthamilton</td>\n",
              "      <td>is upset that he can't update his Facebook by ...</td>\n",
              "    </tr>\n",
              "    <tr>\n",
              "      <th>2</th>\n",
              "      <td>0</td>\n",
              "      <td>1467810917</td>\n",
              "      <td>Mon Apr 06 22:19:53 PDT 2009</td>\n",
              "      <td>NO_QUERY</td>\n",
              "      <td>mattycus</td>\n",
              "      <td>@Kenichan I dived many times for the ball. Man...</td>\n",
              "    </tr>\n",
              "    <tr>\n",
              "      <th>3</th>\n",
              "      <td>0</td>\n",
              "      <td>1467811184</td>\n",
              "      <td>Mon Apr 06 22:19:57 PDT 2009</td>\n",
              "      <td>NO_QUERY</td>\n",
              "      <td>ElleCTF</td>\n",
              "      <td>my whole body feels itchy and like its on fire</td>\n",
              "    </tr>\n",
              "    <tr>\n",
              "      <th>4</th>\n",
              "      <td>0</td>\n",
              "      <td>1467811193</td>\n",
              "      <td>Mon Apr 06 22:19:57 PDT 2009</td>\n",
              "      <td>NO_QUERY</td>\n",
              "      <td>Karoli</td>\n",
              "      <td>@nationwideclass no, it's not behaving at all....</td>\n",
              "    </tr>\n",
              "    <tr>\n",
              "      <th>...</th>\n",
              "      <td>...</td>\n",
              "      <td>...</td>\n",
              "      <td>...</td>\n",
              "      <td>...</td>\n",
              "      <td>...</td>\n",
              "      <td>...</td>\n",
              "    </tr>\n",
              "    <tr>\n",
              "      <th>1599995</th>\n",
              "      <td>4</td>\n",
              "      <td>2193601966</td>\n",
              "      <td>Tue Jun 16 08:40:49 PDT 2009</td>\n",
              "      <td>NO_QUERY</td>\n",
              "      <td>AmandaMarie1028</td>\n",
              "      <td>Just woke up. Having no school is the best fee...</td>\n",
              "    </tr>\n",
              "    <tr>\n",
              "      <th>1599996</th>\n",
              "      <td>4</td>\n",
              "      <td>2193601969</td>\n",
              "      <td>Tue Jun 16 08:40:49 PDT 2009</td>\n",
              "      <td>NO_QUERY</td>\n",
              "      <td>TheWDBoards</td>\n",
              "      <td>TheWDB.com - Very cool to hear old Walt interv...</td>\n",
              "    </tr>\n",
              "    <tr>\n",
              "      <th>1599997</th>\n",
              "      <td>4</td>\n",
              "      <td>2193601991</td>\n",
              "      <td>Tue Jun 16 08:40:49 PDT 2009</td>\n",
              "      <td>NO_QUERY</td>\n",
              "      <td>bpbabe</td>\n",
              "      <td>Are you ready for your MoJo Makeover? Ask me f...</td>\n",
              "    </tr>\n",
              "    <tr>\n",
              "      <th>1599998</th>\n",
              "      <td>4</td>\n",
              "      <td>2193602064</td>\n",
              "      <td>Tue Jun 16 08:40:49 PDT 2009</td>\n",
              "      <td>NO_QUERY</td>\n",
              "      <td>tinydiamondz</td>\n",
              "      <td>Happy 38th Birthday to my boo of alll time!!! ...</td>\n",
              "    </tr>\n",
              "    <tr>\n",
              "      <th>1599999</th>\n",
              "      <td>4</td>\n",
              "      <td>2193602129</td>\n",
              "      <td>Tue Jun 16 08:40:50 PDT 2009</td>\n",
              "      <td>NO_QUERY</td>\n",
              "      <td>RyanTrevMorris</td>\n",
              "      <td>happy #charitytuesday @theNSPCC @SparksCharity...</td>\n",
              "    </tr>\n",
              "  </tbody>\n",
              "</table>\n",
              "<p>1600000 rows × 6 columns</p>\n",
              "</div>"
            ],
            "text/plain": [
              "         0  ...                                                  5\n",
              "0        0  ...  @switchfoot http://twitpic.com/2y1zl - Awww, t...\n",
              "1        0  ...  is upset that he can't update his Facebook by ...\n",
              "2        0  ...  @Kenichan I dived many times for the ball. Man...\n",
              "3        0  ...    my whole body feels itchy and like its on fire \n",
              "4        0  ...  @nationwideclass no, it's not behaving at all....\n",
              "...     ..  ...                                                ...\n",
              "1599995  4  ...  Just woke up. Having no school is the best fee...\n",
              "1599996  4  ...  TheWDB.com - Very cool to hear old Walt interv...\n",
              "1599997  4  ...  Are you ready for your MoJo Makeover? Ask me f...\n",
              "1599998  4  ...  Happy 38th Birthday to my boo of alll time!!! ...\n",
              "1599999  4  ...  happy #charitytuesday @theNSPCC @SparksCharity...\n",
              "\n",
              "[1600000 rows x 6 columns]"
            ]
          },
          "metadata": {
            "tags": []
          },
          "execution_count": 5
        }
      ]
    },
    {
      "cell_type": "code",
      "metadata": {
        "colab": {
          "base_uri": "https://localhost:8080/",
          "height": 424
        },
        "id": "cI0GH22xggOF",
        "outputId": "bdf53aaf-725f-4d8b-ba53-a2c1b5814a0a"
      },
      "source": [
        "data = csv.drop([1,2,3,4],axis = 1)\n",
        "data.columns = ['index', 'comments']\n",
        "data\n"
      ],
      "execution_count": 8,
      "outputs": [
        {
          "output_type": "execute_result",
          "data": {
            "text/html": [
              "<div>\n",
              "<style scoped>\n",
              "    .dataframe tbody tr th:only-of-type {\n",
              "        vertical-align: middle;\n",
              "    }\n",
              "\n",
              "    .dataframe tbody tr th {\n",
              "        vertical-align: top;\n",
              "    }\n",
              "\n",
              "    .dataframe thead th {\n",
              "        text-align: right;\n",
              "    }\n",
              "</style>\n",
              "<table border=\"1\" class=\"dataframe\">\n",
              "  <thead>\n",
              "    <tr style=\"text-align: right;\">\n",
              "      <th></th>\n",
              "      <th>index</th>\n",
              "      <th>comments</th>\n",
              "    </tr>\n",
              "  </thead>\n",
              "  <tbody>\n",
              "    <tr>\n",
              "      <th>0</th>\n",
              "      <td>0</td>\n",
              "      <td>@switchfoot http://twitpic.com/2y1zl - Awww, t...</td>\n",
              "    </tr>\n",
              "    <tr>\n",
              "      <th>1</th>\n",
              "      <td>0</td>\n",
              "      <td>is upset that he can't update his Facebook by ...</td>\n",
              "    </tr>\n",
              "    <tr>\n",
              "      <th>2</th>\n",
              "      <td>0</td>\n",
              "      <td>@Kenichan I dived many times for the ball. Man...</td>\n",
              "    </tr>\n",
              "    <tr>\n",
              "      <th>3</th>\n",
              "      <td>0</td>\n",
              "      <td>my whole body feels itchy and like its on fire</td>\n",
              "    </tr>\n",
              "    <tr>\n",
              "      <th>4</th>\n",
              "      <td>0</td>\n",
              "      <td>@nationwideclass no, it's not behaving at all....</td>\n",
              "    </tr>\n",
              "    <tr>\n",
              "      <th>...</th>\n",
              "      <td>...</td>\n",
              "      <td>...</td>\n",
              "    </tr>\n",
              "    <tr>\n",
              "      <th>1599995</th>\n",
              "      <td>4</td>\n",
              "      <td>Just woke up. Having no school is the best fee...</td>\n",
              "    </tr>\n",
              "    <tr>\n",
              "      <th>1599996</th>\n",
              "      <td>4</td>\n",
              "      <td>TheWDB.com - Very cool to hear old Walt interv...</td>\n",
              "    </tr>\n",
              "    <tr>\n",
              "      <th>1599997</th>\n",
              "      <td>4</td>\n",
              "      <td>Are you ready for your MoJo Makeover? Ask me f...</td>\n",
              "    </tr>\n",
              "    <tr>\n",
              "      <th>1599998</th>\n",
              "      <td>4</td>\n",
              "      <td>Happy 38th Birthday to my boo of alll time!!! ...</td>\n",
              "    </tr>\n",
              "    <tr>\n",
              "      <th>1599999</th>\n",
              "      <td>4</td>\n",
              "      <td>happy #charitytuesday @theNSPCC @SparksCharity...</td>\n",
              "    </tr>\n",
              "  </tbody>\n",
              "</table>\n",
              "<p>1600000 rows × 2 columns</p>\n",
              "</div>"
            ],
            "text/plain": [
              "         index                                           comments\n",
              "0            0  @switchfoot http://twitpic.com/2y1zl - Awww, t...\n",
              "1            0  is upset that he can't update his Facebook by ...\n",
              "2            0  @Kenichan I dived many times for the ball. Man...\n",
              "3            0    my whole body feels itchy and like its on fire \n",
              "4            0  @nationwideclass no, it's not behaving at all....\n",
              "...        ...                                                ...\n",
              "1599995      4  Just woke up. Having no school is the best fee...\n",
              "1599996      4  TheWDB.com - Very cool to hear old Walt interv...\n",
              "1599997      4  Are you ready for your MoJo Makeover? Ask me f...\n",
              "1599998      4  Happy 38th Birthday to my boo of alll time!!! ...\n",
              "1599999      4  happy #charitytuesday @theNSPCC @SparksCharity...\n",
              "\n",
              "[1600000 rows x 2 columns]"
            ]
          },
          "metadata": {
            "tags": []
          },
          "execution_count": 8
        }
      ]
    },
    {
      "cell_type": "code",
      "metadata": {
        "colab": {
          "base_uri": "https://localhost:8080/"
        },
        "id": "-RC9o6zJgh4r",
        "outputId": "4119fc07-5b72-4ccb-a6b1-3d0324d65e56"
      },
      "source": [
        "\n",
        "n = 200\n",
        "#j'en veux que 200 + et 200 - \n",
        "df = data[:n]\n",
        "negative_value = df.to_dict()\n",
        "df = data[-n:]\n",
        "positive_value = df.to_dict()\n",
        "\n",
        "\n",
        "print(negative_value ,'\\n', positive_value)"
      ],
      "execution_count": 219,
      "outputs": [
        {
          "output_type": "stream",
          "text": [
            "{'index': {0: 0, 1: 0, 2: 0, 3: 0, 4: 0, 5: 0, 6: 0, 7: 0, 8: 0, 9: 0, 10: 0, 11: 0, 12: 0, 13: 0, 14: 0, 15: 0, 16: 0, 17: 0, 18: 0, 19: 0, 20: 0, 21: 0, 22: 0, 23: 0, 24: 0, 25: 0, 26: 0, 27: 0, 28: 0, 29: 0, 30: 0, 31: 0, 32: 0, 33: 0, 34: 0, 35: 0, 36: 0, 37: 0, 38: 0, 39: 0, 40: 0, 41: 0, 42: 0, 43: 0, 44: 0, 45: 0, 46: 0, 47: 0, 48: 0, 49: 0, 50: 0, 51: 0, 52: 0, 53: 0, 54: 0, 55: 0, 56: 0, 57: 0, 58: 0, 59: 0, 60: 0, 61: 0, 62: 0, 63: 0, 64: 0, 65: 0, 66: 0, 67: 0, 68: 0, 69: 0, 70: 0, 71: 0, 72: 0, 73: 0, 74: 0, 75: 0, 76: 0, 77: 0, 78: 0, 79: 0, 80: 0, 81: 0, 82: 0, 83: 0, 84: 0, 85: 0, 86: 0, 87: 0, 88: 0, 89: 0, 90: 0, 91: 0, 92: 0, 93: 0, 94: 0, 95: 0, 96: 0, 97: 0, 98: 0, 99: 0, 100: 0, 101: 0, 102: 0, 103: 0, 104: 0, 105: 0, 106: 0, 107: 0, 108: 0, 109: 0, 110: 0, 111: 0, 112: 0, 113: 0, 114: 0, 115: 0, 116: 0, 117: 0, 118: 0, 119: 0, 120: 0, 121: 0, 122: 0, 123: 0, 124: 0, 125: 0, 126: 0, 127: 0, 128: 0, 129: 0, 130: 0, 131: 0, 132: 0, 133: 0, 134: 0, 135: 0, 136: 0, 137: 0, 138: 0, 139: 0, 140: 0, 141: 0, 142: 0, 143: 0, 144: 0, 145: 0, 146: 0, 147: 0, 148: 0, 149: 0, 150: 0, 151: 0, 152: 0, 153: 0, 154: 0, 155: 0, 156: 0, 157: 0, 158: 0, 159: 0, 160: 0, 161: 0, 162: 0, 163: 0, 164: 0, 165: 0, 166: 0, 167: 0, 168: 0, 169: 0, 170: 0, 171: 0, 172: 0, 173: 0, 174: 0, 175: 0, 176: 0, 177: 0, 178: 0, 179: 0, 180: 0, 181: 0, 182: 0, 183: 0, 184: 0, 185: 0, 186: 0, 187: 0, 188: 0, 189: 0, 190: 0, 191: 0, 192: 0, 193: 0, 194: 0, 195: 0, 196: 0, 197: 0, 198: 0, 199: 0}, 'comments': {0: \"@switchfoot http://twitpic.com/2y1zl - Awww, that's a bummer.  You shoulda got David Carr of Third Day to do it. ;D\", 1: \"is upset that he can't update his Facebook by texting it... and might cry as a result  School today also. Blah!\", 2: '@Kenichan I dived many times for the ball. Managed to save 50%  The rest go out of bounds', 3: 'my whole body feels itchy and like its on fire ', 4: \"@nationwideclass no, it's not behaving at all. i'm mad. why am i here? because I can't see you all over there. \", 5: '@Kwesidei not the whole crew ', 6: 'Need a hug ', 7: \"@LOLTrish hey  long time no see! Yes.. Rains a bit ,only a bit  LOL , I'm fine thanks , how's you ?\", 8: \"@Tatiana_K nope they didn't have it \", 9: '@twittera que me muera ? ', 10: \"spring break in plain city... it's snowing \", 11: 'I just re-pierced my ears ', 12: \"@caregiving I couldn't bear to watch it.  And I thought the UA loss was embarrassing . . . . .\", 13: '@octolinz16 It it counts, idk why I did either. you never talk to me anymore ', 14: \"@smarrison i would've been the first, but i didn't have a gun.    not really though, zac snyder's just a doucheclown.\", 15: '@iamjazzyfizzle I wish I got to watch it with you!! I miss you and @iamlilnicki  how was the premiere?!', 16: \"Hollis' death scene will hurt me severely to watch on film  wry is directors cut not out now?\", 17: 'about to file taxes ', 18: '@LettyA ahh ive always wanted to see rent  love the soundtrack!!', 19: '@FakerPattyPattz Oh dear. Were you drinking out of the forgotten table drinks? ', 20: \"@alydesigns i was out most of the day so didn't get much done \", 21: \"one of my friend called me, and asked to meet with her at Mid Valley today...but i've no time *sigh* \", 22: '@angry_barista I baked you a cake but I ated it ', 23: 'this week is not going as i had hoped ', 24: 'blagh class at 8 tomorrow ', 25: 'I hate when I have to call and wake people up ', 26: 'Just going to cry myself to sleep after watching Marley and Me.  ', 27: 'im sad now  Miss.Lilly', 28: \"ooooh.... LOL  that leslie.... and ok I won't do it again so leslie won't  get mad again \", 29: 'Meh... Almost Lover is the exception... this track gets me depressed every time. ', 30: 'some1 hacked my account on aim  now i have to make a new one', 31: '@alielayus I want to go to promote GEAR AND GROOVE but unfornately no ride there  I may b going to the one in Anaheim in May though', 32: 'thought sleeping in was an option tomorrow but realizing that it now is not. evaluations in the morning and work in the afternoon! ', 33: '@julieebaby awe i love you too!!!! 1 am here  i miss you', 34: '@HumpNinja I cry my asian eyes to sleep at night ', 35: \"ok I'm sick and spent an hour sitting in the shower cause I was too sick to stand and held back the puke like a champ. BED now \", 36: '@cocomix04 ill tell ya the story later  not a good day and ill be workin for like three more hours...', 37: '@MissXu sorry! bed time came here (GMT+1)   http://is.gd/fNge', 38: \"@fleurylis I don't either. Its depressing. I don't think I even want to know about the kids in suitcases. \", 39: \"Bed. Class 8-12. Work 12-3. Gym 3-5 or 6. Then class 6-10. Another day that's gonna fly by. I miss my girlfriend \", 40: \"really don't feel like getting up today... but got to study to for tomorrows practical exam... \", 41: \"He's the reason for the teardrops on my guitar the only one who has enough of me to break my heart \", 42: \"Sad, sad, sad. I don't know why but I hate this feeling  I wanna sleep and I still can't!\", 43: '@JonathanRKnight Awww I soo wish I was there to see you finally comfortable! Im sad that I missed it ', 44: \"Falling asleep. Just heard about that Tracy girl's body being found. How sad  My heart breaks for that family.\", 45: \"@Viennah Yay! I'm happy for you with your job! But that also means less time for me and you... \", 46: 'Just checked my user timeline on my blackberry, it looks like the twanking is still happening  Are ppl still having probs w/ BGs and UIDs?', 47: \"Oh man...was ironing @jeancjumbe's fave top to wear to a meeting. Burnt it \", 48: 'is strangely sad about LiLo and SamRo breaking up. ', 49: \"@tea oh! i'm so sorry  i didn't think about that before retweeting.\", 50: \"Broadband plan 'a massive broken promise' http://tinyurl.com/dcuc33 via www.diigo.com/~tautao Still waiting for broadband we are \", 51: \"@localtweeps Wow, tons of replies from you, may have to unfollow so I can see my friends' tweets, you're scrolling the feed a lot. \", 52: 'our duck and chicken are taking wayyy too long to hatch ', 53: 'Put vacation photos online a few yrs ago. PC crashed, and now I forget the name of the site. ', 54: 'I need a hug ', 55: '@andywana Not sure what they are, only that they are PoS! As much as I want to, I dont think can trade away company assets sorry andy! ', 56: '@oanhLove I hate when that happens... ', 57: \"I have a sad feeling that Dallas is not going to show up  I gotta say though, you'd think more shows would use music from the game. mmm\", 58: 'Ugh....92 degrees tomorrow ', 59: 'Where did u move to?  I thought u were already in sd. ?? Hmmm. Random u found me. Glad to hear yer doing well.', 60: \"@BatManYNG I miss my ps3, it's out of commission  Wutcha playing? Have you copped 'Blood On The Sand'?\", 61: 'just leaving the parking lot of work! ', 62: 'The Life is cool. But not for Me. ', 63: \"Sadly though, I've never gotten to experience the post coitus cigarette before, and now I never will. \", 64: 'I had such a nice day. Too bad the rain comes in tomorrow at 5am ', 65: \"@Starrbby too bad I won't be around I lost my job and can't even pay my phone bill lmao aw shucks \", 66: 'Damm back to school tomorrow ', 67: \"Mo jobs, no money.  how in the hell is min wage here 4 f'n clams an hour?\", 68: '@katortiz  Not forever... See you soon!', 69: '@Lt_Algonquin agreed, I saw the failwhale allllll day today. ', 70: \"@jdarter Oh! Haha... dude I dont really look at em unless someone says HEY I ADDED YOU. Sorry  I'm so terrible at that. I need a pop up!\", 71: \"@ninjen I'm sure you're right...    I need to start working out with you and the Nikster... Or Jared at least!\", 72: 'i really hate how people diss my bands!  Trace is clearly NOT ugly!', 73: 'Gym attire today was: Puma singlet, Adidas shorts.......and black business socks and leather shoes  Lucky did not run into any cute girls.', 74: \"Why won't you show my location?!   http://twitpic.com/2y2es\", 75: 'No picnic  my phone smells like citrus.', 76: \"@ashleyac My donkey is sensitive about such comments. Nevertheless, he'd (and me'd) be glad to see your mug asap. Charger is still awol. \", 77: 'No new csi tonight.  FML', 78: 'i think my arms are sore from tennis ', 79: 'wonders why someone that u like so much can make you so unhappy in a split seccond . depressed . ', 80: 'sleep soon... i just hate saying bye and see you tomorrow for the night. ', 81: '@statravelAU just got ur newsletter, those fares really are unbelievable, shame I already booked and paid for mine ', 82: \"missin' the boo \", 83: '@markhardy1974 Me too  #itm', 84: \"Damn... I don't have any chalk! MY CHALKBOARD IS USELESS \", 85: \"had a blast at the Getty Villa, but hates that she's had a sore throat all day. It's just getting worse too \", 86: '@msdrama hey missed ya at the meeting  sup mama', 87: \"My tummy hurts.  I wonder if the hypnosis has anything to do with it? If so, it's working, I get it, STOP SMOKING!!!\", 88: 'why is it always the fat ones?! ', 89: \"@januarycrimson Sorry, babe!!  My fam annoys me too. Thankfully, they're asleep right now. Muahaha. *evil laugh*\", 90: '@Hollywoodheat I should have paid more attention when we covered photoshop in my webpage design class in undergrad ', 91: \"wednesday my b-day! don't know what 2 do!! \", 92: 'Poor cameron (the hills) ', 93: 'pray for me please, the ex is threatening to start sh** at my/our babies 1st Birthday party. what a jerk. and I still have a headache ', 94: '@makeherfamous hmm  , do u really enjoy being with him ? if the problems are too constants u should think things more , find someone ulike', 95: 'Strider is a sick little puppy  http://apps.facebook.com/dogbook/profile/view/5248435', 96: \"so rylee,grace...wana go steve's party or not?? SADLY SINCE ITS EASTER I WNT B ABLE 2 DO MUCH  BUT OHH WELL.....\", 97: \"hey, I actually won one of my bracket pools! Too bad it wasn't the one for money \", 98: \"@stark YOU don't follow me, either  and i work for you!\", 99: 'A bad nite for the favorite teams: Astros and Spartans lose.  The nite out with T.W. was good.', 100: ' Body Of Missing Northern Calif. Girl Found: Police have found the remains of a missing Northern California girl .. http://tr.im/imji', 101: '@mangaaa I hope they will increase the capacity fast, yesterday was such a pain. Got the fail whale +15 times in 2 hours.... ', 102: 'Behind on my classes for work ', 103: 'watching &quot;House&quot; ', 104: '@kpreyes Remember my bum leg? Strikes back this time its serious ', 105: '@paradisej cool, i will. their are all kinds of complaints about this laptop online about overheating, but no recalls ', 106: 'Emily will be glad when Mommy is done training at her new job. She misses her.  http://apps.facebook.com/dogbook/profile/view/6176014', 107: 'would rather the first party send bad messages than the 3rd party send mixed ones  Sophmore year all over again?', 108: \"@Henkuyinepu it's overrated \", 109: '@marykatherine_q i know! I heard it this afternoon and wondered the same thing. Moscow is so behind the times ', 110: 'laying in bed with no voice.. ', 111: \"I'm sooo sad!!! they killed off Kutner on House  whyyyyyyyy\", 112: '@jacobsummers Sorry  tell them mea culpa from me and that I really am sorry.', 113: \"@Alliana07 it didn't make any sense to me, the suicide thing. I refuse to believe that that is actually what happened. \", 114: '@salancaster  hope your ok.', 115: \"@mercedesashley Damn! The grind is inspirational and saddening at the same time.  Don't want you to stop cuz I like what u do! Much love\", 116: '@HibaNick yeah aw but i know i wudnt stand a chance ', 117: 'ugh. cant sleep. its 1:30am. ', 118: \"Hanging in Crooners. Wanna sing. Can't. Sucks. \", 119: '@eRRe_sC aaw i miss ya all too.. im leaving to BH tomorrow &quot;morning&quot; i think.. aww i wanna go to the beach w u girls!! ', 120: \"Is pissed off that there's no ASBA's for a radio station. \", 121: \"wednesday my b-day n don't know what 2 do!  \", 122: 'I know my life has been flipped upside down when I just thought in my head that some Ramen sounds good. ', 123: 'I am in pain. My back and sides hurt. Not to mention crying is made of fail. ', 124: \"Late night snack, glass of OJ b/c I'm &quot;down with the sickness&quot;, then back to sleep...ugh I hate getting sick... \", 125: \"@allyheman but.. but.. but.. I'm not a big fan on camilla belle \", 126: \"@grum WAH I can't see clip, must be el-stupido work filters. Can't wait 'till I get a 'puter. Something else 2 blame ex 4. He broke mine \", 127: \"This week just seems to get longer and longer in terms of how much I need to do.. and how much I'm actually going to get done \", 128: \"I'm so cold \", 129: \"@thecoolestout Ehhh don't. Weather's gonna take a turn for the ugly tomorrow \", 130: '@chelserlynn haha its so cooooold in the d! and no  but you should still go to the show. they do some incredible stuff', 131: 'Hoping the tummy rumbles go away soon ', 132: \"@Knights_ No, no notice. They told me I'd be working tomorrow, and then I called the agency to follow up and they said it was over. \", 133: 'almost bedtime ', 134: \"I'm missing you babe..  but as long as your alive I'm happy.. Yawwwnn.. I'm tired my love imma try to sleep hopefully you had a headstart\", 135: 'Agh...snow!!! ', 136: 'i miss kenny powers ', 137: \"@BridgetsBeaches Thank you for letting people know, but now I'm sad that the direct message I got wasn't actually from Bridget \", 138: '...and, India missed out its 100th Test victory n 10th consecutive win without a loss. ', 139: \"@JonathanRKnight I guess that's a no then. \", 140: 'sadly is going to bed. ', 141: '@ozesteph1992 Shame to hear this Stephan ', 142: \"@mrsaintnick hey! i'm leavin in the morning... \", 143: 'Was intending to finish editing my 536-page novel manuscript tonight, but that will probably not happen. And only 12 pages are left ', 144: 'laid around too much today... now my head hurts ', 145: \"@twista202 I still haven't read the 9th&amp;10th Princess diaries  Saving Francesca made me cry at the end. Hmm those are easy books.\", 146: 'my nokia 1110 died..  ', 147: \"My mom might have breast cancer won't find out anything for. Like a week I'm so worried! \", 148: 'Going to sleep. Hoping tomorrow is a better day. ', 149: '@rumblepurr lol.. wish they understood daylight savings has ended though and breakfast is an hour later  They keep waking the kids up too', 150: '@onemoreproject that is lame ', 151: \"I don't understand... I really don't \", 152: \"HEROES just isn't doing it for me this season... \", 153: \"Living not downtown sure isn't much fun.  \", 154: '@jonathanchard Not calorie wise   I wish junk food was calorie free! I ate a thing of sour skittles and a big ass cherry coke!', 155: 'Man Work is Hard ', 156: 'getting sick  time for some hot tea, studying, and then sleeeep', 157: 'Getting eyebrows waxed. More pain ', 158: 'No phantasy star yesterday  going to work...', 159: \"Oh - Just got all my MacHeist 3.0 apps - sweet. Didn't get the Espresso serial no though although they said they sent it - oh well \", 160: \"Picked Mich St to win it all from the get go.  Was feeling pretty good about that pick all the way up until......tonight.  A's lost too \", 161: 'is alone downstairs...working ', 162: 'I feel bad for doing it ', 163: \"@RyanSeacrest is it just me, or she hates anoop. i mean seriously, she's kinda mean to him. \", 164: '@pinkserendipity yes sprint has 4g only in baltimore and chicago so far ', 165: \"I'm stuck awake in the middle of the night for the second day in a row. And I felt terrible yesterday. \", 166: 'Thanks for bursting my bubble ', 167: \"Going to school soon... can't find anything to wear!! gosh it's so hard \", 168: '@marieclr I was serious  LOL', 169: '@naughtyhaughty I had on my page for sooooo long!!! Until it got deleted  Sad day in history', 170: 'Crazy wind today = no birding  http://ff.im/1XTTi', 171: 'currently at work.. ', 172: \"Grrr.. my ipods acting weird too! Jai ho and thinking of you aren't playing the full songs.. ughh. \", 173: '@penndbad send me the DVD cos I have missed out on heaps  NOT happy about that!', 174: \"i don't see the big deal with this website \", 175: \"@machineplay I'm so sorry you're having to go through this. Again.  #therapyfail\", 176: '@ColinDeMar Far too out of the way for rail.  any other tips?', 177: \"I'm not still up I swear. Why do I keep losing. gaining. losing. gaining. tweeps?  So heart wrenching.\", 178: \"Today I realized I am too good at hiding things, even I can't find it \", 179: 'Staying at a friends house...house sitting, neighbors are SO loud-having a party ', 180: '@dannyvegasbaby danny im upset that i wasnt here to watch the live chat  i was in a car. for 3 hours on a trip im soooo upset!!', 181: 'Check out my mug  http://www.erika-obscura.blogspot.com', 182: 'Borders closed at 10 ', 183: \"Downloading NIN's new album &quot;the slip&quot; - when the hell did this come out? I'm so behind the times these days \", 184: \"Just woke up an already have written some e-mail... I've to go early at University today as I have to teach at 8:30 AM! \", 185: 'is watching the hill . . .and its making me sad ', 186: 'So many channels.... yet so so boring... lazy day again  may have to find a hobby', 187: '@supersport I miss my buddy  ill be in NY on the 25th', 188: \"@robluketic  love the french. I tell people here in the south i'm qtr. french and they snarl at me.  french are beautiful people\", 189: 'Opps.. As I said.. I still got one day remain and now problem come ', 190: \"I activated my Selfcontrol block early, meaning I can't check out the new QC.  Regularizing my internal clock is might be difficult. #fb\", 191: '@HillyDoP  oH NO', 192: 'spencer is not a good guy. ', 193: '@goodlaura What about Reese dying on #TTSC? And season finale next week.  #24 boring, Madame President is a crazy woman.', 194: '@JonathanRKnight I hate the limited letters,too.Hope you and the guys are fine?I pray for my dog,sheï¿½s not well ', 195: \"didn't get shit done today ~ i'm so screwed \", 196: 'wanttss to go out ', 197: 'Is not going to sleep tonite. ', 198: 'too worried and tired to post tonight ', 199: \"couldn't get shit done today ~ i'm so screwed \"}} \n",
            " {'index': {1599800: 4, 1599801: 4, 1599802: 4, 1599803: 4, 1599804: 4, 1599805: 4, 1599806: 4, 1599807: 4, 1599808: 4, 1599809: 4, 1599810: 4, 1599811: 4, 1599812: 4, 1599813: 4, 1599814: 4, 1599815: 4, 1599816: 4, 1599817: 4, 1599818: 4, 1599819: 4, 1599820: 4, 1599821: 4, 1599822: 4, 1599823: 4, 1599824: 4, 1599825: 4, 1599826: 4, 1599827: 4, 1599828: 4, 1599829: 4, 1599830: 4, 1599831: 4, 1599832: 4, 1599833: 4, 1599834: 4, 1599835: 4, 1599836: 4, 1599837: 4, 1599838: 4, 1599839: 4, 1599840: 4, 1599841: 4, 1599842: 4, 1599843: 4, 1599844: 4, 1599845: 4, 1599846: 4, 1599847: 4, 1599848: 4, 1599849: 4, 1599850: 4, 1599851: 4, 1599852: 4, 1599853: 4, 1599854: 4, 1599855: 4, 1599856: 4, 1599857: 4, 1599858: 4, 1599859: 4, 1599860: 4, 1599861: 4, 1599862: 4, 1599863: 4, 1599864: 4, 1599865: 4, 1599866: 4, 1599867: 4, 1599868: 4, 1599869: 4, 1599870: 4, 1599871: 4, 1599872: 4, 1599873: 4, 1599874: 4, 1599875: 4, 1599876: 4, 1599877: 4, 1599878: 4, 1599879: 4, 1599880: 4, 1599881: 4, 1599882: 4, 1599883: 4, 1599884: 4, 1599885: 4, 1599886: 4, 1599887: 4, 1599888: 4, 1599889: 4, 1599890: 4, 1599891: 4, 1599892: 4, 1599893: 4, 1599894: 4, 1599895: 4, 1599896: 4, 1599897: 4, 1599898: 4, 1599899: 4, 1599900: 4, 1599901: 4, 1599902: 4, 1599903: 4, 1599904: 4, 1599905: 4, 1599906: 4, 1599907: 4, 1599908: 4, 1599909: 4, 1599910: 4, 1599911: 4, 1599912: 4, 1599913: 4, 1599914: 4, 1599915: 4, 1599916: 4, 1599917: 4, 1599918: 4, 1599919: 4, 1599920: 4, 1599921: 4, 1599922: 4, 1599923: 4, 1599924: 4, 1599925: 4, 1599926: 4, 1599927: 4, 1599928: 4, 1599929: 4, 1599930: 4, 1599931: 4, 1599932: 4, 1599933: 4, 1599934: 4, 1599935: 4, 1599936: 4, 1599937: 4, 1599938: 4, 1599939: 4, 1599940: 4, 1599941: 4, 1599942: 4, 1599943: 4, 1599944: 4, 1599945: 4, 1599946: 4, 1599947: 4, 1599948: 4, 1599949: 4, 1599950: 4, 1599951: 4, 1599952: 4, 1599953: 4, 1599954: 4, 1599955: 4, 1599956: 4, 1599957: 4, 1599958: 4, 1599959: 4, 1599960: 4, 1599961: 4, 1599962: 4, 1599963: 4, 1599964: 4, 1599965: 4, 1599966: 4, 1599967: 4, 1599968: 4, 1599969: 4, 1599970: 4, 1599971: 4, 1599972: 4, 1599973: 4, 1599974: 4, 1599975: 4, 1599976: 4, 1599977: 4, 1599978: 4, 1599979: 4, 1599980: 4, 1599981: 4, 1599982: 4, 1599983: 4, 1599984: 4, 1599985: 4, 1599986: 4, 1599987: 4, 1599988: 4, 1599989: 4, 1599990: 4, 1599991: 4, 1599992: 4, 1599993: 4, 1599994: 4, 1599995: 4, 1599996: 4, 1599997: 4, 1599998: 4, 1599999: 4}, 'comments': {1599800: \"@cherub_rock123 ehh....it's a day. \", 1599801: 'Haha yess making maria get a twitter ', 1599802: \"woooo elliot minor in 8 days!!! and i got my EM hoodie today!!! i'm tired and sick so it was a good....&quot;cheer myself up  &quot; thing \", 1599803: '@SanctumInc right-click, Repost. ', 1599804: '@mrschicken why yes, yes I am ', 1599805: '@maximumswearing yes  But a great mind escape!', 1599806: 'It has been storming all day . . . I love it  . Coming home tomorrow . Time to pack', 1599807: \"@logangator We'll figure something out.  I just have to be to MCO by 4am Thu.   So, either I bug you at 1am at your house, or see you Wed.\", 1599808: '@asimkovsky thanks for the info ', 1599809: '@gschan @malditamd @daydreamerping @ragdollgonewild @tarayqueen @manilenya Thank you  I owe you my sanity tonight.', 1599810: '#commtell09 Patty Perkins, VP Desktop Video Manager of Wachovia is up next- I understand many #SharePoint opps are  happening there ', 1599811: 'to be with you ', 1599812: '@GreenBaby_UK please follow so i can DM for the giveaway! ', 1599813: \"@v2black oh okay, well I did know the first band you mentioned by name, but other than that  don't know what they sound like \", 1599814: '@BenABaker Probably a player signing.  Maybe one of the rookies.  I can see it from my office ', 1599815: 'I am planning with friends to go to the mall! Hope we can do it. &lt;3 ', 1599816: \"@lilkup it's a relief. Conflict exhausts me \", 1599817: '@YouLuvMe sure............. bighead ', 1599818: 'twitter virginity broken ', 1599819: 'job interview...here we go. ', 1599820: 'Back on the job with some coffee thanks to @chimolschimols ', 1599821: \"@Piewacket1 good   sometimes a shot attention span could be good tho ;P  don't you agree   letting bright light flow over pie and self\", 1599822: 'new tatoo  love you megggiiiee', 1599823: 'guilty pleasure - yikes  i wish i could afford this shiz http://tinyurl.com/kqztg5', 1599824: '@hillsmarket Sweet.  Thanks for posting that.  And for letting us know ', 1599825: '@tonyhawk Yess! Good choice of laptop there, typing on a replica myself ', 1599826: 'lol. i just realized my room has a color theme. green is definitely growing in on me. go green! hahaha. i still love purple though! ', 1599827: 'Good morning Chicago, I love this city! ', 1599828: '@dfinchalicious  It ends up like that when good and bad collide ', 1599829: '@ost8doc no, I am photographing them!! ', 1599830: '@NickkkJonasss I like Poison Ivy the best ', 1599831: '@David_Wylie  You could have been born as an Emporer Penguin. Minus 200, carrying your kids on your feet. no food, water...Quit whining ', 1599832: '@extrabaggs on @KNBR right now!! Yay!! I LOVE reading his blog  I wish I knew what he looked like so I could say hi to him at the park lol', 1599833: \"Srsly now, I'm heading to my bed now. Goodnight Twitterverse! \", 1599834: '10.40 start and 12.30 finish tomorrow! yesssss. &lt;3 college  x', 1599835: \"@alexandervelky that's polite version - i only heard &quot;look much better on my bedroom floor&quot; how nice that you would hang it up for her \", 1599836: '@spindeezy for now on ur Queen Spindeezy ', 1599837: \"@DrWestGRACE yet, why can't I feel sorry for you?  LOL.  Seriously tho, safe travels \", 1599838: 'new to the twitta, someone help. ', 1599839: \"@Sky_1995 sorryyy. i gotta go now, my mom want to go to this computer. i'll talk to u some other time \", 1599840: 'What a pretty day  &quot;Just smile&quot;', 1599841: 'Good morning everyone! I hope you take some time to be outside &amp; soak in the beautiful morning before starting work. ', 1599842: 'just woke up, might watch a chick flick later. lol ', 1599843: '@minglebar thanks for checking on it ', 1599844: '@mkvlln Mr president, your tweets get cut off, i cant read everything. send it in an email? thanks love. ', 1599845: '@CatyFairy revolta follower hj? ', 1599846: \"@borededup no job actually.  but there have been plenty of odd jobs to get me by so far. i'll be your screen cleaning intern. \", 1599847: \"@Common_Pigeon You're quite welcome. \", 1599848: \"What has happened to the world...I'm actually doing chores and nobody told me to do them!!!  so proud! Lol\", 1599849: 'want FREE Apple products? iPhone 3G S macbook pro air iPod touch nano imac? click here! http://apple.freebiejeebies.co.uk/45615 ', 1599850: 'sick, sick, sick today, but still fingers crossed for eBay job! Send good thoughts ', 1599851: 'Getting ready to go out   I have to go to mac to buy brushes', 1599852: 'loves visitors so if you are goin to the Aerosmith concert you should hit me up!! ', 1599853: 'Nice out, but If I am going to leave here at 6am for a hike, I probably should at some point, pack for tomorrow! ', 1599854: '@WillaRyan At least trees are being spared. ', 1599855: \"i'm following 69 people. ;D how many people are YOU following? \", 1599856: 'taking a twit break...a lil blown about my boss...but i still have a job!  God is good', 1599857: 'http://twitpic.com/7joyo - this is how i feel today  Just a little imagery for everyone! lol', 1599858: 'has a day long date with God today, no phones allowed.  the world can rage tomorrow; but today, i am safe.', 1599859: '@ritasummerstar that too.  Apparently, they are out there - but in hiding I suspect  ', 1599860: '@kazzc22 no probs kazz hun,i think theres a new one going on now celebrity twitterer or summat? lol dunno?i just voted misha anyways ', 1599861: '@AlanHChin Thanks Alan! I need all the fundraising support I can get for my documentary - plus the shirts are cool too ', 1599862: \"@NLPride08 that's a perfectly reasonable time of day for me \", 1599863: '@6FuzzyFeet  hi ! thanks for the follow ', 1599864: 'Going to tampa saturday ', 1599865: \"I've watched spongebob now I'm going 2 find a gr8 coffee spot! This didn't even feel like a public holiday \", 1599866: \"I'm gonna go take a shower and turn in the last paper i have to deal with \", 1599867: \"@heich_dee Hahaha. Cannot luh. I'll feel bad coz he's got to work. So we talk when we can. Guess thats enough  hahaha\", 1599868: \"@obatron Try your Google Calendar. It's got tasks now. \", 1599869: '@carahsollins Good Morning Lady ', 1599870: \"@ddribin Saw that &amp; approved, re: bike. After years of being exceedingly bike UNfriendly, we are a' changin'! \", 1599871: \"If you're lucky enough to be different from everybody else, dont change \", 1599872: \"@FoSho174 LMAO @ capture the flag..bless their lil playing hearts  and i bet it is hott as heck..ain't it always\", 1599873: '@cineMATTic happy birthday, sir ', 1599874: 'I haz a big piece of carrot cake to take home! ', 1599875: '@ashleytisdale hih good morning  in austria its 17:36 hihi', 1599876: '@BrunoFigueiredo @ppinheiro76 @pedrocs Top Gear returns on Sunday btw ', 1599877: '@netscribe Thanks for considering Issuu ', 1599878: '@Bruno108 I would like some please! ', 1599879: '@aplusk ya got something against Baseball?? ', 1599880: 'No more drives. =D license in a moth ', 1599881: \"First day off in over a week... Thought i'd sleep in 4 once, but NO! my body wouldn't let me sleep past 8am  ugh!\", 1599882: 'Relaxin till workout time with Mama this afternoon. Goal- to run a 5k by end of summer in memory of Greg. I think I can, I think I can. ', 1599883: 'http://twitpic.com/7joyw - bring on summer ', 1599884: \"busy day at work!  So happy the Burkharts are in Houston!  I can't wait to see their beautiful home! \", 1599885: \"@LadyVanir LOL no you didn't break it. \", 1599886: 'Then  we head out again Denmark here we come ', 1599887: \"@kbgerth Well it's still Tuesday so no worries   I've made my TWD on Tuesday more times than I can tell you!\", 1599888: 'Getting ready to have a picnic in the park w/ muh partner in crime and bestie! Oh! Press ctrl+t and then ctrl+f on itunes for a surprise! ', 1599889: \"I see the light at the end of the tunnel!  It's so bright   Woo fricken hoo!\", 1599890: 'going to south streeeet with kate, hopefully my mom gets me the ring i wantt! ', 1599891: '@Jihav actually my other PSN ID is GUNSnSPEEDO O_o and oh, your welcome ', 1599892: \"@PaulMiller Do that! I appreciate the calories I'll be missing \", 1599893: '@SouthMainMuse Perfectly normal.  Thinking someday technology and social networks will all be hardwired to our brains.', 1599894: '@BizReviewer thanks so much for that acknowledgement...what is your name? ', 1599895: \"@ahamachi @eggirock drinking water trick totally worked guys... Didn't cry once \", 1599896: '@unworthysaint Are you having fun? ', 1599897: 'Beach then universal studios! Yeeeeeeman! ', 1599898: \"#haveyouever been alone at night, thought you heard footsteps behind and no one's there?? Fear of the Dark by Iron Maiden \", 1599899: 'Loved the USA hockey team ', 1599900: '@cris1015 My goal on stocks like $MTXX is to help, if just one person avoided this stock on my post, would make the keystrokes worth it.  ', 1599901: \"@wolfpack40 That's what I'm thinking! Knock her out of the water... very satisfying...  \", 1599902: \"@Jchawes yeah what about remotes for your car ? I couldn't find mine and didn't know how I was gonna get in my car.with your keys dumbass \", 1599903: \"Post your Le Mans 2009 pics: .. I didn't really shoot much, it's a bit like Silverstone isn't it?  But here ar.. http://tinyurl.com/nju67t\", 1599904: '@say_my_name TRAITOR!!!! love you ', 1599905: '@SarahG8s lol i wasnt on about the burns lol i was on about sumone  i know just seen. goin off twitter now gonna talk to sophie,talk later', 1599906: \"been playing big surf island and i've unlocked 5 trophies already hah \", 1599907: '@gabespears morning ', 1599908: 'I really dont get why Jaylor split . Oh well her and Lucas Till suit !  x', 1599909: \"my cluster is back and I'm a happy man \", 1599910: 'is excited for the day ', 1599911: 'Oh my god. Cookie dough frijj. I just spaffed in my pants  so much joy for Â£1.05.', 1599912: \"@ShannonGilliam good luck!!  what an exciting day   this is when the REAL fun begins, you're going to love being a mommy   xo\", 1599913: 'got our yearbooks in school  gonna try and get everyone to sing them... wish me luck', 1599914: '@PJA4ever Back.. ', 1599915: '@drummeroy nice new name  how you holding up?', 1599916: 'Hello good morning!  i wanna do something today.', 1599917: '@30STMWithJared love your tattoo! ', 1599918: 'MTO bom esse empire of sports...o futebol eh um pouco dificil pq usa o mouse mas eh bem divertido e online ', 1599919: '@planetchuckie haha! i wonder why i made her my pic... hmm.. will change it soon ', 1599920: 'Largest/fastest hotspot in U.S.A. is located in Atlanta. Suck it people outside the ATL  JK...no idea how to use it! http://bit.ly/eDjz7', 1599921: \"I just switched back to Opera (using the moi skin). It's really fast &amp; stable to work with - I'm loving it  http://www.opera.com/download/\", 1599922: 'scrubbed into surgery today ', 1599923: 'Bloody knackered! And still got two hours to go. Still, last shift tomorrow then a whole week off ', 1599924: '@McflyEngland haha yeah  but of course i love McFly more  lol', 1599925: '**** yeah!! I got the local Clinical Psychologist job!! ', 1599926: 'wants the @Jonasbrothers album ', 1599927: 'Wow 8:40 am is pretty early for me to wake up. Lol. ', 1599928: 'dropping molly off getting ice cream with Aaron I want him to meet Manda  spending the night with Meredith and Lauren I missed them dearly', 1599929: '@mom2jwo Woo hoo!!!! Keep working hard my dear!! ', 1599930: '@AndrewDearling *yawns* ', 1599931: 'Had an injection today. Not fun  the rrst of the school day has been good. Tonight i am going dancing yey ', 1599932: 'ahhh yay! found my missing sunglasses while cleaning my office!! so happy. ', 1599933: 'Lmao @seizuresalad that was cute and awesome  hahahahahahahahahahahahahaha!!!!!!!!!!!!!!!!!!!!!!!!!!!!!!!!!! â\\x99« http://blip.fm/~8bmo7', 1599934: 'Processing another credit application!  More hours to bill! ', 1599935: \"@ohsosweettreats Omg, I loveeeee frosted flakes with bananas on top. I didn't know anybody else knew about that... \", 1599936: 'Is back from getting the new jonas brothers cd!!!  on to my iPod it goes!!', 1599937: \"@siahoney I am good thanks!    How is #Eric, I haven't heard anything in awhile, have u visited him recently?  I hope he is feeling better\", 1599938: \"@varin I'm praying for you!!!  Hang in there, and trust your docs.  They know what's best, even if they don't act nicely. \", 1599939: 'OMG!!!!!!!!!! My dad will be having surgery today  Please keep him in your prayers ', 1599940: \"@MsKCJones Yeah it's very irritating, right? But with God on your side, you cant fail. \", 1599941: '@gone2dmb agreed!  Soulful eyes.  ', 1599942: 'is now a dsc student.  http://twitpic.com/7jp4d', 1599943: '@cate45_1999 I love all the pics!! ', 1599944: \"@ShanButterfly a star bowl (she loves stars) filled with dark chocolate. there's also a card. \", 1599945: 'oh yes, and btw, 8.00 ', 1599946: '@chriscuzzy someone wanted a &quot;Cuzzy&quot; memorabilia ', 1599947: \"@CharlotteSpeaks So, wasn't that funny re. the doggie?.... \", 1599948: 'doing another piece of media homework is that all i get now :/ milkshake diet starts today woop woop ', 1599949: 'finding out what this is. ', 1599950: 'OMG how good is ben and jerrys cookie dough icecream...come one really well goood lol, justwaitin to have a BBQ hope its stays like this ', 1599951: 'oooo haha just waking up and ready to eat a delicious breakfast and prepared to go in the afternoon to watch a movie ', 1599952: \"#Traveltuesday @GuyNGirlTravels Because their tweets are hilarious LOL and they're great travelers \", 1599953: \"any ideaZ on what to get dad for father's day ? No socks tho \", 1599954: 'God works mysteriously!i learn that if u think of the world wonderfully you will receive more &amp; get what u ask for ', 1599955: \"@_CrC_ mornin.. I'm enjoying a beautiful morning here in Phoenix. not too bad out yet \", 1599956: \"Woke up feeling rested and refreshed today! It's about time \", 1599957: '@naijagal You just HAD to throw that in. Tell her that I say thanks for the eye contact at her Brixton gig. managed to get a shot! ', 1599958: \"@siovene lol I don't blame you it's not the safest thing in the world \", 1599959: \"@ashinynewcoin yeah, that'd be the one  sorry to be repetitive!\", 1599960: '@pokapolas love the donut and the toadstool.  ', 1599961: '@crgrs359 Skip the aquarium and check out these fish   A lot cheaper lol http://bit.ly/2lQbBv', 1599962: \"@GroleauNET Yeah I'm being an ass today \", 1599963: \"@OHTristaN it's sunoudy \", 1599964: '@kbonded Newsflash: It worked ', 1599965: \"@stum450n Hi. Thanks for the follow. Nice website... check your carriage returns though, the bottom of 'Website &amp; brand identity' is out \", 1599966: 'got home an hour ago ate lunch watched some tv and now i listening to kelly clarkson no exam tomorrow yay!!!!!!!  3 down 4 to go', 1599967: 'checking my mail ', 1599968: 'done la examen! easy peasy  so proud of myself!!', 1599969: \"@davepell you're the undisputed authority on the topic.  goog recognizes!  \", 1599970: 'Thanks @eastwestchic &amp; @wangyip Thanks! That was just what I was looking for ', 1599971: \"@marttn thanks Martin. not the most imaginative interface, but it'll do for now \", 1599972: '@MikeJonesPhoto Congrats Mike  Way to go!', 1599973: 'http://twitpic.com/7jp4n - OMG! Office Space... I wanna steal it. ', 1599974: \"@yrclndstnlvr ahaha nooo you were just away from everyone else! i had to see Kara, she'd die. and yess we aree, ill see you saturday \", 1599975: \"@BizCoachDeb  Hey, I'm baack! And, thanks so much for all those kind notes while I was gone. They made me smile at times when I needed it!\", 1599976: '@mattycus Yeah, my conscience would be clear in that case. ', 1599977: '@MayorDorisWolfe Thats my girl - dishing out the &quot;advice&quot; ', 1599978: '@shebbs123 i second that ', 1599979: 'In the garden ', 1599980: '@myheartandmind jo jen by nemuselo zrovna tÃ© holce ael co nic ', 1599981: 'Another Commenting Contest! [;: Yay!!!  http://tinyurl.com/m6j2an', 1599982: '@thrillmesoon i figured out how to see my tweets and facebook status updates, and i was set  the groups seemed like a pain to set up...', 1599983: '@oxhot theri tomorrow, drinking coffee, talking about our most important and favourite issue! YOU know what I mean ', 1599984: \"You heard it here first -- We're having a girl. Hope it has my looks and Wendy's brains. (Kidding, babe). \", 1599985: 'if ur the lead singer in a band, beware falling prey to LSD &quot;Lead Singer Disease&quot; http://tinyurl.com/n65xjt  #music #haveyouever?', 1599986: '@tarayqueen too much ads on my blog. ', 1599987: '@La_r_a NEVEER  I think that you both will get on well with each other...', 1599988: \"@Roy_Everitt ha- good job. that's right - we gotta throw that #bigrun tag EVERYWHERE! I wanna get it trending before I start \", 1599989: '@Ms_Hip_Hop im glad ur doing well ', 1599990: 'WOOOOO! Xbox is back ', 1599991: \"@rmedina @LaTati Mmmm  That sounds absolutely perfect... but my schedule is full. I won't have time to lay in bed until Sunday. Ugh!!\", 1599992: 'ReCoVeRiNg FrOm ThE lOnG wEeKeNd ', 1599993: '@SCOOBY_GRITBOYS ', 1599994: '@Cliff_Forster Yeah, that does work better than just waiting for it  In the end I just wonder if I have time to keep up a good blog.', 1599995: 'Just woke up. Having no school is the best feeling ever ', 1599996: 'TheWDB.com - Very cool to hear old Walt interviews!  â\\x99« http://blip.fm/~8bmta', 1599997: 'Are you ready for your MoJo Makeover? Ask me for details ', 1599998: 'Happy 38th Birthday to my boo of alll time!!! Tupac Amaru Shakur ', 1599999: 'happy #charitytuesday @theNSPCC @SparksCharity @SpeakingUpH4H '}}\n"
          ],
          "name": "stdout"
        }
      ]
    },
    {
      "cell_type": "code",
      "metadata": {
        "id": "xH24XSm9DISj"
      },
      "source": [
        "#val_pos\r\n",
        "df = data[n:n*2]\r\n",
        "val_ng = df.to_dict()\r\n",
        "df = data[-n*2:-n]\r\n",
        "val_ps = df.to_dict()"
      ],
      "execution_count": 244,
      "outputs": []
    },
    {
      "cell_type": "code",
      "metadata": {
        "colab": {
          "base_uri": "https://localhost:8080/"
        },
        "id": "jDIXb9EYOgLw",
        "outputId": "bcc02b39-038c-4075-a9c6-4b732994a6f1"
      },
      "source": [
        "neg = negative_value.get('comments')\n",
        "print(neg)\n",
        "pos = positive_value.get('comments')\n",
        "print(pos)\n",
        "\n",
        "val_ng = val_ng.get('comments')\n",
        "val_ps = val_ps.get('comments')\n",
        "\n",
        "dictionnaire = {}\n",
        "for k in range(len(neg)):\n",
        "  dictionnaire[k] = neg[k]\n",
        "for k in range(len(pos)):\n",
        "  dictionnaire[k+len(neg)]  = pos[k+1599800]\n",
        "print(dictionnaire) "
      ],
      "execution_count": 255,
      "outputs": [
        {
          "output_type": "stream",
          "text": [
            "{0: \"@switchfoot http://twitpic.com/2y1zl - Awww, that's a bummer.  You shoulda got David Carr of Third Day to do it. ;D\", 1: \"is upset that he can't update his Facebook by texting it... and might cry as a result  School today also. Blah!\", 2: '@Kenichan I dived many times for the ball. Managed to save 50%  The rest go out of bounds', 3: 'my whole body feels itchy and like its on fire ', 4: \"@nationwideclass no, it's not behaving at all. i'm mad. why am i here? because I can't see you all over there. \", 5: '@Kwesidei not the whole crew ', 6: 'Need a hug ', 7: \"@LOLTrish hey  long time no see! Yes.. Rains a bit ,only a bit  LOL , I'm fine thanks , how's you ?\", 8: \"@Tatiana_K nope they didn't have it \", 9: '@twittera que me muera ? ', 10: \"spring break in plain city... it's snowing \", 11: 'I just re-pierced my ears ', 12: \"@caregiving I couldn't bear to watch it.  And I thought the UA loss was embarrassing . . . . .\", 13: '@octolinz16 It it counts, idk why I did either. you never talk to me anymore ', 14: \"@smarrison i would've been the first, but i didn't have a gun.    not really though, zac snyder's just a doucheclown.\", 15: '@iamjazzyfizzle I wish I got to watch it with you!! I miss you and @iamlilnicki  how was the premiere?!', 16: \"Hollis' death scene will hurt me severely to watch on film  wry is directors cut not out now?\", 17: 'about to file taxes ', 18: '@LettyA ahh ive always wanted to see rent  love the soundtrack!!', 19: '@FakerPattyPattz Oh dear. Were you drinking out of the forgotten table drinks? ', 20: \"@alydesigns i was out most of the day so didn't get much done \", 21: \"one of my friend called me, and asked to meet with her at Mid Valley today...but i've no time *sigh* \", 22: '@angry_barista I baked you a cake but I ated it ', 23: 'this week is not going as i had hoped ', 24: 'blagh class at 8 tomorrow ', 25: 'I hate when I have to call and wake people up ', 26: 'Just going to cry myself to sleep after watching Marley and Me.  ', 27: 'im sad now  Miss.Lilly', 28: \"ooooh.... LOL  that leslie.... and ok I won't do it again so leslie won't  get mad again \", 29: 'Meh... Almost Lover is the exception... this track gets me depressed every time. ', 30: 'some1 hacked my account on aim  now i have to make a new one', 31: '@alielayus I want to go to promote GEAR AND GROOVE but unfornately no ride there  I may b going to the one in Anaheim in May though', 32: 'thought sleeping in was an option tomorrow but realizing that it now is not. evaluations in the morning and work in the afternoon! ', 33: '@julieebaby awe i love you too!!!! 1 am here  i miss you', 34: '@HumpNinja I cry my asian eyes to sleep at night ', 35: \"ok I'm sick and spent an hour sitting in the shower cause I was too sick to stand and held back the puke like a champ. BED now \", 36: '@cocomix04 ill tell ya the story later  not a good day and ill be workin for like three more hours...', 37: '@MissXu sorry! bed time came here (GMT+1)   http://is.gd/fNge', 38: \"@fleurylis I don't either. Its depressing. I don't think I even want to know about the kids in suitcases. \", 39: \"Bed. Class 8-12. Work 12-3. Gym 3-5 or 6. Then class 6-10. Another day that's gonna fly by. I miss my girlfriend \", 40: \"really don't feel like getting up today... but got to study to for tomorrows practical exam... \", 41: \"He's the reason for the teardrops on my guitar the only one who has enough of me to break my heart \", 42: \"Sad, sad, sad. I don't know why but I hate this feeling  I wanna sleep and I still can't!\", 43: '@JonathanRKnight Awww I soo wish I was there to see you finally comfortable! Im sad that I missed it ', 44: \"Falling asleep. Just heard about that Tracy girl's body being found. How sad  My heart breaks for that family.\", 45: \"@Viennah Yay! I'm happy for you with your job! But that also means less time for me and you... \", 46: 'Just checked my user timeline on my blackberry, it looks like the twanking is still happening  Are ppl still having probs w/ BGs and UIDs?', 47: \"Oh man...was ironing @jeancjumbe's fave top to wear to a meeting. Burnt it \", 48: 'is strangely sad about LiLo and SamRo breaking up. ', 49: \"@tea oh! i'm so sorry  i didn't think about that before retweeting.\", 50: \"Broadband plan 'a massive broken promise' http://tinyurl.com/dcuc33 via www.diigo.com/~tautao Still waiting for broadband we are \", 51: \"@localtweeps Wow, tons of replies from you, may have to unfollow so I can see my friends' tweets, you're scrolling the feed a lot. \", 52: 'our duck and chicken are taking wayyy too long to hatch ', 53: 'Put vacation photos online a few yrs ago. PC crashed, and now I forget the name of the site. ', 54: 'I need a hug ', 55: '@andywana Not sure what they are, only that they are PoS! As much as I want to, I dont think can trade away company assets sorry andy! ', 56: '@oanhLove I hate when that happens... ', 57: \"I have a sad feeling that Dallas is not going to show up  I gotta say though, you'd think more shows would use music from the game. mmm\", 58: 'Ugh....92 degrees tomorrow ', 59: 'Where did u move to?  I thought u were already in sd. ?? Hmmm. Random u found me. Glad to hear yer doing well.', 60: \"@BatManYNG I miss my ps3, it's out of commission  Wutcha playing? Have you copped 'Blood On The Sand'?\", 61: 'just leaving the parking lot of work! ', 62: 'The Life is cool. But not for Me. ', 63: \"Sadly though, I've never gotten to experience the post coitus cigarette before, and now I never will. \", 64: 'I had such a nice day. Too bad the rain comes in tomorrow at 5am ', 65: \"@Starrbby too bad I won't be around I lost my job and can't even pay my phone bill lmao aw shucks \", 66: 'Damm back to school tomorrow ', 67: \"Mo jobs, no money.  how in the hell is min wage here 4 f'n clams an hour?\", 68: '@katortiz  Not forever... See you soon!', 69: '@Lt_Algonquin agreed, I saw the failwhale allllll day today. ', 70: \"@jdarter Oh! Haha... dude I dont really look at em unless someone says HEY I ADDED YOU. Sorry  I'm so terrible at that. I need a pop up!\", 71: \"@ninjen I'm sure you're right...    I need to start working out with you and the Nikster... Or Jared at least!\", 72: 'i really hate how people diss my bands!  Trace is clearly NOT ugly!', 73: 'Gym attire today was: Puma singlet, Adidas shorts.......and black business socks and leather shoes  Lucky did not run into any cute girls.', 74: \"Why won't you show my location?!   http://twitpic.com/2y2es\", 75: 'No picnic  my phone smells like citrus.', 76: \"@ashleyac My donkey is sensitive about such comments. Nevertheless, he'd (and me'd) be glad to see your mug asap. Charger is still awol. \", 77: 'No new csi tonight.  FML', 78: 'i think my arms are sore from tennis ', 79: 'wonders why someone that u like so much can make you so unhappy in a split seccond . depressed . ', 80: 'sleep soon... i just hate saying bye and see you tomorrow for the night. ', 81: '@statravelAU just got ur newsletter, those fares really are unbelievable, shame I already booked and paid for mine ', 82: \"missin' the boo \", 83: '@markhardy1974 Me too  #itm', 84: \"Damn... I don't have any chalk! MY CHALKBOARD IS USELESS \", 85: \"had a blast at the Getty Villa, but hates that she's had a sore throat all day. It's just getting worse too \", 86: '@msdrama hey missed ya at the meeting  sup mama', 87: \"My tummy hurts.  I wonder if the hypnosis has anything to do with it? If so, it's working, I get it, STOP SMOKING!!!\", 88: 'why is it always the fat ones?! ', 89: \"@januarycrimson Sorry, babe!!  My fam annoys me too. Thankfully, they're asleep right now. Muahaha. *evil laugh*\", 90: '@Hollywoodheat I should have paid more attention when we covered photoshop in my webpage design class in undergrad ', 91: \"wednesday my b-day! don't know what 2 do!! \", 92: 'Poor cameron (the hills) ', 93: 'pray for me please, the ex is threatening to start sh** at my/our babies 1st Birthday party. what a jerk. and I still have a headache ', 94: '@makeherfamous hmm  , do u really enjoy being with him ? if the problems are too constants u should think things more , find someone ulike', 95: 'Strider is a sick little puppy  http://apps.facebook.com/dogbook/profile/view/5248435', 96: \"so rylee,grace...wana go steve's party or not?? SADLY SINCE ITS EASTER I WNT B ABLE 2 DO MUCH  BUT OHH WELL.....\", 97: \"hey, I actually won one of my bracket pools! Too bad it wasn't the one for money \", 98: \"@stark YOU don't follow me, either  and i work for you!\", 99: 'A bad nite for the favorite teams: Astros and Spartans lose.  The nite out with T.W. was good.', 100: ' Body Of Missing Northern Calif. Girl Found: Police have found the remains of a missing Northern California girl .. http://tr.im/imji', 101: '@mangaaa I hope they will increase the capacity fast, yesterday was such a pain. Got the fail whale +15 times in 2 hours.... ', 102: 'Behind on my classes for work ', 103: 'watching &quot;House&quot; ', 104: '@kpreyes Remember my bum leg? Strikes back this time its serious ', 105: '@paradisej cool, i will. their are all kinds of complaints about this laptop online about overheating, but no recalls ', 106: 'Emily will be glad when Mommy is done training at her new job. She misses her.  http://apps.facebook.com/dogbook/profile/view/6176014', 107: 'would rather the first party send bad messages than the 3rd party send mixed ones  Sophmore year all over again?', 108: \"@Henkuyinepu it's overrated \", 109: '@marykatherine_q i know! I heard it this afternoon and wondered the same thing. Moscow is so behind the times ', 110: 'laying in bed with no voice.. ', 111: \"I'm sooo sad!!! they killed off Kutner on House  whyyyyyyyy\", 112: '@jacobsummers Sorry  tell them mea culpa from me and that I really am sorry.', 113: \"@Alliana07 it didn't make any sense to me, the suicide thing. I refuse to believe that that is actually what happened. \", 114: '@salancaster  hope your ok.', 115: \"@mercedesashley Damn! The grind is inspirational and saddening at the same time.  Don't want you to stop cuz I like what u do! Much love\", 116: '@HibaNick yeah aw but i know i wudnt stand a chance ', 117: 'ugh. cant sleep. its 1:30am. ', 118: \"Hanging in Crooners. Wanna sing. Can't. Sucks. \", 119: '@eRRe_sC aaw i miss ya all too.. im leaving to BH tomorrow &quot;morning&quot; i think.. aww i wanna go to the beach w u girls!! ', 120: \"Is pissed off that there's no ASBA's for a radio station. \", 121: \"wednesday my b-day n don't know what 2 do!  \", 122: 'I know my life has been flipped upside down when I just thought in my head that some Ramen sounds good. ', 123: 'I am in pain. My back and sides hurt. Not to mention crying is made of fail. ', 124: \"Late night snack, glass of OJ b/c I'm &quot;down with the sickness&quot;, then back to sleep...ugh I hate getting sick... \", 125: \"@allyheman but.. but.. but.. I'm not a big fan on camilla belle \", 126: \"@grum WAH I can't see clip, must be el-stupido work filters. Can't wait 'till I get a 'puter. Something else 2 blame ex 4. He broke mine \", 127: \"This week just seems to get longer and longer in terms of how much I need to do.. and how much I'm actually going to get done \", 128: \"I'm so cold \", 129: \"@thecoolestout Ehhh don't. Weather's gonna take a turn for the ugly tomorrow \", 130: '@chelserlynn haha its so cooooold in the d! and no  but you should still go to the show. they do some incredible stuff', 131: 'Hoping the tummy rumbles go away soon ', 132: \"@Knights_ No, no notice. They told me I'd be working tomorrow, and then I called the agency to follow up and they said it was over. \", 133: 'almost bedtime ', 134: \"I'm missing you babe..  but as long as your alive I'm happy.. Yawwwnn.. I'm tired my love imma try to sleep hopefully you had a headstart\", 135: 'Agh...snow!!! ', 136: 'i miss kenny powers ', 137: \"@BridgetsBeaches Thank you for letting people know, but now I'm sad that the direct message I got wasn't actually from Bridget \", 138: '...and, India missed out its 100th Test victory n 10th consecutive win without a loss. ', 139: \"@JonathanRKnight I guess that's a no then. \", 140: 'sadly is going to bed. ', 141: '@ozesteph1992 Shame to hear this Stephan ', 142: \"@mrsaintnick hey! i'm leavin in the morning... \", 143: 'Was intending to finish editing my 536-page novel manuscript tonight, but that will probably not happen. And only 12 pages are left ', 144: 'laid around too much today... now my head hurts ', 145: \"@twista202 I still haven't read the 9th&amp;10th Princess diaries  Saving Francesca made me cry at the end. Hmm those are easy books.\", 146: 'my nokia 1110 died..  ', 147: \"My mom might have breast cancer won't find out anything for. Like a week I'm so worried! \", 148: 'Going to sleep. Hoping tomorrow is a better day. ', 149: '@rumblepurr lol.. wish they understood daylight savings has ended though and breakfast is an hour later  They keep waking the kids up too', 150: '@onemoreproject that is lame ', 151: \"I don't understand... I really don't \", 152: \"HEROES just isn't doing it for me this season... \", 153: \"Living not downtown sure isn't much fun.  \", 154: '@jonathanchard Not calorie wise   I wish junk food was calorie free! I ate a thing of sour skittles and a big ass cherry coke!', 155: 'Man Work is Hard ', 156: 'getting sick  time for some hot tea, studying, and then sleeeep', 157: 'Getting eyebrows waxed. More pain ', 158: 'No phantasy star yesterday  going to work...', 159: \"Oh - Just got all my MacHeist 3.0 apps - sweet. Didn't get the Espresso serial no though although they said they sent it - oh well \", 160: \"Picked Mich St to win it all from the get go.  Was feeling pretty good about that pick all the way up until......tonight.  A's lost too \", 161: 'is alone downstairs...working ', 162: 'I feel bad for doing it ', 163: \"@RyanSeacrest is it just me, or she hates anoop. i mean seriously, she's kinda mean to him. \", 164: '@pinkserendipity yes sprint has 4g only in baltimore and chicago so far ', 165: \"I'm stuck awake in the middle of the night for the second day in a row. And I felt terrible yesterday. \", 166: 'Thanks for bursting my bubble ', 167: \"Going to school soon... can't find anything to wear!! gosh it's so hard \", 168: '@marieclr I was serious  LOL', 169: '@naughtyhaughty I had on my page for sooooo long!!! Until it got deleted  Sad day in history', 170: 'Crazy wind today = no birding  http://ff.im/1XTTi', 171: 'currently at work.. ', 172: \"Grrr.. my ipods acting weird too! Jai ho and thinking of you aren't playing the full songs.. ughh. \", 173: '@penndbad send me the DVD cos I have missed out on heaps  NOT happy about that!', 174: \"i don't see the big deal with this website \", 175: \"@machineplay I'm so sorry you're having to go through this. Again.  #therapyfail\", 176: '@ColinDeMar Far too out of the way for rail.  any other tips?', 177: \"I'm not still up I swear. Why do I keep losing. gaining. losing. gaining. tweeps?  So heart wrenching.\", 178: \"Today I realized I am too good at hiding things, even I can't find it \", 179: 'Staying at a friends house...house sitting, neighbors are SO loud-having a party ', 180: '@dannyvegasbaby danny im upset that i wasnt here to watch the live chat  i was in a car. for 3 hours on a trip im soooo upset!!', 181: 'Check out my mug  http://www.erika-obscura.blogspot.com', 182: 'Borders closed at 10 ', 183: \"Downloading NIN's new album &quot;the slip&quot; - when the hell did this come out? I'm so behind the times these days \", 184: \"Just woke up an already have written some e-mail... I've to go early at University today as I have to teach at 8:30 AM! \", 185: 'is watching the hill . . .and its making me sad ', 186: 'So many channels.... yet so so boring... lazy day again  may have to find a hobby', 187: '@supersport I miss my buddy  ill be in NY on the 25th', 188: \"@robluketic  love the french. I tell people here in the south i'm qtr. french and they snarl at me.  french are beautiful people\", 189: 'Opps.. As I said.. I still got one day remain and now problem come ', 190: \"I activated my Selfcontrol block early, meaning I can't check out the new QC.  Regularizing my internal clock is might be difficult. #fb\", 191: '@HillyDoP  oH NO', 192: 'spencer is not a good guy. ', 193: '@goodlaura What about Reese dying on #TTSC? And season finale next week.  #24 boring, Madame President is a crazy woman.', 194: '@JonathanRKnight I hate the limited letters,too.Hope you and the guys are fine?I pray for my dog,sheï¿½s not well ', 195: \"didn't get shit done today ~ i'm so screwed \", 196: 'wanttss to go out ', 197: 'Is not going to sleep tonite. ', 198: 'too worried and tired to post tonight ', 199: \"couldn't get shit done today ~ i'm so screwed \"}\n",
            "{1599800: \"@cherub_rock123 ehh....it's a day. \", 1599801: 'Haha yess making maria get a twitter ', 1599802: \"woooo elliot minor in 8 days!!! and i got my EM hoodie today!!! i'm tired and sick so it was a good....&quot;cheer myself up  &quot; thing \", 1599803: '@SanctumInc right-click, Repost. ', 1599804: '@mrschicken why yes, yes I am ', 1599805: '@maximumswearing yes  But a great mind escape!', 1599806: 'It has been storming all day . . . I love it  . Coming home tomorrow . Time to pack', 1599807: \"@logangator We'll figure something out.  I just have to be to MCO by 4am Thu.   So, either I bug you at 1am at your house, or see you Wed.\", 1599808: '@asimkovsky thanks for the info ', 1599809: '@gschan @malditamd @daydreamerping @ragdollgonewild @tarayqueen @manilenya Thank you  I owe you my sanity tonight.', 1599810: '#commtell09 Patty Perkins, VP Desktop Video Manager of Wachovia is up next- I understand many #SharePoint opps are  happening there ', 1599811: 'to be with you ', 1599812: '@GreenBaby_UK please follow so i can DM for the giveaway! ', 1599813: \"@v2black oh okay, well I did know the first band you mentioned by name, but other than that  don't know what they sound like \", 1599814: '@BenABaker Probably a player signing.  Maybe one of the rookies.  I can see it from my office ', 1599815: 'I am planning with friends to go to the mall! Hope we can do it. &lt;3 ', 1599816: \"@lilkup it's a relief. Conflict exhausts me \", 1599817: '@YouLuvMe sure............. bighead ', 1599818: 'twitter virginity broken ', 1599819: 'job interview...here we go. ', 1599820: 'Back on the job with some coffee thanks to @chimolschimols ', 1599821: \"@Piewacket1 good   sometimes a shot attention span could be good tho ;P  don't you agree   letting bright light flow over pie and self\", 1599822: 'new tatoo  love you megggiiiee', 1599823: 'guilty pleasure - yikes  i wish i could afford this shiz http://tinyurl.com/kqztg5', 1599824: '@hillsmarket Sweet.  Thanks for posting that.  And for letting us know ', 1599825: '@tonyhawk Yess! Good choice of laptop there, typing on a replica myself ', 1599826: 'lol. i just realized my room has a color theme. green is definitely growing in on me. go green! hahaha. i still love purple though! ', 1599827: 'Good morning Chicago, I love this city! ', 1599828: '@dfinchalicious  It ends up like that when good and bad collide ', 1599829: '@ost8doc no, I am photographing them!! ', 1599830: '@NickkkJonasss I like Poison Ivy the best ', 1599831: '@David_Wylie  You could have been born as an Emporer Penguin. Minus 200, carrying your kids on your feet. no food, water...Quit whining ', 1599832: '@extrabaggs on @KNBR right now!! Yay!! I LOVE reading his blog  I wish I knew what he looked like so I could say hi to him at the park lol', 1599833: \"Srsly now, I'm heading to my bed now. Goodnight Twitterverse! \", 1599834: '10.40 start and 12.30 finish tomorrow! yesssss. &lt;3 college  x', 1599835: \"@alexandervelky that's polite version - i only heard &quot;look much better on my bedroom floor&quot; how nice that you would hang it up for her \", 1599836: '@spindeezy for now on ur Queen Spindeezy ', 1599837: \"@DrWestGRACE yet, why can't I feel sorry for you?  LOL.  Seriously tho, safe travels \", 1599838: 'new to the twitta, someone help. ', 1599839: \"@Sky_1995 sorryyy. i gotta go now, my mom want to go to this computer. i'll talk to u some other time \", 1599840: 'What a pretty day  &quot;Just smile&quot;', 1599841: 'Good morning everyone! I hope you take some time to be outside &amp; soak in the beautiful morning before starting work. ', 1599842: 'just woke up, might watch a chick flick later. lol ', 1599843: '@minglebar thanks for checking on it ', 1599844: '@mkvlln Mr president, your tweets get cut off, i cant read everything. send it in an email? thanks love. ', 1599845: '@CatyFairy revolta follower hj? ', 1599846: \"@borededup no job actually.  but there have been plenty of odd jobs to get me by so far. i'll be your screen cleaning intern. \", 1599847: \"@Common_Pigeon You're quite welcome. \", 1599848: \"What has happened to the world...I'm actually doing chores and nobody told me to do them!!!  so proud! Lol\", 1599849: 'want FREE Apple products? iPhone 3G S macbook pro air iPod touch nano imac? click here! http://apple.freebiejeebies.co.uk/45615 ', 1599850: 'sick, sick, sick today, but still fingers crossed for eBay job! Send good thoughts ', 1599851: 'Getting ready to go out   I have to go to mac to buy brushes', 1599852: 'loves visitors so if you are goin to the Aerosmith concert you should hit me up!! ', 1599853: 'Nice out, but If I am going to leave here at 6am for a hike, I probably should at some point, pack for tomorrow! ', 1599854: '@WillaRyan At least trees are being spared. ', 1599855: \"i'm following 69 people. ;D how many people are YOU following? \", 1599856: 'taking a twit break...a lil blown about my boss...but i still have a job!  God is good', 1599857: 'http://twitpic.com/7joyo - this is how i feel today  Just a little imagery for everyone! lol', 1599858: 'has a day long date with God today, no phones allowed.  the world can rage tomorrow; but today, i am safe.', 1599859: '@ritasummerstar that too.  Apparently, they are out there - but in hiding I suspect  ', 1599860: '@kazzc22 no probs kazz hun,i think theres a new one going on now celebrity twitterer or summat? lol dunno?i just voted misha anyways ', 1599861: '@AlanHChin Thanks Alan! I need all the fundraising support I can get for my documentary - plus the shirts are cool too ', 1599862: \"@NLPride08 that's a perfectly reasonable time of day for me \", 1599863: '@6FuzzyFeet  hi ! thanks for the follow ', 1599864: 'Going to tampa saturday ', 1599865: \"I've watched spongebob now I'm going 2 find a gr8 coffee spot! This didn't even feel like a public holiday \", 1599866: \"I'm gonna go take a shower and turn in the last paper i have to deal with \", 1599867: \"@heich_dee Hahaha. Cannot luh. I'll feel bad coz he's got to work. So we talk when we can. Guess thats enough  hahaha\", 1599868: \"@obatron Try your Google Calendar. It's got tasks now. \", 1599869: '@carahsollins Good Morning Lady ', 1599870: \"@ddribin Saw that &amp; approved, re: bike. After years of being exceedingly bike UNfriendly, we are a' changin'! \", 1599871: \"If you're lucky enough to be different from everybody else, dont change \", 1599872: \"@FoSho174 LMAO @ capture the flag..bless their lil playing hearts  and i bet it is hott as heck..ain't it always\", 1599873: '@cineMATTic happy birthday, sir ', 1599874: 'I haz a big piece of carrot cake to take home! ', 1599875: '@ashleytisdale hih good morning  in austria its 17:36 hihi', 1599876: '@BrunoFigueiredo @ppinheiro76 @pedrocs Top Gear returns on Sunday btw ', 1599877: '@netscribe Thanks for considering Issuu ', 1599878: '@Bruno108 I would like some please! ', 1599879: '@aplusk ya got something against Baseball?? ', 1599880: 'No more drives. =D license in a moth ', 1599881: \"First day off in over a week... Thought i'd sleep in 4 once, but NO! my body wouldn't let me sleep past 8am  ugh!\", 1599882: 'Relaxin till workout time with Mama this afternoon. Goal- to run a 5k by end of summer in memory of Greg. I think I can, I think I can. ', 1599883: 'http://twitpic.com/7joyw - bring on summer ', 1599884: \"busy day at work!  So happy the Burkharts are in Houston!  I can't wait to see their beautiful home! \", 1599885: \"@LadyVanir LOL no you didn't break it. \", 1599886: 'Then  we head out again Denmark here we come ', 1599887: \"@kbgerth Well it's still Tuesday so no worries   I've made my TWD on Tuesday more times than I can tell you!\", 1599888: 'Getting ready to have a picnic in the park w/ muh partner in crime and bestie! Oh! Press ctrl+t and then ctrl+f on itunes for a surprise! ', 1599889: \"I see the light at the end of the tunnel!  It's so bright   Woo fricken hoo!\", 1599890: 'going to south streeeet with kate, hopefully my mom gets me the ring i wantt! ', 1599891: '@Jihav actually my other PSN ID is GUNSnSPEEDO O_o and oh, your welcome ', 1599892: \"@PaulMiller Do that! I appreciate the calories I'll be missing \", 1599893: '@SouthMainMuse Perfectly normal.  Thinking someday technology and social networks will all be hardwired to our brains.', 1599894: '@BizReviewer thanks so much for that acknowledgement...what is your name? ', 1599895: \"@ahamachi @eggirock drinking water trick totally worked guys... Didn't cry once \", 1599896: '@unworthysaint Are you having fun? ', 1599897: 'Beach then universal studios! Yeeeeeeman! ', 1599898: \"#haveyouever been alone at night, thought you heard footsteps behind and no one's there?? Fear of the Dark by Iron Maiden \", 1599899: 'Loved the USA hockey team ', 1599900: '@cris1015 My goal on stocks like $MTXX is to help, if just one person avoided this stock on my post, would make the keystrokes worth it.  ', 1599901: \"@wolfpack40 That's what I'm thinking! Knock her out of the water... very satisfying...  \", 1599902: \"@Jchawes yeah what about remotes for your car ? I couldn't find mine and didn't know how I was gonna get in my car.with your keys dumbass \", 1599903: \"Post your Le Mans 2009 pics: .. I didn't really shoot much, it's a bit like Silverstone isn't it?  But here ar.. http://tinyurl.com/nju67t\", 1599904: '@say_my_name TRAITOR!!!! love you ', 1599905: '@SarahG8s lol i wasnt on about the burns lol i was on about sumone  i know just seen. goin off twitter now gonna talk to sophie,talk later', 1599906: \"been playing big surf island and i've unlocked 5 trophies already hah \", 1599907: '@gabespears morning ', 1599908: 'I really dont get why Jaylor split . Oh well her and Lucas Till suit !  x', 1599909: \"my cluster is back and I'm a happy man \", 1599910: 'is excited for the day ', 1599911: 'Oh my god. Cookie dough frijj. I just spaffed in my pants  so much joy for Â£1.05.', 1599912: \"@ShannonGilliam good luck!!  what an exciting day   this is when the REAL fun begins, you're going to love being a mommy   xo\", 1599913: 'got our yearbooks in school  gonna try and get everyone to sing them... wish me luck', 1599914: '@PJA4ever Back.. ', 1599915: '@drummeroy nice new name  how you holding up?', 1599916: 'Hello good morning!  i wanna do something today.', 1599917: '@30STMWithJared love your tattoo! ', 1599918: 'MTO bom esse empire of sports...o futebol eh um pouco dificil pq usa o mouse mas eh bem divertido e online ', 1599919: '@planetchuckie haha! i wonder why i made her my pic... hmm.. will change it soon ', 1599920: 'Largest/fastest hotspot in U.S.A. is located in Atlanta. Suck it people outside the ATL  JK...no idea how to use it! http://bit.ly/eDjz7', 1599921: \"I just switched back to Opera (using the moi skin). It's really fast &amp; stable to work with - I'm loving it  http://www.opera.com/download/\", 1599922: 'scrubbed into surgery today ', 1599923: 'Bloody knackered! And still got two hours to go. Still, last shift tomorrow then a whole week off ', 1599924: '@McflyEngland haha yeah  but of course i love McFly more  lol', 1599925: '**** yeah!! I got the local Clinical Psychologist job!! ', 1599926: 'wants the @Jonasbrothers album ', 1599927: 'Wow 8:40 am is pretty early for me to wake up. Lol. ', 1599928: 'dropping molly off getting ice cream with Aaron I want him to meet Manda  spending the night with Meredith and Lauren I missed them dearly', 1599929: '@mom2jwo Woo hoo!!!! Keep working hard my dear!! ', 1599930: '@AndrewDearling *yawns* ', 1599931: 'Had an injection today. Not fun  the rrst of the school day has been good. Tonight i am going dancing yey ', 1599932: 'ahhh yay! found my missing sunglasses while cleaning my office!! so happy. ', 1599933: 'Lmao @seizuresalad that was cute and awesome  hahahahahahahahahahahahahaha!!!!!!!!!!!!!!!!!!!!!!!!!!!!!!!!!! â\\x99« http://blip.fm/~8bmo7', 1599934: 'Processing another credit application!  More hours to bill! ', 1599935: \"@ohsosweettreats Omg, I loveeeee frosted flakes with bananas on top. I didn't know anybody else knew about that... \", 1599936: 'Is back from getting the new jonas brothers cd!!!  on to my iPod it goes!!', 1599937: \"@siahoney I am good thanks!    How is #Eric, I haven't heard anything in awhile, have u visited him recently?  I hope he is feeling better\", 1599938: \"@varin I'm praying for you!!!  Hang in there, and trust your docs.  They know what's best, even if they don't act nicely. \", 1599939: 'OMG!!!!!!!!!! My dad will be having surgery today  Please keep him in your prayers ', 1599940: \"@MsKCJones Yeah it's very irritating, right? But with God on your side, you cant fail. \", 1599941: '@gone2dmb agreed!  Soulful eyes.  ', 1599942: 'is now a dsc student.  http://twitpic.com/7jp4d', 1599943: '@cate45_1999 I love all the pics!! ', 1599944: \"@ShanButterfly a star bowl (she loves stars) filled with dark chocolate. there's also a card. \", 1599945: 'oh yes, and btw, 8.00 ', 1599946: '@chriscuzzy someone wanted a &quot;Cuzzy&quot; memorabilia ', 1599947: \"@CharlotteSpeaks So, wasn't that funny re. the doggie?.... \", 1599948: 'doing another piece of media homework is that all i get now :/ milkshake diet starts today woop woop ', 1599949: 'finding out what this is. ', 1599950: 'OMG how good is ben and jerrys cookie dough icecream...come one really well goood lol, justwaitin to have a BBQ hope its stays like this ', 1599951: 'oooo haha just waking up and ready to eat a delicious breakfast and prepared to go in the afternoon to watch a movie ', 1599952: \"#Traveltuesday @GuyNGirlTravels Because their tweets are hilarious LOL and they're great travelers \", 1599953: \"any ideaZ on what to get dad for father's day ? No socks tho \", 1599954: 'God works mysteriously!i learn that if u think of the world wonderfully you will receive more &amp; get what u ask for ', 1599955: \"@_CrC_ mornin.. I'm enjoying a beautiful morning here in Phoenix. not too bad out yet \", 1599956: \"Woke up feeling rested and refreshed today! It's about time \", 1599957: '@naijagal You just HAD to throw that in. Tell her that I say thanks for the eye contact at her Brixton gig. managed to get a shot! ', 1599958: \"@siovene lol I don't blame you it's not the safest thing in the world \", 1599959: \"@ashinynewcoin yeah, that'd be the one  sorry to be repetitive!\", 1599960: '@pokapolas love the donut and the toadstool.  ', 1599961: '@crgrs359 Skip the aquarium and check out these fish   A lot cheaper lol http://bit.ly/2lQbBv', 1599962: \"@GroleauNET Yeah I'm being an ass today \", 1599963: \"@OHTristaN it's sunoudy \", 1599964: '@kbonded Newsflash: It worked ', 1599965: \"@stum450n Hi. Thanks for the follow. Nice website... check your carriage returns though, the bottom of 'Website &amp; brand identity' is out \", 1599966: 'got home an hour ago ate lunch watched some tv and now i listening to kelly clarkson no exam tomorrow yay!!!!!!!  3 down 4 to go', 1599967: 'checking my mail ', 1599968: 'done la examen! easy peasy  so proud of myself!!', 1599969: \"@davepell you're the undisputed authority on the topic.  goog recognizes!  \", 1599970: 'Thanks @eastwestchic &amp; @wangyip Thanks! That was just what I was looking for ', 1599971: \"@marttn thanks Martin. not the most imaginative interface, but it'll do for now \", 1599972: '@MikeJonesPhoto Congrats Mike  Way to go!', 1599973: 'http://twitpic.com/7jp4n - OMG! Office Space... I wanna steal it. ', 1599974: \"@yrclndstnlvr ahaha nooo you were just away from everyone else! i had to see Kara, she'd die. and yess we aree, ill see you saturday \", 1599975: \"@BizCoachDeb  Hey, I'm baack! And, thanks so much for all those kind notes while I was gone. They made me smile at times when I needed it!\", 1599976: '@mattycus Yeah, my conscience would be clear in that case. ', 1599977: '@MayorDorisWolfe Thats my girl - dishing out the &quot;advice&quot; ', 1599978: '@shebbs123 i second that ', 1599979: 'In the garden ', 1599980: '@myheartandmind jo jen by nemuselo zrovna tÃ© holce ael co nic ', 1599981: 'Another Commenting Contest! [;: Yay!!!  http://tinyurl.com/m6j2an', 1599982: '@thrillmesoon i figured out how to see my tweets and facebook status updates, and i was set  the groups seemed like a pain to set up...', 1599983: '@oxhot theri tomorrow, drinking coffee, talking about our most important and favourite issue! YOU know what I mean ', 1599984: \"You heard it here first -- We're having a girl. Hope it has my looks and Wendy's brains. (Kidding, babe). \", 1599985: 'if ur the lead singer in a band, beware falling prey to LSD &quot;Lead Singer Disease&quot; http://tinyurl.com/n65xjt  #music #haveyouever?', 1599986: '@tarayqueen too much ads on my blog. ', 1599987: '@La_r_a NEVEER  I think that you both will get on well with each other...', 1599988: \"@Roy_Everitt ha- good job. that's right - we gotta throw that #bigrun tag EVERYWHERE! I wanna get it trending before I start \", 1599989: '@Ms_Hip_Hop im glad ur doing well ', 1599990: 'WOOOOO! Xbox is back ', 1599991: \"@rmedina @LaTati Mmmm  That sounds absolutely perfect... but my schedule is full. I won't have time to lay in bed until Sunday. Ugh!!\", 1599992: 'ReCoVeRiNg FrOm ThE lOnG wEeKeNd ', 1599993: '@SCOOBY_GRITBOYS ', 1599994: '@Cliff_Forster Yeah, that does work better than just waiting for it  In the end I just wonder if I have time to keep up a good blog.', 1599995: 'Just woke up. Having no school is the best feeling ever ', 1599996: 'TheWDB.com - Very cool to hear old Walt interviews!  â\\x99« http://blip.fm/~8bmta', 1599997: 'Are you ready for your MoJo Makeover? Ask me for details ', 1599998: 'Happy 38th Birthday to my boo of alll time!!! Tupac Amaru Shakur ', 1599999: 'happy #charitytuesday @theNSPCC @SparksCharity @SpeakingUpH4H '}\n",
            "{0: \"@switchfoot http://twitpic.com/2y1zl - Awww, that's a bummer.  You shoulda got David Carr of Third Day to do it. ;D\", 1: \"is upset that he can't update his Facebook by texting it... and might cry as a result  School today also. Blah!\", 2: '@Kenichan I dived many times for the ball. Managed to save 50%  The rest go out of bounds', 3: 'my whole body feels itchy and like its on fire ', 4: \"@nationwideclass no, it's not behaving at all. i'm mad. why am i here? because I can't see you all over there. \", 5: '@Kwesidei not the whole crew ', 6: 'Need a hug ', 7: \"@LOLTrish hey  long time no see! Yes.. Rains a bit ,only a bit  LOL , I'm fine thanks , how's you ?\", 8: \"@Tatiana_K nope they didn't have it \", 9: '@twittera que me muera ? ', 10: \"spring break in plain city... it's snowing \", 11: 'I just re-pierced my ears ', 12: \"@caregiving I couldn't bear to watch it.  And I thought the UA loss was embarrassing . . . . .\", 13: '@octolinz16 It it counts, idk why I did either. you never talk to me anymore ', 14: \"@smarrison i would've been the first, but i didn't have a gun.    not really though, zac snyder's just a doucheclown.\", 15: '@iamjazzyfizzle I wish I got to watch it with you!! I miss you and @iamlilnicki  how was the premiere?!', 16: \"Hollis' death scene will hurt me severely to watch on film  wry is directors cut not out now?\", 17: 'about to file taxes ', 18: '@LettyA ahh ive always wanted to see rent  love the soundtrack!!', 19: '@FakerPattyPattz Oh dear. Were you drinking out of the forgotten table drinks? ', 20: \"@alydesigns i was out most of the day so didn't get much done \", 21: \"one of my friend called me, and asked to meet with her at Mid Valley today...but i've no time *sigh* \", 22: '@angry_barista I baked you a cake but I ated it ', 23: 'this week is not going as i had hoped ', 24: 'blagh class at 8 tomorrow ', 25: 'I hate when I have to call and wake people up ', 26: 'Just going to cry myself to sleep after watching Marley and Me.  ', 27: 'im sad now  Miss.Lilly', 28: \"ooooh.... LOL  that leslie.... and ok I won't do it again so leslie won't  get mad again \", 29: 'Meh... Almost Lover is the exception... this track gets me depressed every time. ', 30: 'some1 hacked my account on aim  now i have to make a new one', 31: '@alielayus I want to go to promote GEAR AND GROOVE but unfornately no ride there  I may b going to the one in Anaheim in May though', 32: 'thought sleeping in was an option tomorrow but realizing that it now is not. evaluations in the morning and work in the afternoon! ', 33: '@julieebaby awe i love you too!!!! 1 am here  i miss you', 34: '@HumpNinja I cry my asian eyes to sleep at night ', 35: \"ok I'm sick and spent an hour sitting in the shower cause I was too sick to stand and held back the puke like a champ. BED now \", 36: '@cocomix04 ill tell ya the story later  not a good day and ill be workin for like three more hours...', 37: '@MissXu sorry! bed time came here (GMT+1)   http://is.gd/fNge', 38: \"@fleurylis I don't either. Its depressing. I don't think I even want to know about the kids in suitcases. \", 39: \"Bed. Class 8-12. Work 12-3. Gym 3-5 or 6. Then class 6-10. Another day that's gonna fly by. I miss my girlfriend \", 40: \"really don't feel like getting up today... but got to study to for tomorrows practical exam... \", 41: \"He's the reason for the teardrops on my guitar the only one who has enough of me to break my heart \", 42: \"Sad, sad, sad. I don't know why but I hate this feeling  I wanna sleep and I still can't!\", 43: '@JonathanRKnight Awww I soo wish I was there to see you finally comfortable! Im sad that I missed it ', 44: \"Falling asleep. Just heard about that Tracy girl's body being found. How sad  My heart breaks for that family.\", 45: \"@Viennah Yay! I'm happy for you with your job! But that also means less time for me and you... \", 46: 'Just checked my user timeline on my blackberry, it looks like the twanking is still happening  Are ppl still having probs w/ BGs and UIDs?', 47: \"Oh man...was ironing @jeancjumbe's fave top to wear to a meeting. Burnt it \", 48: 'is strangely sad about LiLo and SamRo breaking up. ', 49: \"@tea oh! i'm so sorry  i didn't think about that before retweeting.\", 50: \"Broadband plan 'a massive broken promise' http://tinyurl.com/dcuc33 via www.diigo.com/~tautao Still waiting for broadband we are \", 51: \"@localtweeps Wow, tons of replies from you, may have to unfollow so I can see my friends' tweets, you're scrolling the feed a lot. \", 52: 'our duck and chicken are taking wayyy too long to hatch ', 53: 'Put vacation photos online a few yrs ago. PC crashed, and now I forget the name of the site. ', 54: 'I need a hug ', 55: '@andywana Not sure what they are, only that they are PoS! As much as I want to, I dont think can trade away company assets sorry andy! ', 56: '@oanhLove I hate when that happens... ', 57: \"I have a sad feeling that Dallas is not going to show up  I gotta say though, you'd think more shows would use music from the game. mmm\", 58: 'Ugh....92 degrees tomorrow ', 59: 'Where did u move to?  I thought u were already in sd. ?? Hmmm. Random u found me. Glad to hear yer doing well.', 60: \"@BatManYNG I miss my ps3, it's out of commission  Wutcha playing? Have you copped 'Blood On The Sand'?\", 61: 'just leaving the parking lot of work! ', 62: 'The Life is cool. But not for Me. ', 63: \"Sadly though, I've never gotten to experience the post coitus cigarette before, and now I never will. \", 64: 'I had such a nice day. Too bad the rain comes in tomorrow at 5am ', 65: \"@Starrbby too bad I won't be around I lost my job and can't even pay my phone bill lmao aw shucks \", 66: 'Damm back to school tomorrow ', 67: \"Mo jobs, no money.  how in the hell is min wage here 4 f'n clams an hour?\", 68: '@katortiz  Not forever... See you soon!', 69: '@Lt_Algonquin agreed, I saw the failwhale allllll day today. ', 70: \"@jdarter Oh! Haha... dude I dont really look at em unless someone says HEY I ADDED YOU. Sorry  I'm so terrible at that. I need a pop up!\", 71: \"@ninjen I'm sure you're right...    I need to start working out with you and the Nikster... Or Jared at least!\", 72: 'i really hate how people diss my bands!  Trace is clearly NOT ugly!', 73: 'Gym attire today was: Puma singlet, Adidas shorts.......and black business socks and leather shoes  Lucky did not run into any cute girls.', 74: \"Why won't you show my location?!   http://twitpic.com/2y2es\", 75: 'No picnic  my phone smells like citrus.', 76: \"@ashleyac My donkey is sensitive about such comments. Nevertheless, he'd (and me'd) be glad to see your mug asap. Charger is still awol. \", 77: 'No new csi tonight.  FML', 78: 'i think my arms are sore from tennis ', 79: 'wonders why someone that u like so much can make you so unhappy in a split seccond . depressed . ', 80: 'sleep soon... i just hate saying bye and see you tomorrow for the night. ', 81: '@statravelAU just got ur newsletter, those fares really are unbelievable, shame I already booked and paid for mine ', 82: \"missin' the boo \", 83: '@markhardy1974 Me too  #itm', 84: \"Damn... I don't have any chalk! MY CHALKBOARD IS USELESS \", 85: \"had a blast at the Getty Villa, but hates that she's had a sore throat all day. It's just getting worse too \", 86: '@msdrama hey missed ya at the meeting  sup mama', 87: \"My tummy hurts.  I wonder if the hypnosis has anything to do with it? If so, it's working, I get it, STOP SMOKING!!!\", 88: 'why is it always the fat ones?! ', 89: \"@januarycrimson Sorry, babe!!  My fam annoys me too. Thankfully, they're asleep right now. Muahaha. *evil laugh*\", 90: '@Hollywoodheat I should have paid more attention when we covered photoshop in my webpage design class in undergrad ', 91: \"wednesday my b-day! don't know what 2 do!! \", 92: 'Poor cameron (the hills) ', 93: 'pray for me please, the ex is threatening to start sh** at my/our babies 1st Birthday party. what a jerk. and I still have a headache ', 94: '@makeherfamous hmm  , do u really enjoy being with him ? if the problems are too constants u should think things more , find someone ulike', 95: 'Strider is a sick little puppy  http://apps.facebook.com/dogbook/profile/view/5248435', 96: \"so rylee,grace...wana go steve's party or not?? SADLY SINCE ITS EASTER I WNT B ABLE 2 DO MUCH  BUT OHH WELL.....\", 97: \"hey, I actually won one of my bracket pools! Too bad it wasn't the one for money \", 98: \"@stark YOU don't follow me, either  and i work for you!\", 99: 'A bad nite for the favorite teams: Astros and Spartans lose.  The nite out with T.W. was good.', 100: ' Body Of Missing Northern Calif. Girl Found: Police have found the remains of a missing Northern California girl .. http://tr.im/imji', 101: '@mangaaa I hope they will increase the capacity fast, yesterday was such a pain. Got the fail whale +15 times in 2 hours.... ', 102: 'Behind on my classes for work ', 103: 'watching &quot;House&quot; ', 104: '@kpreyes Remember my bum leg? Strikes back this time its serious ', 105: '@paradisej cool, i will. their are all kinds of complaints about this laptop online about overheating, but no recalls ', 106: 'Emily will be glad when Mommy is done training at her new job. She misses her.  http://apps.facebook.com/dogbook/profile/view/6176014', 107: 'would rather the first party send bad messages than the 3rd party send mixed ones  Sophmore year all over again?', 108: \"@Henkuyinepu it's overrated \", 109: '@marykatherine_q i know! I heard it this afternoon and wondered the same thing. Moscow is so behind the times ', 110: 'laying in bed with no voice.. ', 111: \"I'm sooo sad!!! they killed off Kutner on House  whyyyyyyyy\", 112: '@jacobsummers Sorry  tell them mea culpa from me and that I really am sorry.', 113: \"@Alliana07 it didn't make any sense to me, the suicide thing. I refuse to believe that that is actually what happened. \", 114: '@salancaster  hope your ok.', 115: \"@mercedesashley Damn! The grind is inspirational and saddening at the same time.  Don't want you to stop cuz I like what u do! Much love\", 116: '@HibaNick yeah aw but i know i wudnt stand a chance ', 117: 'ugh. cant sleep. its 1:30am. ', 118: \"Hanging in Crooners. Wanna sing. Can't. Sucks. \", 119: '@eRRe_sC aaw i miss ya all too.. im leaving to BH tomorrow &quot;morning&quot; i think.. aww i wanna go to the beach w u girls!! ', 120: \"Is pissed off that there's no ASBA's for a radio station. \", 121: \"wednesday my b-day n don't know what 2 do!  \", 122: 'I know my life has been flipped upside down when I just thought in my head that some Ramen sounds good. ', 123: 'I am in pain. My back and sides hurt. Not to mention crying is made of fail. ', 124: \"Late night snack, glass of OJ b/c I'm &quot;down with the sickness&quot;, then back to sleep...ugh I hate getting sick... \", 125: \"@allyheman but.. but.. but.. I'm not a big fan on camilla belle \", 126: \"@grum WAH I can't see clip, must be el-stupido work filters. Can't wait 'till I get a 'puter. Something else 2 blame ex 4. He broke mine \", 127: \"This week just seems to get longer and longer in terms of how much I need to do.. and how much I'm actually going to get done \", 128: \"I'm so cold \", 129: \"@thecoolestout Ehhh don't. Weather's gonna take a turn for the ugly tomorrow \", 130: '@chelserlynn haha its so cooooold in the d! and no  but you should still go to the show. they do some incredible stuff', 131: 'Hoping the tummy rumbles go away soon ', 132: \"@Knights_ No, no notice. They told me I'd be working tomorrow, and then I called the agency to follow up and they said it was over. \", 133: 'almost bedtime ', 134: \"I'm missing you babe..  but as long as your alive I'm happy.. Yawwwnn.. I'm tired my love imma try to sleep hopefully you had a headstart\", 135: 'Agh...snow!!! ', 136: 'i miss kenny powers ', 137: \"@BridgetsBeaches Thank you for letting people know, but now I'm sad that the direct message I got wasn't actually from Bridget \", 138: '...and, India missed out its 100th Test victory n 10th consecutive win without a loss. ', 139: \"@JonathanRKnight I guess that's a no then. \", 140: 'sadly is going to bed. ', 141: '@ozesteph1992 Shame to hear this Stephan ', 142: \"@mrsaintnick hey! i'm leavin in the morning... \", 143: 'Was intending to finish editing my 536-page novel manuscript tonight, but that will probably not happen. And only 12 pages are left ', 144: 'laid around too much today... now my head hurts ', 145: \"@twista202 I still haven't read the 9th&amp;10th Princess diaries  Saving Francesca made me cry at the end. Hmm those are easy books.\", 146: 'my nokia 1110 died..  ', 147: \"My mom might have breast cancer won't find out anything for. Like a week I'm so worried! \", 148: 'Going to sleep. Hoping tomorrow is a better day. ', 149: '@rumblepurr lol.. wish they understood daylight savings has ended though and breakfast is an hour later  They keep waking the kids up too', 150: '@onemoreproject that is lame ', 151: \"I don't understand... I really don't \", 152: \"HEROES just isn't doing it for me this season... \", 153: \"Living not downtown sure isn't much fun.  \", 154: '@jonathanchard Not calorie wise   I wish junk food was calorie free! I ate a thing of sour skittles and a big ass cherry coke!', 155: 'Man Work is Hard ', 156: 'getting sick  time for some hot tea, studying, and then sleeeep', 157: 'Getting eyebrows waxed. More pain ', 158: 'No phantasy star yesterday  going to work...', 159: \"Oh - Just got all my MacHeist 3.0 apps - sweet. Didn't get the Espresso serial no though although they said they sent it - oh well \", 160: \"Picked Mich St to win it all from the get go.  Was feeling pretty good about that pick all the way up until......tonight.  A's lost too \", 161: 'is alone downstairs...working ', 162: 'I feel bad for doing it ', 163: \"@RyanSeacrest is it just me, or she hates anoop. i mean seriously, she's kinda mean to him. \", 164: '@pinkserendipity yes sprint has 4g only in baltimore and chicago so far ', 165: \"I'm stuck awake in the middle of the night for the second day in a row. And I felt terrible yesterday. \", 166: 'Thanks for bursting my bubble ', 167: \"Going to school soon... can't find anything to wear!! gosh it's so hard \", 168: '@marieclr I was serious  LOL', 169: '@naughtyhaughty I had on my page for sooooo long!!! Until it got deleted  Sad day in history', 170: 'Crazy wind today = no birding  http://ff.im/1XTTi', 171: 'currently at work.. ', 172: \"Grrr.. my ipods acting weird too! Jai ho and thinking of you aren't playing the full songs.. ughh. \", 173: '@penndbad send me the DVD cos I have missed out on heaps  NOT happy about that!', 174: \"i don't see the big deal with this website \", 175: \"@machineplay I'm so sorry you're having to go through this. Again.  #therapyfail\", 176: '@ColinDeMar Far too out of the way for rail.  any other tips?', 177: \"I'm not still up I swear. Why do I keep losing. gaining. losing. gaining. tweeps?  So heart wrenching.\", 178: \"Today I realized I am too good at hiding things, even I can't find it \", 179: 'Staying at a friends house...house sitting, neighbors are SO loud-having a party ', 180: '@dannyvegasbaby danny im upset that i wasnt here to watch the live chat  i was in a car. for 3 hours on a trip im soooo upset!!', 181: 'Check out my mug  http://www.erika-obscura.blogspot.com', 182: 'Borders closed at 10 ', 183: \"Downloading NIN's new album &quot;the slip&quot; - when the hell did this come out? I'm so behind the times these days \", 184: \"Just woke up an already have written some e-mail... I've to go early at University today as I have to teach at 8:30 AM! \", 185: 'is watching the hill . . .and its making me sad ', 186: 'So many channels.... yet so so boring... lazy day again  may have to find a hobby', 187: '@supersport I miss my buddy  ill be in NY on the 25th', 188: \"@robluketic  love the french. I tell people here in the south i'm qtr. french and they snarl at me.  french are beautiful people\", 189: 'Opps.. As I said.. I still got one day remain and now problem come ', 190: \"I activated my Selfcontrol block early, meaning I can't check out the new QC.  Regularizing my internal clock is might be difficult. #fb\", 191: '@HillyDoP  oH NO', 192: 'spencer is not a good guy. ', 193: '@goodlaura What about Reese dying on #TTSC? And season finale next week.  #24 boring, Madame President is a crazy woman.', 194: '@JonathanRKnight I hate the limited letters,too.Hope you and the guys are fine?I pray for my dog,sheï¿½s not well ', 195: \"didn't get shit done today ~ i'm so screwed \", 196: 'wanttss to go out ', 197: 'Is not going to sleep tonite. ', 198: 'too worried and tired to post tonight ', 199: \"couldn't get shit done today ~ i'm so screwed \", 200: \"@cherub_rock123 ehh....it's a day. \", 201: 'Haha yess making maria get a twitter ', 202: \"woooo elliot minor in 8 days!!! and i got my EM hoodie today!!! i'm tired and sick so it was a good....&quot;cheer myself up  &quot; thing \", 203: '@SanctumInc right-click, Repost. ', 204: '@mrschicken why yes, yes I am ', 205: '@maximumswearing yes  But a great mind escape!', 206: 'It has been storming all day . . . I love it  . Coming home tomorrow . Time to pack', 207: \"@logangator We'll figure something out.  I just have to be to MCO by 4am Thu.   So, either I bug you at 1am at your house, or see you Wed.\", 208: '@asimkovsky thanks for the info ', 209: '@gschan @malditamd @daydreamerping @ragdollgonewild @tarayqueen @manilenya Thank you  I owe you my sanity tonight.', 210: '#commtell09 Patty Perkins, VP Desktop Video Manager of Wachovia is up next- I understand many #SharePoint opps are  happening there ', 211: 'to be with you ', 212: '@GreenBaby_UK please follow so i can DM for the giveaway! ', 213: \"@v2black oh okay, well I did know the first band you mentioned by name, but other than that  don't know what they sound like \", 214: '@BenABaker Probably a player signing.  Maybe one of the rookies.  I can see it from my office ', 215: 'I am planning with friends to go to the mall! Hope we can do it. &lt;3 ', 216: \"@lilkup it's a relief. Conflict exhausts me \", 217: '@YouLuvMe sure............. bighead ', 218: 'twitter virginity broken ', 219: 'job interview...here we go. ', 220: 'Back on the job with some coffee thanks to @chimolschimols ', 221: \"@Piewacket1 good   sometimes a shot attention span could be good tho ;P  don't you agree   letting bright light flow over pie and self\", 222: 'new tatoo  love you megggiiiee', 223: 'guilty pleasure - yikes  i wish i could afford this shiz http://tinyurl.com/kqztg5', 224: '@hillsmarket Sweet.  Thanks for posting that.  And for letting us know ', 225: '@tonyhawk Yess! Good choice of laptop there, typing on a replica myself ', 226: 'lol. i just realized my room has a color theme. green is definitely growing in on me. go green! hahaha. i still love purple though! ', 227: 'Good morning Chicago, I love this city! ', 228: '@dfinchalicious  It ends up like that when good and bad collide ', 229: '@ost8doc no, I am photographing them!! ', 230: '@NickkkJonasss I like Poison Ivy the best ', 231: '@David_Wylie  You could have been born as an Emporer Penguin. Minus 200, carrying your kids on your feet. no food, water...Quit whining ', 232: '@extrabaggs on @KNBR right now!! Yay!! I LOVE reading his blog  I wish I knew what he looked like so I could say hi to him at the park lol', 233: \"Srsly now, I'm heading to my bed now. Goodnight Twitterverse! \", 234: '10.40 start and 12.30 finish tomorrow! yesssss. &lt;3 college  x', 235: \"@alexandervelky that's polite version - i only heard &quot;look much better on my bedroom floor&quot; how nice that you would hang it up for her \", 236: '@spindeezy for now on ur Queen Spindeezy ', 237: \"@DrWestGRACE yet, why can't I feel sorry for you?  LOL.  Seriously tho, safe travels \", 238: 'new to the twitta, someone help. ', 239: \"@Sky_1995 sorryyy. i gotta go now, my mom want to go to this computer. i'll talk to u some other time \", 240: 'What a pretty day  &quot;Just smile&quot;', 241: 'Good morning everyone! I hope you take some time to be outside &amp; soak in the beautiful morning before starting work. ', 242: 'just woke up, might watch a chick flick later. lol ', 243: '@minglebar thanks for checking on it ', 244: '@mkvlln Mr president, your tweets get cut off, i cant read everything. send it in an email? thanks love. ', 245: '@CatyFairy revolta follower hj? ', 246: \"@borededup no job actually.  but there have been plenty of odd jobs to get me by so far. i'll be your screen cleaning intern. \", 247: \"@Common_Pigeon You're quite welcome. \", 248: \"What has happened to the world...I'm actually doing chores and nobody told me to do them!!!  so proud! Lol\", 249: 'want FREE Apple products? iPhone 3G S macbook pro air iPod touch nano imac? click here! http://apple.freebiejeebies.co.uk/45615 ', 250: 'sick, sick, sick today, but still fingers crossed for eBay job! Send good thoughts ', 251: 'Getting ready to go out   I have to go to mac to buy brushes', 252: 'loves visitors so if you are goin to the Aerosmith concert you should hit me up!! ', 253: 'Nice out, but If I am going to leave here at 6am for a hike, I probably should at some point, pack for tomorrow! ', 254: '@WillaRyan At least trees are being spared. ', 255: \"i'm following 69 people. ;D how many people are YOU following? \", 256: 'taking a twit break...a lil blown about my boss...but i still have a job!  God is good', 257: 'http://twitpic.com/7joyo - this is how i feel today  Just a little imagery for everyone! lol', 258: 'has a day long date with God today, no phones allowed.  the world can rage tomorrow; but today, i am safe.', 259: '@ritasummerstar that too.  Apparently, they are out there - but in hiding I suspect  ', 260: '@kazzc22 no probs kazz hun,i think theres a new one going on now celebrity twitterer or summat? lol dunno?i just voted misha anyways ', 261: '@AlanHChin Thanks Alan! I need all the fundraising support I can get for my documentary - plus the shirts are cool too ', 262: \"@NLPride08 that's a perfectly reasonable time of day for me \", 263: '@6FuzzyFeet  hi ! thanks for the follow ', 264: 'Going to tampa saturday ', 265: \"I've watched spongebob now I'm going 2 find a gr8 coffee spot! This didn't even feel like a public holiday \", 266: \"I'm gonna go take a shower and turn in the last paper i have to deal with \", 267: \"@heich_dee Hahaha. Cannot luh. I'll feel bad coz he's got to work. So we talk when we can. Guess thats enough  hahaha\", 268: \"@obatron Try your Google Calendar. It's got tasks now. \", 269: '@carahsollins Good Morning Lady ', 270: \"@ddribin Saw that &amp; approved, re: bike. After years of being exceedingly bike UNfriendly, we are a' changin'! \", 271: \"If you're lucky enough to be different from everybody else, dont change \", 272: \"@FoSho174 LMAO @ capture the flag..bless their lil playing hearts  and i bet it is hott as heck..ain't it always\", 273: '@cineMATTic happy birthday, sir ', 274: 'I haz a big piece of carrot cake to take home! ', 275: '@ashleytisdale hih good morning  in austria its 17:36 hihi', 276: '@BrunoFigueiredo @ppinheiro76 @pedrocs Top Gear returns on Sunday btw ', 277: '@netscribe Thanks for considering Issuu ', 278: '@Bruno108 I would like some please! ', 279: '@aplusk ya got something against Baseball?? ', 280: 'No more drives. =D license in a moth ', 281: \"First day off in over a week... Thought i'd sleep in 4 once, but NO! my body wouldn't let me sleep past 8am  ugh!\", 282: 'Relaxin till workout time with Mama this afternoon. Goal- to run a 5k by end of summer in memory of Greg. I think I can, I think I can. ', 283: 'http://twitpic.com/7joyw - bring on summer ', 284: \"busy day at work!  So happy the Burkharts are in Houston!  I can't wait to see their beautiful home! \", 285: \"@LadyVanir LOL no you didn't break it. \", 286: 'Then  we head out again Denmark here we come ', 287: \"@kbgerth Well it's still Tuesday so no worries   I've made my TWD on Tuesday more times than I can tell you!\", 288: 'Getting ready to have a picnic in the park w/ muh partner in crime and bestie! Oh! Press ctrl+t and then ctrl+f on itunes for a surprise! ', 289: \"I see the light at the end of the tunnel!  It's so bright   Woo fricken hoo!\", 290: 'going to south streeeet with kate, hopefully my mom gets me the ring i wantt! ', 291: '@Jihav actually my other PSN ID is GUNSnSPEEDO O_o and oh, your welcome ', 292: \"@PaulMiller Do that! I appreciate the calories I'll be missing \", 293: '@SouthMainMuse Perfectly normal.  Thinking someday technology and social networks will all be hardwired to our brains.', 294: '@BizReviewer thanks so much for that acknowledgement...what is your name? ', 295: \"@ahamachi @eggirock drinking water trick totally worked guys... Didn't cry once \", 296: '@unworthysaint Are you having fun? ', 297: 'Beach then universal studios! Yeeeeeeman! ', 298: \"#haveyouever been alone at night, thought you heard footsteps behind and no one's there?? Fear of the Dark by Iron Maiden \", 299: 'Loved the USA hockey team ', 300: '@cris1015 My goal on stocks like $MTXX is to help, if just one person avoided this stock on my post, would make the keystrokes worth it.  ', 301: \"@wolfpack40 That's what I'm thinking! Knock her out of the water... very satisfying...  \", 302: \"@Jchawes yeah what about remotes for your car ? I couldn't find mine and didn't know how I was gonna get in my car.with your keys dumbass \", 303: \"Post your Le Mans 2009 pics: .. I didn't really shoot much, it's a bit like Silverstone isn't it?  But here ar.. http://tinyurl.com/nju67t\", 304: '@say_my_name TRAITOR!!!! love you ', 305: '@SarahG8s lol i wasnt on about the burns lol i was on about sumone  i know just seen. goin off twitter now gonna talk to sophie,talk later', 306: \"been playing big surf island and i've unlocked 5 trophies already hah \", 307: '@gabespears morning ', 308: 'I really dont get why Jaylor split . Oh well her and Lucas Till suit !  x', 309: \"my cluster is back and I'm a happy man \", 310: 'is excited for the day ', 311: 'Oh my god. Cookie dough frijj. I just spaffed in my pants  so much joy for Â£1.05.', 312: \"@ShannonGilliam good luck!!  what an exciting day   this is when the REAL fun begins, you're going to love being a mommy   xo\", 313: 'got our yearbooks in school  gonna try and get everyone to sing them... wish me luck', 314: '@PJA4ever Back.. ', 315: '@drummeroy nice new name  how you holding up?', 316: 'Hello good morning!  i wanna do something today.', 317: '@30STMWithJared love your tattoo! ', 318: 'MTO bom esse empire of sports...o futebol eh um pouco dificil pq usa o mouse mas eh bem divertido e online ', 319: '@planetchuckie haha! i wonder why i made her my pic... hmm.. will change it soon ', 320: 'Largest/fastest hotspot in U.S.A. is located in Atlanta. Suck it people outside the ATL  JK...no idea how to use it! http://bit.ly/eDjz7', 321: \"I just switched back to Opera (using the moi skin). It's really fast &amp; stable to work with - I'm loving it  http://www.opera.com/download/\", 322: 'scrubbed into surgery today ', 323: 'Bloody knackered! And still got two hours to go. Still, last shift tomorrow then a whole week off ', 324: '@McflyEngland haha yeah  but of course i love McFly more  lol', 325: '**** yeah!! I got the local Clinical Psychologist job!! ', 326: 'wants the @Jonasbrothers album ', 327: 'Wow 8:40 am is pretty early for me to wake up. Lol. ', 328: 'dropping molly off getting ice cream with Aaron I want him to meet Manda  spending the night with Meredith and Lauren I missed them dearly', 329: '@mom2jwo Woo hoo!!!! Keep working hard my dear!! ', 330: '@AndrewDearling *yawns* ', 331: 'Had an injection today. Not fun  the rrst of the school day has been good. Tonight i am going dancing yey ', 332: 'ahhh yay! found my missing sunglasses while cleaning my office!! so happy. ', 333: 'Lmao @seizuresalad that was cute and awesome  hahahahahahahahahahahahahaha!!!!!!!!!!!!!!!!!!!!!!!!!!!!!!!!!! â\\x99« http://blip.fm/~8bmo7', 334: 'Processing another credit application!  More hours to bill! ', 335: \"@ohsosweettreats Omg, I loveeeee frosted flakes with bananas on top. I didn't know anybody else knew about that... \", 336: 'Is back from getting the new jonas brothers cd!!!  on to my iPod it goes!!', 337: \"@siahoney I am good thanks!    How is #Eric, I haven't heard anything in awhile, have u visited him recently?  I hope he is feeling better\", 338: \"@varin I'm praying for you!!!  Hang in there, and trust your docs.  They know what's best, even if they don't act nicely. \", 339: 'OMG!!!!!!!!!! My dad will be having surgery today  Please keep him in your prayers ', 340: \"@MsKCJones Yeah it's very irritating, right? But with God on your side, you cant fail. \", 341: '@gone2dmb agreed!  Soulful eyes.  ', 342: 'is now a dsc student.  http://twitpic.com/7jp4d', 343: '@cate45_1999 I love all the pics!! ', 344: \"@ShanButterfly a star bowl (she loves stars) filled with dark chocolate. there's also a card. \", 345: 'oh yes, and btw, 8.00 ', 346: '@chriscuzzy someone wanted a &quot;Cuzzy&quot; memorabilia ', 347: \"@CharlotteSpeaks So, wasn't that funny re. the doggie?.... \", 348: 'doing another piece of media homework is that all i get now :/ milkshake diet starts today woop woop ', 349: 'finding out what this is. ', 350: 'OMG how good is ben and jerrys cookie dough icecream...come one really well goood lol, justwaitin to have a BBQ hope its stays like this ', 351: 'oooo haha just waking up and ready to eat a delicious breakfast and prepared to go in the afternoon to watch a movie ', 352: \"#Traveltuesday @GuyNGirlTravels Because their tweets are hilarious LOL and they're great travelers \", 353: \"any ideaZ on what to get dad for father's day ? No socks tho \", 354: 'God works mysteriously!i learn that if u think of the world wonderfully you will receive more &amp; get what u ask for ', 355: \"@_CrC_ mornin.. I'm enjoying a beautiful morning here in Phoenix. not too bad out yet \", 356: \"Woke up feeling rested and refreshed today! It's about time \", 357: '@naijagal You just HAD to throw that in. Tell her that I say thanks for the eye contact at her Brixton gig. managed to get a shot! ', 358: \"@siovene lol I don't blame you it's not the safest thing in the world \", 359: \"@ashinynewcoin yeah, that'd be the one  sorry to be repetitive!\", 360: '@pokapolas love the donut and the toadstool.  ', 361: '@crgrs359 Skip the aquarium and check out these fish   A lot cheaper lol http://bit.ly/2lQbBv', 362: \"@GroleauNET Yeah I'm being an ass today \", 363: \"@OHTristaN it's sunoudy \", 364: '@kbonded Newsflash: It worked ', 365: \"@stum450n Hi. Thanks for the follow. Nice website... check your carriage returns though, the bottom of 'Website &amp; brand identity' is out \", 366: 'got home an hour ago ate lunch watched some tv and now i listening to kelly clarkson no exam tomorrow yay!!!!!!!  3 down 4 to go', 367: 'checking my mail ', 368: 'done la examen! easy peasy  so proud of myself!!', 369: \"@davepell you're the undisputed authority on the topic.  goog recognizes!  \", 370: 'Thanks @eastwestchic &amp; @wangyip Thanks! That was just what I was looking for ', 371: \"@marttn thanks Martin. not the most imaginative interface, but it'll do for now \", 372: '@MikeJonesPhoto Congrats Mike  Way to go!', 373: 'http://twitpic.com/7jp4n - OMG! Office Space... I wanna steal it. ', 374: \"@yrclndstnlvr ahaha nooo you were just away from everyone else! i had to see Kara, she'd die. and yess we aree, ill see you saturday \", 375: \"@BizCoachDeb  Hey, I'm baack! And, thanks so much for all those kind notes while I was gone. They made me smile at times when I needed it!\", 376: '@mattycus Yeah, my conscience would be clear in that case. ', 377: '@MayorDorisWolfe Thats my girl - dishing out the &quot;advice&quot; ', 378: '@shebbs123 i second that ', 379: 'In the garden ', 380: '@myheartandmind jo jen by nemuselo zrovna tÃ© holce ael co nic ', 381: 'Another Commenting Contest! [;: Yay!!!  http://tinyurl.com/m6j2an', 382: '@thrillmesoon i figured out how to see my tweets and facebook status updates, and i was set  the groups seemed like a pain to set up...', 383: '@oxhot theri tomorrow, drinking coffee, talking about our most important and favourite issue! YOU know what I mean ', 384: \"You heard it here first -- We're having a girl. Hope it has my looks and Wendy's brains. (Kidding, babe). \", 385: 'if ur the lead singer in a band, beware falling prey to LSD &quot;Lead Singer Disease&quot; http://tinyurl.com/n65xjt  #music #haveyouever?', 386: '@tarayqueen too much ads on my blog. ', 387: '@La_r_a NEVEER  I think that you both will get on well with each other...', 388: \"@Roy_Everitt ha- good job. that's right - we gotta throw that #bigrun tag EVERYWHERE! I wanna get it trending before I start \", 389: '@Ms_Hip_Hop im glad ur doing well ', 390: 'WOOOOO! Xbox is back ', 391: \"@rmedina @LaTati Mmmm  That sounds absolutely perfect... but my schedule is full. I won't have time to lay in bed until Sunday. Ugh!!\", 392: 'ReCoVeRiNg FrOm ThE lOnG wEeKeNd ', 393: '@SCOOBY_GRITBOYS ', 394: '@Cliff_Forster Yeah, that does work better than just waiting for it  In the end I just wonder if I have time to keep up a good blog.', 395: 'Just woke up. Having no school is the best feeling ever ', 396: 'TheWDB.com - Very cool to hear old Walt interviews!  â\\x99« http://blip.fm/~8bmta', 397: 'Are you ready for your MoJo Makeover? Ask me for details ', 398: 'Happy 38th Birthday to my boo of alll time!!! Tupac Amaru Shakur ', 399: 'happy #charitytuesday @theNSPCC @SparksCharity @SpeakingUpH4H '}\n"
          ],
          "name": "stdout"
        }
      ]
    },
    {
      "cell_type": "code",
      "metadata": {
        "colab": {
          "base_uri": "https://localhost:8080/"
        },
        "id": "T_Q315NtSUGA",
        "outputId": "359269ca-6584-438f-a895-c5a35e27d778"
      },
      "source": [
        "neg_index_tmp = negative_value.get('index')\n",
        "print(neg_index_tmp)\n",
        "pos_index_tmp = positive_value.get('index')\n",
        "print(pos_index_tmp)\n",
        "\n"
      ],
      "execution_count": 256,
      "outputs": [
        {
          "output_type": "stream",
          "text": [
            "{0: 0, 1: 0, 2: 0, 3: 0, 4: 0, 5: 0, 6: 0, 7: 0, 8: 0, 9: 0, 10: 0, 11: 0, 12: 0, 13: 0, 14: 0, 15: 0, 16: 0, 17: 0, 18: 0, 19: 0, 20: 0, 21: 0, 22: 0, 23: 0, 24: 0, 25: 0, 26: 0, 27: 0, 28: 0, 29: 0, 30: 0, 31: 0, 32: 0, 33: 0, 34: 0, 35: 0, 36: 0, 37: 0, 38: 0, 39: 0, 40: 0, 41: 0, 42: 0, 43: 0, 44: 0, 45: 0, 46: 0, 47: 0, 48: 0, 49: 0, 50: 0, 51: 0, 52: 0, 53: 0, 54: 0, 55: 0, 56: 0, 57: 0, 58: 0, 59: 0, 60: 0, 61: 0, 62: 0, 63: 0, 64: 0, 65: 0, 66: 0, 67: 0, 68: 0, 69: 0, 70: 0, 71: 0, 72: 0, 73: 0, 74: 0, 75: 0, 76: 0, 77: 0, 78: 0, 79: 0, 80: 0, 81: 0, 82: 0, 83: 0, 84: 0, 85: 0, 86: 0, 87: 0, 88: 0, 89: 0, 90: 0, 91: 0, 92: 0, 93: 0, 94: 0, 95: 0, 96: 0, 97: 0, 98: 0, 99: 0, 100: 0, 101: 0, 102: 0, 103: 0, 104: 0, 105: 0, 106: 0, 107: 0, 108: 0, 109: 0, 110: 0, 111: 0, 112: 0, 113: 0, 114: 0, 115: 0, 116: 0, 117: 0, 118: 0, 119: 0, 120: 0, 121: 0, 122: 0, 123: 0, 124: 0, 125: 0, 126: 0, 127: 0, 128: 0, 129: 0, 130: 0, 131: 0, 132: 0, 133: 0, 134: 0, 135: 0, 136: 0, 137: 0, 138: 0, 139: 0, 140: 0, 141: 0, 142: 0, 143: 0, 144: 0, 145: 0, 146: 0, 147: 0, 148: 0, 149: 0, 150: 0, 151: 0, 152: 0, 153: 0, 154: 0, 155: 0, 156: 0, 157: 0, 158: 0, 159: 0, 160: 0, 161: 0, 162: 0, 163: 0, 164: 0, 165: 0, 166: 0, 167: 0, 168: 0, 169: 0, 170: 0, 171: 0, 172: 0, 173: 0, 174: 0, 175: 0, 176: 0, 177: 0, 178: 0, 179: 0, 180: 0, 181: 0, 182: 0, 183: 0, 184: 0, 185: 0, 186: 0, 187: 0, 188: 0, 189: 0, 190: 0, 191: 0, 192: 0, 193: 0, 194: 0, 195: 0, 196: 0, 197: 0, 198: 0, 199: 0}\n",
            "{1599800: 4, 1599801: 4, 1599802: 4, 1599803: 4, 1599804: 4, 1599805: 4, 1599806: 4, 1599807: 4, 1599808: 4, 1599809: 4, 1599810: 4, 1599811: 4, 1599812: 4, 1599813: 4, 1599814: 4, 1599815: 4, 1599816: 4, 1599817: 4, 1599818: 4, 1599819: 4, 1599820: 4, 1599821: 4, 1599822: 4, 1599823: 4, 1599824: 4, 1599825: 4, 1599826: 4, 1599827: 4, 1599828: 4, 1599829: 4, 1599830: 4, 1599831: 4, 1599832: 4, 1599833: 4, 1599834: 4, 1599835: 4, 1599836: 4, 1599837: 4, 1599838: 4, 1599839: 4, 1599840: 4, 1599841: 4, 1599842: 4, 1599843: 4, 1599844: 4, 1599845: 4, 1599846: 4, 1599847: 4, 1599848: 4, 1599849: 4, 1599850: 4, 1599851: 4, 1599852: 4, 1599853: 4, 1599854: 4, 1599855: 4, 1599856: 4, 1599857: 4, 1599858: 4, 1599859: 4, 1599860: 4, 1599861: 4, 1599862: 4, 1599863: 4, 1599864: 4, 1599865: 4, 1599866: 4, 1599867: 4, 1599868: 4, 1599869: 4, 1599870: 4, 1599871: 4, 1599872: 4, 1599873: 4, 1599874: 4, 1599875: 4, 1599876: 4, 1599877: 4, 1599878: 4, 1599879: 4, 1599880: 4, 1599881: 4, 1599882: 4, 1599883: 4, 1599884: 4, 1599885: 4, 1599886: 4, 1599887: 4, 1599888: 4, 1599889: 4, 1599890: 4, 1599891: 4, 1599892: 4, 1599893: 4, 1599894: 4, 1599895: 4, 1599896: 4, 1599897: 4, 1599898: 4, 1599899: 4, 1599900: 4, 1599901: 4, 1599902: 4, 1599903: 4, 1599904: 4, 1599905: 4, 1599906: 4, 1599907: 4, 1599908: 4, 1599909: 4, 1599910: 4, 1599911: 4, 1599912: 4, 1599913: 4, 1599914: 4, 1599915: 4, 1599916: 4, 1599917: 4, 1599918: 4, 1599919: 4, 1599920: 4, 1599921: 4, 1599922: 4, 1599923: 4, 1599924: 4, 1599925: 4, 1599926: 4, 1599927: 4, 1599928: 4, 1599929: 4, 1599930: 4, 1599931: 4, 1599932: 4, 1599933: 4, 1599934: 4, 1599935: 4, 1599936: 4, 1599937: 4, 1599938: 4, 1599939: 4, 1599940: 4, 1599941: 4, 1599942: 4, 1599943: 4, 1599944: 4, 1599945: 4, 1599946: 4, 1599947: 4, 1599948: 4, 1599949: 4, 1599950: 4, 1599951: 4, 1599952: 4, 1599953: 4, 1599954: 4, 1599955: 4, 1599956: 4, 1599957: 4, 1599958: 4, 1599959: 4, 1599960: 4, 1599961: 4, 1599962: 4, 1599963: 4, 1599964: 4, 1599965: 4, 1599966: 4, 1599967: 4, 1599968: 4, 1599969: 4, 1599970: 4, 1599971: 4, 1599972: 4, 1599973: 4, 1599974: 4, 1599975: 4, 1599976: 4, 1599977: 4, 1599978: 4, 1599979: 4, 1599980: 4, 1599981: 4, 1599982: 4, 1599983: 4, 1599984: 4, 1599985: 4, 1599986: 4, 1599987: 4, 1599988: 4, 1599989: 4, 1599990: 4, 1599991: 4, 1599992: 4, 1599993: 4, 1599994: 4, 1599995: 4, 1599996: 4, 1599997: 4, 1599998: 4, 1599999: 4}\n"
          ],
          "name": "stdout"
        }
      ]
    },
    {
      "cell_type": "code",
      "metadata": {
        "id": "zU9ma_aQat5c"
      },
      "source": [
        "def tokenize(data):\n",
        "\n",
        "\n",
        "  for k, v in data.items():\n",
        "    data[k] = re.sub('@[^\\s]+','username', data[k])\n",
        "    data[k] = re.sub(\"@\\S+|https?:\\S+|http?:\\S|[^A-Za-z0-9]+\", ' ', str(data[k]).lower())\n",
        "\n",
        "\n",
        "  #tokenization\n",
        "  dict_data_token = dict()\n",
        "  for k, v in data.items():\n",
        "    tokenizer = nltk.RegexpTokenizer(r'\\w+')\n",
        "    tokens = tokenizer.tokenize(v)\n",
        "    dict_data_token[k] = tokens\n",
        "\n",
        "  #stopwords\n",
        "  dict_data_stop = dict()\n",
        "  for k, v in dict_data_token.items():\n",
        "    dict_data_stop[k] = [w for w in v if not w in list(nltk.corpus.stopwords.words())]\n",
        "\n",
        "\n",
        "  dict_data_stem = dict()\n",
        "  st = LancasterStemmer()\n",
        "\n",
        "  for k, v in dict_data_stop.items():\n",
        "    dict_data_stem[k] = [st.stem(w) for w in v ]\n",
        "\n",
        "  return dict_data_stop\n",
        "  #return dict_data_stem\n",
        "\n"
      ],
      "execution_count": 257,
      "outputs": []
    },
    {
      "cell_type": "code",
      "metadata": {
        "id": "VUw7nWESgjC8"
      },
      "source": [
        "dictionnaire_tokenized = tokenize(dictionnaire)\n"
      ],
      "execution_count": 258,
      "outputs": []
    },
    {
      "cell_type": "code",
      "metadata": {
        "colab": {
          "base_uri": "https://localhost:8080/"
        },
        "id": "4weQtf37bBAr",
        "outputId": "73285b28-88e6-46dc-c6ed-85cfbc419418"
      },
      "source": [
        "print(f\"The number of positive sentences: {len(dictionnaire_tokenized)}\")\n",
        "print(f\"First sentences : {neg[0]}\")\n",
        "print(f\"First sentences tokenize : {dictionnaire_tokenized[0]}\")\n",
        "print(\" \")\n",
        "\n",
        "#on converti en list\n",
        "word_list=list(dictionnaire_tokenized.values())\n",
        "word_list =sum(word_list,[])\n",
        "print(word_list)\n",
        "\n",
        "data_neg = list(neg.values())\n",
        "data_pos = list(pos.values())\n",
        "print(data_neg)\n",
        "print(data_pos)\n",
        "\n",
        "val_neg = list(val_ng.values())\n",
        "val_pos = list(val_ps.values())\n",
        "print(val_neg)\n",
        "\n",
        "data2_pneg = list()\n",
        "\n",
        "index_neg = list(neg_index_tmp.values())\n",
        "index_pos = list(pos_index_tmp.values())\n",
        "\n",
        "\n",
        "\n",
        "# on regarde si il n'y a rien en double\n",
        "\n",
        "#nltk.FreqDist(word_list) # il y a des mot en double ! \n"
      ],
      "execution_count": 259,
      "outputs": [
        {
          "output_type": "stream",
          "text": [
            "The number of positive sentences: 400\n",
            "First sentences : @switchfoot http://twitpic.com/2y1zl - Awww, that's a bummer.  You shoulda got David Carr of Third Day to do it. ;D\n",
            "First sentences tokenize : ['username', 'awww', 'bummer', 'shoulda', 'got', 'david', 'carr', 'third', 'day']\n",
            " \n",
            "['username', 'awww', 'bummer', 'shoulda', 'got', 'david', 'carr', 'third', 'day', 'upset', 'update', 'facebook', 'texting', 'might', 'cry', 'result', 'school', 'today', 'blah', 'username', 'dived', 'many', 'times', 'ball', 'managed', 'save', '50', 'rest', 'go', 'bounds', 'whole', 'body', 'feels', 'itchy', 'like', 'fire', 'username', 'behaving', 'mad', 'see', 'username', 'whole', 'crew', 'need', 'hug', 'username', 'hey', 'long', 'time', 'see', 'yes', 'rains', 'bit', 'bit', 'lol', 'fine', 'thanks', 'username', 'nope', 'username', 'muera', 'spring', 'break', 'plain', 'city', 'snowing', 'pierced', 'ears', 'username', 'bear', 'watch', 'thought', 'ua', 'loss', 'embarrassing', 'username', 'counts', 'idk', 'either', 'never', 'talk', 'anymore', 'username', 'would', 'first', 'gun', 'really', 'though', 'zac', 'snyder', 'doucheclown', 'username', 'wish', 'got', 'watch', 'miss', 'username', 'premiere', 'hollis', 'death', 'scene', 'hurt', 'severely', 'watch', 'film', 'wry', 'directors', 'cut', 'file', 'taxes', 'username', 'ahh', 'ive', 'always', 'wanted', 'see', 'rent', 'love', 'soundtrack', 'username', 'oh', 'dear', 'drinking', 'forgotten', 'table', 'drinks', 'username', 'day', 'get', 'much', 'done', 'friend', 'called', 'asked', 'meet', 'mid', 'valley', 'today', 'time', 'sigh', 'username', 'baked', 'cake', 'ated', 'week', 'going', 'hoped', 'blagh', 'class', '8', 'tomorrow', 'hate', 'call', 'wake', 'people', 'going', 'cry', 'sleep', 'watching', 'marley', 'sad', 'miss', 'lilly', 'ooooh', 'lol', 'leslie', 'ok', 'leslie', 'get', 'mad', 'meh', 'almost', 'lover', 'exception', 'track', 'gets', 'depressed', 'every', 'time', 'some1', 'hacked', 'account', 'aim', 'make', 'new', 'username', 'go', 'promote', 'gear', 'groove', 'unfornately', 'ride', 'may', 'b', 'going', 'anaheim', 'may', 'though', 'thought', 'sleeping', 'option', 'tomorrow', 'realizing', 'evaluations', 'morning', 'work', 'afternoon', 'username', 'awe', 'love', '1', 'miss', 'username', 'cry', 'asian', 'eyes', 'sleep', 'night', 'ok', 'sick', 'spent', 'hour', 'sitting', 'shower', 'cause', 'sick', 'stand', 'held', 'back', 'puke', 'like', 'champ', 'bed', 'username', 'tell', 'story', 'later', 'good', 'day', 'workin', 'like', 'three', 'hours', 'username', 'sorry', 'bed', 'time', 'came', 'gmt', '1', 'username', 'either', 'depressing', 'think', 'even', 'know', 'kids', 'suitcases', 'bed', 'class', '8', '12', 'work', '12', '3', 'gym', '3', '5', '6', 'class', '6', '10', 'another', 'day', 'gonna', 'fly', 'miss', 'girlfriend', 'really', 'feel', 'like', 'getting', 'today', 'got', 'study', 'tomorrows', 'practical', 'exam', 'reason', 'teardrops', 'guitar', 'enough', 'break', 'heart', 'sad', 'sad', 'sad', 'know', 'hate', 'feeling', 'wanna', 'sleep', 'still', 'username', 'awww', 'soo', 'wish', 'see', 'finally', 'comfortable', 'sad', 'missed', 'falling', 'asleep', 'heard', 'tracy', 'girl', 'body', 'found', 'sad', 'heart', 'breaks', 'family', 'username', 'yay', 'happy', 'job', 'means', 'less', 'time', 'checked', 'user', 'timeline', 'blackberry', 'looks', 'like', 'twanking', 'still', 'happening', 'ppl', 'still', 'probs', 'w', 'bgs', 'uids', 'oh', 'ironing', 'username', 'fave', 'top', 'wear', 'meeting', 'burnt', 'strangely', 'sad', 'lilo', 'samro', 'breaking', 'username', 'oh', 'sorry', 'think', 'retweeting', 'broadband', 'plan', 'massive', 'broken', 'promise', 'via', 'www', 'diigo', 'tautao', 'still', 'waiting', 'broadband', 'username', 'wow', 'tons', 'replies', 'may', 'unfollow', 'see', 'friends', 'tweets', 'scrolling', 'feed', 'lot', 'duck', 'chicken', 'taking', 'wayyy', 'long', 'hatch', 'put', 'vacation', 'photos', 'online', 'yrs', 'ago', 'pc', 'crashed', 'forget', 'site', 'need', 'hug', 'username', 'sure', 'pos', 'much', 'dont', 'think', 'trade', 'away', 'company', 'assets', 'sorry', 'andy', 'username', 'hate', 'happens', 'sad', 'feeling', 'dallas', 'going', 'show', 'gotta', 'say', 'though', 'think', 'shows', 'would', 'use', 'music', 'game', 'mmm', 'ugh', '92', 'degrees', 'tomorrow', 'move', 'thought', 'already', 'sd', 'hmmm', 'random', 'found', 'glad', 'hear', 'yer', 'well', 'username', 'miss', 'ps3', 'commission', 'wutcha', 'playing', 'copped', 'blood', 'sand', 'leaving', 'parking', 'lot', 'work', 'life', 'cool', 'sadly', 'though', 'never', 'gotten', 'experience', 'post', 'coitus', 'cigarette', 'never', 'nice', 'day', 'bad', 'rain', 'comes', 'tomorrow', '5am', 'username', 'bad', 'around', 'lost', 'job', 'even', 'pay', 'phone', 'bill', 'lmao', 'aw', 'shucks', 'damm', 'back', 'school', 'tomorrow', 'mo', 'jobs', 'money', 'hell', 'wage', '4', 'f', 'clams', 'hour', 'username', 'forever', 'see', 'soon', 'username', 'agreed', 'saw', 'failwhale', 'allllll', 'day', 'today', 'username', 'oh', 'haha', 'dude', 'dont', 'really', 'look', 'unless', 'someone', 'says', 'hey', 'added', 'sorry', 'terrible', 'need', 'pop', 'username', 'sure', 'right', 'need', 'start', 'working', 'nikster', 'jared', 'least', 'really', 'hate', 'people', 'diss', 'bands', 'trace', 'clearly', 'ugly', 'gym', 'attire', 'today', 'puma', 'singlet', 'adidas', 'shorts', 'black', 'business', 'socks', 'leather', 'shoes', 'lucky', 'run', 'cute', 'girls', 'show', 'location', 'picnic', 'phone', 'smells', 'like', 'citrus', 'username', 'donkey', 'sensitive', 'comments', 'nevertheless', 'glad', 'see', 'mug', 'asap', 'charger', 'still', 'awol', 'new', 'csi', 'tonight', 'fml', 'think', 'arms', 'sore', 'tennis', 'wonders', 'someone', 'like', 'much', 'make', 'unhappy', 'split', 'seccond', 'depressed', 'sleep', 'soon', 'hate', 'saying', 'bye', 'see', 'tomorrow', 'night', 'username', 'got', 'ur', 'newsletter', 'fares', 'really', 'unbelievable', 'shame', 'already', 'booked', 'paid', 'missin', 'boo', 'username', 'itm', 'damn', 'chalk', 'chalkboard', 'useless', 'blast', 'getty', 'villa', 'hates', 'sore', 'throat', 'day', 'getting', 'worse', 'username', 'hey', 'missed', 'meeting', 'sup', 'mama', 'tummy', 'hurts', 'wonder', 'hypnosis', 'anything', 'working', 'get', 'stop', 'smoking', 'always', 'fat', 'ones', 'username', 'sorry', 'babe', 'fam', 'annoys', 'thankfully', 'asleep', 'right', 'muahaha', 'evil', 'laugh', 'username', 'paid', 'attention', 'covered', 'photoshop', 'webpage', 'design', 'class', 'undergrad', 'wednesday', 'b', 'day', 'know', '2', 'poor', 'cameron', 'hills', 'pray', 'please', 'ex', 'threatening', 'start', 'sh', 'babies', '1st', 'birthday', 'party', 'jerk', 'still', 'headache', 'username', 'hmm', 'really', 'enjoy', 'problems', 'constants', 'think', 'things', 'find', 'someone', 'ulike', 'strider', 'sick', 'little', 'puppy', 'rylee', 'grace', 'wana', 'go', 'steve', 'party', 'sadly', 'since', 'easter', 'wnt', 'b', 'able', '2', 'much', 'ohh', 'well', 'hey', 'actually', 'bracket', 'pools', 'bad', 'money', 'username', 'follow', 'either', 'work', 'bad', 'nite', 'favorite', 'teams', 'astros', 'spartans', 'lose', 'nite', 'w', 'good', 'body', 'missing', 'northern', 'calif', 'girl', 'found', 'police', 'found', 'remains', 'missing', 'northern', 'california', 'girl', 'username', 'hope', 'increase', 'capacity', 'fast', 'yesterday', 'pain', 'got', 'fail', 'whale', '15', 'times', '2', 'hours', 'behind', 'classes', 'work', 'watching', 'quot', 'house', 'quot', 'username', 'remember', 'bum', 'leg', 'strikes', 'back', 'time', 'serious', 'username', 'cool', 'kinds', 'complaints', 'laptop', 'online', 'overheating', 'recalls', 'emily', 'glad', 'mommy', 'done', 'training', 'new', 'job', 'misses', 'would', 'rather', 'first', 'party', 'send', 'bad', 'messages', '3rd', 'party', 'send', 'mixed', 'ones', 'sophmore', 'year', 'username', 'overrated', 'username', 'know', 'heard', 'afternoon', 'wondered', 'thing', 'moscow', 'behind', 'times', 'laying', 'bed', 'voice', 'sooo', 'sad', 'killed', 'kutner', 'house', 'whyyyyyyyy', 'username', 'sorry', 'tell', 'culpa', 'really', 'sorry', 'username', 'make', 'sense', 'suicide', 'thing', 'refuse', 'believe', 'actually', 'happened', 'username', 'hope', 'ok', 'username', 'damn', 'grind', 'inspirational', 'saddening', 'time', 'stop', 'cuz', 'like', 'much', 'love', 'username', 'yeah', 'aw', 'know', 'wudnt', 'stand', 'chance', 'ugh', 'cant', 'sleep', '1', '30am', 'hanging', 'crooners', 'wanna', 'sing', 'sucks', 'username', 'aaw', 'miss', 'leaving', 'bh', 'tomorrow', 'quot', 'morning', 'quot', 'think', 'aww', 'wanna', 'go', 'beach', 'w', 'girls', 'pissed', 'asba', 'radio', 'station', 'wednesday', 'b', 'day', 'know', '2', 'know', 'life', 'flipped', 'upside', 'thought', 'head', 'ramen', 'sounds', 'good', 'pain', 'back', 'sides', 'hurt', 'mention', 'crying', 'made', 'fail', 'late', 'night', 'snack', 'glass', 'oj', 'b', 'quot', 'sickness', 'quot', 'back', 'sleep', 'ugh', 'hate', 'getting', 'sick', 'username', 'big', 'fan', 'camilla', 'belle', 'username', 'see', 'clip', 'must', 'stupido', 'work', 'filters', 'wait', 'get', 'puter', 'something', 'else', '2', 'blame', 'ex', '4', 'broke', 'week', 'seems', 'get', 'longer', 'longer', 'terms', 'much', 'need', 'much', 'actually', 'going', 'get', 'done', 'cold', 'username', 'ehhh', 'weather', 'gonna', 'turn', 'ugly', 'tomorrow', 'username', 'haha', 'cooooold', 'still', 'go', 'show', 'incredible', 'stuff', 'hoping', 'tummy', 'rumbles', 'go', 'away', 'soon', 'username', 'notice', 'told', 'working', 'tomorrow', 'called', 'agency', 'follow', 'said', 'almost', 'bedtime', 'missing', 'babe', 'long', 'alive', 'happy', 'yawwwnn', 'tired', 'love', 'imma', 'try', 'sleep', 'hopefully', 'headstart', 'agh', 'snow', 'miss', 'kenny', 'powers', 'username', 'thank', 'letting', 'people', 'know', 'sad', 'direct', 'message', 'got', 'actually', 'bridget', 'india', 'missed', '100th', 'test', 'victory', '10th', 'consecutive', 'win', 'without', 'loss', 'username', 'guess', 'sadly', 'going', 'bed', 'username', 'shame', 'hear', 'stephan', 'username', 'hey', 'leavin', 'morning', 'intending', 'finish', 'editing', '536', 'page', 'novel', 'manuscript', 'tonight', 'probably', 'happen', '12', 'pages', 'left', 'laid', 'around', 'much', 'today', 'head', 'hurts', 'username', 'still', 'read', '9th', 'amp', '10th', 'princess', 'diaries', 'saving', 'francesca', 'made', 'cry', 'hmm', 'easy', 'books', 'nokia', '1110', 'died', 'mom', 'might', 'breast', 'cancer', 'find', 'anything', 'like', 'week', 'worried', 'going', 'sleep', 'hoping', 'tomorrow', 'better', 'day', 'username', 'lol', 'wish', 'understood', 'daylight', 'savings', 'ended', 'though', 'breakfast', 'hour', 'later', 'keep', 'waking', 'kids', 'username', 'lame', 'understand', 'really', 'heroes', 'season', 'living', 'downtown', 'sure', 'much', 'fun', 'username', 'calorie', 'wise', 'wish', 'junk', 'food', 'calorie', 'free', 'ate', 'thing', 'sour', 'skittles', 'big', 'ass', 'cherry', 'coke', 'work', 'hard', 'getting', 'sick', 'time', 'hot', 'tea', 'studying', 'sleeeep', 'getting', 'eyebrows', 'waxed', 'pain', 'phantasy', 'star', 'yesterday', 'going', 'work', 'oh', 'got', 'macheist', '3', '0', 'apps', 'sweet', 'get', 'espresso', 'serial', 'though', 'although', 'said', 'sent', 'oh', 'well', 'picked', 'st', 'win', 'get', 'go', 'feeling', 'pretty', 'good', 'pick', 'way', 'tonight', 'lost', 'alone', 'downstairs', 'working', 'feel', 'bad', 'username', 'hates', 'anoop', 'mean', 'seriously', 'kinda', 'mean', 'username', 'yes', 'sprint', '4g', 'baltimore', 'chicago', 'far', 'stuck', 'awake', 'middle', 'night', 'second', 'day', 'row', 'felt', 'terrible', 'yesterday', 'thanks', 'bursting', 'bubble', 'going', 'school', 'soon', 'find', 'anything', 'wear', 'gosh', 'hard', 'username', 'serious', 'lol', 'username', 'page', 'sooooo', 'long', 'got', 'deleted', 'sad', 'day', 'history', 'crazy', 'wind', 'today', 'birding', 'currently', 'work', 'grrr', 'ipods', 'acting', 'weird', 'jai', 'thinking', 'playing', 'full', 'songs', 'ughh', 'username', 'send', 'dvd', 'cos', 'missed', 'heaps', 'happy', 'see', 'big', 'deal', 'website', 'username', 'sorry', 'go', 'therapyfail', 'username', 'far', 'way', 'rail', 'tips', 'still', 'swear', 'keep', 'losing', 'gaining', 'losing', 'gaining', 'tweeps', 'heart', 'wrenching', 'today', 'realized', 'good', 'hiding', 'things', 'even', 'find', 'staying', 'friends', 'house', 'house', 'sitting', 'neighbors', 'loud', 'party', 'username', 'danny', 'upset', 'wasnt', 'watch', 'live', 'chat', 'car', '3', 'hours', 'trip', 'soooo', 'upset', 'check', 'mug', 'borders', 'closed', '10', 'downloading', 'nin', 'new', 'album', 'quot', 'slip', 'quot', 'hell', 'behind', 'times', 'days', 'woke', 'already', 'written', 'mail', 'go', 'early', 'university', 'today', 'teach', '8', '30', 'watching', 'hill', 'making', 'sad', 'many', 'channels', 'yet', 'boring', 'lazy', 'day', 'may', 'find', 'hobby', 'username', 'miss', 'buddy', 'ny', '25th', 'username', 'love', 'french', 'tell', 'people', 'south', 'qtr', 'french', 'snarl', 'french', 'beautiful', 'people', 'opps', 'said', 'still', 'got', 'day', 'remain', 'problem', 'activated', 'selfcontrol', 'block', 'early', 'meaning', 'check', 'new', 'qc', 'regularizing', 'internal', 'clock', 'might', 'difficult', 'fb', 'username', 'oh', 'spencer', 'good', 'guy', 'username', 'reese', 'dying', 'ttsc', 'season', 'finale', 'next', 'week', '24', 'boring', 'madame', 'president', 'crazy', 'woman', 'username', 'hate', 'limited', 'letters', 'hope', 'guys', 'fine', 'pray', 'well', 'get', 'shit', 'done', 'today', 'screwed', 'wanttss', 'go', 'going', 'sleep', 'tonite', 'worried', 'tired', 'post', 'tonight', 'get', 'shit', 'done', 'today', 'screwed', 'username', 'ehh', 'day', 'haha', 'yess', 'making', 'maria', 'get', 'twitter', 'woooo', 'elliot', 'minor', '8', 'days', 'got', 'hoodie', 'today', 'tired', 'sick', 'good', 'quot', 'cheer', 'quot', 'thing', 'username', 'right', 'click', 'repost', 'username', 'yes', 'yes', 'username', 'yes', 'great', 'mind', 'escape', 'storming', 'day', 'love', 'coming', 'home', 'tomorrow', 'time', 'pack', 'username', 'figure', 'something', 'mco', '4am', 'thu', 'either', 'bug', '1am', 'house', 'see', 'wed', 'username', 'thanks', 'info', 'username', 'username', 'username', 'username', 'username', 'username', 'thank', 'owe', 'sanity', 'tonight', 'commtell09', 'patty', 'perkins', 'vp', 'desktop', 'video', 'manager', 'wachovia', 'next', 'understand', 'many', 'sharepoint', 'opps', 'happening', 'username', 'please', 'follow', 'dm', 'giveaway', 'username', 'oh', 'okay', 'well', 'know', 'first', 'band', 'mentioned', 'know', 'sound', 'like', 'username', 'probably', 'player', 'signing', 'maybe', 'rookies', 'see', 'office', 'planning', 'friends', 'go', 'mall', 'hope', 'lt', '3', 'username', 'relief', 'conflict', 'exhausts', 'username', 'sure', 'bighead', 'twitter', 'virginity', 'broken', 'job', 'interview', 'go', 'back', 'job', 'coffee', 'thanks', 'username', 'username', 'good', 'sometimes', 'shot', 'attention', 'span', 'could', 'good', 'tho', 'p', 'agree', 'letting', 'bright', 'light', 'flow', 'pie', 'self', 'new', 'tatoo', 'love', 'megggiiiee', 'guilty', 'pleasure', 'yikes', 'wish', 'could', 'afford', 'shiz', 'username', 'sweet', 'thanks', 'posting', 'letting', 'us', 'know', 'username', 'yess', 'good', 'choice', 'laptop', 'typing', 'replica', 'lol', 'realized', 'room', 'color', 'theme', 'green', 'definitely', 'growing', 'go', 'green', 'hahaha', 'still', 'love', 'purple', 'though', 'good', 'morning', 'chicago', 'love', 'city', 'username', 'ends', 'like', 'good', 'bad', 'collide', 'username', 'photographing', 'username', 'like', 'poison', 'ivy', 'best', 'username', 'could', 'born', 'emporer', 'penguin', 'minus', '200', 'carrying', 'kids', 'feet', 'food', 'water', 'quit', 'whining', 'username', 'username', 'right', 'yay', 'love', 'reading', 'blog', 'wish', 'knew', 'looked', 'like', 'could', 'say', 'hi', 'park', 'lol', 'srsly', 'heading', 'bed', 'goodnight', 'twitterverse', '10', '40', 'start', '12', '30', 'finish', 'tomorrow', 'yesssss', 'lt', '3', 'college', 'x', 'username', 'polite', 'version', 'heard', 'quot', 'look', 'much', 'better', 'bedroom', 'floor', 'quot', 'nice', 'would', 'hang', 'username', 'ur', 'queen', 'spindeezy', 'username', 'yet', 'feel', 'sorry', 'lol', 'seriously', 'tho', 'safe', 'travels', 'new', 'twitta', 'someone', 'help', 'username', 'sorryyy', 'gotta', 'go', 'mom', 'go', 'computer', 'talk', 'time', 'pretty', 'day', 'quot', 'smile', 'quot', 'good', 'morning', 'everyone', 'hope', 'time', 'outside', 'amp', 'soak', 'beautiful', 'morning', 'starting', 'work', 'woke', 'might', 'watch', 'chick', 'flick', 'later', 'lol', 'username', 'thanks', 'checking', 'username', 'mr', 'president', 'tweets', 'get', 'cut', 'cant', 'read', 'everything', 'send', 'email', 'thanks', 'love', 'username', 'revolta', 'follower', 'hj', 'username', 'job', 'actually', 'plenty', 'odd', 'jobs', 'get', 'far', 'screen', 'cleaning', 'intern', 'username', 'quite', 'welcome', 'happened', 'world', 'actually', 'chores', 'nobody', 'told', 'proud', 'lol', 'free', 'apple', 'products', 'iphone', '3g', 'macbook', 'pro', 'air', 'ipod', 'touch', 'nano', 'imac', 'click', 'sick', 'sick', 'sick', 'today', 'still', 'fingers', 'crossed', 'ebay', 'job', 'send', 'good', 'thoughts', 'getting', 'ready', 'go', 'go', 'mac', 'buy', 'brushes', 'loves', 'visitors', 'goin', 'aerosmith', 'concert', 'hit', 'nice', 'going', 'leave', '6am', 'hike', 'probably', 'point', 'pack', 'tomorrow', 'username', 'least', 'trees', 'spared', 'following', '69', 'people', 'many', 'people', 'following', 'taking', 'twit', 'break', 'lil', 'blown', 'boss', 'still', 'job', 'god', 'good', 'feel', 'today', 'little', 'imagery', 'everyone', 'lol', 'day', 'long', 'date', 'god', 'today', 'phones', 'allowed', 'world', 'rage', 'tomorrow', 'today', 'safe', 'username', 'apparently', 'hiding', 'suspect', 'username', 'probs', 'kazz', 'think', 'theres', 'new', 'going', 'celebrity', 'twitterer', 'summat', 'lol', 'dunno', 'voted', 'misha', 'anyways', 'username', 'thanks', 'alan', 'need', 'fundraising', 'support', 'get', 'documentary', 'plus', 'shirts', 'cool', 'username', 'perfectly', 'reasonable', 'time', 'day', 'username', 'hi', 'thanks', 'follow', 'going', 'tampa', 'saturday', 'watched', 'spongebob', 'going', '2', 'find', 'gr8', 'coffee', 'spot', 'even', 'feel', 'like', 'public', 'holiday', 'gonna', 'go', 'shower', 'turn', 'last', 'paper', 'deal', 'username', 'hahaha', 'cannot', 'luh', 'feel', 'bad', 'coz', 'got', 'work', 'talk', 'guess', 'thats', 'enough', 'hahaha', 'username', 'try', 'google', 'calendar', 'got', 'tasks', 'username', 'good', 'morning', 'lady', 'username', 'saw', 'amp', 'approved', 'bike', 'years', 'exceedingly', 'bike', 'unfriendly', 'changin', 'lucky', 'enough', 'different', 'everybody', 'else', 'dont', 'change', 'username', 'lmao', 'capture', 'flag', 'bless', 'lil', 'playing', 'hearts', 'bet', 'hott', 'heck', 'always', 'username', 'happy', 'birthday', 'sir', 'haz', 'big', 'piece', 'carrot', 'cake', 'home', 'username', 'hih', 'good', 'morning', 'austria', '17', '36', 'hihi', 'username', 'username', 'username', 'top', 'gear', 'returns', 'sunday', 'btw', 'username', 'thanks', 'considering', 'issuu', 'username', 'would', 'like', 'please', 'username', 'got', 'something', 'baseball', 'drives', 'license', 'moth', 'first', 'day', 'week', 'thought', 'sleep', '4', 'body', 'let', 'sleep', 'past', '8am', 'ugh', 'relaxin', 'workout', 'time', 'mama', 'afternoon', 'goal', 'run', '5k', 'summer', 'memory', 'greg', 'think', 'think', 'bring', 'summer', 'busy', 'day', 'work', 'happy', 'burkharts', 'houston', 'wait', 'see', 'beautiful', 'home', 'username', 'lol', 'break', 'head', 'denmark', 'username', 'well', 'still', 'tuesday', 'worries', 'made', 'twd', 'tuesday', 'times', 'tell', 'getting', 'ready', 'picnic', 'park', 'w', 'muh', 'partner', 'crime', 'bestie', 'oh', 'press', 'ctrl', 'ctrl', 'f', 'itunes', 'surprise', 'see', 'light', 'tunnel', 'bright', 'woo', 'fricken', 'hoo', 'going', 'south', 'streeeet', 'kate', 'hopefully', 'mom', 'gets', 'ring', 'wantt', 'username', 'actually', 'psn', 'id', 'gunsnspeedo', 'oh', 'welcome', 'username', 'appreciate', 'calories', 'missing', 'username', 'perfectly', 'normal', 'thinking', 'someday', 'technology', 'social', 'networks', 'hardwired', 'brains', 'username', 'thanks', 'much', 'acknowledgement', 'username', 'username', 'drinking', 'water', 'trick', 'totally', 'worked', 'guys', 'cry', 'username', 'fun', 'beach', 'universal', 'studios', 'yeeeeeeman', 'haveyouever', 'alone', 'night', 'thought', 'heard', 'footsteps', 'behind', 'fear', 'dark', 'iron', 'maiden', 'loved', 'usa', 'hockey', 'team', 'username', 'goal', 'stocks', 'like', 'mtxx', 'help', 'person', 'avoided', 'stock', 'post', 'would', 'make', 'keystrokes', 'worth', 'username', 'thinking', 'knock', 'water', 'satisfying', 'username', 'yeah', 'remotes', 'car', 'find', 'know', 'gonna', 'get', 'car', 'keys', 'dumbass', 'post', 'mans', '2009', 'pics', 'really', 'shoot', 'much', 'bit', 'like', 'silverstone', 'username', 'traitor', 'love', 'username', 'lol', 'wasnt', 'burns', 'lol', 'sumone', 'know', 'seen', 'goin', 'twitter', 'gonna', 'talk', 'sophie', 'talk', 'later', 'playing', 'big', 'surf', 'island', 'unlocked', '5', 'trophies', 'already', 'hah', 'username', 'morning', 'really', 'dont', 'get', 'jaylor', 'split', 'oh', 'well', 'lucas', 'suit', 'x', 'cluster', 'back', 'happy', 'excited', 'day', 'oh', 'god', 'cookie', 'dough', 'frijj', 'spaffed', 'pants', 'much', 'joy', '1', '05', 'username', 'good', 'luck', 'exciting', 'day', 'real', 'fun', 'begins', 'going', 'love', 'mommy', 'xo', 'got', 'yearbooks', 'school', 'gonna', 'try', 'get', 'everyone', 'sing', 'wish', 'luck', 'username', 'back', 'username', 'nice', 'new', 'holding', 'hello', 'good', 'morning', 'wanna', 'something', 'today', 'username', 'love', 'tattoo', 'mto', 'empire', 'sports', 'futebol', 'eh', 'pouco', 'dificil', 'pq', 'usa', 'mouse', 'eh', 'bem', 'divertido', 'online', 'username', 'haha', 'wonder', 'made', 'hmm', 'change', 'soon', 'largest', 'fastest', 'hotspot', 'located', 'atlanta', 'suck', 'people', 'outside', 'atl', 'jk', 'idea', 'use', 'switched', 'back', 'opera', 'using', 'skin', 'really', 'fast', 'amp', 'stable', 'work', 'loving', 'scrubbed', 'surgery', 'today', 'bloody', 'knackered', 'still', 'got', 'two', 'hours', 'go', 'still', 'last', 'shift', 'tomorrow', 'whole', 'week', 'username', 'haha', 'yeah', 'course', 'love', 'mcfly', 'lol', 'yeah', 'got', 'local', 'clinical', 'psychologist', 'job', 'wants', 'username', 'album', 'wow', '8', '40', 'pretty', 'early', 'wake', 'lol', 'dropping', 'molly', 'getting', 'ice', 'cream', 'aaron', 'meet', 'manda', 'spending', 'night', 'meredith', 'lauren', 'missed', 'dearly', 'username', 'woo', 'hoo', 'keep', 'working', 'hard', 'dear', 'username', 'yawns', 'injection', 'today', 'fun', 'rrst', 'school', 'day', 'good', 'tonight', 'going', 'dancing', 'yey', 'ahhh', 'yay', 'found', 'missing', 'sunglasses', 'cleaning', 'office', 'happy', 'lmao', 'username', 'cute', 'awesome', 'hahahahahahahahahahahahahaha', 'processing', 'another', 'credit', 'application', 'hours', 'bill', 'username', 'omg', 'loveeeee', 'frosted', 'flakes', 'bananas', 'top', 'know', 'anybody', 'else', 'knew', 'back', 'getting', 'new', 'jonas', 'brothers', 'cd', 'ipod', 'goes', 'username', 'good', 'thanks', 'eric', 'heard', 'anything', 'awhile', 'visited', 'recently', 'hope', 'feeling', 'better', 'username', 'praying', 'hang', 'trust', 'docs', 'know', 'best', 'even', 'act', 'nicely', 'omg', 'dad', 'surgery', 'today', 'please', 'keep', 'prayers', 'username', 'yeah', 'irritating', 'right', 'god', 'side', 'cant', 'fail', 'username', 'agreed', 'soulful', 'eyes', 'dsc', 'student', 'username', 'love', 'pics', 'username', 'star', 'bowl', 'loves', 'stars', 'filled', 'dark', 'chocolate', 'card', 'oh', 'yes', 'btw', '8', '00', 'username', 'someone', 'wanted', 'quot', 'cuzzy', 'quot', 'memorabilia', 'username', 'funny', 'doggie', 'another', 'piece', 'media', 'homework', 'get', 'milkshake', 'diet', 'starts', 'today', 'woop', 'woop', 'finding', 'omg', 'good', 'jerrys', 'cookie', 'dough', 'icecream', 'really', 'well', 'goood', 'lol', 'justwaitin', 'bbq', 'hope', 'stays', 'like', 'oooo', 'haha', 'waking', 'ready', 'eat', 'delicious', 'breakfast', 'prepared', 'go', 'afternoon', 'watch', 'movie', 'traveltuesday', 'username', 'tweets', 'hilarious', 'lol', 'great', 'travelers', 'ideaz', 'get', 'dad', 'father', 'day', 'socks', 'tho', 'god', 'works', 'mysteriously', 'learn', 'think', 'world', 'wonderfully', 'receive', 'amp', 'get', 'ask', 'username', 'mornin', 'enjoying', 'beautiful', 'morning', 'phoenix', 'bad', 'yet', 'woke', 'feeling', 'rested', 'refreshed', 'today', 'time', 'username', 'throw', 'tell', 'say', 'thanks', 'eye', 'contact', 'brixton', 'gig', 'managed', 'get', 'shot', 'username', 'lol', 'blame', 'safest', 'thing', 'world', 'username', 'yeah', 'sorry', 'repetitive', 'username', 'love', 'donut', 'toadstool', 'username', 'skip', 'aquarium', 'check', 'fish', 'lot', 'cheaper', 'lol', 'username', 'yeah', 'ass', 'today', 'username', 'sunoudy', 'username', 'newsflash', 'worked', 'username', 'hi', 'thanks', 'follow', 'nice', 'website', 'check', 'carriage', 'returns', 'though', 'bottom', 'website', 'amp', 'brand', 'identity', 'got', 'home', 'hour', 'ago', 'ate', 'lunch', 'watched', 'tv', 'listening', 'kelly', 'clarkson', 'exam', 'tomorrow', 'yay', '3', '4', 'go', 'checking', 'mail', 'done', 'examen', 'easy', 'peasy', 'proud', 'username', 'undisputed', 'authority', 'topic', 'goog', 'recognizes', 'thanks', 'username', 'amp', 'username', 'thanks', 'looking', 'username', 'thanks', 'martin', 'imaginative', 'interface', 'username', 'congrats', 'mike', 'way', 'go', 'omg', 'office', 'space', 'wanna', 'steal', 'username', 'ahaha', 'nooo', 'away', 'everyone', 'else', 'see', 'kara', 'yess', 'aree', 'see', 'saturday', 'username', 'hey', 'baack', 'thanks', 'much', 'kind', 'notes', 'gone', 'made', 'smile', 'times', 'needed', 'username', 'yeah', 'conscience', 'would', 'clear', 'case', 'username', 'thats', 'girl', 'dishing', 'quot', 'advice', 'quot', 'username', 'second', 'garden', 'username', 'jen', 'nemuselo', 'zrovna', 'holce', 'ael', 'co', 'nic', 'another', 'commenting', 'contest', 'yay', 'username', 'figured', 'see', 'tweets', 'facebook', 'status', 'updates', 'set', 'groups', 'seemed', 'like', 'pain', 'set', 'username', 'theri', 'tomorrow', 'drinking', 'coffee', 'talking', 'important', 'favourite', 'issue', 'know', 'mean', 'heard', 'first', 'girl', 'hope', 'looks', 'wendy', 'brains', 'kidding', 'babe', 'ur', 'lead', 'singer', 'band', 'beware', 'falling', 'prey', 'lsd', 'quot', 'lead', 'singer', 'disease', 'quot', 'music', 'haveyouever', 'username', 'much', 'ads', 'blog', 'username', 'neveer', 'think', 'get', 'well', 'username', 'good', 'job', 'right', 'gotta', 'throw', 'bigrun', 'tag', 'everywhere', 'wanna', 'get', 'trending', 'start', 'username', 'glad', 'ur', 'well', 'wooooo', 'xbox', 'back', 'username', 'username', 'mmmm', 'sounds', 'absolutely', 'perfect', 'schedule', 'full', 'time', 'lay', 'bed', 'sunday', 'ugh', 'recovering', 'long', 'weekend', 'username', 'username', 'yeah', 'work', 'better', 'waiting', 'wonder', 'time', 'keep', 'good', 'blog', 'woke', 'school', 'best', 'feeling', 'ever', 'thewdb', 'cool', 'hear', 'old', 'walt', 'interviews', 'ready', 'makeover', 'ask', 'details', 'happy', '38th', 'birthday', 'boo', 'alll', 'time', 'tupac', 'amaru', 'shakur', 'happy', 'charitytuesday', 'username', 'username', 'username']\n",
            "[\"@switchfoot http://twitpic.com/2y1zl - Awww, that's a bummer.  You shoulda got David Carr of Third Day to do it. ;D\", \"is upset that he can't update his Facebook by texting it... and might cry as a result  School today also. Blah!\", '@Kenichan I dived many times for the ball. Managed to save 50%  The rest go out of bounds', 'my whole body feels itchy and like its on fire ', \"@nationwideclass no, it's not behaving at all. i'm mad. why am i here? because I can't see you all over there. \", '@Kwesidei not the whole crew ', 'Need a hug ', \"@LOLTrish hey  long time no see! Yes.. Rains a bit ,only a bit  LOL , I'm fine thanks , how's you ?\", \"@Tatiana_K nope they didn't have it \", '@twittera que me muera ? ', \"spring break in plain city... it's snowing \", 'I just re-pierced my ears ', \"@caregiving I couldn't bear to watch it.  And I thought the UA loss was embarrassing . . . . .\", '@octolinz16 It it counts, idk why I did either. you never talk to me anymore ', \"@smarrison i would've been the first, but i didn't have a gun.    not really though, zac snyder's just a doucheclown.\", '@iamjazzyfizzle I wish I got to watch it with you!! I miss you and @iamlilnicki  how was the premiere?!', \"Hollis' death scene will hurt me severely to watch on film  wry is directors cut not out now?\", 'about to file taxes ', '@LettyA ahh ive always wanted to see rent  love the soundtrack!!', '@FakerPattyPattz Oh dear. Were you drinking out of the forgotten table drinks? ', \"@alydesigns i was out most of the day so didn't get much done \", \"one of my friend called me, and asked to meet with her at Mid Valley today...but i've no time *sigh* \", '@angry_barista I baked you a cake but I ated it ', 'this week is not going as i had hoped ', 'blagh class at 8 tomorrow ', 'I hate when I have to call and wake people up ', 'Just going to cry myself to sleep after watching Marley and Me.  ', 'im sad now  Miss.Lilly', \"ooooh.... LOL  that leslie.... and ok I won't do it again so leslie won't  get mad again \", 'Meh... Almost Lover is the exception... this track gets me depressed every time. ', 'some1 hacked my account on aim  now i have to make a new one', '@alielayus I want to go to promote GEAR AND GROOVE but unfornately no ride there  I may b going to the one in Anaheim in May though', 'thought sleeping in was an option tomorrow but realizing that it now is not. evaluations in the morning and work in the afternoon! ', '@julieebaby awe i love you too!!!! 1 am here  i miss you', '@HumpNinja I cry my asian eyes to sleep at night ', \"ok I'm sick and spent an hour sitting in the shower cause I was too sick to stand and held back the puke like a champ. BED now \", '@cocomix04 ill tell ya the story later  not a good day and ill be workin for like three more hours...', '@MissXu sorry! bed time came here (GMT+1)   http://is.gd/fNge', \"@fleurylis I don't either. Its depressing. I don't think I even want to know about the kids in suitcases. \", \"Bed. Class 8-12. Work 12-3. Gym 3-5 or 6. Then class 6-10. Another day that's gonna fly by. I miss my girlfriend \", \"really don't feel like getting up today... but got to study to for tomorrows practical exam... \", \"He's the reason for the teardrops on my guitar the only one who has enough of me to break my heart \", \"Sad, sad, sad. I don't know why but I hate this feeling  I wanna sleep and I still can't!\", '@JonathanRKnight Awww I soo wish I was there to see you finally comfortable! Im sad that I missed it ', \"Falling asleep. Just heard about that Tracy girl's body being found. How sad  My heart breaks for that family.\", \"@Viennah Yay! I'm happy for you with your job! But that also means less time for me and you... \", 'Just checked my user timeline on my blackberry, it looks like the twanking is still happening  Are ppl still having probs w/ BGs and UIDs?', \"Oh man...was ironing @jeancjumbe's fave top to wear to a meeting. Burnt it \", 'is strangely sad about LiLo and SamRo breaking up. ', \"@tea oh! i'm so sorry  i didn't think about that before retweeting.\", \"Broadband plan 'a massive broken promise' http://tinyurl.com/dcuc33 via www.diigo.com/~tautao Still waiting for broadband we are \", \"@localtweeps Wow, tons of replies from you, may have to unfollow so I can see my friends' tweets, you're scrolling the feed a lot. \", 'our duck and chicken are taking wayyy too long to hatch ', 'Put vacation photos online a few yrs ago. PC crashed, and now I forget the name of the site. ', 'I need a hug ', '@andywana Not sure what they are, only that they are PoS! As much as I want to, I dont think can trade away company assets sorry andy! ', '@oanhLove I hate when that happens... ', \"I have a sad feeling that Dallas is not going to show up  I gotta say though, you'd think more shows would use music from the game. mmm\", 'Ugh....92 degrees tomorrow ', 'Where did u move to?  I thought u were already in sd. ?? Hmmm. Random u found me. Glad to hear yer doing well.', \"@BatManYNG I miss my ps3, it's out of commission  Wutcha playing? Have you copped 'Blood On The Sand'?\", 'just leaving the parking lot of work! ', 'The Life is cool. But not for Me. ', \"Sadly though, I've never gotten to experience the post coitus cigarette before, and now I never will. \", 'I had such a nice day. Too bad the rain comes in tomorrow at 5am ', \"@Starrbby too bad I won't be around I lost my job and can't even pay my phone bill lmao aw shucks \", 'Damm back to school tomorrow ', \"Mo jobs, no money.  how in the hell is min wage here 4 f'n clams an hour?\", '@katortiz  Not forever... See you soon!', '@Lt_Algonquin agreed, I saw the failwhale allllll day today. ', \"@jdarter Oh! Haha... dude I dont really look at em unless someone says HEY I ADDED YOU. Sorry  I'm so terrible at that. I need a pop up!\", \"@ninjen I'm sure you're right...    I need to start working out with you and the Nikster... Or Jared at least!\", 'i really hate how people diss my bands!  Trace is clearly NOT ugly!', 'Gym attire today was: Puma singlet, Adidas shorts.......and black business socks and leather shoes  Lucky did not run into any cute girls.', \"Why won't you show my location?!   http://twitpic.com/2y2es\", 'No picnic  my phone smells like citrus.', \"@ashleyac My donkey is sensitive about such comments. Nevertheless, he'd (and me'd) be glad to see your mug asap. Charger is still awol. \", 'No new csi tonight.  FML', 'i think my arms are sore from tennis ', 'wonders why someone that u like so much can make you so unhappy in a split seccond . depressed . ', 'sleep soon... i just hate saying bye and see you tomorrow for the night. ', '@statravelAU just got ur newsletter, those fares really are unbelievable, shame I already booked and paid for mine ', \"missin' the boo \", '@markhardy1974 Me too  #itm', \"Damn... I don't have any chalk! MY CHALKBOARD IS USELESS \", \"had a blast at the Getty Villa, but hates that she's had a sore throat all day. It's just getting worse too \", '@msdrama hey missed ya at the meeting  sup mama', \"My tummy hurts.  I wonder if the hypnosis has anything to do with it? If so, it's working, I get it, STOP SMOKING!!!\", 'why is it always the fat ones?! ', \"@januarycrimson Sorry, babe!!  My fam annoys me too. Thankfully, they're asleep right now. Muahaha. *evil laugh*\", '@Hollywoodheat I should have paid more attention when we covered photoshop in my webpage design class in undergrad ', \"wednesday my b-day! don't know what 2 do!! \", 'Poor cameron (the hills) ', 'pray for me please, the ex is threatening to start sh** at my/our babies 1st Birthday party. what a jerk. and I still have a headache ', '@makeherfamous hmm  , do u really enjoy being with him ? if the problems are too constants u should think things more , find someone ulike', 'Strider is a sick little puppy  http://apps.facebook.com/dogbook/profile/view/5248435', \"so rylee,grace...wana go steve's party or not?? SADLY SINCE ITS EASTER I WNT B ABLE 2 DO MUCH  BUT OHH WELL.....\", \"hey, I actually won one of my bracket pools! Too bad it wasn't the one for money \", \"@stark YOU don't follow me, either  and i work for you!\", 'A bad nite for the favorite teams: Astros and Spartans lose.  The nite out with T.W. was good.', ' Body Of Missing Northern Calif. Girl Found: Police have found the remains of a missing Northern California girl .. http://tr.im/imji', '@mangaaa I hope they will increase the capacity fast, yesterday was such a pain. Got the fail whale +15 times in 2 hours.... ', 'Behind on my classes for work ', 'watching &quot;House&quot; ', '@kpreyes Remember my bum leg? Strikes back this time its serious ', '@paradisej cool, i will. their are all kinds of complaints about this laptop online about overheating, but no recalls ', 'Emily will be glad when Mommy is done training at her new job. She misses her.  http://apps.facebook.com/dogbook/profile/view/6176014', 'would rather the first party send bad messages than the 3rd party send mixed ones  Sophmore year all over again?', \"@Henkuyinepu it's overrated \", '@marykatherine_q i know! I heard it this afternoon and wondered the same thing. Moscow is so behind the times ', 'laying in bed with no voice.. ', \"I'm sooo sad!!! they killed off Kutner on House  whyyyyyyyy\", '@jacobsummers Sorry  tell them mea culpa from me and that I really am sorry.', \"@Alliana07 it didn't make any sense to me, the suicide thing. I refuse to believe that that is actually what happened. \", '@salancaster  hope your ok.', \"@mercedesashley Damn! The grind is inspirational and saddening at the same time.  Don't want you to stop cuz I like what u do! Much love\", '@HibaNick yeah aw but i know i wudnt stand a chance ', 'ugh. cant sleep. its 1:30am. ', \"Hanging in Crooners. Wanna sing. Can't. Sucks. \", '@eRRe_sC aaw i miss ya all too.. im leaving to BH tomorrow &quot;morning&quot; i think.. aww i wanna go to the beach w u girls!! ', \"Is pissed off that there's no ASBA's for a radio station. \", \"wednesday my b-day n don't know what 2 do!  \", 'I know my life has been flipped upside down when I just thought in my head that some Ramen sounds good. ', 'I am in pain. My back and sides hurt. Not to mention crying is made of fail. ', \"Late night snack, glass of OJ b/c I'm &quot;down with the sickness&quot;, then back to sleep...ugh I hate getting sick... \", \"@allyheman but.. but.. but.. I'm not a big fan on camilla belle \", \"@grum WAH I can't see clip, must be el-stupido work filters. Can't wait 'till I get a 'puter. Something else 2 blame ex 4. He broke mine \", \"This week just seems to get longer and longer in terms of how much I need to do.. and how much I'm actually going to get done \", \"I'm so cold \", \"@thecoolestout Ehhh don't. Weather's gonna take a turn for the ugly tomorrow \", '@chelserlynn haha its so cooooold in the d! and no  but you should still go to the show. they do some incredible stuff', 'Hoping the tummy rumbles go away soon ', \"@Knights_ No, no notice. They told me I'd be working tomorrow, and then I called the agency to follow up and they said it was over. \", 'almost bedtime ', \"I'm missing you babe..  but as long as your alive I'm happy.. Yawwwnn.. I'm tired my love imma try to sleep hopefully you had a headstart\", 'Agh...snow!!! ', 'i miss kenny powers ', \"@BridgetsBeaches Thank you for letting people know, but now I'm sad that the direct message I got wasn't actually from Bridget \", '...and, India missed out its 100th Test victory n 10th consecutive win without a loss. ', \"@JonathanRKnight I guess that's a no then. \", 'sadly is going to bed. ', '@ozesteph1992 Shame to hear this Stephan ', \"@mrsaintnick hey! i'm leavin in the morning... \", 'Was intending to finish editing my 536-page novel manuscript tonight, but that will probably not happen. And only 12 pages are left ', 'laid around too much today... now my head hurts ', \"@twista202 I still haven't read the 9th&amp;10th Princess diaries  Saving Francesca made me cry at the end. Hmm those are easy books.\", 'my nokia 1110 died..  ', \"My mom might have breast cancer won't find out anything for. Like a week I'm so worried! \", 'Going to sleep. Hoping tomorrow is a better day. ', '@rumblepurr lol.. wish they understood daylight savings has ended though and breakfast is an hour later  They keep waking the kids up too', '@onemoreproject that is lame ', \"I don't understand... I really don't \", \"HEROES just isn't doing it for me this season... \", \"Living not downtown sure isn't much fun.  \", '@jonathanchard Not calorie wise   I wish junk food was calorie free! I ate a thing of sour skittles and a big ass cherry coke!', 'Man Work is Hard ', 'getting sick  time for some hot tea, studying, and then sleeeep', 'Getting eyebrows waxed. More pain ', 'No phantasy star yesterday  going to work...', \"Oh - Just got all my MacHeist 3.0 apps - sweet. Didn't get the Espresso serial no though although they said they sent it - oh well \", \"Picked Mich St to win it all from the get go.  Was feeling pretty good about that pick all the way up until......tonight.  A's lost too \", 'is alone downstairs...working ', 'I feel bad for doing it ', \"@RyanSeacrest is it just me, or she hates anoop. i mean seriously, she's kinda mean to him. \", '@pinkserendipity yes sprint has 4g only in baltimore and chicago so far ', \"I'm stuck awake in the middle of the night for the second day in a row. And I felt terrible yesterday. \", 'Thanks for bursting my bubble ', \"Going to school soon... can't find anything to wear!! gosh it's so hard \", '@marieclr I was serious  LOL', '@naughtyhaughty I had on my page for sooooo long!!! Until it got deleted  Sad day in history', 'Crazy wind today = no birding  http://ff.im/1XTTi', 'currently at work.. ', \"Grrr.. my ipods acting weird too! Jai ho and thinking of you aren't playing the full songs.. ughh. \", '@penndbad send me the DVD cos I have missed out on heaps  NOT happy about that!', \"i don't see the big deal with this website \", \"@machineplay I'm so sorry you're having to go through this. Again.  #therapyfail\", '@ColinDeMar Far too out of the way for rail.  any other tips?', \"I'm not still up I swear. Why do I keep losing. gaining. losing. gaining. tweeps?  So heart wrenching.\", \"Today I realized I am too good at hiding things, even I can't find it \", 'Staying at a friends house...house sitting, neighbors are SO loud-having a party ', '@dannyvegasbaby danny im upset that i wasnt here to watch the live chat  i was in a car. for 3 hours on a trip im soooo upset!!', 'Check out my mug  http://www.erika-obscura.blogspot.com', 'Borders closed at 10 ', \"Downloading NIN's new album &quot;the slip&quot; - when the hell did this come out? I'm so behind the times these days \", \"Just woke up an already have written some e-mail... I've to go early at University today as I have to teach at 8:30 AM! \", 'is watching the hill . . .and its making me sad ', 'So many channels.... yet so so boring... lazy day again  may have to find a hobby', '@supersport I miss my buddy  ill be in NY on the 25th', \"@robluketic  love the french. I tell people here in the south i'm qtr. french and they snarl at me.  french are beautiful people\", 'Opps.. As I said.. I still got one day remain and now problem come ', \"I activated my Selfcontrol block early, meaning I can't check out the new QC.  Regularizing my internal clock is might be difficult. #fb\", '@HillyDoP  oH NO', 'spencer is not a good guy. ', '@goodlaura What about Reese dying on #TTSC? And season finale next week.  #24 boring, Madame President is a crazy woman.', '@JonathanRKnight I hate the limited letters,too.Hope you and the guys are fine?I pray for my dog,sheï¿½s not well ', \"didn't get shit done today ~ i'm so screwed \", 'wanttss to go out ', 'Is not going to sleep tonite. ', 'too worried and tired to post tonight ', \"couldn't get shit done today ~ i'm so screwed \"]\n",
            "[\"@cherub_rock123 ehh....it's a day. \", 'Haha yess making maria get a twitter ', \"woooo elliot minor in 8 days!!! and i got my EM hoodie today!!! i'm tired and sick so it was a good....&quot;cheer myself up  &quot; thing \", '@SanctumInc right-click, Repost. ', '@mrschicken why yes, yes I am ', '@maximumswearing yes  But a great mind escape!', 'It has been storming all day . . . I love it  . Coming home tomorrow . Time to pack', \"@logangator We'll figure something out.  I just have to be to MCO by 4am Thu.   So, either I bug you at 1am at your house, or see you Wed.\", '@asimkovsky thanks for the info ', '@gschan @malditamd @daydreamerping @ragdollgonewild @tarayqueen @manilenya Thank you  I owe you my sanity tonight.', '#commtell09 Patty Perkins, VP Desktop Video Manager of Wachovia is up next- I understand many #SharePoint opps are  happening there ', 'to be with you ', '@GreenBaby_UK please follow so i can DM for the giveaway! ', \"@v2black oh okay, well I did know the first band you mentioned by name, but other than that  don't know what they sound like \", '@BenABaker Probably a player signing.  Maybe one of the rookies.  I can see it from my office ', 'I am planning with friends to go to the mall! Hope we can do it. &lt;3 ', \"@lilkup it's a relief. Conflict exhausts me \", '@YouLuvMe sure............. bighead ', 'twitter virginity broken ', 'job interview...here we go. ', 'Back on the job with some coffee thanks to @chimolschimols ', \"@Piewacket1 good   sometimes a shot attention span could be good tho ;P  don't you agree   letting bright light flow over pie and self\", 'new tatoo  love you megggiiiee', 'guilty pleasure - yikes  i wish i could afford this shiz http://tinyurl.com/kqztg5', '@hillsmarket Sweet.  Thanks for posting that.  And for letting us know ', '@tonyhawk Yess! Good choice of laptop there, typing on a replica myself ', 'lol. i just realized my room has a color theme. green is definitely growing in on me. go green! hahaha. i still love purple though! ', 'Good morning Chicago, I love this city! ', '@dfinchalicious  It ends up like that when good and bad collide ', '@ost8doc no, I am photographing them!! ', '@NickkkJonasss I like Poison Ivy the best ', '@David_Wylie  You could have been born as an Emporer Penguin. Minus 200, carrying your kids on your feet. no food, water...Quit whining ', '@extrabaggs on @KNBR right now!! Yay!! I LOVE reading his blog  I wish I knew what he looked like so I could say hi to him at the park lol', \"Srsly now, I'm heading to my bed now. Goodnight Twitterverse! \", '10.40 start and 12.30 finish tomorrow! yesssss. &lt;3 college  x', \"@alexandervelky that's polite version - i only heard &quot;look much better on my bedroom floor&quot; how nice that you would hang it up for her \", '@spindeezy for now on ur Queen Spindeezy ', \"@DrWestGRACE yet, why can't I feel sorry for you?  LOL.  Seriously tho, safe travels \", 'new to the twitta, someone help. ', \"@Sky_1995 sorryyy. i gotta go now, my mom want to go to this computer. i'll talk to u some other time \", 'What a pretty day  &quot;Just smile&quot;', 'Good morning everyone! I hope you take some time to be outside &amp; soak in the beautiful morning before starting work. ', 'just woke up, might watch a chick flick later. lol ', '@minglebar thanks for checking on it ', '@mkvlln Mr president, your tweets get cut off, i cant read everything. send it in an email? thanks love. ', '@CatyFairy revolta follower hj? ', \"@borededup no job actually.  but there have been plenty of odd jobs to get me by so far. i'll be your screen cleaning intern. \", \"@Common_Pigeon You're quite welcome. \", \"What has happened to the world...I'm actually doing chores and nobody told me to do them!!!  so proud! Lol\", 'want FREE Apple products? iPhone 3G S macbook pro air iPod touch nano imac? click here! http://apple.freebiejeebies.co.uk/45615 ', 'sick, sick, sick today, but still fingers crossed for eBay job! Send good thoughts ', 'Getting ready to go out   I have to go to mac to buy brushes', 'loves visitors so if you are goin to the Aerosmith concert you should hit me up!! ', 'Nice out, but If I am going to leave here at 6am for a hike, I probably should at some point, pack for tomorrow! ', '@WillaRyan At least trees are being spared. ', \"i'm following 69 people. ;D how many people are YOU following? \", 'taking a twit break...a lil blown about my boss...but i still have a job!  God is good', 'http://twitpic.com/7joyo - this is how i feel today  Just a little imagery for everyone! lol', 'has a day long date with God today, no phones allowed.  the world can rage tomorrow; but today, i am safe.', '@ritasummerstar that too.  Apparently, they are out there - but in hiding I suspect  ', '@kazzc22 no probs kazz hun,i think theres a new one going on now celebrity twitterer or summat? lol dunno?i just voted misha anyways ', '@AlanHChin Thanks Alan! I need all the fundraising support I can get for my documentary - plus the shirts are cool too ', \"@NLPride08 that's a perfectly reasonable time of day for me \", '@6FuzzyFeet  hi ! thanks for the follow ', 'Going to tampa saturday ', \"I've watched spongebob now I'm going 2 find a gr8 coffee spot! This didn't even feel like a public holiday \", \"I'm gonna go take a shower and turn in the last paper i have to deal with \", \"@heich_dee Hahaha. Cannot luh. I'll feel bad coz he's got to work. So we talk when we can. Guess thats enough  hahaha\", \"@obatron Try your Google Calendar. It's got tasks now. \", '@carahsollins Good Morning Lady ', \"@ddribin Saw that &amp; approved, re: bike. After years of being exceedingly bike UNfriendly, we are a' changin'! \", \"If you're lucky enough to be different from everybody else, dont change \", \"@FoSho174 LMAO @ capture the flag..bless their lil playing hearts  and i bet it is hott as heck..ain't it always\", '@cineMATTic happy birthday, sir ', 'I haz a big piece of carrot cake to take home! ', '@ashleytisdale hih good morning  in austria its 17:36 hihi', '@BrunoFigueiredo @ppinheiro76 @pedrocs Top Gear returns on Sunday btw ', '@netscribe Thanks for considering Issuu ', '@Bruno108 I would like some please! ', '@aplusk ya got something against Baseball?? ', 'No more drives. =D license in a moth ', \"First day off in over a week... Thought i'd sleep in 4 once, but NO! my body wouldn't let me sleep past 8am  ugh!\", 'Relaxin till workout time with Mama this afternoon. Goal- to run a 5k by end of summer in memory of Greg. I think I can, I think I can. ', 'http://twitpic.com/7joyw - bring on summer ', \"busy day at work!  So happy the Burkharts are in Houston!  I can't wait to see their beautiful home! \", \"@LadyVanir LOL no you didn't break it. \", 'Then  we head out again Denmark here we come ', \"@kbgerth Well it's still Tuesday so no worries   I've made my TWD on Tuesday more times than I can tell you!\", 'Getting ready to have a picnic in the park w/ muh partner in crime and bestie! Oh! Press ctrl+t and then ctrl+f on itunes for a surprise! ', \"I see the light at the end of the tunnel!  It's so bright   Woo fricken hoo!\", 'going to south streeeet with kate, hopefully my mom gets me the ring i wantt! ', '@Jihav actually my other PSN ID is GUNSnSPEEDO O_o and oh, your welcome ', \"@PaulMiller Do that! I appreciate the calories I'll be missing \", '@SouthMainMuse Perfectly normal.  Thinking someday technology and social networks will all be hardwired to our brains.', '@BizReviewer thanks so much for that acknowledgement...what is your name? ', \"@ahamachi @eggirock drinking water trick totally worked guys... Didn't cry once \", '@unworthysaint Are you having fun? ', 'Beach then universal studios! Yeeeeeeman! ', \"#haveyouever been alone at night, thought you heard footsteps behind and no one's there?? Fear of the Dark by Iron Maiden \", 'Loved the USA hockey team ', '@cris1015 My goal on stocks like $MTXX is to help, if just one person avoided this stock on my post, would make the keystrokes worth it.  ', \"@wolfpack40 That's what I'm thinking! Knock her out of the water... very satisfying...  \", \"@Jchawes yeah what about remotes for your car ? I couldn't find mine and didn't know how I was gonna get in my car.with your keys dumbass \", \"Post your Le Mans 2009 pics: .. I didn't really shoot much, it's a bit like Silverstone isn't it?  But here ar.. http://tinyurl.com/nju67t\", '@say_my_name TRAITOR!!!! love you ', '@SarahG8s lol i wasnt on about the burns lol i was on about sumone  i know just seen. goin off twitter now gonna talk to sophie,talk later', \"been playing big surf island and i've unlocked 5 trophies already hah \", '@gabespears morning ', 'I really dont get why Jaylor split . Oh well her and Lucas Till suit !  x', \"my cluster is back and I'm a happy man \", 'is excited for the day ', 'Oh my god. Cookie dough frijj. I just spaffed in my pants  so much joy for Â£1.05.', \"@ShannonGilliam good luck!!  what an exciting day   this is when the REAL fun begins, you're going to love being a mommy   xo\", 'got our yearbooks in school  gonna try and get everyone to sing them... wish me luck', '@PJA4ever Back.. ', '@drummeroy nice new name  how you holding up?', 'Hello good morning!  i wanna do something today.', '@30STMWithJared love your tattoo! ', 'MTO bom esse empire of sports...o futebol eh um pouco dificil pq usa o mouse mas eh bem divertido e online ', '@planetchuckie haha! i wonder why i made her my pic... hmm.. will change it soon ', 'Largest/fastest hotspot in U.S.A. is located in Atlanta. Suck it people outside the ATL  JK...no idea how to use it! http://bit.ly/eDjz7', \"I just switched back to Opera (using the moi skin). It's really fast &amp; stable to work with - I'm loving it  http://www.opera.com/download/\", 'scrubbed into surgery today ', 'Bloody knackered! And still got two hours to go. Still, last shift tomorrow then a whole week off ', '@McflyEngland haha yeah  but of course i love McFly more  lol', '**** yeah!! I got the local Clinical Psychologist job!! ', 'wants the @Jonasbrothers album ', 'Wow 8:40 am is pretty early for me to wake up. Lol. ', 'dropping molly off getting ice cream with Aaron I want him to meet Manda  spending the night with Meredith and Lauren I missed them dearly', '@mom2jwo Woo hoo!!!! Keep working hard my dear!! ', '@AndrewDearling *yawns* ', 'Had an injection today. Not fun  the rrst of the school day has been good. Tonight i am going dancing yey ', 'ahhh yay! found my missing sunglasses while cleaning my office!! so happy. ', 'Lmao @seizuresalad that was cute and awesome  hahahahahahahahahahahahahaha!!!!!!!!!!!!!!!!!!!!!!!!!!!!!!!!!! â\\x99« http://blip.fm/~8bmo7', 'Processing another credit application!  More hours to bill! ', \"@ohsosweettreats Omg, I loveeeee frosted flakes with bananas on top. I didn't know anybody else knew about that... \", 'Is back from getting the new jonas brothers cd!!!  on to my iPod it goes!!', \"@siahoney I am good thanks!    How is #Eric, I haven't heard anything in awhile, have u visited him recently?  I hope he is feeling better\", \"@varin I'm praying for you!!!  Hang in there, and trust your docs.  They know what's best, even if they don't act nicely. \", 'OMG!!!!!!!!!! My dad will be having surgery today  Please keep him in your prayers ', \"@MsKCJones Yeah it's very irritating, right? But with God on your side, you cant fail. \", '@gone2dmb agreed!  Soulful eyes.  ', 'is now a dsc student.  http://twitpic.com/7jp4d', '@cate45_1999 I love all the pics!! ', \"@ShanButterfly a star bowl (she loves stars) filled with dark chocolate. there's also a card. \", 'oh yes, and btw, 8.00 ', '@chriscuzzy someone wanted a &quot;Cuzzy&quot; memorabilia ', \"@CharlotteSpeaks So, wasn't that funny re. the doggie?.... \", 'doing another piece of media homework is that all i get now :/ milkshake diet starts today woop woop ', 'finding out what this is. ', 'OMG how good is ben and jerrys cookie dough icecream...come one really well goood lol, justwaitin to have a BBQ hope its stays like this ', 'oooo haha just waking up and ready to eat a delicious breakfast and prepared to go in the afternoon to watch a movie ', \"#Traveltuesday @GuyNGirlTravels Because their tweets are hilarious LOL and they're great travelers \", \"any ideaZ on what to get dad for father's day ? No socks tho \", 'God works mysteriously!i learn that if u think of the world wonderfully you will receive more &amp; get what u ask for ', \"@_CrC_ mornin.. I'm enjoying a beautiful morning here in Phoenix. not too bad out yet \", \"Woke up feeling rested and refreshed today! It's about time \", '@naijagal You just HAD to throw that in. Tell her that I say thanks for the eye contact at her Brixton gig. managed to get a shot! ', \"@siovene lol I don't blame you it's not the safest thing in the world \", \"@ashinynewcoin yeah, that'd be the one  sorry to be repetitive!\", '@pokapolas love the donut and the toadstool.  ', '@crgrs359 Skip the aquarium and check out these fish   A lot cheaper lol http://bit.ly/2lQbBv', \"@GroleauNET Yeah I'm being an ass today \", \"@OHTristaN it's sunoudy \", '@kbonded Newsflash: It worked ', \"@stum450n Hi. Thanks for the follow. Nice website... check your carriage returns though, the bottom of 'Website &amp; brand identity' is out \", 'got home an hour ago ate lunch watched some tv and now i listening to kelly clarkson no exam tomorrow yay!!!!!!!  3 down 4 to go', 'checking my mail ', 'done la examen! easy peasy  so proud of myself!!', \"@davepell you're the undisputed authority on the topic.  goog recognizes!  \", 'Thanks @eastwestchic &amp; @wangyip Thanks! That was just what I was looking for ', \"@marttn thanks Martin. not the most imaginative interface, but it'll do for now \", '@MikeJonesPhoto Congrats Mike  Way to go!', 'http://twitpic.com/7jp4n - OMG! Office Space... I wanna steal it. ', \"@yrclndstnlvr ahaha nooo you were just away from everyone else! i had to see Kara, she'd die. and yess we aree, ill see you saturday \", \"@BizCoachDeb  Hey, I'm baack! And, thanks so much for all those kind notes while I was gone. They made me smile at times when I needed it!\", '@mattycus Yeah, my conscience would be clear in that case. ', '@MayorDorisWolfe Thats my girl - dishing out the &quot;advice&quot; ', '@shebbs123 i second that ', 'In the garden ', '@myheartandmind jo jen by nemuselo zrovna tÃ© holce ael co nic ', 'Another Commenting Contest! [;: Yay!!!  http://tinyurl.com/m6j2an', '@thrillmesoon i figured out how to see my tweets and facebook status updates, and i was set  the groups seemed like a pain to set up...', '@oxhot theri tomorrow, drinking coffee, talking about our most important and favourite issue! YOU know what I mean ', \"You heard it here first -- We're having a girl. Hope it has my looks and Wendy's brains. (Kidding, babe). \", 'if ur the lead singer in a band, beware falling prey to LSD &quot;Lead Singer Disease&quot; http://tinyurl.com/n65xjt  #music #haveyouever?', '@tarayqueen too much ads on my blog. ', '@La_r_a NEVEER  I think that you both will get on well with each other...', \"@Roy_Everitt ha- good job. that's right - we gotta throw that #bigrun tag EVERYWHERE! I wanna get it trending before I start \", '@Ms_Hip_Hop im glad ur doing well ', 'WOOOOO! Xbox is back ', \"@rmedina @LaTati Mmmm  That sounds absolutely perfect... but my schedule is full. I won't have time to lay in bed until Sunday. Ugh!!\", 'ReCoVeRiNg FrOm ThE lOnG wEeKeNd ', '@SCOOBY_GRITBOYS ', '@Cliff_Forster Yeah, that does work better than just waiting for it  In the end I just wonder if I have time to keep up a good blog.', 'Just woke up. Having no school is the best feeling ever ', 'TheWDB.com - Very cool to hear old Walt interviews!  â\\x99« http://blip.fm/~8bmta', 'Are you ready for your MoJo Makeover? Ask me for details ', 'Happy 38th Birthday to my boo of alll time!!! Tupac Amaru Shakur ', 'happy #charitytuesday @theNSPCC @SparksCharity @SpeakingUpH4H ']\n",
            "['Job Interview in Cardiff today, wish me luck! Got about 3 hours sleep ', \"@stustone Your show is whack. Way worse than whack, it's wiggety-whack.    :*(:*(:*(\", \"@DjAlizay I really don't think people choose to be that way. But I think he chose not to accept my family's help   He might be dead by now\", \"@eloquentembrace You're going to kill me, but I've not seen DS9. I've been waiting till I can do it in one solid week sitting. \", '@cheechbud i think ur right!! hahaha!! 4.5 hrs now!! ', 'i hate to see the spartans so sad ', 'My mind and body are severely protesting this &quot;getting up&quot;  thing. Had nightmares to boot ', \"@MySteezRadio I'm goin' to follow u, since u didn't  LOL  GO ANGELS!\", '@mandayyy ', \"@twista202 I think I want to read some books but the library doesn't have them \", \"My nap was interrupted so many times today  Going out for Japanese with the 'rents again...\", 'Kind of longs for the bus that shows up at the end of Ghost World right now. Ugh. ', \"@GuruMN but this is canada  canada is weird. we're supposed to get snow through wednesday. ugh.\", \"Awwh babs... you look so sad underneith that shop entrance of &quot;Yesterday's Musik&quot;  O-: I like the look of the new transformer movie \", \"sad that the 'feet' of my macbook just fell off \", \"I'm gonna get up late tomorrow and it's 132am here. I gonna get tipsy by my lonesome. That's...that's just sad \", \"I'm sweating my forthcoming trip to E3.  If I can't find someone to crash with while I'm out there, I may be screwed.  \", 'Has now gotten somebody to read his tweets, but cant get them to make an account. ', '@infinitydefines  omgawd i couldnt handle my cat being in heat all the time D: D:', '@DonnieWahlberg I hope i can make it to the auburn show. but its not looking good for me ', '@David_Henrie *thats people mag haha i couldnt fit it all in.. i dont think those pictures ever made it in the magazine tho!  haha', '@breadandbadger Congrats!!  i totally forgot to submit photos ', \"@PaulaAbdul awww, Good luck Paula!! Please don't work too hard  but I hope you have fun  Your new album is gonna be amazing!  xxx\", '@imaginarypeach now your leaving me  .... -gets sad-', \"I miss you twitter. My phone broke, now I'm using a stupid Nokia phone. Ughhh, I miss my advance phone. \", 'SHOOTING OUTSIDE MY HOUSE :O NOT KIDDING! So SCARED ', 'Tuesdayï¿½ll start with reflection ï¿½n then a lecture in Stress reducing techniques. That sure might become very useful for us accompaniers ', 'What tragedy and disaster in the news this week ', 'yes yes still trying to find a picture that will upload correclty.. ', 'Why oh why was the Red Sox game rained out? I was so looking forward to opening day ', \"I still can't find my keys. \", '@charlietm I know right. I dunno what is going on with twitter. ', 'might be getting a sore throat again ', '@labelsnotlove   my home town. My mammy called all depressd.  Pls explain y a parent let their 8yr old child walk alone? Hello? Its 2009!', '@ircmaxell - I think I need to find better anti-depressants.  I think this Paxil/Wellbutrin combo is losing its efficacy.  ', '@MyConnecticut Restaurant called WoodNTap has competitive eating tourney round tourney time. We place 2nd ', 'is in the bathroom... wake up lakin. ', '@CaitlinOConnor i want tacos and margarhitas  telll gay i say hello&lt;3', 'im lonely  keep me company! 22 female, california', 'bad day at the betfair office ', \"I miss him.  Can't wait to celebrate the Tar Heel win this weekend though!!\", \"I'm really cold. I don't want to go to sleep yet but there's nothing to do \", \"@kristencampisi is this it 4 u? Its ' officially over ' 4 me this go round! \", \"monkeys??? i just found out you my twin and you wont even write back.  i'm heartbroken\", '@miss_om Aww  I know I felt like that yesterday at work ', \"@SarahReedSC treaty isn't defined \", 'missed Brent at praise band.   No fun to not have the your lead guitarist.  &lt;pout&gt;', '@jpfurry poor john  this is what happens when you play with fruit and a microwave! Seriously though HAVE you seen a doctor?? Xxx', 'Missing My BFF  watching home and away it reminds me of her and me  we &lt;3 It. shout out to u courts', '@mandayyy   ', 'New video card is DOA. ', 'feeling lost, naked and confused (JK, sort of).....no iphone for me. ', 'Damn i am so late at filling this appraisal form, people have almost sent it .. i was so occupied in work ', 'missed Brent at praise band.  No fun to not have your lead guitarist. &lt;pout&gt;', 'i think to much on the past. i cant change it. i deserved so much more then wat i got. ..but why am i still thinking about him  gah', \"has lost his ring. It's no-where to be seen \", '@burgaw Ooooooh! *sealclap* See, I download shitloads of zip folders off 4chan. I have no internet moneys.  FUCK YEAH ALICIA &amp; MIKEY.', 'Is still nursing my Nile but glad he is feeling better. I hate when my baby is sick ', 'Is fucked to go back to IC ', \"@Brandizzzle08 yoyoyo. my internet has been rude tonight. it JUST reconnected and I'm about to go to bed. \", \"@jemcam well i have uni stuff and netball  but after netbal if i've done uni stuff we can\", '@kissability Me too I is poor ', 'help me forget 8th april &amp; 13th july! ', \"dierks bentley is comin' to columbus, OH!! i wanna go so bad \", 'i have to take my sidekick back. ', \"@chriscantore congrats! I'm totally jealous! only wish my XM was working \", 'gr8t my face is very itchy ', 'poor socks  luvvvvv the golden retriever!! I want one sighhhh', 'I just saw that they found that Tracy girl in a piece of luggage... How fucking terrible ', 'Aaaaand the nausea is back. ', '@DonnieWahlberg ooh Iï¿½m excited and not even going 2 be there  long love YOUTUBE!', 'spent 1 hour to reach to Axis bank only to find out today is holiday for Mahavir Jayanti  contd..', '@mathewsmichael  i agree... the jobros dont update theres very often ', '@fishmouse it is hilarious and I linked the clip from LJ some time ago but when I went back just now it was a dead link ', '@DiannePulham OOOOOOOO who with? (im not neither but thats because i need to study  )', \"Haven't tweeted nearly all day  Posted my website tonight, hopefully that goes well  Night time!\", '@bostongarden I miss bentley ', 'seriously needs to finish these job applications ', 'My son Vincas is sick, so I stay at home  Just three tense days at work, and I am back on holiday with kids', \"Whinging. My client&amp;boss don't understand English well. Rewrote some text unreadable. It's written by v. good writer&amp;reviewed correctly. \", \"@huntermoore I don't want him to ever punch me.  \", 'sooo sick of the snow  ughh', '@ITS_NEMESIS ------- ', \"@LoveMeagan it doesn't work your fan is upset \", 'I would like to apologize for the repeated Video Games Live related tweets. I am going to have a stern discussion with Koodo soon. Stern. ', '@zaydia but i cant figure out how to get there / back / pay for a hotel etc ', 'FML: So much for seniority, bc of technological ineptness, I now have to &quot;register&quot; for classes AGAIN ', 'feels like she slept the day away.    Not looking forward to any more bouts with my gallbladder.  At least I have pills now for the pain.', '@ThaStevieG but what I really want is my old bass back ', 'Mad tired today... Callin it in early tonight  nighty night twittas', '@LevenRambin: Take it easy, and be good to you. ', \"I'm afraid I had bad code. \", \"Think I'm going to bed. Goodniight. I hate this \", \"@riancurtis  i'm here, friend, and i love you.\", \"@kariajay  All this time you didn't notice I was gone...just needed DB2 is it??\", '@aaronrva is in the bathroom and i have to pee!    ', '@ashleyskyy but I wanted a margarita too! ', '@KourtneyKardash yup night workouts r the worst but unfortunetly my work schedule only allows me to go at night  its tough!', \"Just called Hillsong again - they said they couldn't tell me where I was on the waiting list - I don't know if it's looking so good \", 'has 0g of milky bar left, and around 200ml of coke ', \"@jokerrrr It stillllll hasn't arrived \", 'Mraow, I feel like dancing, but first art school wants to rape me some more. ', \"@karenucol ah! I bet it does I've been like craving to play softball or basketball !!! But I have noo time \", 'Is terrified she accidentally deleted a reference in her management assignment and hopes she doesnt get in trouble when she gets back ', 'amazon s3 plugin not worked in my website . it need PHP 5 . but my hosting provider has only PHP 4.4  . very sad.', \"Argh! I was suuuper sleepy an hour ago, now I'm wide awake.  Hope I don't stay up all night. :-/\", '@austinhill I wish I was!  Sold out   If you have some time let me know, I would love to hear more about what you are up to!', 'Just watched tropic thunder. Dreading tomorrow ', \"@qweendassah no...he's still miss'n... \", 'ChiefDelphi is down ', 'http://twitpic.com/2y2wr - according to my bro, our new puppy had a poo fight and was covered in poop  (picture stolen from him)', \"playing game at home! my new boss didn't call me yet... \", 'Su yin Huen tweeted I feel unbearable guilt. I made my staff cry  http://tinyurl.com/cw2l9t', 'Poor Joshy is sick???   those damn tejanos!', \"My thoughts are with Sandra Cantu's family at this difficult and sad time \", '@FranzGlaus I know, just wanted to let everybody know what was happening  ', \"Michigan who?  I don't know them.                   *sigh*   Shameful!\", 'i have to fill two hours ', '@alicayaba so cuuute! hey, i miss you na!  its not the same not seeing you girls everyday ', '@JonathanRKnight Oh! Did I mention it? &quot;Gooooood Moooorniiiiiiing&quot;  from Germany! Im back in my cage....or better...my office ', 'throat is closing up and i had some string cheese. not a good idea ', 'Aww, Sandra Cantu is found dead in a suitcase  Missing children stories never seem to go good. Poor family.', 'wishing i was home underneath my covers ', 'walking home from school drains all my energy ', \"@ridley1013 I agree. The shapeshifting is a copout. I was so excited for Angela's ep, I thought it was this week.  Noah was awesome tho!\", '@SaveTheStrib Dang! I would have done this if I knew it was there earlier.  Any other outings planned?', \"I wish I was better at writing. It's taking me so long to write this paper. \", '..and of course... I have access to my Halo 3 Mythic Map Pack re-download.. but bad news.. not the Legendary Map Pack... ugh.. 600MS... ', \"@vene2ia ...not yet unfortunately, another few weeks I've been told  How are you? I've been a little bit busy with my latest project.\", \"@thecoolestout Ha the sun's already gone \", \"day 2. a lot harder than day 1. let's see how day 3 goes tomorrow. \", 'My man crush Jake Peavy let me down  #gayforpeavy', '@trishzw megafast trip, you have time during day tom/weds? Or, you going out tonight? Want to see you bad. Tried to warn you, tech fail ', 'michigan state you make me sad ', 'omg. my mouth is in so much pain  i just wanna sleep untill its time to take my braces off.', 'getting annoyed easily today  &gt;&gt;&gt; biofuel proposal: getting annoyed easily today  &gt;&gt;&gt; biof.. http://tinyurl.com/ceprvs', '@MizzChievouz Hey girl. The site is back.  Girlyvue is back and they have even more videos. ', \"@a5hleyf i'm spending time with my grandma early tomorrow and i can't leave skittles by herself. \", 'just got home from watching Michigan State get tromped!   ', \"Oh jew-bus! Two years worth of classes' work is ALOT to organize &gt;_&lt; i'm not finishing tonight, it's not possible...my bones ache \", \"@griffmiester no exchanging for me, my laptop hasn't arrived \", \"@hyperbets i hope this doesn't last too long.  i feel miserable!\", '@rcompo RACHEL! hang outage is neccessary - i was gonna be home this wekend but dumb folk make me work   so im free F and Sat until 4...', '@TheLeagueSF Not Fun &amp; Furious? The new mantra for the Bay 2 Breakers? It was getting 2 rambunctious;the city overreacted &amp; clamped down ', \"@amber_benson  my hubby (for some reason) thinks it's more important he has a good spot for red carpet for the Trek Movie Premiere. Sod!\", \"I swear no matter how long I've been getting up at 5am, it never gets any easier. Man my eyes hurts wah \", '@Jeffree_Star Jeffree! How do you keep your hair one color? My PERMANENT dye fades within the week ', \"@otakusecret my reaction too  whoa, didn't see that coming\", \"still sick. feeling a bit better, got some new medicine.... hope I feel good after a night of sleep. ohh, and it's suppose to snow! WTF! \", '@Dangerm0use I think maybe you should get a couple more hours of sleep, hon. How productive can you be right now if ur dog tired? I worry ', \"@maddyVA Thanks a lot. Learned a lot of new words but didn't find what I was looking for. \", \"Wish I had all the XBLM downloads all on the gamertag 'Hitokyri'. This 5 gamertag thing is nonsense... and I'm tired of it \", 'New Testament Test at 9:30 am   ', '@ScoutBuck tons no hay Troll? ahhhh ', 'stupid movies we watched... mirrors ugggggh... stooopeeed!!! rip off! ', 'http://twitpic.com/2y2yi - I love you, Buck. ', 'last one!!! but still not done!!! ', 'homework.... ', \"I don't understand why things get taken away. I didn't have enough time with him its unfair. I want him back!! He was like my baby \", \"Scratch that: du in heif (two in a half) cookies. My tum just can't take anymore shoog. Poots \", '@cococourtney i was just listening to the sweets for the first time in forever! i miss them so much  can we go to chi town for visits plz?', 'Geez what a busy afternoon. Meetings, emails, meetings and email and more meetings. 6pm and the day is still going! Ah its dark and ', 'DANG!!! ANOTHER SPRING BREAK!!!  HOW COOL IS THAT???  TOO BAD I HAVE TO WORK ALL WEEK  OH WELL, MORE MONEY FOR A PHONE.  ttyl EVERBODY!!!', '@Sara_Kate Im afraid too  ( ur reply about uni from ages ago', 'feeling down ', '@CarVin1 lol they are some emotional ass men!! Omg all this late night eating.. Both of us are broke ', '@nick_carter Aww Nick!! I like your hair longer, why did you cut it off?  Break. My. Heart.', ' wonder if Jon lost the net', \"Wow. The most depressing thing in the world is losing a video that you've created in a matter of seconds.  #FML\", '@nchokkan https://www.mycomicshop.com/search?TID=395031 But all says not in stock ', '@Poohpot lmao im sorry poohpot i ate it all! ', \"Any chance  Softbelly (for @MTUB) isn't loud? \", 'Time to move my posterior  and lose some fat. My articulation are creaking so no more running  but Iï¿½m drool for some swimming', 'listening to nathan cry.... ', \"today sucked. I'm gonna die without chris and callum!  wahhh!\", 'STOU site not update, no info about 2/2552 exam, and open course, I must wait for mail notices and doc. um... ', \"@ohsbrat30...I'm sorry. I'm feeling kinda yucky myself. 5am is going to come too quick \", 'is in love with scrappy and is missin him already ', \"wants to hear @seblefebvre 's song but myspace is messing with me \", 'Bad news was Dad has cancer and is dying   Good news new business started and  I am now a life coach practising holistic weight management', '@duchess_rebecca Man... intervention is soo sad ', \"HELP! I need a new boyfriend... I'm stuck in a rut \", \"I feel like a complete idiot. I'm the only one who doesn't get how this shit works  help me \", 'Saw an ad on Craigslist for a casting call for a female host on G4. I was totally psyched! But realized it was a hoax ', \"Pepperoni rolls in L.A.?: I called Valentino's - they said that they had sausage rolls but no pepperoni rolls  http://tinyurl.com/cec5ka\", \"@soillodge yes, it will be. it's only Monday \", 'i want the new GG episode already ', \"I miss watching Rocko's Modern Life. \", 'RIP Sandra....its so sad    how can someone do something like that??', 'Keeping my fingers crossed for my buddy    He is not feeling well.', \"Wait should I eat?? Or be skinny for vegas!! I'm hungry! \", \"@Marge_Inovera I tried tweetdeck once and I hated it with a passion. Or it hated me, I'm not sure... \", \"@benackerman BTW my iPhone is acting funny, dying quickly and freezing and BS.  I'm not admitting anything, just sayin \", 'Sitting here wondering why &quot;ED&quot; still has such a strong hold on me ', '@bananaface IM SORRY I GOT YOU SICK.  lol. going to bed too. NIGHT!', '@carolrainbow no Internet at home, have to drive into Ox to use Internet because of builders! ', '@Steve_Buscemi the weather in Canada is freezing ', \"twiggassssssss I been out of range all day  I'm back now and hopefully for good.\", '@danadearmond ', \"anyone who reads this pray for my Grandma. She's in pain \"]\n"
          ],
          "name": "stdout"
        }
      ]
    },
    {
      "cell_type": "code",
      "metadata": {
        "colab": {
          "base_uri": "https://localhost:8080/"
        },
        "id": "Ul5z7tzubR12",
        "outputId": "60c577af-984a-499a-a684-e899e1bc50d3"
      },
      "source": [
        "#Creation du vocab\n",
        "\n",
        "Vocab = {'__PAD__': 0, '__</e>__': 1, '__UNK__': 2} \n",
        "\n",
        "for word in word_list: \n",
        "  if word not in Vocab: \n",
        "     Vocab[word] = len(Vocab)\n",
        "    \n",
        "print(\"Total words in vocab are\",len(Vocab))  #1493\n",
        "# display(Vocab)"
      ],
      "execution_count": 250,
      "outputs": [
        {
          "output_type": "stream",
          "text": [
            "Total words in vocab are 1493\n"
          ],
          "name": "stdout"
        }
      ]
    },
    {
      "cell_type": "markdown",
      "metadata": {
        "id": "Mq_F_wF08jvT"
      },
      "source": [
        "# converting into tensor"
      ]
    },
    {
      "cell_type": "code",
      "metadata": {
        "id": "qF_OGjBt8mfp"
      },
      "source": [
        "def toTensor(sentence, vocabulary = Vocab , unknowToken = '__UNK__'):\n",
        "  '''\n",
        "  Input: \n",
        "    sentence - String qui contien la phrase\n",
        "    vocabulary - le dictionnaire vocab\n",
        "    unknowToken - si le mot n'est pad connu, on met le label '__UNK__'\n",
        "  Output:\n",
        "    tensor - la liste avec des chiffres consernant les mots a analyser    \n",
        "  '''  \n",
        "  tokenizer = nltk.RegexpTokenizer(r'\\w+')\n",
        "  tensor = []\n",
        "  # on tokenize la phrase\n",
        "    \n",
        "  tokened = tokenizer.tokenize(sentence)\n",
        "\n",
        "  # get __UNK__ index \n",
        "  unk_ID = vocabulary.get(unknowToken, -1)  # = 2\n",
        "\n",
        "  for word in tokened:\n",
        "    word_ID = vocabulary.get(word, unk_ID)\n",
        "\n",
        "    tensor.append(word_ID) \n",
        "  return tensor\n"
      ],
      "execution_count": 28,
      "outputs": []
    },
    {
      "cell_type": "code",
      "metadata": {
        "colab": {
          "base_uri": "https://localhost:8080/"
        },
        "id": "tYLHADjY-KaV",
        "outputId": "8832c43c-4b11-4c89-e526-b1704322ff94"
      },
      "source": [
        "\n",
        "print(f\"sentence: {dictionnaire[0]} \")\n",
        "print(f\"sentence into tensor: {toTensor(dictionnaire[0])} \")"
      ],
      "execution_count": 29,
      "outputs": [
        {
          "output_type": "stream",
          "text": [
            "sentence: username awww that s a bummer you shoulda got david carr of third day to do it d \n",
            "sentence into tensor: [3, 4, 2, 2, 2, 5, 2, 6, 7, 8, 9, 2, 10, 11, 2, 2, 2, 2] \n"
          ],
          "name": "stdout"
        }
      ]
    },
    {
      "cell_type": "markdown",
      "metadata": {
        "id": "0D2Z1vij5RsT"
      },
      "source": [
        "# Data generator\n"
      ]
    },
    {
      "cell_type": "code",
      "metadata": {
        "id": "VjXLLPHUtv4d"
      },
      "source": [
        "def data_generator(data_pos, data_neg, batch_size, loop, vocab_dict, shuffle=False):\n",
        "    '''\n",
        "    Input: \n",
        "        data_pos - Set of positive examples\n",
        "        data_neg - Set of negative examples\n",
        "        batch_size - number of samples per batch. Must be even\n",
        "        loop - True or False\n",
        "        vocab_dict - The words dictionary\n",
        "        shuffle - Shuffle the data order\n",
        "    Yield:\n",
        "        inputs - Subset of positive and negative examples\n",
        "        targets - The corresponding labels for the subset\n",
        "        example_weights - An array specifying the importance of each example\n",
        "        \n",
        "    '''     \n",
        "### START GIVEN CODE ###\n",
        "    # make sure the batch size is an even number\n",
        "    # to allow an equal number of positive and negative samples\n",
        "    assert batch_size % 2 == 0\n",
        "    \n",
        "    # Number of positive examples in each batch is half of the batch size\n",
        "    # same with number of negative examples in each batch\n",
        "    n_to_take = batch_size // 2\n",
        "    \n",
        "    # Use pos_index to walk through the data_pos array\n",
        "    # same with neg_index and data_neg\n",
        "    pos_index = 0\n",
        "    neg_index = 0\n",
        "    \n",
        "    len_data_pos = len(data_pos)\n",
        "    len_data_neg = len(data_neg)\n",
        "    \n",
        "    # Get and array with the data indexes\n",
        "    pos_index_lines = list(range(len_data_pos))\n",
        "    neg_index_lines = list(range(len_data_neg))\n",
        "    \n",
        "        \n",
        "    stop = False\n",
        "    \n",
        "    # Loop indefinitely\n",
        "    while not stop:  \n",
        "        \n",
        "        # create a batch with positive and negative examples\n",
        "        batch = []\n",
        "        \n",
        "        # First part: Pack n_to_take positive examples\n",
        "        \n",
        "        # Start from pos_index and increment i up to n_to_take\n",
        "        for i in range(n_to_take):\n",
        "                    \n",
        "            # If the positive index goes past the positive dataset lenght,\n",
        "            if pos_index >= len_data_pos: \n",
        "                \n",
        "                # If loop is set to False, break once we reach the end of the dataset\n",
        "                if not loop:\n",
        "                    stop = True;\n",
        "                    break;\n",
        "                \n",
        "                # If user wants to keep re-using the data, reset the index\n",
        "                pos_index = 0\n",
        "                \n",
        "                if shuffle:\n",
        "                    # Shuffle the index of the positive sample\n",
        "                    rnd.shuffle(pos_index_lines)\n",
        "                    \n",
        "            # get the tweet as pos_index\n",
        "            tweet = data_pos[pos_index_lines[pos_index]]\n",
        "            \n",
        "            # convert the tweet into tensors of integers representing the processed words\n",
        "            \n",
        "            tensor = toTensor(tweet, vocab_dict)\n",
        "            \n",
        "            # append the tensor to the batch list\n",
        "            batch.append(tensor)\n",
        "            \n",
        "            # Increment pos_index by one\n",
        "            pos_index = pos_index + 1\n",
        "\n",
        "### END GIVEN CODE ###\n",
        "            \n",
        "### START CODE HERE (Replace instances of 'None' with your code) ###\n",
        "\n",
        "        # Second part: Pack n_to_take negative examples\n",
        "    \n",
        "        # Using the same batch list, start from neg_index and increment i up to n_to_take\n",
        "        for i in range(n_to_take):\n",
        "            \n",
        "            # If the negative index goes past the negative dataset length,\n",
        "            if neg_index >= len_data_neg:\n",
        "                \n",
        "                # If loop is set to False, break once we reach the end of the dataset\n",
        "                if not loop:\n",
        "                    stop = True;\n",
        "                    break;\n",
        "                    \n",
        "                # If user wants to keep re-using the data, reset the index\n",
        "                neg_index = 0\n",
        "                \n",
        "               \n",
        "            # get the tweet as neg_index\n",
        "            tweet = data_neg[neg_index_lines[neg_index]]\n",
        "            \n",
        "            # convert the tweet into tensors of integers representing the processed words\n",
        "            tensor = toTensor(tweet, vocab_dict)\n",
        "            \n",
        "            # append the tensor to the batch list\n",
        "            batch.append(tensor)\n",
        "            \n",
        "            # Increment neg_index by one\n",
        "            neg_index += 1\n",
        "\n",
        "### END CODE HERE ###        \n",
        "\n",
        "### START GIVEN CODE ###\n",
        "        if stop:\n",
        "            break;\n",
        "\n",
        "        # Update the start index for positive data \n",
        "        # so that it's n_to_take positions after the current pos_index\n",
        "        pos_index += n_to_take\n",
        "        \n",
        "        # Update the start index for negative data \n",
        "        # so that it's n_to_take positions after the current neg_index\n",
        "        neg_index += n_to_take\n",
        "        \n",
        "        # Get the max tweet length (the length of the longest tweet) \n",
        "        # (you will pad all shorter tweets to have this length)\n",
        "        max_len = max([len(t) for t in batch]) \n",
        "        \n",
        "        \n",
        "        # Initialize the input_l, which will \n",
        "        # store the padded versions of the tensors\n",
        "        tensor_pad_l = []\n",
        "        # Pad shorter tweets with zeros\n",
        "        for tensor in batch:\n",
        "### END GIVEN CODE ###\n",
        "\n",
        "### START CODE HERE (Replace instances of 'None' with your code) ###\n",
        "            # Get the number of positions to pad for this tensor so that it will be max_len long\n",
        "            n_pad = max_len - len(tensor)\n",
        "            \n",
        "            # Generate a list of zeros, with length n_pad\n",
        "            pad_l = [0] * n_pad\n",
        "            \n",
        "            # concatenate the tensor and the list of padded zeros\n",
        "            tensor_pad = tensor + pad_l\n",
        "            \n",
        "            # append the padded tensor to the list of padded tensors\n",
        "            tensor_pad_l.append(tensor_pad)\n",
        "\n",
        "        # convert the list of padded tensors to a numpy array\n",
        "        # and store this as the model inputs\n",
        "        inputs = np.array(tensor_pad_l)\n",
        "  \n",
        "        # Generate the list of targets for the positive examples (a list of ones)\n",
        "        # The length is the number of positive examples in the batch\n",
        "        target_pos = [1] * n_to_take\n",
        "        \n",
        "        # Generate the list of targets for the negative examples (a list of zeros)\n",
        "        # The length is the number of negative examples in the batch\n",
        "        target_neg = [0] * n_to_take\n",
        "        \n",
        "        # Concatenate the positve and negative targets\n",
        "        target_l = target_pos + target_neg\n",
        "        \n",
        "        # Convert the target list into a numpy array\n",
        "        targets = np.array(target_l)\n",
        "\n",
        "        # Example weights: Treat all examples equally importantly.It should return an np.array. Hint: Use np.ones_like()\n",
        "        example_weights = np.ones_like(targets)\n",
        "        \n",
        "\n",
        "### END CODE HERE ###\n",
        "\n",
        "### GIVEN CODE ###\n",
        "        # note we use yield and not return\n",
        "        yield inputs, targets, example_weights"
      ],
      "execution_count": 30,
      "outputs": []
    },
    {
      "cell_type": "code",
      "metadata": {
        "id": "djfevc1O7oCH"
      },
      "source": [
        "def index_generator(index_pos, index_neg):\r\n",
        "  yield index_pos, index_neg"
      ],
      "execution_count": 189,
      "outputs": []
    },
    {
      "cell_type": "code",
      "metadata": {
        "id": "v5KQk1jzrjfv"
      },
      "source": [
        "for k in range(len(index_pos)):\r\n",
        "  index_pos[k] = str(index_pos[k])\r\n",
        "for k in range(len(index_pos)):\r\n",
        "  index_neg[k] = str(index_neg[k])"
      ],
      "execution_count": 194,
      "outputs": []
    },
    {
      "cell_type": "code",
      "metadata": {
        "colab": {
          "base_uri": "https://localhost:8080/"
        },
        "id": "0IuNQVW8Gwmt",
        "outputId": "492aee1b-7e41-44e4-85d8-96652195c13b"
      },
      "source": [
        "\n",
        "# Test the data_generator\n",
        "batch_size=4\n",
        "shuffle = False\n",
        "# Create a data generator for training data,\n",
        "# which produces batches of size 4 (for tensors and their respective targets)\n",
        "tmp_data_gen = data_generator(data_pos, data_neg, batch_size, True, Vocab, shuffle)\n",
        "\n",
        "# Call the data generator to get one batch and its targets\n",
        "tmp_inputs, tmp_targets, tmp_example_weights = next(tmp_data_gen)\n",
        "\n",
        "print(f\"The inputs shape is {tmp_inputs.shape}\")\n",
        "print(f\"The targets shape is {tmp_targets.shape}\")\n",
        "print(f\"The example weights shape is {tmp_example_weights.shape}\")\n",
        "\n",
        "for i,t in enumerate(tmp_inputs):\n",
        "    print(f\"input tensor: {t}; target {tmp_targets[i]}; example weights {tmp_example_weights[i]}\")"
      ],
      "execution_count": 195,
      "outputs": [
        {
          "output_type": "stream",
          "text": [
            "The inputs shape is (4, 22)\n",
            "The targets shape is (4,)\n",
            "The example weights shape is (4,)\n",
            "input tensor: [  2 870   2   2   2  11   0   0   0   0   0   0   0   0   0   0   0   0\n",
            "   0   0   0   0]; target 1; example weights 1\n",
            "input tensor: [  2 871 825 872 109   2 873   0   0   0   0   0   0   0   0   0   0   0\n",
            "   0   0   0   0]; target 1; example weights 1\n",
            "input tensor: [2 2 2 2 2 2 2 2 2 5 2 6 7 2 2 2 2 2 2 2 2 2]; target 0; example weights 1\n",
            "input tensor: [ 2 12  2  2  2  2 13  2  2  2 15  2  2 16 17  2  2 18  2 20  2  2]; target 0; example weights 1\n"
          ],
          "name": "stdout"
        }
      ]
    },
    {
      "cell_type": "markdown",
      "metadata": {
        "id": "xSNz6XPPwjZl"
      },
      "source": [
        "#Build Model"
      ]
    },
    {
      "cell_type": "code",
      "metadata": {
        "id": "EdnJIW-F5k-p"
      },
      "source": [
        "def SER(vocab_size=len(Vocab), embedding_dim=256, output_dim=2, mode='train'):\n",
        "\n",
        "    '''\n",
        "      Input: \n",
        "        vocab_size - integer containing the size of the vocabulary\n",
        "        d_model - integer describing the embedding size\n",
        "      Output:\n",
        "        model - a trax serial model\n",
        "    '''\n",
        "     ### START CODE HERE (Replace instances of 'None' with your code) ###\n",
        "    # create embedding layer\n",
        "    embed_layer = tl.Embedding(\n",
        "        vocab_size=vocab_size, # Size of the vocabulary\n",
        "        d_feature=embedding_dim)  # Embedding dimension\n",
        "    \n",
        "    # Create a mean layer, to create an \"average\" word embedding\n",
        "    mean_layer = tl.Mean(axis = 1)\n",
        "    \n",
        "    # Create a dense layer, one unit for each output\n",
        "    dense_output_layer = tl.Dense(n_units = output_dim)\n",
        "\n",
        "    \n",
        "    # Create the log softmax layer (no parameters needed)\n",
        "    log_softmax_layer = tl.LogSoftmax()\n",
        "    \n",
        "    # Use tl.Serial to combine all layers\n",
        "    # and create the classifier\n",
        "    # of type trax.layers.combinators.Serial\n",
        "    model = tl.Serial(\n",
        "      embed_layer, # embedding layer\n",
        "      mean_layer, # mean layer\n",
        "      dense_output_layer, # dense output layer \n",
        "      log_softmax_layer # log softmax layer\n",
        "    )\n",
        "### END CODE HERE ### \n",
        "    return model"
      ],
      "execution_count": 196,
      "outputs": []
    },
    {
      "cell_type": "code",
      "metadata": {
        "colab": {
          "base_uri": "https://localhost:8080/"
        },
        "id": "qFGkFpMpwsp9",
        "outputId": "43808aab-f8db-40cb-c902-a7f37f846f57"
      },
      "source": [
        "# initializing your model\n",
        "model = SER()\n",
        "# display your model\n",
        "print(model)"
      ],
      "execution_count": 197,
      "outputs": [
        {
          "output_type": "stream",
          "text": [
            "Serial[\n",
            "  Embedding_1493_256\n",
            "  Mean\n",
            "  Dense_2\n",
            "  LogSoftmax\n",
            "]\n"
          ],
          "name": "stdout"
        }
      ]
    },
    {
      "cell_type": "markdown",
      "metadata": {
        "id": "Irr1k-yPw1Lt"
      },
      "source": [
        "##Train your model "
      ]
    },
    {
      "cell_type": "code",
      "metadata": {
        "id": "uo3dNX6Yw0sE"
      },
      "source": [
        "from trax.supervised import training\n",
        "\n",
        "random.seed(33)\n",
        "\n",
        "batch_size = 64\n",
        "batch_size=4\n",
        "shuffle = False\n",
        "\n",
        "# Create training data, mask pad id=35180 for training.\n",
        "train_generator = trax.supervised.inputs.add_loss_weights(\n",
        "    data_generator(data_pos, data_neg, batch_size, True, Vocab, shuffle),\n",
        "    id_to_mask=Vocab['__PAD__'])\n",
        "\n",
        "\n",
        "# Create validation data, mask pad id=35180 for training.\n",
        "eval_generator = trax.supervised.inputs.add_loss_weights(\n",
        "    data_generator(val_pos, val_neg, batch_size, True, Vocab, shuffle),\n",
        "    id_to_mask=Vocab['__PAD__'])\n",
        "\n"
      ],
      "execution_count": 260,
      "outputs": []
    },
    {
      "cell_type": "code",
      "metadata": {
        "id": "DZdMM8xKxcvk"
      },
      "source": [
        "def train_model(SER, train_generator, eval_generator, train_steps=1, output_dir='model'):\n",
        "    '''\n",
        "    Input: \n",
        "        NER - the model you are building\n",
        "        train_generator - The data generator for training examples\n",
        "        eval_generator - The data generator for validation examples,\n",
        "        train_steps - number of training steps\n",
        "        output_dir - folder to save your model\n",
        "    Output:\n",
        "        training_loop - a trax supervised training Loop\n",
        "    '''\n",
        "    ### START CODE HERE (Replace instances of 'None' with your code) ###\n",
        "    train_task = training.TrainTask(\n",
        "      train_generator, # A train data generator\n",
        "      loss_layer = tl.CrossEntropyLoss(), # A cross-entropy loss function\n",
        "      optimizer =  trax.optimizers.Adam(0.01),  # The adam optimizer\n",
        "    )\n",
        "\n",
        "    eval_task = training.EvalTask(\n",
        "      labeled_data = eval_generator, # A labeled data generator\n",
        "      metrics = [tl.CrossEntropyLoss(), tl.Accuracy()], # Evaluate with cross-entropy loss and accuracy\n",
        "      n_eval_batches = 10 # Number of batches to use on each evaluation\n",
        "    )\n",
        "\n",
        "    training_loop = training.Loop(\n",
        "        SER, # A model to train\n",
        "        train_task, # A train task\n",
        "        eval_task = eval_task, # The evaluation task\n",
        "        output_dir = output_dir) # The output directory\n",
        "\n",
        "    # Train with train_steps\n",
        "    training_loop.run(n_steps = train_steps)\n",
        "    ### END CODE HERE ###\n",
        "    return training_loop"
      ],
      "execution_count": 261,
      "outputs": []
    },
    {
      "cell_type": "code",
      "metadata": {
        "colab": {
          "base_uri": "https://localhost:8080/"
        },
        "id": "_9mE_sD4xeu0",
        "outputId": "4e9668d7-300e-420b-b785-c6c1cf16c4f3"
      },
      "source": [
        "train_steps = 100        \n",
        "!rm -f 'model/model.pkl.gz'  # Remove old model.pkl if it exists\n",
        "model = SER()\n",
        "\n",
        "# Train the model\n",
        "training_loop = train_model(model, train_generator, eval_generator, 1000)"
      ],
      "execution_count": 262,
      "outputs": [
        {
          "output_type": "stream",
          "text": [
            "Step      1: train CrossEntropyLoss |  0.38607445\n",
            "Step      1: eval  CrossEntropyLoss |  0.52961197\n",
            "Step      1: eval          Accuracy |  0.65000000\n",
            "Step    100: train CrossEntropyLoss |  0.01190062\n",
            "Step    100: eval  CrossEntropyLoss |  0.00000002\n",
            "Step    100: eval          Accuracy |  1.00000000\n",
            "Step    200: train CrossEntropyLoss |  0.00000046\n",
            "Step    200: eval  CrossEntropyLoss |  0.00000000\n",
            "Step    200: eval          Accuracy |  1.00000000\n",
            "Step    300: train CrossEntropyLoss |  0.00000048\n",
            "Step    300: eval  CrossEntropyLoss |  0.00000000\n",
            "Step    300: eval          Accuracy |  1.00000000\n",
            "Step    400: train CrossEntropyLoss |  0.00000049\n",
            "Step    400: eval  CrossEntropyLoss |  0.00000000\n",
            "Step    400: eval          Accuracy |  1.00000000\n",
            "Step    500: train CrossEntropyLoss |  0.00000049\n",
            "Step    500: eval  CrossEntropyLoss |  0.00000000\n",
            "Step    500: eval          Accuracy |  1.00000000\n",
            "Step    600: train CrossEntropyLoss |  0.00000050\n",
            "Step    600: eval  CrossEntropyLoss |  0.00000005\n",
            "Step    600: eval          Accuracy |  1.00000000\n",
            "Step    700: train CrossEntropyLoss |  0.00000051\n",
            "Step    700: eval  CrossEntropyLoss |  0.00000000\n",
            "Step    700: eval          Accuracy |  1.00000000\n",
            "Step    800: train CrossEntropyLoss |  0.00000051\n",
            "Step    800: eval  CrossEntropyLoss |  0.00000002\n",
            "Step    800: eval          Accuracy |  1.00000000\n",
            "Step    900: train CrossEntropyLoss |  0.00000052\n",
            "Step    900: eval  CrossEntropyLoss |  0.00000000\n",
            "Step    900: eval          Accuracy |  1.00000000\n",
            "Step   1000: train CrossEntropyLoss |  0.00000053\n",
            "Step   1000: eval  CrossEntropyLoss |  0.00000000\n",
            "Step   1000: eval          Accuracy |  1.00000000\n"
          ],
          "name": "stdout"
        }
      ]
    },
    {
      "cell_type": "code",
      "metadata": {
        "id": "KCuEUzljLkmN"
      },
      "source": [
        "# ok ???"
      ],
      "execution_count": 263,
      "outputs": []
    },
    {
      "cell_type": "markdown",
      "metadata": {
        "id": "wcxXbMIkzX0u"
      },
      "source": [
        "#Part 4: Compute Accuracy\r\n"
      ]
    },
    {
      "cell_type": "code",
      "metadata": {
        "colab": {
          "base_uri": "https://localhost:8080/"
        },
        "id": "mPRBTuKRxFT4",
        "outputId": "ec303606-9c80-4756-9a38-581769159dbc"
      },
      "source": [
        "# create the evaluation inputs\r\n",
        "x, y,z = next(data_generator(data_pos, data_neg, batch_size, True, Vocab, shuffle))\r\n",
        "print(\"input shapes\", x.shape, y.shape,z.shape)"
      ],
      "execution_count": 264,
      "outputs": [
        {
          "output_type": "stream",
          "text": [
            "input shapes (4, 22) (4,) (4,)\n"
          ],
          "name": "stdout"
        }
      ]
    },
    {
      "cell_type": "code",
      "metadata": {
        "colab": {
          "base_uri": "https://localhost:8080/"
        },
        "id": "Ust-jqLGxSi9",
        "outputId": "1d032b75-87cf-44a2-cccd-2ca0a4f4e1ed"
      },
      "source": [
        "tmp_pred = model(x)\r\n",
        "print(type(tmp_pred))\r\n",
        "print(f\"tmp_pred has shape: {tmp_pred.shape}\")"
      ],
      "execution_count": 265,
      "outputs": [
        {
          "output_type": "stream",
          "text": [
            "<class 'jax.interpreters.xla._DeviceArray'>\n",
            "tmp_pred has shape: (4, 2)\n"
          ],
          "name": "stdout"
        }
      ]
    },
    {
      "cell_type": "code",
      "metadata": {
        "id": "v8LJH2WZz5It"
      },
      "source": [
        "def evaluate_prediction(pred, labels, pad):\r\n",
        "    \"\"\"\r\n",
        "    Inputs:\r\n",
        "        pred: prediction array with shape \r\n",
        "            (num examples, max sentence length in batch, num of classes)\r\n",
        "        labels: array of size (batch_size, seq_len)\r\n",
        "        pad: integer representing pad character\r\n",
        "    Outputs:\r\n",
        "        accuracy: float\r\n",
        "    \"\"\"\r\n",
        "    ### START CODE HERE (Replace instances of 'None' with your code) ###\r\n",
        "## step 1 ##\r\n",
        "    outputs = np.argmax(pred, axis=-1)\r\n",
        "    print(\"outputs shape:\", outputs.shape)\r\n",
        "\r\n",
        "## step 2 ##\r\n",
        "    mask = ~(labels == pad)\r\n",
        "    print(\"mask shape:\", mask.shape, \"mask:\", mask)\r\n",
        "## step 3 ##\r\n",
        "    accuracy = np.sum(outputs == labels) / np.sum(mask)\r\n",
        "    ### END CODE HERE ###\r\n",
        "    return accuracy"
      ],
      "execution_count": 266,
      "outputs": []
    },
    {
      "cell_type": "code",
      "metadata": {
        "colab": {
          "base_uri": "https://localhost:8080/"
        },
        "id": "zFJYdogaz-Qm",
        "outputId": "3c785c5f-8d8c-475d-9f8b-78acc71ab4b8"
      },
      "source": [
        "accuracy = evaluate_prediction(model(x), y, Vocab['__PAD__'])\r\n",
        "print(\"accuracy: \", accuracy)"
      ],
      "execution_count": 267,
      "outputs": [
        {
          "output_type": "stream",
          "text": [
            "outputs shape: (4,)\n",
            "mask shape: (4,) mask: [ True  True False False]\n",
            "accuracy:  1.0\n"
          ],
          "name": "stdout"
        }
      ]
    },
    {
      "cell_type": "code",
      "metadata": {
        "id": "LRsrk3mlz-fH"
      },
      "source": [
        ""
      ],
      "execution_count": 267,
      "outputs": []
    },
    {
      "cell_type": "code",
      "metadata": {
        "id": "NEhXRIKuz-wu"
      },
      "source": [
        ""
      ],
      "execution_count": 267,
      "outputs": []
    },
    {
      "cell_type": "code",
      "metadata": {
        "id": "PTJ1xrJIxsvl"
      },
      "source": [
        "def test_model(generator, model):\r\n",
        "    '''\r\n",
        "    Input: \r\n",
        "        generator: an iterator instance that provides batches of inputs and targets\r\n",
        "        model: a model instance \r\n",
        "    Output: \r\n",
        "        accuracy: float corresponding to the accuracy\r\n",
        "    '''\r\n",
        "    \r\n",
        "    accuracy = 0.\r\n",
        "    total_num_correct = 0\r\n",
        "    total_num_pred = 0\r\n",
        "    \r\n",
        "    ### START CODE HERE (Replace instances of 'None' with your code) ###\r\n",
        "    for batch in generator: \r\n",
        "        \r\n",
        "        # Retrieve the inputs from the batch\r\n",
        "        inputs = batch[0]\r\n",
        "        \r\n",
        "        # Retrieve the targets (actual labels) from the batch\r\n",
        "        targets = batch[1]\r\n",
        "        \r\n",
        "        # Retrieve the example weight.\r\n",
        "        example_weight = batch[2]\r\n",
        "\r\n",
        "        # Make predictions using the inputs\r\n",
        "        pred = model(inputs)\r\n",
        "        \r\n",
        "        # Calculate accuracy for the batch by comparing its predictions and targets\r\n",
        "        batch_accuracy, batch_num_correct, batch_num_pred = compute_accuracy(pred, targets, example_weight)\r\n",
        "        \r\n",
        "        # Update the total number of correct predictions\r\n",
        "        # by adding the number of correct predictions from this batch\r\n",
        "        total_num_correct += batch_num_correct\r\n",
        "        \r\n",
        "        # Update the total number of predictions \r\n",
        "        # by adding the number of predictions made for the batch\r\n",
        "        total_num_pred +=batch_num_pred\r\n",
        "\r\n",
        "    # Calculate accuracy over all examples\r\n",
        "    accuracy = total_num_correct / total_num_pred\r\n",
        "    \r\n",
        "    ### END CODE HERE ###\r\n",
        "    return accuracy\r\n",
        "\r\n"
      ],
      "execution_count": 268,
      "outputs": []
    },
    {
      "cell_type": "code",
      "metadata": {
        "colab": {
          "base_uri": "https://localhost:8080/"
        },
        "id": "QbPaVbMQyMwY",
        "outputId": "8456754a-553b-41fb-a7bf-05c7a5724eef"
      },
      "source": [
        "model = training_loop.eval_model\r\n",
        "accuracy = test_model(data_generator(val_pos, val_neg, 16, False, Vocab, shuffle), model)\r\n",
        "\r\n",
        "print(f'The accuracy of your model on the validation set is {accuracy:.4f}', )"
      ],
      "execution_count": 272,
      "outputs": [
        {
          "output_type": "stream",
          "text": [
            "The accuracy of your model on the validation set is 0.5000\n"
          ],
          "name": "stdout"
        }
      ]
    },
    {
      "cell_type": "code",
      "metadata": {
        "id": "W_EjQUPwyNKe"
      },
      "source": [
        "def predict(sentence):\r\n",
        "    inputs = np.array(toTensor(sentence, vocabulary=Vocab))\r\n",
        "    \r\n",
        "    # Batch size 1, add dimension for batch, to work with the model\r\n",
        "    inputs = inputs[None, :]  \r\n",
        "    \r\n",
        "    # predict with the model\r\n",
        "    preds_probs = model(inputs)\r\n",
        "    \r\n",
        "    # Turn probabilities into categories\r\n",
        "    preds = int(preds_probs[0, 1] > preds_probs[0, 0])\r\n",
        "    \r\n",
        "    sentiment = \"negative\"\r\n",
        "    if preds == 1:\r\n",
        "        sentiment = 'positive'\r\n",
        "\r\n",
        "    return preds, sentiment"
      ],
      "execution_count": 273,
      "outputs": []
    },
    {
      "cell_type": "code",
      "metadata": {
        "colab": {
          "base_uri": "https://localhost:8080/"
        },
        "id": "Ar8miZZZ5Nzy",
        "outputId": "b06b40da-6aa2-4170-cba1-c3f4011fabab"
      },
      "source": [
        "sentence = \"i'm feeling good today\"\r\n",
        "tmp_pred, tmp_sentiment = predict(sentence)\r\n",
        "print(f\"The sentiment of the sentence \\n***\\n\\\"{sentence}\\\"\\n***\\nis {tmp_sentiment}.\")\r\n",
        "\r\n",
        "print()\r\n",
        "# try a negative sentence\r\n",
        "sentence = \"I hated my day\"\r\n",
        "tmp_pred, tmp_sentiment = predict(sentence)\r\n",
        "print(f\"The sentiment of the sentence \\n***\\n\\\"{sentence}\\\"\\n***\\nis {tmp_sentiment}.\")"
      ],
      "execution_count": 275,
      "outputs": [
        {
          "output_type": "stream",
          "text": [
            "The sentiment of the sentence \n",
            "***\n",
            "\"i'm feeling good today\"\n",
            "***\n",
            "is positive.\n",
            "\n",
            "The sentiment of the sentence \n",
            "***\n",
            "\"I hated my day\"\n",
            "***\n",
            "is positive.\n"
          ],
          "name": "stdout"
        }
      ]
    },
    {
      "cell_type": "code",
      "metadata": {
        "id": "HjTkKTAF5OOh"
      },
      "source": [
        ""
      ],
      "execution_count": 237,
      "outputs": []
    }
  ]
}