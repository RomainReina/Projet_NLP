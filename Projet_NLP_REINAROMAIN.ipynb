{
 "cells": [
  {
   "cell_type": "markdown",
   "metadata": {
    "colab_type": "text",
    "id": "view-in-github"
   },
   "source": [
    "<a href=\"https://colab.research.google.com/github/RomainReina/Projet_NLP/blob/main/Projet_NLP_REINAROMAIN.ipynb\" target=\"_parent\"><img src=\"https://colab.research.google.com/assets/colab-badge.svg\" alt=\"Open In Colab\"/></a>"
   ]
  },
  {
   "cell_type": "markdown",
   "metadata": {
    "id": "ika5Kt-qqZht"
   },
   "source": [
    "## Sommaire\n",
    "- [Introduction](#0)\n",
    "- [Part 1:  Load de la data](#1)\n",
    "    - [1.1  embeding](#1.1)\n",
    "    - [1.2  Data generator](#1.2)\n",
    "\t\t- [Exercise 01](#ex01)\n",
    "- [Part 2:  Word embedding](#2)\n",
    "\t- [Exercise 02](#ex02)\n",
    "- [Part 3:  initialisation du modele](#3)\n",
    "\t- [Exercise 03](#ex03)\n",
    "- [Part 4:  training](#4)\n"
   ]
  },
  {
   "cell_type": "markdown",
   "metadata": {
    "id": "_NE4zxSaqwNP"
   },
   "source": []
  },
  {
   "cell_type": "code",
   "execution_count": 1,
   "metadata": {
    "colab": {
     "base_uri": "https://localhost:8080/"
    },
    "id": "QjldiytrsHb9",
    "outputId": "e22fd70a-8d72-4f9f-e3f8-a6c4df95d0cc"
   },
   "outputs": [
    {
     "name": "stdout",
     "output_type": "stream",
     "text": [
      "\u001b[K     |████████████████████████████████| 348kB 5.4MB/s \n",
      "\u001b[K     |████████████████████████████████| 215kB 19.3MB/s \n",
      "\u001b[K     |████████████████████████████████| 3.4MB 4.2MB/s \n",
      "\u001b[K     |████████████████████████████████| 1.5MB 38.5MB/s \n",
      "\u001b[K     |████████████████████████████████| 1.2MB 38.9MB/s \n",
      "\u001b[K     |████████████████████████████████| 71kB 7.1MB/s \n",
      "\u001b[K     |████████████████████████████████| 368kB 39.0MB/s \n",
      "\u001b[K     |████████████████████████████████| 3.8MB 45.2MB/s \n",
      "\u001b[K     |████████████████████████████████| 1.9MB 42.0MB/s \n",
      "\u001b[K     |████████████████████████████████| 358kB 48.1MB/s \n",
      "\u001b[K     |████████████████████████████████| 983kB 40.8MB/s \n",
      "\u001b[K     |████████████████████████████████| 368kB 42.9MB/s \n",
      "\u001b[K     |████████████████████████████████| 5.6MB 33.3MB/s \n",
      "\u001b[K     |████████████████████████████████| 81kB 7.3MB/s \n",
      "\u001b[K     |████████████████████████████████| 194kB 42.3MB/s \n",
      "\u001b[K     |████████████████████████████████| 706kB 26.0MB/s \n",
      "\u001b[K     |████████████████████████████████| 655kB 10.0MB/s \n",
      "\u001b[K     |████████████████████████████████| 890kB 40.8MB/s \n",
      "\u001b[K     |████████████████████████████████| 3.2MB 37.7MB/s \n",
      "\u001b[K     |████████████████████████████████| 163kB 38.3MB/s \n",
      "\u001b[K     |████████████████████████████████| 245kB 39.2MB/s \n",
      "\u001b[?25h  Building wheel for bz2file (setup.py) ... \u001b[?25l\u001b[?25hdone\n",
      "  Building wheel for pypng (setup.py) ... \u001b[?25l\u001b[?25hdone\n",
      "  Building wheel for sacremoses (setup.py) ... \u001b[?25l\u001b[?25hdone\n",
      "\u001b[31mERROR: kfac 0.2.3 has requirement tensorflow-probability==0.8, but you'll have tensorflow-probability 0.7.0 which is incompatible.\u001b[0m\n"
     ]
    }
   ],
   "source": [
    "!pip -q install trax==1.3.1\n"
   ]
  },
  {
   "cell_type": "code",
   "execution_count": 96,
   "metadata": {
    "colab": {
     "base_uri": "https://localhost:8080/"
    },
    "id": "n8gjHp8jwH6j",
    "outputId": "e5c55a05-cf2a-4b9f-ac54-af43728625f6"
   },
   "outputs": [
    {
     "name": "stdout",
     "output_type": "stream",
     "text": [
      "[nltk_data] Downloading package punkt to /root/nltk_data...\n",
      "[nltk_data]   Package punkt is already up-to-date!\n",
      "[nltk_data] Downloading package stopwords to /root/nltk_data...\n",
      "[nltk_data]   Package stopwords is already up-to-date!\n",
      "[nltk_data] Downloading package wordnet to /root/nltk_data...\n",
      "[nltk_data]   Package wordnet is already up-to-date!\n",
      "[nltk_data] Downloading package averaged_perceptron_tagger to\n",
      "[nltk_data]     /root/nltk_data...\n",
      "[nltk_data]   Package averaged_perceptron_tagger is already up-to-\n",
      "[nltk_data]       date!\n"
     ]
    },
    {
     "data": {
      "text/plain": [
       "True"
      ]
     },
     "execution_count": 96,
     "metadata": {
      "tags": []
     },
     "output_type": "execute_result"
    }
   ],
   "source": [
    "# Import Python libraries and helper functions \n",
    "from keras.datasets import imdb\n",
    "import pandas as pd\n",
    "import numpy as np\n",
    "from keras.layers import LSTM, Activation, Dropout, Dense, Input\n",
    "from keras.layers.embeddings import Embedding\n",
    "from keras.models import Model\n",
    "import string\n",
    "import re\n",
    "from keras.preprocessing.text import Tokenizer\n",
    "from sklearn.preprocessing import LabelBinarizer\n",
    "from keras.preprocessing.sequence import pad_sequences\n",
    "import keras\n",
    "from sklearn.model_selection import train_test_split\n",
    "\n",
    "import trax \n",
    "from trax import layers as tl\n",
    "\n",
    "from nltk.tokenize import word_tokenize\n",
    "from nltk.text import Text\n",
    "from nltk.stem.lancaster import LancasterStemmer\n",
    "from nltk.stem import WordNetLemmatizer\n",
    "import nltk\n",
    "\n",
    "import random\n",
    "\n",
    "import matplotlib.pyplot as plt\n",
    "\n",
    "\n",
    "\n",
    "nltk.download('punkt')\n",
    "nltk.download('stopwords')\n",
    "nltk.download('wordnet')\n",
    "nltk.download('averaged_perceptron_tagger')"
   ]
  },
  {
   "cell_type": "code",
   "execution_count": 3,
   "metadata": {
    "colab": {
     "base_uri": "https://localhost:8080/"
    },
    "id": "pbYDGro7g9qB",
    "outputId": "bbd5d05a-5c76-4d21-9fc7-5293362a4c4a"
   },
   "outputs": [
    {
     "name": "stdout",
     "output_type": "stream",
     "text": [
      "Mounted at /content/gdrive\n"
     ]
    }
   ],
   "source": [
    "from google.colab import drive\n",
    "drive.mount('/content/gdrive',force_remount= True)"
   ]
  },
  {
   "cell_type": "code",
   "execution_count": 4,
   "metadata": {
    "colab": {
     "base_uri": "https://localhost:8080/",
     "height": 424
    },
    "id": "FenOCLzGgEtg",
    "outputId": "276e3b16-907d-4830-8832-515ca407d2e7"
   },
   "outputs": [
    {
     "data": {
      "text/html": [
       "<div>\n",
       "<style scoped>\n",
       "    .dataframe tbody tr th:only-of-type {\n",
       "        vertical-align: middle;\n",
       "    }\n",
       "\n",
       "    .dataframe tbody tr th {\n",
       "        vertical-align: top;\n",
       "    }\n",
       "\n",
       "    .dataframe thead th {\n",
       "        text-align: right;\n",
       "    }\n",
       "</style>\n",
       "<table border=\"1\" class=\"dataframe\">\n",
       "  <thead>\n",
       "    <tr style=\"text-align: right;\">\n",
       "      <th></th>\n",
       "      <th>0</th>\n",
       "      <th>1467810369</th>\n",
       "      <th>Mon Apr 06 22:19:45 PDT 2009</th>\n",
       "      <th>NO_QUERY</th>\n",
       "      <th>_TheSpecialOne_</th>\n",
       "      <th>@switchfoot http://twitpic.com/2y1zl - Awww, that's a bummer.  You shoulda got David Carr of Third Day to do it. ;D</th>\n",
       "    </tr>\n",
       "  </thead>\n",
       "  <tbody>\n",
       "    <tr>\n",
       "      <th>0</th>\n",
       "      <td>0</td>\n",
       "      <td>1467810672</td>\n",
       "      <td>Mon Apr 06 22:19:49 PDT 2009</td>\n",
       "      <td>NO_QUERY</td>\n",
       "      <td>scotthamilton</td>\n",
       "      <td>is upset that he can't update his Facebook by ...</td>\n",
       "    </tr>\n",
       "    <tr>\n",
       "      <th>1</th>\n",
       "      <td>0</td>\n",
       "      <td>1467810917</td>\n",
       "      <td>Mon Apr 06 22:19:53 PDT 2009</td>\n",
       "      <td>NO_QUERY</td>\n",
       "      <td>mattycus</td>\n",
       "      <td>@Kenichan I dived many times for the ball. Man...</td>\n",
       "    </tr>\n",
       "    <tr>\n",
       "      <th>2</th>\n",
       "      <td>0</td>\n",
       "      <td>1467811184</td>\n",
       "      <td>Mon Apr 06 22:19:57 PDT 2009</td>\n",
       "      <td>NO_QUERY</td>\n",
       "      <td>ElleCTF</td>\n",
       "      <td>my whole body feels itchy and like its on fire</td>\n",
       "    </tr>\n",
       "    <tr>\n",
       "      <th>3</th>\n",
       "      <td>0</td>\n",
       "      <td>1467811193</td>\n",
       "      <td>Mon Apr 06 22:19:57 PDT 2009</td>\n",
       "      <td>NO_QUERY</td>\n",
       "      <td>Karoli</td>\n",
       "      <td>@nationwideclass no, it's not behaving at all....</td>\n",
       "    </tr>\n",
       "    <tr>\n",
       "      <th>4</th>\n",
       "      <td>0</td>\n",
       "      <td>1467811372</td>\n",
       "      <td>Mon Apr 06 22:20:00 PDT 2009</td>\n",
       "      <td>NO_QUERY</td>\n",
       "      <td>joy_wolf</td>\n",
       "      <td>@Kwesidei not the whole crew</td>\n",
       "    </tr>\n",
       "    <tr>\n",
       "      <th>...</th>\n",
       "      <td>...</td>\n",
       "      <td>...</td>\n",
       "      <td>...</td>\n",
       "      <td>...</td>\n",
       "      <td>...</td>\n",
       "      <td>...</td>\n",
       "    </tr>\n",
       "    <tr>\n",
       "      <th>1599994</th>\n",
       "      <td>4</td>\n",
       "      <td>2193601966</td>\n",
       "      <td>Tue Jun 16 08:40:49 PDT 2009</td>\n",
       "      <td>NO_QUERY</td>\n",
       "      <td>AmandaMarie1028</td>\n",
       "      <td>Just woke up. Having no school is the best fee...</td>\n",
       "    </tr>\n",
       "    <tr>\n",
       "      <th>1599995</th>\n",
       "      <td>4</td>\n",
       "      <td>2193601969</td>\n",
       "      <td>Tue Jun 16 08:40:49 PDT 2009</td>\n",
       "      <td>NO_QUERY</td>\n",
       "      <td>TheWDBoards</td>\n",
       "      <td>TheWDB.com - Very cool to hear old Walt interv...</td>\n",
       "    </tr>\n",
       "    <tr>\n",
       "      <th>1599996</th>\n",
       "      <td>4</td>\n",
       "      <td>2193601991</td>\n",
       "      <td>Tue Jun 16 08:40:49 PDT 2009</td>\n",
       "      <td>NO_QUERY</td>\n",
       "      <td>bpbabe</td>\n",
       "      <td>Are you ready for your MoJo Makeover? Ask me f...</td>\n",
       "    </tr>\n",
       "    <tr>\n",
       "      <th>1599997</th>\n",
       "      <td>4</td>\n",
       "      <td>2193602064</td>\n",
       "      <td>Tue Jun 16 08:40:49 PDT 2009</td>\n",
       "      <td>NO_QUERY</td>\n",
       "      <td>tinydiamondz</td>\n",
       "      <td>Happy 38th Birthday to my boo of alll time!!! ...</td>\n",
       "    </tr>\n",
       "    <tr>\n",
       "      <th>1599998</th>\n",
       "      <td>4</td>\n",
       "      <td>2193602129</td>\n",
       "      <td>Tue Jun 16 08:40:50 PDT 2009</td>\n",
       "      <td>NO_QUERY</td>\n",
       "      <td>RyanTrevMorris</td>\n",
       "      <td>happy #charitytuesday @theNSPCC @SparksCharity...</td>\n",
       "    </tr>\n",
       "  </tbody>\n",
       "</table>\n",
       "<p>1599999 rows × 6 columns</p>\n",
       "</div>"
      ],
      "text/plain": [
       "         0  ...  @switchfoot http://twitpic.com/2y1zl - Awww, that's a bummer.  You shoulda got David Carr of Third Day to do it. ;D\n",
       "0        0  ...  is upset that he can't update his Facebook by ...                                                                  \n",
       "1        0  ...  @Kenichan I dived many times for the ball. Man...                                                                  \n",
       "2        0  ...    my whole body feels itchy and like its on fire                                                                   \n",
       "3        0  ...  @nationwideclass no, it's not behaving at all....                                                                  \n",
       "4        0  ...                      @Kwesidei not the whole crew                                                                   \n",
       "...     ..  ...                                                ...                                                                  \n",
       "1599994  4  ...  Just woke up. Having no school is the best fee...                                                                  \n",
       "1599995  4  ...  TheWDB.com - Very cool to hear old Walt interv...                                                                  \n",
       "1599996  4  ...  Are you ready for your MoJo Makeover? Ask me f...                                                                  \n",
       "1599997  4  ...  Happy 38th Birthday to my boo of alll time!!! ...                                                                  \n",
       "1599998  4  ...  happy #charitytuesday @theNSPCC @SparksCharity...                                                                  \n",
       "\n",
       "[1599999 rows x 6 columns]"
      ]
     },
     "execution_count": 4,
     "metadata": {
      "tags": []
     },
     "output_type": "execute_result"
    }
   ],
   "source": [
    "csv = pd.read_csv(\"gdrive/MyDrive/Projet_NLP/training.1600000.processed.noemoticon.csv\",encoding = \"ISO-8859-1\")\n",
    "csv"
   ]
  },
  {
   "cell_type": "code",
   "execution_count": 5,
   "metadata": {
    "colab": {
     "base_uri": "https://localhost:8080/",
     "height": 424
    },
    "id": "cI0GH22xggOF",
    "outputId": "200ce494-fc00-4718-ea45-e3b603929277"
   },
   "outputs": [
    {
     "data": {
      "text/html": [
       "<div>\n",
       "<style scoped>\n",
       "    .dataframe tbody tr th:only-of-type {\n",
       "        vertical-align: middle;\n",
       "    }\n",
       "\n",
       "    .dataframe tbody tr th {\n",
       "        vertical-align: top;\n",
       "    }\n",
       "\n",
       "    .dataframe thead th {\n",
       "        text-align: right;\n",
       "    }\n",
       "</style>\n",
       "<table border=\"1\" class=\"dataframe\">\n",
       "  <thead>\n",
       "    <tr style=\"text-align: right;\">\n",
       "      <th></th>\n",
       "      <th>index</th>\n",
       "      <th>comments</th>\n",
       "    </tr>\n",
       "  </thead>\n",
       "  <tbody>\n",
       "    <tr>\n",
       "      <th>0</th>\n",
       "      <td>0</td>\n",
       "      <td>is upset that he can't update his Facebook by ...</td>\n",
       "    </tr>\n",
       "    <tr>\n",
       "      <th>1</th>\n",
       "      <td>0</td>\n",
       "      <td>@Kenichan I dived many times for the ball. Man...</td>\n",
       "    </tr>\n",
       "    <tr>\n",
       "      <th>2</th>\n",
       "      <td>0</td>\n",
       "      <td>my whole body feels itchy and like its on fire</td>\n",
       "    </tr>\n",
       "    <tr>\n",
       "      <th>3</th>\n",
       "      <td>0</td>\n",
       "      <td>@nationwideclass no, it's not behaving at all....</td>\n",
       "    </tr>\n",
       "    <tr>\n",
       "      <th>4</th>\n",
       "      <td>0</td>\n",
       "      <td>@Kwesidei not the whole crew</td>\n",
       "    </tr>\n",
       "    <tr>\n",
       "      <th>...</th>\n",
       "      <td>...</td>\n",
       "      <td>...</td>\n",
       "    </tr>\n",
       "    <tr>\n",
       "      <th>1599994</th>\n",
       "      <td>4</td>\n",
       "      <td>Just woke up. Having no school is the best fee...</td>\n",
       "    </tr>\n",
       "    <tr>\n",
       "      <th>1599995</th>\n",
       "      <td>4</td>\n",
       "      <td>TheWDB.com - Very cool to hear old Walt interv...</td>\n",
       "    </tr>\n",
       "    <tr>\n",
       "      <th>1599996</th>\n",
       "      <td>4</td>\n",
       "      <td>Are you ready for your MoJo Makeover? Ask me f...</td>\n",
       "    </tr>\n",
       "    <tr>\n",
       "      <th>1599997</th>\n",
       "      <td>4</td>\n",
       "      <td>Happy 38th Birthday to my boo of alll time!!! ...</td>\n",
       "    </tr>\n",
       "    <tr>\n",
       "      <th>1599998</th>\n",
       "      <td>4</td>\n",
       "      <td>happy #charitytuesday @theNSPCC @SparksCharity...</td>\n",
       "    </tr>\n",
       "  </tbody>\n",
       "</table>\n",
       "<p>1599999 rows × 2 columns</p>\n",
       "</div>"
      ],
      "text/plain": [
       "         index                                           comments\n",
       "0            0  is upset that he can't update his Facebook by ...\n",
       "1            0  @Kenichan I dived many times for the ball. Man...\n",
       "2            0    my whole body feels itchy and like its on fire \n",
       "3            0  @nationwideclass no, it's not behaving at all....\n",
       "4            0                      @Kwesidei not the whole crew \n",
       "...        ...                                                ...\n",
       "1599994      4  Just woke up. Having no school is the best fee...\n",
       "1599995      4  TheWDB.com - Very cool to hear old Walt interv...\n",
       "1599996      4  Are you ready for your MoJo Makeover? Ask me f...\n",
       "1599997      4  Happy 38th Birthday to my boo of alll time!!! ...\n",
       "1599998      4  happy #charitytuesday @theNSPCC @SparksCharity...\n",
       "\n",
       "[1599999 rows x 2 columns]"
      ]
     },
     "execution_count": 5,
     "metadata": {
      "tags": []
     },
     "output_type": "execute_result"
    }
   ],
   "source": [
    "data = csv.drop(['1467810369','Mon Apr 06 22:19:45 PDT 2009','NO_QUERY','_TheSpecialOne_'],axis = 1)\n",
    "data.columns = ['index', 'comments']\n",
    "data\n"
   ]
  },
  {
   "cell_type": "code",
   "execution_count": 10,
   "metadata": {
    "colab": {
     "base_uri": "https://localhost:8080/"
    },
    "id": "-RC9o6zJgh4r",
    "outputId": "e93e44b7-8d42-4da4-f391-09258a98a346"
   },
   "outputs": [
    {
     "name": "stdout",
     "output_type": "stream",
     "text": [
      "{'index': {0: 0, 1: 0, 2: 0, 3: 0, 4: 0, 5: 0, 6: 0, 7: 0, 8: 0, 9: 0, 10: 0, 11: 0, 12: 0, 13: 0, 14: 0, 15: 0, 16: 0, 17: 0, 18: 0, 19: 0, 20: 0, 21: 0, 22: 0, 23: 0, 24: 0, 25: 0, 26: 0, 27: 0, 28: 0, 29: 0, 30: 0, 31: 0, 32: 0, 33: 0, 34: 0, 35: 0, 36: 0, 37: 0, 38: 0, 39: 0, 40: 0, 41: 0, 42: 0, 43: 0, 44: 0, 45: 0, 46: 0, 47: 0, 48: 0, 49: 0, 50: 0, 51: 0, 52: 0, 53: 0, 54: 0, 55: 0, 56: 0, 57: 0, 58: 0, 59: 0, 60: 0, 61: 0, 62: 0, 63: 0, 64: 0, 65: 0, 66: 0, 67: 0, 68: 0, 69: 0, 70: 0, 71: 0, 72: 0, 73: 0, 74: 0, 75: 0, 76: 0, 77: 0, 78: 0, 79: 0, 80: 0, 81: 0, 82: 0, 83: 0, 84: 0, 85: 0, 86: 0, 87: 0, 88: 0, 89: 0, 90: 0, 91: 0, 92: 0, 93: 0, 94: 0, 95: 0, 96: 0, 97: 0, 98: 0, 99: 0, 100: 0, 101: 0, 102: 0, 103: 0, 104: 0, 105: 0, 106: 0, 107: 0, 108: 0, 109: 0, 110: 0, 111: 0, 112: 0, 113: 0, 114: 0, 115: 0, 116: 0, 117: 0, 118: 0, 119: 0, 120: 0, 121: 0, 122: 0, 123: 0, 124: 0, 125: 0, 126: 0, 127: 0, 128: 0, 129: 0, 130: 0, 131: 0, 132: 0, 133: 0, 134: 0, 135: 0, 136: 0, 137: 0, 138: 0, 139: 0, 140: 0, 141: 0, 142: 0, 143: 0, 144: 0, 145: 0, 146: 0, 147: 0, 148: 0, 149: 0, 150: 0, 151: 0, 152: 0, 153: 0, 154: 0, 155: 0, 156: 0, 157: 0, 158: 0, 159: 0, 160: 0, 161: 0, 162: 0, 163: 0, 164: 0, 165: 0, 166: 0, 167: 0, 168: 0, 169: 0, 170: 0, 171: 0, 172: 0, 173: 0, 174: 0, 175: 0, 176: 0, 177: 0, 178: 0, 179: 0, 180: 0, 181: 0, 182: 0, 183: 0, 184: 0, 185: 0, 186: 0, 187: 0, 188: 0, 189: 0, 190: 0, 191: 0, 192: 0, 193: 0, 194: 0, 195: 0, 196: 0, 197: 0, 198: 0, 199: 0}, 'comments': {0: \"is upset that he can't update his Facebook by texting it... and might cry as a result  School today also. Blah!\", 1: '@Kenichan I dived many times for the ball. Managed to save 50%  The rest go out of bounds', 2: 'my whole body feels itchy and like its on fire ', 3: \"@nationwideclass no, it's not behaving at all. i'm mad. why am i here? because I can't see you all over there. \", 4: '@Kwesidei not the whole crew ', 5: 'Need a hug ', 6: \"@LOLTrish hey  long time no see! Yes.. Rains a bit ,only a bit  LOL , I'm fine thanks , how's you ?\", 7: \"@Tatiana_K nope they didn't have it \", 8: '@twittera que me muera ? ', 9: \"spring break in plain city... it's snowing \", 10: 'I just re-pierced my ears ', 11: \"@caregiving I couldn't bear to watch it.  And I thought the UA loss was embarrassing . . . . .\", 12: '@octolinz16 It it counts, idk why I did either. you never talk to me anymore ', 13: \"@smarrison i would've been the first, but i didn't have a gun.    not really though, zac snyder's just a doucheclown.\", 14: '@iamjazzyfizzle I wish I got to watch it with you!! I miss you and @iamlilnicki  how was the premiere?!', 15: \"Hollis' death scene will hurt me severely to watch on film  wry is directors cut not out now?\", 16: 'about to file taxes ', 17: '@LettyA ahh ive always wanted to see rent  love the soundtrack!!', 18: '@FakerPattyPattz Oh dear. Were you drinking out of the forgotten table drinks? ', 19: \"@alydesigns i was out most of the day so didn't get much done \", 20: \"one of my friend called me, and asked to meet with her at Mid Valley today...but i've no time *sigh* \", 21: '@angry_barista I baked you a cake but I ated it ', 22: 'this week is not going as i had hoped ', 23: 'blagh class at 8 tomorrow ', 24: 'I hate when I have to call and wake people up ', 25: 'Just going to cry myself to sleep after watching Marley and Me.  ', 26: 'im sad now  Miss.Lilly', 27: \"ooooh.... LOL  that leslie.... and ok I won't do it again so leslie won't  get mad again \", 28: 'Meh... Almost Lover is the exception... this track gets me depressed every time. ', 29: 'some1 hacked my account on aim  now i have to make a new one', 30: '@alielayus I want to go to promote GEAR AND GROOVE but unfornately no ride there  I may b going to the one in Anaheim in May though', 31: 'thought sleeping in was an option tomorrow but realizing that it now is not. evaluations in the morning and work in the afternoon! ', 32: '@julieebaby awe i love you too!!!! 1 am here  i miss you', 33: '@HumpNinja I cry my asian eyes to sleep at night ', 34: \"ok I'm sick and spent an hour sitting in the shower cause I was too sick to stand and held back the puke like a champ. BED now \", 35: '@cocomix04 ill tell ya the story later  not a good day and ill be workin for like three more hours...', 36: '@MissXu sorry! bed time came here (GMT+1)   http://is.gd/fNge', 37: \"@fleurylis I don't either. Its depressing. I don't think I even want to know about the kids in suitcases. \", 38: \"Bed. Class 8-12. Work 12-3. Gym 3-5 or 6. Then class 6-10. Another day that's gonna fly by. I miss my girlfriend \", 39: \"really don't feel like getting up today... but got to study to for tomorrows practical exam... \", 40: \"He's the reason for the teardrops on my guitar the only one who has enough of me to break my heart \", 41: \"Sad, sad, sad. I don't know why but I hate this feeling  I wanna sleep and I still can't!\", 42: '@JonathanRKnight Awww I soo wish I was there to see you finally comfortable! Im sad that I missed it ', 43: \"Falling asleep. Just heard about that Tracy girl's body being found. How sad  My heart breaks for that family.\", 44: \"@Viennah Yay! I'm happy for you with your job! But that also means less time for me and you... \", 45: 'Just checked my user timeline on my blackberry, it looks like the twanking is still happening  Are ppl still having probs w/ BGs and UIDs?', 46: \"Oh man...was ironing @jeancjumbe's fave top to wear to a meeting. Burnt it \", 47: 'is strangely sad about LiLo and SamRo breaking up. ', 48: \"@tea oh! i'm so sorry  i didn't think about that before retweeting.\", 49: \"Broadband plan 'a massive broken promise' http://tinyurl.com/dcuc33 via www.diigo.com/~tautao Still waiting for broadband we are \", 50: \"@localtweeps Wow, tons of replies from you, may have to unfollow so I can see my friends' tweets, you're scrolling the feed a lot. \", 51: 'our duck and chicken are taking wayyy too long to hatch ', 52: 'Put vacation photos online a few yrs ago. PC crashed, and now I forget the name of the site. ', 53: 'I need a hug ', 54: '@andywana Not sure what they are, only that they are PoS! As much as I want to, I dont think can trade away company assets sorry andy! ', 55: '@oanhLove I hate when that happens... ', 56: \"I have a sad feeling that Dallas is not going to show up  I gotta say though, you'd think more shows would use music from the game. mmm\", 57: 'Ugh....92 degrees tomorrow ', 58: 'Where did u move to?  I thought u were already in sd. ?? Hmmm. Random u found me. Glad to hear yer doing well.', 59: \"@BatManYNG I miss my ps3, it's out of commission  Wutcha playing? Have you copped 'Blood On The Sand'?\", 60: 'just leaving the parking lot of work! ', 61: 'The Life is cool. But not for Me. ', 62: \"Sadly though, I've never gotten to experience the post coitus cigarette before, and now I never will. \", 63: 'I had such a nice day. Too bad the rain comes in tomorrow at 5am ', 64: \"@Starrbby too bad I won't be around I lost my job and can't even pay my phone bill lmao aw shucks \", 65: 'Damm back to school tomorrow ', 66: \"Mo jobs, no money.  how in the hell is min wage here 4 f'n clams an hour?\", 67: '@katortiz  Not forever... See you soon!', 68: '@Lt_Algonquin agreed, I saw the failwhale allllll day today. ', 69: \"@jdarter Oh! Haha... dude I dont really look at em unless someone says HEY I ADDED YOU. Sorry  I'm so terrible at that. I need a pop up!\", 70: \"@ninjen I'm sure you're right...    I need to start working out with you and the Nikster... Or Jared at least!\", 71: 'i really hate how people diss my bands!  Trace is clearly NOT ugly!', 72: 'Gym attire today was: Puma singlet, Adidas shorts.......and black business socks and leather shoes  Lucky did not run into any cute girls.', 73: \"Why won't you show my location?!   http://twitpic.com/2y2es\", 74: 'No picnic  my phone smells like citrus.', 75: \"@ashleyac My donkey is sensitive about such comments. Nevertheless, he'd (and me'd) be glad to see your mug asap. Charger is still awol. \", 76: 'No new csi tonight.  FML', 77: 'i think my arms are sore from tennis ', 78: 'wonders why someone that u like so much can make you so unhappy in a split seccond . depressed . ', 79: 'sleep soon... i just hate saying bye and see you tomorrow for the night. ', 80: '@statravelAU just got ur newsletter, those fares really are unbelievable, shame I already booked and paid for mine ', 81: \"missin' the boo \", 82: '@markhardy1974 Me too  #itm', 83: \"Damn... I don't have any chalk! MY CHALKBOARD IS USELESS \", 84: \"had a blast at the Getty Villa, but hates that she's had a sore throat all day. It's just getting worse too \", 85: '@msdrama hey missed ya at the meeting  sup mama', 86: \"My tummy hurts.  I wonder if the hypnosis has anything to do with it? If so, it's working, I get it, STOP SMOKING!!!\", 87: 'why is it always the fat ones?! ', 88: \"@januarycrimson Sorry, babe!!  My fam annoys me too. Thankfully, they're asleep right now. Muahaha. *evil laugh*\", 89: '@Hollywoodheat I should have paid more attention when we covered photoshop in my webpage design class in undergrad ', 90: \"wednesday my b-day! don't know what 2 do!! \", 91: 'Poor cameron (the hills) ', 92: 'pray for me please, the ex is threatening to start sh** at my/our babies 1st Birthday party. what a jerk. and I still have a headache ', 93: '@makeherfamous hmm  , do u really enjoy being with him ? if the problems are too constants u should think things more , find someone ulike', 94: 'Strider is a sick little puppy  http://apps.facebook.com/dogbook/profile/view/5248435', 95: \"so rylee,grace...wana go steve's party or not?? SADLY SINCE ITS EASTER I WNT B ABLE 2 DO MUCH  BUT OHH WELL.....\", 96: \"hey, I actually won one of my bracket pools! Too bad it wasn't the one for money \", 97: \"@stark YOU don't follow me, either  and i work for you!\", 98: 'A bad nite for the favorite teams: Astros and Spartans lose.  The nite out with T.W. was good.', 99: ' Body Of Missing Northern Calif. Girl Found: Police have found the remains of a missing Northern California girl .. http://tr.im/imji', 100: '@mangaaa I hope they will increase the capacity fast, yesterday was such a pain. Got the fail whale +15 times in 2 hours.... ', 101: 'Behind on my classes for work ', 102: 'watching &quot;House&quot; ', 103: '@kpreyes Remember my bum leg? Strikes back this time its serious ', 104: '@paradisej cool, i will. their are all kinds of complaints about this laptop online about overheating, but no recalls ', 105: 'Emily will be glad when Mommy is done training at her new job. She misses her.  http://apps.facebook.com/dogbook/profile/view/6176014', 106: 'would rather the first party send bad messages than the 3rd party send mixed ones  Sophmore year all over again?', 107: \"@Henkuyinepu it's overrated \", 108: '@marykatherine_q i know! I heard it this afternoon and wondered the same thing. Moscow is so behind the times ', 109: 'laying in bed with no voice.. ', 110: \"I'm sooo sad!!! they killed off Kutner on House  whyyyyyyyy\", 111: '@jacobsummers Sorry  tell them mea culpa from me and that I really am sorry.', 112: \"@Alliana07 it didn't make any sense to me, the suicide thing. I refuse to believe that that is actually what happened. \", 113: '@salancaster  hope your ok.', 114: \"@mercedesashley Damn! The grind is inspirational and saddening at the same time.  Don't want you to stop cuz I like what u do! Much love\", 115: '@HibaNick yeah aw but i know i wudnt stand a chance ', 116: 'ugh. cant sleep. its 1:30am. ', 117: \"Hanging in Crooners. Wanna sing. Can't. Sucks. \", 118: '@eRRe_sC aaw i miss ya all too.. im leaving to BH tomorrow &quot;morning&quot; i think.. aww i wanna go to the beach w u girls!! ', 119: \"Is pissed off that there's no ASBA's for a radio station. \", 120: \"wednesday my b-day n don't know what 2 do!  \", 121: 'I know my life has been flipped upside down when I just thought in my head that some Ramen sounds good. ', 122: 'I am in pain. My back and sides hurt. Not to mention crying is made of fail. ', 123: \"Late night snack, glass of OJ b/c I'm &quot;down with the sickness&quot;, then back to sleep...ugh I hate getting sick... \", 124: \"@allyheman but.. but.. but.. I'm not a big fan on camilla belle \", 125: \"@grum WAH I can't see clip, must be el-stupido work filters. Can't wait 'till I get a 'puter. Something else 2 blame ex 4. He broke mine \", 126: \"This week just seems to get longer and longer in terms of how much I need to do.. and how much I'm actually going to get done \", 127: \"I'm so cold \", 128: \"@thecoolestout Ehhh don't. Weather's gonna take a turn for the ugly tomorrow \", 129: '@chelserlynn haha its so cooooold in the d! and no  but you should still go to the show. they do some incredible stuff', 130: 'Hoping the tummy rumbles go away soon ', 131: \"@Knights_ No, no notice. They told me I'd be working tomorrow, and then I called the agency to follow up and they said it was over. \", 132: 'almost bedtime ', 133: \"I'm missing you babe..  but as long as your alive I'm happy.. Yawwwnn.. I'm tired my love imma try to sleep hopefully you had a headstart\", 134: 'Agh...snow!!! ', 135: 'i miss kenny powers ', 136: \"@BridgetsBeaches Thank you for letting people know, but now I'm sad that the direct message I got wasn't actually from Bridget \", 137: '...and, India missed out its 100th Test victory n 10th consecutive win without a loss. ', 138: \"@JonathanRKnight I guess that's a no then. \", 139: 'sadly is going to bed. ', 140: '@ozesteph1992 Shame to hear this Stephan ', 141: \"@mrsaintnick hey! i'm leavin in the morning... \", 142: 'Was intending to finish editing my 536-page novel manuscript tonight, but that will probably not happen. And only 12 pages are left ', 143: 'laid around too much today... now my head hurts ', 144: \"@twista202 I still haven't read the 9th&amp;10th Princess diaries  Saving Francesca made me cry at the end. Hmm those are easy books.\", 145: 'my nokia 1110 died..  ', 146: \"My mom might have breast cancer won't find out anything for. Like a week I'm so worried! \", 147: 'Going to sleep. Hoping tomorrow is a better day. ', 148: '@rumblepurr lol.. wish they understood daylight savings has ended though and breakfast is an hour later  They keep waking the kids up too', 149: '@onemoreproject that is lame ', 150: \"I don't understand... I really don't \", 151: \"HEROES just isn't doing it for me this season... \", 152: \"Living not downtown sure isn't much fun.  \", 153: '@jonathanchard Not calorie wise   I wish junk food was calorie free! I ate a thing of sour skittles and a big ass cherry coke!', 154: 'Man Work is Hard ', 155: 'getting sick  time for some hot tea, studying, and then sleeeep', 156: 'Getting eyebrows waxed. More pain ', 157: 'No phantasy star yesterday  going to work...', 158: \"Oh - Just got all my MacHeist 3.0 apps - sweet. Didn't get the Espresso serial no though although they said they sent it - oh well \", 159: \"Picked Mich St to win it all from the get go.  Was feeling pretty good about that pick all the way up until......tonight.  A's lost too \", 160: 'is alone downstairs...working ', 161: 'I feel bad for doing it ', 162: \"@RyanSeacrest is it just me, or she hates anoop. i mean seriously, she's kinda mean to him. \", 163: '@pinkserendipity yes sprint has 4g only in baltimore and chicago so far ', 164: \"I'm stuck awake in the middle of the night for the second day in a row. And I felt terrible yesterday. \", 165: 'Thanks for bursting my bubble ', 166: \"Going to school soon... can't find anything to wear!! gosh it's so hard \", 167: '@marieclr I was serious  LOL', 168: '@naughtyhaughty I had on my page for sooooo long!!! Until it got deleted  Sad day in history', 169: 'Crazy wind today = no birding  http://ff.im/1XTTi', 170: 'currently at work.. ', 171: \"Grrr.. my ipods acting weird too! Jai ho and thinking of you aren't playing the full songs.. ughh. \", 172: '@penndbad send me the DVD cos I have missed out on heaps  NOT happy about that!', 173: \"i don't see the big deal with this website \", 174: \"@machineplay I'm so sorry you're having to go through this. Again.  #therapyfail\", 175: '@ColinDeMar Far too out of the way for rail.  any other tips?', 176: \"I'm not still up I swear. Why do I keep losing. gaining. losing. gaining. tweeps?  So heart wrenching.\", 177: \"Today I realized I am too good at hiding things, even I can't find it \", 178: 'Staying at a friends house...house sitting, neighbors are SO loud-having a party ', 179: '@dannyvegasbaby danny im upset that i wasnt here to watch the live chat  i was in a car. for 3 hours on a trip im soooo upset!!', 180: 'Check out my mug  http://www.erika-obscura.blogspot.com', 181: 'Borders closed at 10 ', 182: \"Downloading NIN's new album &quot;the slip&quot; - when the hell did this come out? I'm so behind the times these days \", 183: \"Just woke up an already have written some e-mail... I've to go early at University today as I have to teach at 8:30 AM! \", 184: 'is watching the hill . . .and its making me sad ', 185: 'So many channels.... yet so so boring... lazy day again  may have to find a hobby', 186: '@supersport I miss my buddy  ill be in NY on the 25th', 187: \"@robluketic  love the french. I tell people here in the south i'm qtr. french and they snarl at me.  french are beautiful people\", 188: 'Opps.. As I said.. I still got one day remain and now problem come ', 189: \"I activated my Selfcontrol block early, meaning I can't check out the new QC.  Regularizing my internal clock is might be difficult. #fb\", 190: '@HillyDoP  oH NO', 191: 'spencer is not a good guy. ', 192: '@goodlaura What about Reese dying on #TTSC? And season finale next week.  #24 boring, Madame President is a crazy woman.', 193: '@JonathanRKnight I hate the limited letters,too.Hope you and the guys are fine?I pray for my dog,sheï¿½s not well ', 194: \"didn't get shit done today ~ i'm so screwed \", 195: 'wanttss to go out ', 196: 'Is not going to sleep tonite. ', 197: 'too worried and tired to post tonight ', 198: \"couldn't get shit done today ~ i'm so screwed \", 199: 'Job Interview in Cardiff today, wish me luck! Got about 3 hours sleep '}} \n",
      " {'index': {1599799: 4, 1599800: 4, 1599801: 4, 1599802: 4, 1599803: 4, 1599804: 4, 1599805: 4, 1599806: 4, 1599807: 4, 1599808: 4, 1599809: 4, 1599810: 4, 1599811: 4, 1599812: 4, 1599813: 4, 1599814: 4, 1599815: 4, 1599816: 4, 1599817: 4, 1599818: 4, 1599819: 4, 1599820: 4, 1599821: 4, 1599822: 4, 1599823: 4, 1599824: 4, 1599825: 4, 1599826: 4, 1599827: 4, 1599828: 4, 1599829: 4, 1599830: 4, 1599831: 4, 1599832: 4, 1599833: 4, 1599834: 4, 1599835: 4, 1599836: 4, 1599837: 4, 1599838: 4, 1599839: 4, 1599840: 4, 1599841: 4, 1599842: 4, 1599843: 4, 1599844: 4, 1599845: 4, 1599846: 4, 1599847: 4, 1599848: 4, 1599849: 4, 1599850: 4, 1599851: 4, 1599852: 4, 1599853: 4, 1599854: 4, 1599855: 4, 1599856: 4, 1599857: 4, 1599858: 4, 1599859: 4, 1599860: 4, 1599861: 4, 1599862: 4, 1599863: 4, 1599864: 4, 1599865: 4, 1599866: 4, 1599867: 4, 1599868: 4, 1599869: 4, 1599870: 4, 1599871: 4, 1599872: 4, 1599873: 4, 1599874: 4, 1599875: 4, 1599876: 4, 1599877: 4, 1599878: 4, 1599879: 4, 1599880: 4, 1599881: 4, 1599882: 4, 1599883: 4, 1599884: 4, 1599885: 4, 1599886: 4, 1599887: 4, 1599888: 4, 1599889: 4, 1599890: 4, 1599891: 4, 1599892: 4, 1599893: 4, 1599894: 4, 1599895: 4, 1599896: 4, 1599897: 4, 1599898: 4, 1599899: 4, 1599900: 4, 1599901: 4, 1599902: 4, 1599903: 4, 1599904: 4, 1599905: 4, 1599906: 4, 1599907: 4, 1599908: 4, 1599909: 4, 1599910: 4, 1599911: 4, 1599912: 4, 1599913: 4, 1599914: 4, 1599915: 4, 1599916: 4, 1599917: 4, 1599918: 4, 1599919: 4, 1599920: 4, 1599921: 4, 1599922: 4, 1599923: 4, 1599924: 4, 1599925: 4, 1599926: 4, 1599927: 4, 1599928: 4, 1599929: 4, 1599930: 4, 1599931: 4, 1599932: 4, 1599933: 4, 1599934: 4, 1599935: 4, 1599936: 4, 1599937: 4, 1599938: 4, 1599939: 4, 1599940: 4, 1599941: 4, 1599942: 4, 1599943: 4, 1599944: 4, 1599945: 4, 1599946: 4, 1599947: 4, 1599948: 4, 1599949: 4, 1599950: 4, 1599951: 4, 1599952: 4, 1599953: 4, 1599954: 4, 1599955: 4, 1599956: 4, 1599957: 4, 1599958: 4, 1599959: 4, 1599960: 4, 1599961: 4, 1599962: 4, 1599963: 4, 1599964: 4, 1599965: 4, 1599966: 4, 1599967: 4, 1599968: 4, 1599969: 4, 1599970: 4, 1599971: 4, 1599972: 4, 1599973: 4, 1599974: 4, 1599975: 4, 1599976: 4, 1599977: 4, 1599978: 4, 1599979: 4, 1599980: 4, 1599981: 4, 1599982: 4, 1599983: 4, 1599984: 4, 1599985: 4, 1599986: 4, 1599987: 4, 1599988: 4, 1599989: 4, 1599990: 4, 1599991: 4, 1599992: 4, 1599993: 4, 1599994: 4, 1599995: 4, 1599996: 4, 1599997: 4, 1599998: 4}, 'comments': {1599799: \"@cherub_rock123 ehh....it's a day. \", 1599800: 'Haha yess making maria get a twitter ', 1599801: \"woooo elliot minor in 8 days!!! and i got my EM hoodie today!!! i'm tired and sick so it was a good....&quot;cheer myself up  &quot; thing \", 1599802: '@SanctumInc right-click, Repost. ', 1599803: '@mrschicken why yes, yes I am ', 1599804: '@maximumswearing yes  But a great mind escape!', 1599805: 'It has been storming all day . . . I love it  . Coming home tomorrow . Time to pack', 1599806: \"@logangator We'll figure something out.  I just have to be to MCO by 4am Thu.   So, either I bug you at 1am at your house, or see you Wed.\", 1599807: '@asimkovsky thanks for the info ', 1599808: '@gschan @malditamd @daydreamerping @ragdollgonewild @tarayqueen @manilenya Thank you  I owe you my sanity tonight.', 1599809: '#commtell09 Patty Perkins, VP Desktop Video Manager of Wachovia is up next- I understand many #SharePoint opps are  happening there ', 1599810: 'to be with you ', 1599811: '@GreenBaby_UK please follow so i can DM for the giveaway! ', 1599812: \"@v2black oh okay, well I did know the first band you mentioned by name, but other than that  don't know what they sound like \", 1599813: '@BenABaker Probably a player signing.  Maybe one of the rookies.  I can see it from my office ', 1599814: 'I am planning with friends to go to the mall! Hope we can do it. &lt;3 ', 1599815: \"@lilkup it's a relief. Conflict exhausts me \", 1599816: '@YouLuvMe sure............. bighead ', 1599817: 'twitter virginity broken ', 1599818: 'job interview...here we go. ', 1599819: 'Back on the job with some coffee thanks to @chimolschimols ', 1599820: \"@Piewacket1 good   sometimes a shot attention span could be good tho ;P  don't you agree   letting bright light flow over pie and self\", 1599821: 'new tatoo  love you megggiiiee', 1599822: 'guilty pleasure - yikes  i wish i could afford this shiz http://tinyurl.com/kqztg5', 1599823: '@hillsmarket Sweet.  Thanks for posting that.  And for letting us know ', 1599824: '@tonyhawk Yess! Good choice of laptop there, typing on a replica myself ', 1599825: 'lol. i just realized my room has a color theme. green is definitely growing in on me. go green! hahaha. i still love purple though! ', 1599826: 'Good morning Chicago, I love this city! ', 1599827: '@dfinchalicious  It ends up like that when good and bad collide ', 1599828: '@ost8doc no, I am photographing them!! ', 1599829: '@NickkkJonasss I like Poison Ivy the best ', 1599830: '@David_Wylie  You could have been born as an Emporer Penguin. Minus 200, carrying your kids on your feet. no food, water...Quit whining ', 1599831: '@extrabaggs on @KNBR right now!! Yay!! I LOVE reading his blog  I wish I knew what he looked like so I could say hi to him at the park lol', 1599832: \"Srsly now, I'm heading to my bed now. Goodnight Twitterverse! \", 1599833: '10.40 start and 12.30 finish tomorrow! yesssss. &lt;3 college  x', 1599834: \"@alexandervelky that's polite version - i only heard &quot;look much better on my bedroom floor&quot; how nice that you would hang it up for her \", 1599835: '@spindeezy for now on ur Queen Spindeezy ', 1599836: \"@DrWestGRACE yet, why can't I feel sorry for you?  LOL.  Seriously tho, safe travels \", 1599837: 'new to the twitta, someone help. ', 1599838: \"@Sky_1995 sorryyy. i gotta go now, my mom want to go to this computer. i'll talk to u some other time \", 1599839: 'What a pretty day  &quot;Just smile&quot;', 1599840: 'Good morning everyone! I hope you take some time to be outside &amp; soak in the beautiful morning before starting work. ', 1599841: 'just woke up, might watch a chick flick later. lol ', 1599842: '@minglebar thanks for checking on it ', 1599843: '@mkvlln Mr president, your tweets get cut off, i cant read everything. send it in an email? thanks love. ', 1599844: '@CatyFairy revolta follower hj? ', 1599845: \"@borededup no job actually.  but there have been plenty of odd jobs to get me by so far. i'll be your screen cleaning intern. \", 1599846: \"@Common_Pigeon You're quite welcome. \", 1599847: \"What has happened to the world...I'm actually doing chores and nobody told me to do them!!!  so proud! Lol\", 1599848: 'want FREE Apple products? iPhone 3G S macbook pro air iPod touch nano imac? click here! http://apple.freebiejeebies.co.uk/45615 ', 1599849: 'sick, sick, sick today, but still fingers crossed for eBay job! Send good thoughts ', 1599850: 'Getting ready to go out   I have to go to mac to buy brushes', 1599851: 'loves visitors so if you are goin to the Aerosmith concert you should hit me up!! ', 1599852: 'Nice out, but If I am going to leave here at 6am for a hike, I probably should at some point, pack for tomorrow! ', 1599853: '@WillaRyan At least trees are being spared. ', 1599854: \"i'm following 69 people. ;D how many people are YOU following? \", 1599855: 'taking a twit break...a lil blown about my boss...but i still have a job!  God is good', 1599856: 'http://twitpic.com/7joyo - this is how i feel today  Just a little imagery for everyone! lol', 1599857: 'has a day long date with God today, no phones allowed.  the world can rage tomorrow; but today, i am safe.', 1599858: '@ritasummerstar that too.  Apparently, they are out there - but in hiding I suspect  ', 1599859: '@kazzc22 no probs kazz hun,i think theres a new one going on now celebrity twitterer or summat? lol dunno?i just voted misha anyways ', 1599860: '@AlanHChin Thanks Alan! I need all the fundraising support I can get for my documentary - plus the shirts are cool too ', 1599861: \"@NLPride08 that's a perfectly reasonable time of day for me \", 1599862: '@6FuzzyFeet  hi ! thanks for the follow ', 1599863: 'Going to tampa saturday ', 1599864: \"I've watched spongebob now I'm going 2 find a gr8 coffee spot! This didn't even feel like a public holiday \", 1599865: \"I'm gonna go take a shower and turn in the last paper i have to deal with \", 1599866: \"@heich_dee Hahaha. Cannot luh. I'll feel bad coz he's got to work. So we talk when we can. Guess thats enough  hahaha\", 1599867: \"@obatron Try your Google Calendar. It's got tasks now. \", 1599868: '@carahsollins Good Morning Lady ', 1599869: \"@ddribin Saw that &amp; approved, re: bike. After years of being exceedingly bike UNfriendly, we are a' changin'! \", 1599870: \"If you're lucky enough to be different from everybody else, dont change \", 1599871: \"@FoSho174 LMAO @ capture the flag..bless their lil playing hearts  and i bet it is hott as heck..ain't it always\", 1599872: '@cineMATTic happy birthday, sir ', 1599873: 'I haz a big piece of carrot cake to take home! ', 1599874: '@ashleytisdale hih good morning  in austria its 17:36 hihi', 1599875: '@BrunoFigueiredo @ppinheiro76 @pedrocs Top Gear returns on Sunday btw ', 1599876: '@netscribe Thanks for considering Issuu ', 1599877: '@Bruno108 I would like some please! ', 1599878: '@aplusk ya got something against Baseball?? ', 1599879: 'No more drives. =D license in a moth ', 1599880: \"First day off in over a week... Thought i'd sleep in 4 once, but NO! my body wouldn't let me sleep past 8am  ugh!\", 1599881: 'Relaxin till workout time with Mama this afternoon. Goal- to run a 5k by end of summer in memory of Greg. I think I can, I think I can. ', 1599882: 'http://twitpic.com/7joyw - bring on summer ', 1599883: \"busy day at work!  So happy the Burkharts are in Houston!  I can't wait to see their beautiful home! \", 1599884: \"@LadyVanir LOL no you didn't break it. \", 1599885: 'Then  we head out again Denmark here we come ', 1599886: \"@kbgerth Well it's still Tuesday so no worries   I've made my TWD on Tuesday more times than I can tell you!\", 1599887: 'Getting ready to have a picnic in the park w/ muh partner in crime and bestie! Oh! Press ctrl+t and then ctrl+f on itunes for a surprise! ', 1599888: \"I see the light at the end of the tunnel!  It's so bright   Woo fricken hoo!\", 1599889: 'going to south streeeet with kate, hopefully my mom gets me the ring i wantt! ', 1599890: '@Jihav actually my other PSN ID is GUNSnSPEEDO O_o and oh, your welcome ', 1599891: \"@PaulMiller Do that! I appreciate the calories I'll be missing \", 1599892: '@SouthMainMuse Perfectly normal.  Thinking someday technology and social networks will all be hardwired to our brains.', 1599893: '@BizReviewer thanks so much for that acknowledgement...what is your name? ', 1599894: \"@ahamachi @eggirock drinking water trick totally worked guys... Didn't cry once \", 1599895: '@unworthysaint Are you having fun? ', 1599896: 'Beach then universal studios! Yeeeeeeman! ', 1599897: \"#haveyouever been alone at night, thought you heard footsteps behind and no one's there?? Fear of the Dark by Iron Maiden \", 1599898: 'Loved the USA hockey team ', 1599899: '@cris1015 My goal on stocks like $MTXX is to help, if just one person avoided this stock on my post, would make the keystrokes worth it.  ', 1599900: \"@wolfpack40 That's what I'm thinking! Knock her out of the water... very satisfying...  \", 1599901: \"@Jchawes yeah what about remotes for your car ? I couldn't find mine and didn't know how I was gonna get in my car.with your keys dumbass \", 1599902: \"Post your Le Mans 2009 pics: .. I didn't really shoot much, it's a bit like Silverstone isn't it?  But here ar.. http://tinyurl.com/nju67t\", 1599903: '@say_my_name TRAITOR!!!! love you ', 1599904: '@SarahG8s lol i wasnt on about the burns lol i was on about sumone  i know just seen. goin off twitter now gonna talk to sophie,talk later', 1599905: \"been playing big surf island and i've unlocked 5 trophies already hah \", 1599906: '@gabespears morning ', 1599907: 'I really dont get why Jaylor split . Oh well her and Lucas Till suit !  x', 1599908: \"my cluster is back and I'm a happy man \", 1599909: 'is excited for the day ', 1599910: 'Oh my god. Cookie dough frijj. I just spaffed in my pants  so much joy for Â£1.05.', 1599911: \"@ShannonGilliam good luck!!  what an exciting day   this is when the REAL fun begins, you're going to love being a mommy   xo\", 1599912: 'got our yearbooks in school  gonna try and get everyone to sing them... wish me luck', 1599913: '@PJA4ever Back.. ', 1599914: '@drummeroy nice new name  how you holding up?', 1599915: 'Hello good morning!  i wanna do something today.', 1599916: '@30STMWithJared love your tattoo! ', 1599917: 'MTO bom esse empire of sports...o futebol eh um pouco dificil pq usa o mouse mas eh bem divertido e online ', 1599918: '@planetchuckie haha! i wonder why i made her my pic... hmm.. will change it soon ', 1599919: 'Largest/fastest hotspot in U.S.A. is located in Atlanta. Suck it people outside the ATL  JK...no idea how to use it! http://bit.ly/eDjz7', 1599920: \"I just switched back to Opera (using the moi skin). It's really fast &amp; stable to work with - I'm loving it  http://www.opera.com/download/\", 1599921: 'scrubbed into surgery today ', 1599922: 'Bloody knackered! And still got two hours to go. Still, last shift tomorrow then a whole week off ', 1599923: '@McflyEngland haha yeah  but of course i love McFly more  lol', 1599924: '**** yeah!! I got the local Clinical Psychologist job!! ', 1599925: 'wants the @Jonasbrothers album ', 1599926: 'Wow 8:40 am is pretty early for me to wake up. Lol. ', 1599927: 'dropping molly off getting ice cream with Aaron I want him to meet Manda  spending the night with Meredith and Lauren I missed them dearly', 1599928: '@mom2jwo Woo hoo!!!! Keep working hard my dear!! ', 1599929: '@AndrewDearling *yawns* ', 1599930: 'Had an injection today. Not fun  the rrst of the school day has been good. Tonight i am going dancing yey ', 1599931: 'ahhh yay! found my missing sunglasses while cleaning my office!! so happy. ', 1599932: 'Lmao @seizuresalad that was cute and awesome  hahahahahahahahahahahahahaha!!!!!!!!!!!!!!!!!!!!!!!!!!!!!!!!!! â\\x99« http://blip.fm/~8bmo7', 1599933: 'Processing another credit application!  More hours to bill! ', 1599934: \"@ohsosweettreats Omg, I loveeeee frosted flakes with bananas on top. I didn't know anybody else knew about that... \", 1599935: 'Is back from getting the new jonas brothers cd!!!  on to my iPod it goes!!', 1599936: \"@siahoney I am good thanks!    How is #Eric, I haven't heard anything in awhile, have u visited him recently?  I hope he is feeling better\", 1599937: \"@varin I'm praying for you!!!  Hang in there, and trust your docs.  They know what's best, even if they don't act nicely. \", 1599938: 'OMG!!!!!!!!!! My dad will be having surgery today  Please keep him in your prayers ', 1599939: \"@MsKCJones Yeah it's very irritating, right? But with God on your side, you cant fail. \", 1599940: '@gone2dmb agreed!  Soulful eyes.  ', 1599941: 'is now a dsc student.  http://twitpic.com/7jp4d', 1599942: '@cate45_1999 I love all the pics!! ', 1599943: \"@ShanButterfly a star bowl (she loves stars) filled with dark chocolate. there's also a card. \", 1599944: 'oh yes, and btw, 8.00 ', 1599945: '@chriscuzzy someone wanted a &quot;Cuzzy&quot; memorabilia ', 1599946: \"@CharlotteSpeaks So, wasn't that funny re. the doggie?.... \", 1599947: 'doing another piece of media homework is that all i get now :/ milkshake diet starts today woop woop ', 1599948: 'finding out what this is. ', 1599949: 'OMG how good is ben and jerrys cookie dough icecream...come one really well goood lol, justwaitin to have a BBQ hope its stays like this ', 1599950: 'oooo haha just waking up and ready to eat a delicious breakfast and prepared to go in the afternoon to watch a movie ', 1599951: \"#Traveltuesday @GuyNGirlTravels Because their tweets are hilarious LOL and they're great travelers \", 1599952: \"any ideaZ on what to get dad for father's day ? No socks tho \", 1599953: 'God works mysteriously!i learn that if u think of the world wonderfully you will receive more &amp; get what u ask for ', 1599954: \"@_CrC_ mornin.. I'm enjoying a beautiful morning here in Phoenix. not too bad out yet \", 1599955: \"Woke up feeling rested and refreshed today! It's about time \", 1599956: '@naijagal You just HAD to throw that in. Tell her that I say thanks for the eye contact at her Brixton gig. managed to get a shot! ', 1599957: \"@siovene lol I don't blame you it's not the safest thing in the world \", 1599958: \"@ashinynewcoin yeah, that'd be the one  sorry to be repetitive!\", 1599959: '@pokapolas love the donut and the toadstool.  ', 1599960: '@crgrs359 Skip the aquarium and check out these fish   A lot cheaper lol http://bit.ly/2lQbBv', 1599961: \"@GroleauNET Yeah I'm being an ass today \", 1599962: \"@OHTristaN it's sunoudy \", 1599963: '@kbonded Newsflash: It worked ', 1599964: \"@stum450n Hi. Thanks for the follow. Nice website... check your carriage returns though, the bottom of 'Website &amp; brand identity' is out \", 1599965: 'got home an hour ago ate lunch watched some tv and now i listening to kelly clarkson no exam tomorrow yay!!!!!!!  3 down 4 to go', 1599966: 'checking my mail ', 1599967: 'done la examen! easy peasy  so proud of myself!!', 1599968: \"@davepell you're the undisputed authority on the topic.  goog recognizes!  \", 1599969: 'Thanks @eastwestchic &amp; @wangyip Thanks! That was just what I was looking for ', 1599970: \"@marttn thanks Martin. not the most imaginative interface, but it'll do for now \", 1599971: '@MikeJonesPhoto Congrats Mike  Way to go!', 1599972: 'http://twitpic.com/7jp4n - OMG! Office Space... I wanna steal it. ', 1599973: \"@yrclndstnlvr ahaha nooo you were just away from everyone else! i had to see Kara, she'd die. and yess we aree, ill see you saturday \", 1599974: \"@BizCoachDeb  Hey, I'm baack! And, thanks so much for all those kind notes while I was gone. They made me smile at times when I needed it!\", 1599975: '@mattycus Yeah, my conscience would be clear in that case. ', 1599976: '@MayorDorisWolfe Thats my girl - dishing out the &quot;advice&quot; ', 1599977: '@shebbs123 i second that ', 1599978: 'In the garden ', 1599979: '@myheartandmind jo jen by nemuselo zrovna tÃ© holce ael co nic ', 1599980: 'Another Commenting Contest! [;: Yay!!!  http://tinyurl.com/m6j2an', 1599981: '@thrillmesoon i figured out how to see my tweets and facebook status updates, and i was set  the groups seemed like a pain to set up...', 1599982: '@oxhot theri tomorrow, drinking coffee, talking about our most important and favourite issue! YOU know what I mean ', 1599983: \"You heard it here first -- We're having a girl. Hope it has my looks and Wendy's brains. (Kidding, babe). \", 1599984: 'if ur the lead singer in a band, beware falling prey to LSD &quot;Lead Singer Disease&quot; http://tinyurl.com/n65xjt  #music #haveyouever?', 1599985: '@tarayqueen too much ads on my blog. ', 1599986: '@La_r_a NEVEER  I think that you both will get on well with each other...', 1599987: \"@Roy_Everitt ha- good job. that's right - we gotta throw that #bigrun tag EVERYWHERE! I wanna get it trending before I start \", 1599988: '@Ms_Hip_Hop im glad ur doing well ', 1599989: 'WOOOOO! Xbox is back ', 1599990: \"@rmedina @LaTati Mmmm  That sounds absolutely perfect... but my schedule is full. I won't have time to lay in bed until Sunday. Ugh!!\", 1599991: 'ReCoVeRiNg FrOm ThE lOnG wEeKeNd ', 1599992: '@SCOOBY_GRITBOYS ', 1599993: '@Cliff_Forster Yeah, that does work better than just waiting for it  In the end I just wonder if I have time to keep up a good blog.', 1599994: 'Just woke up. Having no school is the best feeling ever ', 1599995: 'TheWDB.com - Very cool to hear old Walt interviews!  â\\x99« http://blip.fm/~8bmta', 1599996: 'Are you ready for your MoJo Makeover? Ask me for details ', 1599997: 'Happy 38th Birthday to my boo of alll time!!! Tupac Amaru Shakur ', 1599998: 'happy #charitytuesday @theNSPCC @SparksCharity @SpeakingUpH4H '}}\n"
     ]
    }
   ],
   "source": [
    "\n",
    "n = 200\n",
    "#j'en veux que 200 + et 200 - \n",
    "df = data[:n]\n",
    "negative_value = df.to_dict()\n",
    "df = data[-n:]\n",
    "positive_value = df.to_dict()\n",
    "\n",
    "print(negative_value ,'\\n', positive_value)"
   ]
  },
  {
   "cell_type": "code",
   "execution_count": 29,
   "metadata": {
    "colab": {
     "base_uri": "https://localhost:8080/"
    },
    "id": "jDIXb9EYOgLw",
    "outputId": "72baafad-24be-4c7c-bee3-542a635fbbb5"
   },
   "outputs": [
    {
     "name": "stdout",
     "output_type": "stream",
     "text": [
      "{0: \"is upset that he can't update his Facebook by texting it... and might cry as a result  School today also. Blah!\", 1: '@Kenichan I dived many times for the ball. Managed to save 50%  The rest go out of bounds', 2: 'my whole body feels itchy and like its on fire ', 3: \"@nationwideclass no, it's not behaving at all. i'm mad. why am i here? because I can't see you all over there. \", 4: '@Kwesidei not the whole crew ', 5: 'Need a hug ', 6: \"@LOLTrish hey  long time no see! Yes.. Rains a bit ,only a bit  LOL , I'm fine thanks , how's you ?\", 7: \"@Tatiana_K nope they didn't have it \", 8: '@twittera que me muera ? ', 9: \"spring break in plain city... it's snowing \", 10: 'I just re-pierced my ears ', 11: \"@caregiving I couldn't bear to watch it.  And I thought the UA loss was embarrassing . . . . .\", 12: '@octolinz16 It it counts, idk why I did either. you never talk to me anymore ', 13: \"@smarrison i would've been the first, but i didn't have a gun.    not really though, zac snyder's just a doucheclown.\", 14: '@iamjazzyfizzle I wish I got to watch it with you!! I miss you and @iamlilnicki  how was the premiere?!', 15: \"Hollis' death scene will hurt me severely to watch on film  wry is directors cut not out now?\", 16: 'about to file taxes ', 17: '@LettyA ahh ive always wanted to see rent  love the soundtrack!!', 18: '@FakerPattyPattz Oh dear. Were you drinking out of the forgotten table drinks? ', 19: \"@alydesigns i was out most of the day so didn't get much done \", 20: \"one of my friend called me, and asked to meet with her at Mid Valley today...but i've no time *sigh* \", 21: '@angry_barista I baked you a cake but I ated it ', 22: 'this week is not going as i had hoped ', 23: 'blagh class at 8 tomorrow ', 24: 'I hate when I have to call and wake people up ', 25: 'Just going to cry myself to sleep after watching Marley and Me.  ', 26: 'im sad now  Miss.Lilly', 27: \"ooooh.... LOL  that leslie.... and ok I won't do it again so leslie won't  get mad again \", 28: 'Meh... Almost Lover is the exception... this track gets me depressed every time. ', 29: 'some1 hacked my account on aim  now i have to make a new one', 30: '@alielayus I want to go to promote GEAR AND GROOVE but unfornately no ride there  I may b going to the one in Anaheim in May though', 31: 'thought sleeping in was an option tomorrow but realizing that it now is not. evaluations in the morning and work in the afternoon! ', 32: '@julieebaby awe i love you too!!!! 1 am here  i miss you', 33: '@HumpNinja I cry my asian eyes to sleep at night ', 34: \"ok I'm sick and spent an hour sitting in the shower cause I was too sick to stand and held back the puke like a champ. BED now \", 35: '@cocomix04 ill tell ya the story later  not a good day and ill be workin for like three more hours...', 36: '@MissXu sorry! bed time came here (GMT+1)   http://is.gd/fNge', 37: \"@fleurylis I don't either. Its depressing. I don't think I even want to know about the kids in suitcases. \", 38: \"Bed. Class 8-12. Work 12-3. Gym 3-5 or 6. Then class 6-10. Another day that's gonna fly by. I miss my girlfriend \", 39: \"really don't feel like getting up today... but got to study to for tomorrows practical exam... \", 40: \"He's the reason for the teardrops on my guitar the only one who has enough of me to break my heart \", 41: \"Sad, sad, sad. I don't know why but I hate this feeling  I wanna sleep and I still can't!\", 42: '@JonathanRKnight Awww I soo wish I was there to see you finally comfortable! Im sad that I missed it ', 43: \"Falling asleep. Just heard about that Tracy girl's body being found. How sad  My heart breaks for that family.\", 44: \"@Viennah Yay! I'm happy for you with your job! But that also means less time for me and you... \", 45: 'Just checked my user timeline on my blackberry, it looks like the twanking is still happening  Are ppl still having probs w/ BGs and UIDs?', 46: \"Oh man...was ironing @jeancjumbe's fave top to wear to a meeting. Burnt it \", 47: 'is strangely sad about LiLo and SamRo breaking up. ', 48: \"@tea oh! i'm so sorry  i didn't think about that before retweeting.\", 49: \"Broadband plan 'a massive broken promise' http://tinyurl.com/dcuc33 via www.diigo.com/~tautao Still waiting for broadband we are \", 50: \"@localtweeps Wow, tons of replies from you, may have to unfollow so I can see my friends' tweets, you're scrolling the feed a lot. \", 51: 'our duck and chicken are taking wayyy too long to hatch ', 52: 'Put vacation photos online a few yrs ago. PC crashed, and now I forget the name of the site. ', 53: 'I need a hug ', 54: '@andywana Not sure what they are, only that they are PoS! As much as I want to, I dont think can trade away company assets sorry andy! ', 55: '@oanhLove I hate when that happens... ', 56: \"I have a sad feeling that Dallas is not going to show up  I gotta say though, you'd think more shows would use music from the game. mmm\", 57: 'Ugh....92 degrees tomorrow ', 58: 'Where did u move to?  I thought u were already in sd. ?? Hmmm. Random u found me. Glad to hear yer doing well.', 59: \"@BatManYNG I miss my ps3, it's out of commission  Wutcha playing? Have you copped 'Blood On The Sand'?\", 60: 'just leaving the parking lot of work! ', 61: 'The Life is cool. But not for Me. ', 62: \"Sadly though, I've never gotten to experience the post coitus cigarette before, and now I never will. \", 63: 'I had such a nice day. Too bad the rain comes in tomorrow at 5am ', 64: \"@Starrbby too bad I won't be around I lost my job and can't even pay my phone bill lmao aw shucks \", 65: 'Damm back to school tomorrow ', 66: \"Mo jobs, no money.  how in the hell is min wage here 4 f'n clams an hour?\", 67: '@katortiz  Not forever... See you soon!', 68: '@Lt_Algonquin agreed, I saw the failwhale allllll day today. ', 69: \"@jdarter Oh! Haha... dude I dont really look at em unless someone says HEY I ADDED YOU. Sorry  I'm so terrible at that. I need a pop up!\", 70: \"@ninjen I'm sure you're right...    I need to start working out with you and the Nikster... Or Jared at least!\", 71: 'i really hate how people diss my bands!  Trace is clearly NOT ugly!', 72: 'Gym attire today was: Puma singlet, Adidas shorts.......and black business socks and leather shoes  Lucky did not run into any cute girls.', 73: \"Why won't you show my location?!   http://twitpic.com/2y2es\", 74: 'No picnic  my phone smells like citrus.', 75: \"@ashleyac My donkey is sensitive about such comments. Nevertheless, he'd (and me'd) be glad to see your mug asap. Charger is still awol. \", 76: 'No new csi tonight.  FML', 77: 'i think my arms are sore from tennis ', 78: 'wonders why someone that u like so much can make you so unhappy in a split seccond . depressed . ', 79: 'sleep soon... i just hate saying bye and see you tomorrow for the night. ', 80: '@statravelAU just got ur newsletter, those fares really are unbelievable, shame I already booked and paid for mine ', 81: \"missin' the boo \", 82: '@markhardy1974 Me too  #itm', 83: \"Damn... I don't have any chalk! MY CHALKBOARD IS USELESS \", 84: \"had a blast at the Getty Villa, but hates that she's had a sore throat all day. It's just getting worse too \", 85: '@msdrama hey missed ya at the meeting  sup mama', 86: \"My tummy hurts.  I wonder if the hypnosis has anything to do with it? If so, it's working, I get it, STOP SMOKING!!!\", 87: 'why is it always the fat ones?! ', 88: \"@januarycrimson Sorry, babe!!  My fam annoys me too. Thankfully, they're asleep right now. Muahaha. *evil laugh*\", 89: '@Hollywoodheat I should have paid more attention when we covered photoshop in my webpage design class in undergrad ', 90: \"wednesday my b-day! don't know what 2 do!! \", 91: 'Poor cameron (the hills) ', 92: 'pray for me please, the ex is threatening to start sh** at my/our babies 1st Birthday party. what a jerk. and I still have a headache ', 93: '@makeherfamous hmm  , do u really enjoy being with him ? if the problems are too constants u should think things more , find someone ulike', 94: 'Strider is a sick little puppy  http://apps.facebook.com/dogbook/profile/view/5248435', 95: \"so rylee,grace...wana go steve's party or not?? SADLY SINCE ITS EASTER I WNT B ABLE 2 DO MUCH  BUT OHH WELL.....\", 96: \"hey, I actually won one of my bracket pools! Too bad it wasn't the one for money \", 97: \"@stark YOU don't follow me, either  and i work for you!\", 98: 'A bad nite for the favorite teams: Astros and Spartans lose.  The nite out with T.W. was good.', 99: ' Body Of Missing Northern Calif. Girl Found: Police have found the remains of a missing Northern California girl .. http://tr.im/imji', 100: '@mangaaa I hope they will increase the capacity fast, yesterday was such a pain. Got the fail whale +15 times in 2 hours.... ', 101: 'Behind on my classes for work ', 102: 'watching &quot;House&quot; ', 103: '@kpreyes Remember my bum leg? Strikes back this time its serious ', 104: '@paradisej cool, i will. their are all kinds of complaints about this laptop online about overheating, but no recalls ', 105: 'Emily will be glad when Mommy is done training at her new job. She misses her.  http://apps.facebook.com/dogbook/profile/view/6176014', 106: 'would rather the first party send bad messages than the 3rd party send mixed ones  Sophmore year all over again?', 107: \"@Henkuyinepu it's overrated \", 108: '@marykatherine_q i know! I heard it this afternoon and wondered the same thing. Moscow is so behind the times ', 109: 'laying in bed with no voice.. ', 110: \"I'm sooo sad!!! they killed off Kutner on House  whyyyyyyyy\", 111: '@jacobsummers Sorry  tell them mea culpa from me and that I really am sorry.', 112: \"@Alliana07 it didn't make any sense to me, the suicide thing. I refuse to believe that that is actually what happened. \", 113: '@salancaster  hope your ok.', 114: \"@mercedesashley Damn! The grind is inspirational and saddening at the same time.  Don't want you to stop cuz I like what u do! Much love\", 115: '@HibaNick yeah aw but i know i wudnt stand a chance ', 116: 'ugh. cant sleep. its 1:30am. ', 117: \"Hanging in Crooners. Wanna sing. Can't. Sucks. \", 118: '@eRRe_sC aaw i miss ya all too.. im leaving to BH tomorrow &quot;morning&quot; i think.. aww i wanna go to the beach w u girls!! ', 119: \"Is pissed off that there's no ASBA's for a radio station. \", 120: \"wednesday my b-day n don't know what 2 do!  \", 121: 'I know my life has been flipped upside down when I just thought in my head that some Ramen sounds good. ', 122: 'I am in pain. My back and sides hurt. Not to mention crying is made of fail. ', 123: \"Late night snack, glass of OJ b/c I'm &quot;down with the sickness&quot;, then back to sleep...ugh I hate getting sick... \", 124: \"@allyheman but.. but.. but.. I'm not a big fan on camilla belle \", 125: \"@grum WAH I can't see clip, must be el-stupido work filters. Can't wait 'till I get a 'puter. Something else 2 blame ex 4. He broke mine \", 126: \"This week just seems to get longer and longer in terms of how much I need to do.. and how much I'm actually going to get done \", 127: \"I'm so cold \", 128: \"@thecoolestout Ehhh don't. Weather's gonna take a turn for the ugly tomorrow \", 129: '@chelserlynn haha its so cooooold in the d! and no  but you should still go to the show. they do some incredible stuff', 130: 'Hoping the tummy rumbles go away soon ', 131: \"@Knights_ No, no notice. They told me I'd be working tomorrow, and then I called the agency to follow up and they said it was over. \", 132: 'almost bedtime ', 133: \"I'm missing you babe..  but as long as your alive I'm happy.. Yawwwnn.. I'm tired my love imma try to sleep hopefully you had a headstart\", 134: 'Agh...snow!!! ', 135: 'i miss kenny powers ', 136: \"@BridgetsBeaches Thank you for letting people know, but now I'm sad that the direct message I got wasn't actually from Bridget \", 137: '...and, India missed out its 100th Test victory n 10th consecutive win without a loss. ', 138: \"@JonathanRKnight I guess that's a no then. \", 139: 'sadly is going to bed. ', 140: '@ozesteph1992 Shame to hear this Stephan ', 141: \"@mrsaintnick hey! i'm leavin in the morning... \", 142: 'Was intending to finish editing my 536-page novel manuscript tonight, but that will probably not happen. And only 12 pages are left ', 143: 'laid around too much today... now my head hurts ', 144: \"@twista202 I still haven't read the 9th&amp;10th Princess diaries  Saving Francesca made me cry at the end. Hmm those are easy books.\", 145: 'my nokia 1110 died..  ', 146: \"My mom might have breast cancer won't find out anything for. Like a week I'm so worried! \", 147: 'Going to sleep. Hoping tomorrow is a better day. ', 148: '@rumblepurr lol.. wish they understood daylight savings has ended though and breakfast is an hour later  They keep waking the kids up too', 149: '@onemoreproject that is lame ', 150: \"I don't understand... I really don't \", 151: \"HEROES just isn't doing it for me this season... \", 152: \"Living not downtown sure isn't much fun.  \", 153: '@jonathanchard Not calorie wise   I wish junk food was calorie free! I ate a thing of sour skittles and a big ass cherry coke!', 154: 'Man Work is Hard ', 155: 'getting sick  time for some hot tea, studying, and then sleeeep', 156: 'Getting eyebrows waxed. More pain ', 157: 'No phantasy star yesterday  going to work...', 158: \"Oh - Just got all my MacHeist 3.0 apps - sweet. Didn't get the Espresso serial no though although they said they sent it - oh well \", 159: \"Picked Mich St to win it all from the get go.  Was feeling pretty good about that pick all the way up until......tonight.  A's lost too \", 160: 'is alone downstairs...working ', 161: 'I feel bad for doing it ', 162: \"@RyanSeacrest is it just me, or she hates anoop. i mean seriously, she's kinda mean to him. \", 163: '@pinkserendipity yes sprint has 4g only in baltimore and chicago so far ', 164: \"I'm stuck awake in the middle of the night for the second day in a row. And I felt terrible yesterday. \", 165: 'Thanks for bursting my bubble ', 166: \"Going to school soon... can't find anything to wear!! gosh it's so hard \", 167: '@marieclr I was serious  LOL', 168: '@naughtyhaughty I had on my page for sooooo long!!! Until it got deleted  Sad day in history', 169: 'Crazy wind today = no birding  http://ff.im/1XTTi', 170: 'currently at work.. ', 171: \"Grrr.. my ipods acting weird too! Jai ho and thinking of you aren't playing the full songs.. ughh. \", 172: '@penndbad send me the DVD cos I have missed out on heaps  NOT happy about that!', 173: \"i don't see the big deal with this website \", 174: \"@machineplay I'm so sorry you're having to go through this. Again.  #therapyfail\", 175: '@ColinDeMar Far too out of the way for rail.  any other tips?', 176: \"I'm not still up I swear. Why do I keep losing. gaining. losing. gaining. tweeps?  So heart wrenching.\", 177: \"Today I realized I am too good at hiding things, even I can't find it \", 178: 'Staying at a friends house...house sitting, neighbors are SO loud-having a party ', 179: '@dannyvegasbaby danny im upset that i wasnt here to watch the live chat  i was in a car. for 3 hours on a trip im soooo upset!!', 180: 'Check out my mug  http://www.erika-obscura.blogspot.com', 181: 'Borders closed at 10 ', 182: \"Downloading NIN's new album &quot;the slip&quot; - when the hell did this come out? I'm so behind the times these days \", 183: \"Just woke up an already have written some e-mail... I've to go early at University today as I have to teach at 8:30 AM! \", 184: 'is watching the hill . . .and its making me sad ', 185: 'So many channels.... yet so so boring... lazy day again  may have to find a hobby', 186: '@supersport I miss my buddy  ill be in NY on the 25th', 187: \"@robluketic  love the french. I tell people here in the south i'm qtr. french and they snarl at me.  french are beautiful people\", 188: 'Opps.. As I said.. I still got one day remain and now problem come ', 189: \"I activated my Selfcontrol block early, meaning I can't check out the new QC.  Regularizing my internal clock is might be difficult. #fb\", 190: '@HillyDoP  oH NO', 191: 'spencer is not a good guy. ', 192: '@goodlaura What about Reese dying on #TTSC? And season finale next week.  #24 boring, Madame President is a crazy woman.', 193: '@JonathanRKnight I hate the limited letters,too.Hope you and the guys are fine?I pray for my dog,sheï¿½s not well ', 194: \"didn't get shit done today ~ i'm so screwed \", 195: 'wanttss to go out ', 196: 'Is not going to sleep tonite. ', 197: 'too worried and tired to post tonight ', 198: \"couldn't get shit done today ~ i'm so screwed \", 199: 'Job Interview in Cardiff today, wish me luck! Got about 3 hours sleep '}\n",
      "{1599799: \"@cherub_rock123 ehh....it's a day. \", 1599800: 'Haha yess making maria get a twitter ', 1599801: \"woooo elliot minor in 8 days!!! and i got my EM hoodie today!!! i'm tired and sick so it was a good....&quot;cheer myself up  &quot; thing \", 1599802: '@SanctumInc right-click, Repost. ', 1599803: '@mrschicken why yes, yes I am ', 1599804: '@maximumswearing yes  But a great mind escape!', 1599805: 'It has been storming all day . . . I love it  . Coming home tomorrow . Time to pack', 1599806: \"@logangator We'll figure something out.  I just have to be to MCO by 4am Thu.   So, either I bug you at 1am at your house, or see you Wed.\", 1599807: '@asimkovsky thanks for the info ', 1599808: '@gschan @malditamd @daydreamerping @ragdollgonewild @tarayqueen @manilenya Thank you  I owe you my sanity tonight.', 1599809: '#commtell09 Patty Perkins, VP Desktop Video Manager of Wachovia is up next- I understand many #SharePoint opps are  happening there ', 1599810: 'to be with you ', 1599811: '@GreenBaby_UK please follow so i can DM for the giveaway! ', 1599812: \"@v2black oh okay, well I did know the first band you mentioned by name, but other than that  don't know what they sound like \", 1599813: '@BenABaker Probably a player signing.  Maybe one of the rookies.  I can see it from my office ', 1599814: 'I am planning with friends to go to the mall! Hope we can do it. &lt;3 ', 1599815: \"@lilkup it's a relief. Conflict exhausts me \", 1599816: '@YouLuvMe sure............. bighead ', 1599817: 'twitter virginity broken ', 1599818: 'job interview...here we go. ', 1599819: 'Back on the job with some coffee thanks to @chimolschimols ', 1599820: \"@Piewacket1 good   sometimes a shot attention span could be good tho ;P  don't you agree   letting bright light flow over pie and self\", 1599821: 'new tatoo  love you megggiiiee', 1599822: 'guilty pleasure - yikes  i wish i could afford this shiz http://tinyurl.com/kqztg5', 1599823: '@hillsmarket Sweet.  Thanks for posting that.  And for letting us know ', 1599824: '@tonyhawk Yess! Good choice of laptop there, typing on a replica myself ', 1599825: 'lol. i just realized my room has a color theme. green is definitely growing in on me. go green! hahaha. i still love purple though! ', 1599826: 'Good morning Chicago, I love this city! ', 1599827: '@dfinchalicious  It ends up like that when good and bad collide ', 1599828: '@ost8doc no, I am photographing them!! ', 1599829: '@NickkkJonasss I like Poison Ivy the best ', 1599830: '@David_Wylie  You could have been born as an Emporer Penguin. Minus 200, carrying your kids on your feet. no food, water...Quit whining ', 1599831: '@extrabaggs on @KNBR right now!! Yay!! I LOVE reading his blog  I wish I knew what he looked like so I could say hi to him at the park lol', 1599832: \"Srsly now, I'm heading to my bed now. Goodnight Twitterverse! \", 1599833: '10.40 start and 12.30 finish tomorrow! yesssss. &lt;3 college  x', 1599834: \"@alexandervelky that's polite version - i only heard &quot;look much better on my bedroom floor&quot; how nice that you would hang it up for her \", 1599835: '@spindeezy for now on ur Queen Spindeezy ', 1599836: \"@DrWestGRACE yet, why can't I feel sorry for you?  LOL.  Seriously tho, safe travels \", 1599837: 'new to the twitta, someone help. ', 1599838: \"@Sky_1995 sorryyy. i gotta go now, my mom want to go to this computer. i'll talk to u some other time \", 1599839: 'What a pretty day  &quot;Just smile&quot;', 1599840: 'Good morning everyone! I hope you take some time to be outside &amp; soak in the beautiful morning before starting work. ', 1599841: 'just woke up, might watch a chick flick later. lol ', 1599842: '@minglebar thanks for checking on it ', 1599843: '@mkvlln Mr president, your tweets get cut off, i cant read everything. send it in an email? thanks love. ', 1599844: '@CatyFairy revolta follower hj? ', 1599845: \"@borededup no job actually.  but there have been plenty of odd jobs to get me by so far. i'll be your screen cleaning intern. \", 1599846: \"@Common_Pigeon You're quite welcome. \", 1599847: \"What has happened to the world...I'm actually doing chores and nobody told me to do them!!!  so proud! Lol\", 1599848: 'want FREE Apple products? iPhone 3G S macbook pro air iPod touch nano imac? click here! http://apple.freebiejeebies.co.uk/45615 ', 1599849: 'sick, sick, sick today, but still fingers crossed for eBay job! Send good thoughts ', 1599850: 'Getting ready to go out   I have to go to mac to buy brushes', 1599851: 'loves visitors so if you are goin to the Aerosmith concert you should hit me up!! ', 1599852: 'Nice out, but If I am going to leave here at 6am for a hike, I probably should at some point, pack for tomorrow! ', 1599853: '@WillaRyan At least trees are being spared. ', 1599854: \"i'm following 69 people. ;D how many people are YOU following? \", 1599855: 'taking a twit break...a lil blown about my boss...but i still have a job!  God is good', 1599856: 'http://twitpic.com/7joyo - this is how i feel today  Just a little imagery for everyone! lol', 1599857: 'has a day long date with God today, no phones allowed.  the world can rage tomorrow; but today, i am safe.', 1599858: '@ritasummerstar that too.  Apparently, they are out there - but in hiding I suspect  ', 1599859: '@kazzc22 no probs kazz hun,i think theres a new one going on now celebrity twitterer or summat? lol dunno?i just voted misha anyways ', 1599860: '@AlanHChin Thanks Alan! I need all the fundraising support I can get for my documentary - plus the shirts are cool too ', 1599861: \"@NLPride08 that's a perfectly reasonable time of day for me \", 1599862: '@6FuzzyFeet  hi ! thanks for the follow ', 1599863: 'Going to tampa saturday ', 1599864: \"I've watched spongebob now I'm going 2 find a gr8 coffee spot! This didn't even feel like a public holiday \", 1599865: \"I'm gonna go take a shower and turn in the last paper i have to deal with \", 1599866: \"@heich_dee Hahaha. Cannot luh. I'll feel bad coz he's got to work. So we talk when we can. Guess thats enough  hahaha\", 1599867: \"@obatron Try your Google Calendar. It's got tasks now. \", 1599868: '@carahsollins Good Morning Lady ', 1599869: \"@ddribin Saw that &amp; approved, re: bike. After years of being exceedingly bike UNfriendly, we are a' changin'! \", 1599870: \"If you're lucky enough to be different from everybody else, dont change \", 1599871: \"@FoSho174 LMAO @ capture the flag..bless their lil playing hearts  and i bet it is hott as heck..ain't it always\", 1599872: '@cineMATTic happy birthday, sir ', 1599873: 'I haz a big piece of carrot cake to take home! ', 1599874: '@ashleytisdale hih good morning  in austria its 17:36 hihi', 1599875: '@BrunoFigueiredo @ppinheiro76 @pedrocs Top Gear returns on Sunday btw ', 1599876: '@netscribe Thanks for considering Issuu ', 1599877: '@Bruno108 I would like some please! ', 1599878: '@aplusk ya got something against Baseball?? ', 1599879: 'No more drives. =D license in a moth ', 1599880: \"First day off in over a week... Thought i'd sleep in 4 once, but NO! my body wouldn't let me sleep past 8am  ugh!\", 1599881: 'Relaxin till workout time with Mama this afternoon. Goal- to run a 5k by end of summer in memory of Greg. I think I can, I think I can. ', 1599882: 'http://twitpic.com/7joyw - bring on summer ', 1599883: \"busy day at work!  So happy the Burkharts are in Houston!  I can't wait to see their beautiful home! \", 1599884: \"@LadyVanir LOL no you didn't break it. \", 1599885: 'Then  we head out again Denmark here we come ', 1599886: \"@kbgerth Well it's still Tuesday so no worries   I've made my TWD on Tuesday more times than I can tell you!\", 1599887: 'Getting ready to have a picnic in the park w/ muh partner in crime and bestie! Oh! Press ctrl+t and then ctrl+f on itunes for a surprise! ', 1599888: \"I see the light at the end of the tunnel!  It's so bright   Woo fricken hoo!\", 1599889: 'going to south streeeet with kate, hopefully my mom gets me the ring i wantt! ', 1599890: '@Jihav actually my other PSN ID is GUNSnSPEEDO O_o and oh, your welcome ', 1599891: \"@PaulMiller Do that! I appreciate the calories I'll be missing \", 1599892: '@SouthMainMuse Perfectly normal.  Thinking someday technology and social networks will all be hardwired to our brains.', 1599893: '@BizReviewer thanks so much for that acknowledgement...what is your name? ', 1599894: \"@ahamachi @eggirock drinking water trick totally worked guys... Didn't cry once \", 1599895: '@unworthysaint Are you having fun? ', 1599896: 'Beach then universal studios! Yeeeeeeman! ', 1599897: \"#haveyouever been alone at night, thought you heard footsteps behind and no one's there?? Fear of the Dark by Iron Maiden \", 1599898: 'Loved the USA hockey team ', 1599899: '@cris1015 My goal on stocks like $MTXX is to help, if just one person avoided this stock on my post, would make the keystrokes worth it.  ', 1599900: \"@wolfpack40 That's what I'm thinking! Knock her out of the water... very satisfying...  \", 1599901: \"@Jchawes yeah what about remotes for your car ? I couldn't find mine and didn't know how I was gonna get in my car.with your keys dumbass \", 1599902: \"Post your Le Mans 2009 pics: .. I didn't really shoot much, it's a bit like Silverstone isn't it?  But here ar.. http://tinyurl.com/nju67t\", 1599903: '@say_my_name TRAITOR!!!! love you ', 1599904: '@SarahG8s lol i wasnt on about the burns lol i was on about sumone  i know just seen. goin off twitter now gonna talk to sophie,talk later', 1599905: \"been playing big surf island and i've unlocked 5 trophies already hah \", 1599906: '@gabespears morning ', 1599907: 'I really dont get why Jaylor split . Oh well her and Lucas Till suit !  x', 1599908: \"my cluster is back and I'm a happy man \", 1599909: 'is excited for the day ', 1599910: 'Oh my god. Cookie dough frijj. I just spaffed in my pants  so much joy for Â£1.05.', 1599911: \"@ShannonGilliam good luck!!  what an exciting day   this is when the REAL fun begins, you're going to love being a mommy   xo\", 1599912: 'got our yearbooks in school  gonna try and get everyone to sing them... wish me luck', 1599913: '@PJA4ever Back.. ', 1599914: '@drummeroy nice new name  how you holding up?', 1599915: 'Hello good morning!  i wanna do something today.', 1599916: '@30STMWithJared love your tattoo! ', 1599917: 'MTO bom esse empire of sports...o futebol eh um pouco dificil pq usa o mouse mas eh bem divertido e online ', 1599918: '@planetchuckie haha! i wonder why i made her my pic... hmm.. will change it soon ', 1599919: 'Largest/fastest hotspot in U.S.A. is located in Atlanta. Suck it people outside the ATL  JK...no idea how to use it! http://bit.ly/eDjz7', 1599920: \"I just switched back to Opera (using the moi skin). It's really fast &amp; stable to work with - I'm loving it  http://www.opera.com/download/\", 1599921: 'scrubbed into surgery today ', 1599922: 'Bloody knackered! And still got two hours to go. Still, last shift tomorrow then a whole week off ', 1599923: '@McflyEngland haha yeah  but of course i love McFly more  lol', 1599924: '**** yeah!! I got the local Clinical Psychologist job!! ', 1599925: 'wants the @Jonasbrothers album ', 1599926: 'Wow 8:40 am is pretty early for me to wake up. Lol. ', 1599927: 'dropping molly off getting ice cream with Aaron I want him to meet Manda  spending the night with Meredith and Lauren I missed them dearly', 1599928: '@mom2jwo Woo hoo!!!! Keep working hard my dear!! ', 1599929: '@AndrewDearling *yawns* ', 1599930: 'Had an injection today. Not fun  the rrst of the school day has been good. Tonight i am going dancing yey ', 1599931: 'ahhh yay! found my missing sunglasses while cleaning my office!! so happy. ', 1599932: 'Lmao @seizuresalad that was cute and awesome  hahahahahahahahahahahahahaha!!!!!!!!!!!!!!!!!!!!!!!!!!!!!!!!!! â\\x99« http://blip.fm/~8bmo7', 1599933: 'Processing another credit application!  More hours to bill! ', 1599934: \"@ohsosweettreats Omg, I loveeeee frosted flakes with bananas on top. I didn't know anybody else knew about that... \", 1599935: 'Is back from getting the new jonas brothers cd!!!  on to my iPod it goes!!', 1599936: \"@siahoney I am good thanks!    How is #Eric, I haven't heard anything in awhile, have u visited him recently?  I hope he is feeling better\", 1599937: \"@varin I'm praying for you!!!  Hang in there, and trust your docs.  They know what's best, even if they don't act nicely. \", 1599938: 'OMG!!!!!!!!!! My dad will be having surgery today  Please keep him in your prayers ', 1599939: \"@MsKCJones Yeah it's very irritating, right? But with God on your side, you cant fail. \", 1599940: '@gone2dmb agreed!  Soulful eyes.  ', 1599941: 'is now a dsc student.  http://twitpic.com/7jp4d', 1599942: '@cate45_1999 I love all the pics!! ', 1599943: \"@ShanButterfly a star bowl (she loves stars) filled with dark chocolate. there's also a card. \", 1599944: 'oh yes, and btw, 8.00 ', 1599945: '@chriscuzzy someone wanted a &quot;Cuzzy&quot; memorabilia ', 1599946: \"@CharlotteSpeaks So, wasn't that funny re. the doggie?.... \", 1599947: 'doing another piece of media homework is that all i get now :/ milkshake diet starts today woop woop ', 1599948: 'finding out what this is. ', 1599949: 'OMG how good is ben and jerrys cookie dough icecream...come one really well goood lol, justwaitin to have a BBQ hope its stays like this ', 1599950: 'oooo haha just waking up and ready to eat a delicious breakfast and prepared to go in the afternoon to watch a movie ', 1599951: \"#Traveltuesday @GuyNGirlTravels Because their tweets are hilarious LOL and they're great travelers \", 1599952: \"any ideaZ on what to get dad for father's day ? No socks tho \", 1599953: 'God works mysteriously!i learn that if u think of the world wonderfully you will receive more &amp; get what u ask for ', 1599954: \"@_CrC_ mornin.. I'm enjoying a beautiful morning here in Phoenix. not too bad out yet \", 1599955: \"Woke up feeling rested and refreshed today! It's about time \", 1599956: '@naijagal You just HAD to throw that in. Tell her that I say thanks for the eye contact at her Brixton gig. managed to get a shot! ', 1599957: \"@siovene lol I don't blame you it's not the safest thing in the world \", 1599958: \"@ashinynewcoin yeah, that'd be the one  sorry to be repetitive!\", 1599959: '@pokapolas love the donut and the toadstool.  ', 1599960: '@crgrs359 Skip the aquarium and check out these fish   A lot cheaper lol http://bit.ly/2lQbBv', 1599961: \"@GroleauNET Yeah I'm being an ass today \", 1599962: \"@OHTristaN it's sunoudy \", 1599963: '@kbonded Newsflash: It worked ', 1599964: \"@stum450n Hi. Thanks for the follow. Nice website... check your carriage returns though, the bottom of 'Website &amp; brand identity' is out \", 1599965: 'got home an hour ago ate lunch watched some tv and now i listening to kelly clarkson no exam tomorrow yay!!!!!!!  3 down 4 to go', 1599966: 'checking my mail ', 1599967: 'done la examen! easy peasy  so proud of myself!!', 1599968: \"@davepell you're the undisputed authority on the topic.  goog recognizes!  \", 1599969: 'Thanks @eastwestchic &amp; @wangyip Thanks! That was just what I was looking for ', 1599970: \"@marttn thanks Martin. not the most imaginative interface, but it'll do for now \", 1599971: '@MikeJonesPhoto Congrats Mike  Way to go!', 1599972: 'http://twitpic.com/7jp4n - OMG! Office Space... I wanna steal it. ', 1599973: \"@yrclndstnlvr ahaha nooo you were just away from everyone else! i had to see Kara, she'd die. and yess we aree, ill see you saturday \", 1599974: \"@BizCoachDeb  Hey, I'm baack! And, thanks so much for all those kind notes while I was gone. They made me smile at times when I needed it!\", 1599975: '@mattycus Yeah, my conscience would be clear in that case. ', 1599976: '@MayorDorisWolfe Thats my girl - dishing out the &quot;advice&quot; ', 1599977: '@shebbs123 i second that ', 1599978: 'In the garden ', 1599979: '@myheartandmind jo jen by nemuselo zrovna tÃ© holce ael co nic ', 1599980: 'Another Commenting Contest! [;: Yay!!!  http://tinyurl.com/m6j2an', 1599981: '@thrillmesoon i figured out how to see my tweets and facebook status updates, and i was set  the groups seemed like a pain to set up...', 1599982: '@oxhot theri tomorrow, drinking coffee, talking about our most important and favourite issue! YOU know what I mean ', 1599983: \"You heard it here first -- We're having a girl. Hope it has my looks and Wendy's brains. (Kidding, babe). \", 1599984: 'if ur the lead singer in a band, beware falling prey to LSD &quot;Lead Singer Disease&quot; http://tinyurl.com/n65xjt  #music #haveyouever?', 1599985: '@tarayqueen too much ads on my blog. ', 1599986: '@La_r_a NEVEER  I think that you both will get on well with each other...', 1599987: \"@Roy_Everitt ha- good job. that's right - we gotta throw that #bigrun tag EVERYWHERE! I wanna get it trending before I start \", 1599988: '@Ms_Hip_Hop im glad ur doing well ', 1599989: 'WOOOOO! Xbox is back ', 1599990: \"@rmedina @LaTati Mmmm  That sounds absolutely perfect... but my schedule is full. I won't have time to lay in bed until Sunday. Ugh!!\", 1599991: 'ReCoVeRiNg FrOm ThE lOnG wEeKeNd ', 1599992: '@SCOOBY_GRITBOYS ', 1599993: '@Cliff_Forster Yeah, that does work better than just waiting for it  In the end I just wonder if I have time to keep up a good blog.', 1599994: 'Just woke up. Having no school is the best feeling ever ', 1599995: 'TheWDB.com - Very cool to hear old Walt interviews!  â\\x99« http://blip.fm/~8bmta', 1599996: 'Are you ready for your MoJo Makeover? Ask me for details ', 1599997: 'Happy 38th Birthday to my boo of alll time!!! Tupac Amaru Shakur ', 1599998: 'happy #charitytuesday @theNSPCC @SparksCharity @SpeakingUpH4H '}\n",
      "{0: \"is upset that he can't update his Facebook by texting it... and might cry as a result  School today also. Blah!\", 1: '@Kenichan I dived many times for the ball. Managed to save 50%  The rest go out of bounds', 2: 'my whole body feels itchy and like its on fire ', 3: \"@nationwideclass no, it's not behaving at all. i'm mad. why am i here? because I can't see you all over there. \", 4: '@Kwesidei not the whole crew ', 5: 'Need a hug ', 6: \"@LOLTrish hey  long time no see! Yes.. Rains a bit ,only a bit  LOL , I'm fine thanks , how's you ?\", 7: \"@Tatiana_K nope they didn't have it \", 8: '@twittera que me muera ? ', 9: \"spring break in plain city... it's snowing \", 10: 'I just re-pierced my ears ', 11: \"@caregiving I couldn't bear to watch it.  And I thought the UA loss was embarrassing . . . . .\", 12: '@octolinz16 It it counts, idk why I did either. you never talk to me anymore ', 13: \"@smarrison i would've been the first, but i didn't have a gun.    not really though, zac snyder's just a doucheclown.\", 14: '@iamjazzyfizzle I wish I got to watch it with you!! I miss you and @iamlilnicki  how was the premiere?!', 15: \"Hollis' death scene will hurt me severely to watch on film  wry is directors cut not out now?\", 16: 'about to file taxes ', 17: '@LettyA ahh ive always wanted to see rent  love the soundtrack!!', 18: '@FakerPattyPattz Oh dear. Were you drinking out of the forgotten table drinks? ', 19: \"@alydesigns i was out most of the day so didn't get much done \", 20: \"one of my friend called me, and asked to meet with her at Mid Valley today...but i've no time *sigh* \", 21: '@angry_barista I baked you a cake but I ated it ', 22: 'this week is not going as i had hoped ', 23: 'blagh class at 8 tomorrow ', 24: 'I hate when I have to call and wake people up ', 25: 'Just going to cry myself to sleep after watching Marley and Me.  ', 26: 'im sad now  Miss.Lilly', 27: \"ooooh.... LOL  that leslie.... and ok I won't do it again so leslie won't  get mad again \", 28: 'Meh... Almost Lover is the exception... this track gets me depressed every time. ', 29: 'some1 hacked my account on aim  now i have to make a new one', 30: '@alielayus I want to go to promote GEAR AND GROOVE but unfornately no ride there  I may b going to the one in Anaheim in May though', 31: 'thought sleeping in was an option tomorrow but realizing that it now is not. evaluations in the morning and work in the afternoon! ', 32: '@julieebaby awe i love you too!!!! 1 am here  i miss you', 33: '@HumpNinja I cry my asian eyes to sleep at night ', 34: \"ok I'm sick and spent an hour sitting in the shower cause I was too sick to stand and held back the puke like a champ. BED now \", 35: '@cocomix04 ill tell ya the story later  not a good day and ill be workin for like three more hours...', 36: '@MissXu sorry! bed time came here (GMT+1)   http://is.gd/fNge', 37: \"@fleurylis I don't either. Its depressing. I don't think I even want to know about the kids in suitcases. \", 38: \"Bed. Class 8-12. Work 12-3. Gym 3-5 or 6. Then class 6-10. Another day that's gonna fly by. I miss my girlfriend \", 39: \"really don't feel like getting up today... but got to study to for tomorrows practical exam... \", 40: \"He's the reason for the teardrops on my guitar the only one who has enough of me to break my heart \", 41: \"Sad, sad, sad. I don't know why but I hate this feeling  I wanna sleep and I still can't!\", 42: '@JonathanRKnight Awww I soo wish I was there to see you finally comfortable! Im sad that I missed it ', 43: \"Falling asleep. Just heard about that Tracy girl's body being found. How sad  My heart breaks for that family.\", 44: \"@Viennah Yay! I'm happy for you with your job! But that also means less time for me and you... \", 45: 'Just checked my user timeline on my blackberry, it looks like the twanking is still happening  Are ppl still having probs w/ BGs and UIDs?', 46: \"Oh man...was ironing @jeancjumbe's fave top to wear to a meeting. Burnt it \", 47: 'is strangely sad about LiLo and SamRo breaking up. ', 48: \"@tea oh! i'm so sorry  i didn't think about that before retweeting.\", 49: \"Broadband plan 'a massive broken promise' http://tinyurl.com/dcuc33 via www.diigo.com/~tautao Still waiting for broadband we are \", 50: \"@localtweeps Wow, tons of replies from you, may have to unfollow so I can see my friends' tweets, you're scrolling the feed a lot. \", 51: 'our duck and chicken are taking wayyy too long to hatch ', 52: 'Put vacation photos online a few yrs ago. PC crashed, and now I forget the name of the site. ', 53: 'I need a hug ', 54: '@andywana Not sure what they are, only that they are PoS! As much as I want to, I dont think can trade away company assets sorry andy! ', 55: '@oanhLove I hate when that happens... ', 56: \"I have a sad feeling that Dallas is not going to show up  I gotta say though, you'd think more shows would use music from the game. mmm\", 57: 'Ugh....92 degrees tomorrow ', 58: 'Where did u move to?  I thought u were already in sd. ?? Hmmm. Random u found me. Glad to hear yer doing well.', 59: \"@BatManYNG I miss my ps3, it's out of commission  Wutcha playing? Have you copped 'Blood On The Sand'?\", 60: 'just leaving the parking lot of work! ', 61: 'The Life is cool. But not for Me. ', 62: \"Sadly though, I've never gotten to experience the post coitus cigarette before, and now I never will. \", 63: 'I had such a nice day. Too bad the rain comes in tomorrow at 5am ', 64: \"@Starrbby too bad I won't be around I lost my job and can't even pay my phone bill lmao aw shucks \", 65: 'Damm back to school tomorrow ', 66: \"Mo jobs, no money.  how in the hell is min wage here 4 f'n clams an hour?\", 67: '@katortiz  Not forever... See you soon!', 68: '@Lt_Algonquin agreed, I saw the failwhale allllll day today. ', 69: \"@jdarter Oh! Haha... dude I dont really look at em unless someone says HEY I ADDED YOU. Sorry  I'm so terrible at that. I need a pop up!\", 70: \"@ninjen I'm sure you're right...    I need to start working out with you and the Nikster... Or Jared at least!\", 71: 'i really hate how people diss my bands!  Trace is clearly NOT ugly!', 72: 'Gym attire today was: Puma singlet, Adidas shorts.......and black business socks and leather shoes  Lucky did not run into any cute girls.', 73: \"Why won't you show my location?!   http://twitpic.com/2y2es\", 74: 'No picnic  my phone smells like citrus.', 75: \"@ashleyac My donkey is sensitive about such comments. Nevertheless, he'd (and me'd) be glad to see your mug asap. Charger is still awol. \", 76: 'No new csi tonight.  FML', 77: 'i think my arms are sore from tennis ', 78: 'wonders why someone that u like so much can make you so unhappy in a split seccond . depressed . ', 79: 'sleep soon... i just hate saying bye and see you tomorrow for the night. ', 80: '@statravelAU just got ur newsletter, those fares really are unbelievable, shame I already booked and paid for mine ', 81: \"missin' the boo \", 82: '@markhardy1974 Me too  #itm', 83: \"Damn... I don't have any chalk! MY CHALKBOARD IS USELESS \", 84: \"had a blast at the Getty Villa, but hates that she's had a sore throat all day. It's just getting worse too \", 85: '@msdrama hey missed ya at the meeting  sup mama', 86: \"My tummy hurts.  I wonder if the hypnosis has anything to do with it? If so, it's working, I get it, STOP SMOKING!!!\", 87: 'why is it always the fat ones?! ', 88: \"@januarycrimson Sorry, babe!!  My fam annoys me too. Thankfully, they're asleep right now. Muahaha. *evil laugh*\", 89: '@Hollywoodheat I should have paid more attention when we covered photoshop in my webpage design class in undergrad ', 90: \"wednesday my b-day! don't know what 2 do!! \", 91: 'Poor cameron (the hills) ', 92: 'pray for me please, the ex is threatening to start sh** at my/our babies 1st Birthday party. what a jerk. and I still have a headache ', 93: '@makeherfamous hmm  , do u really enjoy being with him ? if the problems are too constants u should think things more , find someone ulike', 94: 'Strider is a sick little puppy  http://apps.facebook.com/dogbook/profile/view/5248435', 95: \"so rylee,grace...wana go steve's party or not?? SADLY SINCE ITS EASTER I WNT B ABLE 2 DO MUCH  BUT OHH WELL.....\", 96: \"hey, I actually won one of my bracket pools! Too bad it wasn't the one for money \", 97: \"@stark YOU don't follow me, either  and i work for you!\", 98: 'A bad nite for the favorite teams: Astros and Spartans lose.  The nite out with T.W. was good.', 99: ' Body Of Missing Northern Calif. Girl Found: Police have found the remains of a missing Northern California girl .. http://tr.im/imji', 100: '@mangaaa I hope they will increase the capacity fast, yesterday was such a pain. Got the fail whale +15 times in 2 hours.... ', 101: 'Behind on my classes for work ', 102: 'watching &quot;House&quot; ', 103: '@kpreyes Remember my bum leg? Strikes back this time its serious ', 104: '@paradisej cool, i will. their are all kinds of complaints about this laptop online about overheating, but no recalls ', 105: 'Emily will be glad when Mommy is done training at her new job. She misses her.  http://apps.facebook.com/dogbook/profile/view/6176014', 106: 'would rather the first party send bad messages than the 3rd party send mixed ones  Sophmore year all over again?', 107: \"@Henkuyinepu it's overrated \", 108: '@marykatherine_q i know! I heard it this afternoon and wondered the same thing. Moscow is so behind the times ', 109: 'laying in bed with no voice.. ', 110: \"I'm sooo sad!!! they killed off Kutner on House  whyyyyyyyy\", 111: '@jacobsummers Sorry  tell them mea culpa from me and that I really am sorry.', 112: \"@Alliana07 it didn't make any sense to me, the suicide thing. I refuse to believe that that is actually what happened. \", 113: '@salancaster  hope your ok.', 114: \"@mercedesashley Damn! The grind is inspirational and saddening at the same time.  Don't want you to stop cuz I like what u do! Much love\", 115: '@HibaNick yeah aw but i know i wudnt stand a chance ', 116: 'ugh. cant sleep. its 1:30am. ', 117: \"Hanging in Crooners. Wanna sing. Can't. Sucks. \", 118: '@eRRe_sC aaw i miss ya all too.. im leaving to BH tomorrow &quot;morning&quot; i think.. aww i wanna go to the beach w u girls!! ', 119: \"Is pissed off that there's no ASBA's for a radio station. \", 120: \"wednesday my b-day n don't know what 2 do!  \", 121: 'I know my life has been flipped upside down when I just thought in my head that some Ramen sounds good. ', 122: 'I am in pain. My back and sides hurt. Not to mention crying is made of fail. ', 123: \"Late night snack, glass of OJ b/c I'm &quot;down with the sickness&quot;, then back to sleep...ugh I hate getting sick... \", 124: \"@allyheman but.. but.. but.. I'm not a big fan on camilla belle \", 125: \"@grum WAH I can't see clip, must be el-stupido work filters. Can't wait 'till I get a 'puter. Something else 2 blame ex 4. He broke mine \", 126: \"This week just seems to get longer and longer in terms of how much I need to do.. and how much I'm actually going to get done \", 127: \"I'm so cold \", 128: \"@thecoolestout Ehhh don't. Weather's gonna take a turn for the ugly tomorrow \", 129: '@chelserlynn haha its so cooooold in the d! and no  but you should still go to the show. they do some incredible stuff', 130: 'Hoping the tummy rumbles go away soon ', 131: \"@Knights_ No, no notice. They told me I'd be working tomorrow, and then I called the agency to follow up and they said it was over. \", 132: 'almost bedtime ', 133: \"I'm missing you babe..  but as long as your alive I'm happy.. Yawwwnn.. I'm tired my love imma try to sleep hopefully you had a headstart\", 134: 'Agh...snow!!! ', 135: 'i miss kenny powers ', 136: \"@BridgetsBeaches Thank you for letting people know, but now I'm sad that the direct message I got wasn't actually from Bridget \", 137: '...and, India missed out its 100th Test victory n 10th consecutive win without a loss. ', 138: \"@JonathanRKnight I guess that's a no then. \", 139: 'sadly is going to bed. ', 140: '@ozesteph1992 Shame to hear this Stephan ', 141: \"@mrsaintnick hey! i'm leavin in the morning... \", 142: 'Was intending to finish editing my 536-page novel manuscript tonight, but that will probably not happen. And only 12 pages are left ', 143: 'laid around too much today... now my head hurts ', 144: \"@twista202 I still haven't read the 9th&amp;10th Princess diaries  Saving Francesca made me cry at the end. Hmm those are easy books.\", 145: 'my nokia 1110 died..  ', 146: \"My mom might have breast cancer won't find out anything for. Like a week I'm so worried! \", 147: 'Going to sleep. Hoping tomorrow is a better day. ', 148: '@rumblepurr lol.. wish they understood daylight savings has ended though and breakfast is an hour later  They keep waking the kids up too', 149: '@onemoreproject that is lame ', 150: \"I don't understand... I really don't \", 151: \"HEROES just isn't doing it for me this season... \", 152: \"Living not downtown sure isn't much fun.  \", 153: '@jonathanchard Not calorie wise   I wish junk food was calorie free! I ate a thing of sour skittles and a big ass cherry coke!', 154: 'Man Work is Hard ', 155: 'getting sick  time for some hot tea, studying, and then sleeeep', 156: 'Getting eyebrows waxed. More pain ', 157: 'No phantasy star yesterday  going to work...', 158: \"Oh - Just got all my MacHeist 3.0 apps - sweet. Didn't get the Espresso serial no though although they said they sent it - oh well \", 159: \"Picked Mich St to win it all from the get go.  Was feeling pretty good about that pick all the way up until......tonight.  A's lost too \", 160: 'is alone downstairs...working ', 161: 'I feel bad for doing it ', 162: \"@RyanSeacrest is it just me, or she hates anoop. i mean seriously, she's kinda mean to him. \", 163: '@pinkserendipity yes sprint has 4g only in baltimore and chicago so far ', 164: \"I'm stuck awake in the middle of the night for the second day in a row. And I felt terrible yesterday. \", 165: 'Thanks for bursting my bubble ', 166: \"Going to school soon... can't find anything to wear!! gosh it's so hard \", 167: '@marieclr I was serious  LOL', 168: '@naughtyhaughty I had on my page for sooooo long!!! Until it got deleted  Sad day in history', 169: 'Crazy wind today = no birding  http://ff.im/1XTTi', 170: 'currently at work.. ', 171: \"Grrr.. my ipods acting weird too! Jai ho and thinking of you aren't playing the full songs.. ughh. \", 172: '@penndbad send me the DVD cos I have missed out on heaps  NOT happy about that!', 173: \"i don't see the big deal with this website \", 174: \"@machineplay I'm so sorry you're having to go through this. Again.  #therapyfail\", 175: '@ColinDeMar Far too out of the way for rail.  any other tips?', 176: \"I'm not still up I swear. Why do I keep losing. gaining. losing. gaining. tweeps?  So heart wrenching.\", 177: \"Today I realized I am too good at hiding things, even I can't find it \", 178: 'Staying at a friends house...house sitting, neighbors are SO loud-having a party ', 179: '@dannyvegasbaby danny im upset that i wasnt here to watch the live chat  i was in a car. for 3 hours on a trip im soooo upset!!', 180: 'Check out my mug  http://www.erika-obscura.blogspot.com', 181: 'Borders closed at 10 ', 182: \"Downloading NIN's new album &quot;the slip&quot; - when the hell did this come out? I'm so behind the times these days \", 183: \"Just woke up an already have written some e-mail... I've to go early at University today as I have to teach at 8:30 AM! \", 184: 'is watching the hill . . .and its making me sad ', 185: 'So many channels.... yet so so boring... lazy day again  may have to find a hobby', 186: '@supersport I miss my buddy  ill be in NY on the 25th', 187: \"@robluketic  love the french. I tell people here in the south i'm qtr. french and they snarl at me.  french are beautiful people\", 188: 'Opps.. As I said.. I still got one day remain and now problem come ', 189: \"I activated my Selfcontrol block early, meaning I can't check out the new QC.  Regularizing my internal clock is might be difficult. #fb\", 190: '@HillyDoP  oH NO', 191: 'spencer is not a good guy. ', 192: '@goodlaura What about Reese dying on #TTSC? And season finale next week.  #24 boring, Madame President is a crazy woman.', 193: '@JonathanRKnight I hate the limited letters,too.Hope you and the guys are fine?I pray for my dog,sheï¿½s not well ', 194: \"didn't get shit done today ~ i'm so screwed \", 195: 'wanttss to go out ', 196: 'Is not going to sleep tonite. ', 197: 'too worried and tired to post tonight ', 198: \"couldn't get shit done today ~ i'm so screwed \", 199: 'Job Interview in Cardiff today, wish me luck! Got about 3 hours sleep ', 200: \"@cherub_rock123 ehh....it's a day. \", 201: 'Haha yess making maria get a twitter ', 202: \"woooo elliot minor in 8 days!!! and i got my EM hoodie today!!! i'm tired and sick so it was a good....&quot;cheer myself up  &quot; thing \", 203: '@SanctumInc right-click, Repost. ', 204: '@mrschicken why yes, yes I am ', 205: '@maximumswearing yes  But a great mind escape!', 206: 'It has been storming all day . . . I love it  . Coming home tomorrow . Time to pack', 207: \"@logangator We'll figure something out.  I just have to be to MCO by 4am Thu.   So, either I bug you at 1am at your house, or see you Wed.\", 208: '@asimkovsky thanks for the info ', 209: '@gschan @malditamd @daydreamerping @ragdollgonewild @tarayqueen @manilenya Thank you  I owe you my sanity tonight.', 210: '#commtell09 Patty Perkins, VP Desktop Video Manager of Wachovia is up next- I understand many #SharePoint opps are  happening there ', 211: 'to be with you ', 212: '@GreenBaby_UK please follow so i can DM for the giveaway! ', 213: \"@v2black oh okay, well I did know the first band you mentioned by name, but other than that  don't know what they sound like \", 214: '@BenABaker Probably a player signing.  Maybe one of the rookies.  I can see it from my office ', 215: 'I am planning with friends to go to the mall! Hope we can do it. &lt;3 ', 216: \"@lilkup it's a relief. Conflict exhausts me \", 217: '@YouLuvMe sure............. bighead ', 218: 'twitter virginity broken ', 219: 'job interview...here we go. ', 220: 'Back on the job with some coffee thanks to @chimolschimols ', 221: \"@Piewacket1 good   sometimes a shot attention span could be good tho ;P  don't you agree   letting bright light flow over pie and self\", 222: 'new tatoo  love you megggiiiee', 223: 'guilty pleasure - yikes  i wish i could afford this shiz http://tinyurl.com/kqztg5', 224: '@hillsmarket Sweet.  Thanks for posting that.  And for letting us know ', 225: '@tonyhawk Yess! Good choice of laptop there, typing on a replica myself ', 226: 'lol. i just realized my room has a color theme. green is definitely growing in on me. go green! hahaha. i still love purple though! ', 227: 'Good morning Chicago, I love this city! ', 228: '@dfinchalicious  It ends up like that when good and bad collide ', 229: '@ost8doc no, I am photographing them!! ', 230: '@NickkkJonasss I like Poison Ivy the best ', 231: '@David_Wylie  You could have been born as an Emporer Penguin. Minus 200, carrying your kids on your feet. no food, water...Quit whining ', 232: '@extrabaggs on @KNBR right now!! Yay!! I LOVE reading his blog  I wish I knew what he looked like so I could say hi to him at the park lol', 233: \"Srsly now, I'm heading to my bed now. Goodnight Twitterverse! \", 234: '10.40 start and 12.30 finish tomorrow! yesssss. &lt;3 college  x', 235: \"@alexandervelky that's polite version - i only heard &quot;look much better on my bedroom floor&quot; how nice that you would hang it up for her \", 236: '@spindeezy for now on ur Queen Spindeezy ', 237: \"@DrWestGRACE yet, why can't I feel sorry for you?  LOL.  Seriously tho, safe travels \", 238: 'new to the twitta, someone help. ', 239: \"@Sky_1995 sorryyy. i gotta go now, my mom want to go to this computer. i'll talk to u some other time \", 240: 'What a pretty day  &quot;Just smile&quot;', 241: 'Good morning everyone! I hope you take some time to be outside &amp; soak in the beautiful morning before starting work. ', 242: 'just woke up, might watch a chick flick later. lol ', 243: '@minglebar thanks for checking on it ', 244: '@mkvlln Mr president, your tweets get cut off, i cant read everything. send it in an email? thanks love. ', 245: '@CatyFairy revolta follower hj? ', 246: \"@borededup no job actually.  but there have been plenty of odd jobs to get me by so far. i'll be your screen cleaning intern. \", 247: \"@Common_Pigeon You're quite welcome. \", 248: \"What has happened to the world...I'm actually doing chores and nobody told me to do them!!!  so proud! Lol\", 249: 'want FREE Apple products? iPhone 3G S macbook pro air iPod touch nano imac? click here! http://apple.freebiejeebies.co.uk/45615 ', 250: 'sick, sick, sick today, but still fingers crossed for eBay job! Send good thoughts ', 251: 'Getting ready to go out   I have to go to mac to buy brushes', 252: 'loves visitors so if you are goin to the Aerosmith concert you should hit me up!! ', 253: 'Nice out, but If I am going to leave here at 6am for a hike, I probably should at some point, pack for tomorrow! ', 254: '@WillaRyan At least trees are being spared. ', 255: \"i'm following 69 people. ;D how many people are YOU following? \", 256: 'taking a twit break...a lil blown about my boss...but i still have a job!  God is good', 257: 'http://twitpic.com/7joyo - this is how i feel today  Just a little imagery for everyone! lol', 258: 'has a day long date with God today, no phones allowed.  the world can rage tomorrow; but today, i am safe.', 259: '@ritasummerstar that too.  Apparently, they are out there - but in hiding I suspect  ', 260: '@kazzc22 no probs kazz hun,i think theres a new one going on now celebrity twitterer or summat? lol dunno?i just voted misha anyways ', 261: '@AlanHChin Thanks Alan! I need all the fundraising support I can get for my documentary - plus the shirts are cool too ', 262: \"@NLPride08 that's a perfectly reasonable time of day for me \", 263: '@6FuzzyFeet  hi ! thanks for the follow ', 264: 'Going to tampa saturday ', 265: \"I've watched spongebob now I'm going 2 find a gr8 coffee spot! This didn't even feel like a public holiday \", 266: \"I'm gonna go take a shower and turn in the last paper i have to deal with \", 267: \"@heich_dee Hahaha. Cannot luh. I'll feel bad coz he's got to work. So we talk when we can. Guess thats enough  hahaha\", 268: \"@obatron Try your Google Calendar. It's got tasks now. \", 269: '@carahsollins Good Morning Lady ', 270: \"@ddribin Saw that &amp; approved, re: bike. After years of being exceedingly bike UNfriendly, we are a' changin'! \", 271: \"If you're lucky enough to be different from everybody else, dont change \", 272: \"@FoSho174 LMAO @ capture the flag..bless their lil playing hearts  and i bet it is hott as heck..ain't it always\", 273: '@cineMATTic happy birthday, sir ', 274: 'I haz a big piece of carrot cake to take home! ', 275: '@ashleytisdale hih good morning  in austria its 17:36 hihi', 276: '@BrunoFigueiredo @ppinheiro76 @pedrocs Top Gear returns on Sunday btw ', 277: '@netscribe Thanks for considering Issuu ', 278: '@Bruno108 I would like some please! ', 279: '@aplusk ya got something against Baseball?? ', 280: 'No more drives. =D license in a moth ', 281: \"First day off in over a week... Thought i'd sleep in 4 once, but NO! my body wouldn't let me sleep past 8am  ugh!\", 282: 'Relaxin till workout time with Mama this afternoon. Goal- to run a 5k by end of summer in memory of Greg. I think I can, I think I can. ', 283: 'http://twitpic.com/7joyw - bring on summer ', 284: \"busy day at work!  So happy the Burkharts are in Houston!  I can't wait to see their beautiful home! \", 285: \"@LadyVanir LOL no you didn't break it. \", 286: 'Then  we head out again Denmark here we come ', 287: \"@kbgerth Well it's still Tuesday so no worries   I've made my TWD on Tuesday more times than I can tell you!\", 288: 'Getting ready to have a picnic in the park w/ muh partner in crime and bestie! Oh! Press ctrl+t and then ctrl+f on itunes for a surprise! ', 289: \"I see the light at the end of the tunnel!  It's so bright   Woo fricken hoo!\", 290: 'going to south streeeet with kate, hopefully my mom gets me the ring i wantt! ', 291: '@Jihav actually my other PSN ID is GUNSnSPEEDO O_o and oh, your welcome ', 292: \"@PaulMiller Do that! I appreciate the calories I'll be missing \", 293: '@SouthMainMuse Perfectly normal.  Thinking someday technology and social networks will all be hardwired to our brains.', 294: '@BizReviewer thanks so much for that acknowledgement...what is your name? ', 295: \"@ahamachi @eggirock drinking water trick totally worked guys... Didn't cry once \", 296: '@unworthysaint Are you having fun? ', 297: 'Beach then universal studios! Yeeeeeeman! ', 298: \"#haveyouever been alone at night, thought you heard footsteps behind and no one's there?? Fear of the Dark by Iron Maiden \", 299: 'Loved the USA hockey team ', 300: '@cris1015 My goal on stocks like $MTXX is to help, if just one person avoided this stock on my post, would make the keystrokes worth it.  ', 301: \"@wolfpack40 That's what I'm thinking! Knock her out of the water... very satisfying...  \", 302: \"@Jchawes yeah what about remotes for your car ? I couldn't find mine and didn't know how I was gonna get in my car.with your keys dumbass \", 303: \"Post your Le Mans 2009 pics: .. I didn't really shoot much, it's a bit like Silverstone isn't it?  But here ar.. http://tinyurl.com/nju67t\", 304: '@say_my_name TRAITOR!!!! love you ', 305: '@SarahG8s lol i wasnt on about the burns lol i was on about sumone  i know just seen. goin off twitter now gonna talk to sophie,talk later', 306: \"been playing big surf island and i've unlocked 5 trophies already hah \", 307: '@gabespears morning ', 308: 'I really dont get why Jaylor split . Oh well her and Lucas Till suit !  x', 309: \"my cluster is back and I'm a happy man \", 310: 'is excited for the day ', 311: 'Oh my god. Cookie dough frijj. I just spaffed in my pants  so much joy for Â£1.05.', 312: \"@ShannonGilliam good luck!!  what an exciting day   this is when the REAL fun begins, you're going to love being a mommy   xo\", 313: 'got our yearbooks in school  gonna try and get everyone to sing them... wish me luck', 314: '@PJA4ever Back.. ', 315: '@drummeroy nice new name  how you holding up?', 316: 'Hello good morning!  i wanna do something today.', 317: '@30STMWithJared love your tattoo! ', 318: 'MTO bom esse empire of sports...o futebol eh um pouco dificil pq usa o mouse mas eh bem divertido e online ', 319: '@planetchuckie haha! i wonder why i made her my pic... hmm.. will change it soon ', 320: 'Largest/fastest hotspot in U.S.A. is located in Atlanta. Suck it people outside the ATL  JK...no idea how to use it! http://bit.ly/eDjz7', 321: \"I just switched back to Opera (using the moi skin). It's really fast &amp; stable to work with - I'm loving it  http://www.opera.com/download/\", 322: 'scrubbed into surgery today ', 323: 'Bloody knackered! And still got two hours to go. Still, last shift tomorrow then a whole week off ', 324: '@McflyEngland haha yeah  but of course i love McFly more  lol', 325: '**** yeah!! I got the local Clinical Psychologist job!! ', 326: 'wants the @Jonasbrothers album ', 327: 'Wow 8:40 am is pretty early for me to wake up. Lol. ', 328: 'dropping molly off getting ice cream with Aaron I want him to meet Manda  spending the night with Meredith and Lauren I missed them dearly', 329: '@mom2jwo Woo hoo!!!! Keep working hard my dear!! ', 330: '@AndrewDearling *yawns* ', 331: 'Had an injection today. Not fun  the rrst of the school day has been good. Tonight i am going dancing yey ', 332: 'ahhh yay! found my missing sunglasses while cleaning my office!! so happy. ', 333: 'Lmao @seizuresalad that was cute and awesome  hahahahahahahahahahahahahaha!!!!!!!!!!!!!!!!!!!!!!!!!!!!!!!!!! â\\x99« http://blip.fm/~8bmo7', 334: 'Processing another credit application!  More hours to bill! ', 335: \"@ohsosweettreats Omg, I loveeeee frosted flakes with bananas on top. I didn't know anybody else knew about that... \", 336: 'Is back from getting the new jonas brothers cd!!!  on to my iPod it goes!!', 337: \"@siahoney I am good thanks!    How is #Eric, I haven't heard anything in awhile, have u visited him recently?  I hope he is feeling better\", 338: \"@varin I'm praying for you!!!  Hang in there, and trust your docs.  They know what's best, even if they don't act nicely. \", 339: 'OMG!!!!!!!!!! My dad will be having surgery today  Please keep him in your prayers ', 340: \"@MsKCJones Yeah it's very irritating, right? But with God on your side, you cant fail. \", 341: '@gone2dmb agreed!  Soulful eyes.  ', 342: 'is now a dsc student.  http://twitpic.com/7jp4d', 343: '@cate45_1999 I love all the pics!! ', 344: \"@ShanButterfly a star bowl (she loves stars) filled with dark chocolate. there's also a card. \", 345: 'oh yes, and btw, 8.00 ', 346: '@chriscuzzy someone wanted a &quot;Cuzzy&quot; memorabilia ', 347: \"@CharlotteSpeaks So, wasn't that funny re. the doggie?.... \", 348: 'doing another piece of media homework is that all i get now :/ milkshake diet starts today woop woop ', 349: 'finding out what this is. ', 350: 'OMG how good is ben and jerrys cookie dough icecream...come one really well goood lol, justwaitin to have a BBQ hope its stays like this ', 351: 'oooo haha just waking up and ready to eat a delicious breakfast and prepared to go in the afternoon to watch a movie ', 352: \"#Traveltuesday @GuyNGirlTravels Because their tweets are hilarious LOL and they're great travelers \", 353: \"any ideaZ on what to get dad for father's day ? No socks tho \", 354: 'God works mysteriously!i learn that if u think of the world wonderfully you will receive more &amp; get what u ask for ', 355: \"@_CrC_ mornin.. I'm enjoying a beautiful morning here in Phoenix. not too bad out yet \", 356: \"Woke up feeling rested and refreshed today! It's about time \", 357: '@naijagal You just HAD to throw that in. Tell her that I say thanks for the eye contact at her Brixton gig. managed to get a shot! ', 358: \"@siovene lol I don't blame you it's not the safest thing in the world \", 359: \"@ashinynewcoin yeah, that'd be the one  sorry to be repetitive!\", 360: '@pokapolas love the donut and the toadstool.  ', 361: '@crgrs359 Skip the aquarium and check out these fish   A lot cheaper lol http://bit.ly/2lQbBv', 362: \"@GroleauNET Yeah I'm being an ass today \", 363: \"@OHTristaN it's sunoudy \", 364: '@kbonded Newsflash: It worked ', 365: \"@stum450n Hi. Thanks for the follow. Nice website... check your carriage returns though, the bottom of 'Website &amp; brand identity' is out \", 366: 'got home an hour ago ate lunch watched some tv and now i listening to kelly clarkson no exam tomorrow yay!!!!!!!  3 down 4 to go', 367: 'checking my mail ', 368: 'done la examen! easy peasy  so proud of myself!!', 369: \"@davepell you're the undisputed authority on the topic.  goog recognizes!  \", 370: 'Thanks @eastwestchic &amp; @wangyip Thanks! That was just what I was looking for ', 371: \"@marttn thanks Martin. not the most imaginative interface, but it'll do for now \", 372: '@MikeJonesPhoto Congrats Mike  Way to go!', 373: 'http://twitpic.com/7jp4n - OMG! Office Space... I wanna steal it. ', 374: \"@yrclndstnlvr ahaha nooo you were just away from everyone else! i had to see Kara, she'd die. and yess we aree, ill see you saturday \", 375: \"@BizCoachDeb  Hey, I'm baack! And, thanks so much for all those kind notes while I was gone. They made me smile at times when I needed it!\", 376: '@mattycus Yeah, my conscience would be clear in that case. ', 377: '@MayorDorisWolfe Thats my girl - dishing out the &quot;advice&quot; ', 378: '@shebbs123 i second that ', 379: 'In the garden ', 380: '@myheartandmind jo jen by nemuselo zrovna tÃ© holce ael co nic ', 381: 'Another Commenting Contest! [;: Yay!!!  http://tinyurl.com/m6j2an', 382: '@thrillmesoon i figured out how to see my tweets and facebook status updates, and i was set  the groups seemed like a pain to set up...', 383: '@oxhot theri tomorrow, drinking coffee, talking about our most important and favourite issue! YOU know what I mean ', 384: \"You heard it here first -- We're having a girl. Hope it has my looks and Wendy's brains. (Kidding, babe). \", 385: 'if ur the lead singer in a band, beware falling prey to LSD &quot;Lead Singer Disease&quot; http://tinyurl.com/n65xjt  #music #haveyouever?', 386: '@tarayqueen too much ads on my blog. ', 387: '@La_r_a NEVEER  I think that you both will get on well with each other...', 388: \"@Roy_Everitt ha- good job. that's right - we gotta throw that #bigrun tag EVERYWHERE! I wanna get it trending before I start \", 389: '@Ms_Hip_Hop im glad ur doing well ', 390: 'WOOOOO! Xbox is back ', 391: \"@rmedina @LaTati Mmmm  That sounds absolutely perfect... but my schedule is full. I won't have time to lay in bed until Sunday. Ugh!!\", 392: 'ReCoVeRiNg FrOm ThE lOnG wEeKeNd ', 393: '@SCOOBY_GRITBOYS ', 394: '@Cliff_Forster Yeah, that does work better than just waiting for it  In the end I just wonder if I have time to keep up a good blog.', 395: 'Just woke up. Having no school is the best feeling ever ', 396: 'TheWDB.com - Very cool to hear old Walt interviews!  â\\x99« http://blip.fm/~8bmta', 397: 'Are you ready for your MoJo Makeover? Ask me for details ', 398: 'Happy 38th Birthday to my boo of alll time!!! Tupac Amaru Shakur ', 399: 'happy #charitytuesday @theNSPCC @SparksCharity @SpeakingUpH4H '}\n"
     ]
    }
   ],
   "source": [
    "neg = negative_value.get('comments')\n",
    "print(neg)\n",
    "pos = positive_value.get('comments')\n",
    "print(pos)\n",
    "\n",
    "dictionnaire = {}\n",
    "for k in range(len(neg)):\n",
    "  dictionnaire[k] = neg[k]\n",
    "for k in range(len(pos)):\n",
    "  dictionnaire[k+len(neg)]  = pos[k+1599799]\n",
    "print(dictionnaire) "
   ]
  },
  {
   "cell_type": "code",
   "execution_count": 143,
   "metadata": {
    "colab": {
     "base_uri": "https://localhost:8080/"
    },
    "id": "T_Q315NtSUGA",
    "outputId": "70be65b2-20c0-4785-b383-4ac40e6a6f01"
   },
   "outputs": [
    {
     "name": "stdout",
     "output_type": "stream",
     "text": [
      "{0: 0, 1: 0, 2: 0, 3: 0, 4: 0, 5: 0, 6: 0, 7: 0, 8: 0, 9: 0, 10: 0, 11: 0, 12: 0, 13: 0, 14: 0, 15: 0, 16: 0, 17: 0, 18: 0, 19: 0, 20: 0, 21: 0, 22: 0, 23: 0, 24: 0, 25: 0, 26: 0, 27: 0, 28: 0, 29: 0, 30: 0, 31: 0, 32: 0, 33: 0, 34: 0, 35: 0, 36: 0, 37: 0, 38: 0, 39: 0, 40: 0, 41: 0, 42: 0, 43: 0, 44: 0, 45: 0, 46: 0, 47: 0, 48: 0, 49: 0, 50: 0, 51: 0, 52: 0, 53: 0, 54: 0, 55: 0, 56: 0, 57: 0, 58: 0, 59: 0, 60: 0, 61: 0, 62: 0, 63: 0, 64: 0, 65: 0, 66: 0, 67: 0, 68: 0, 69: 0, 70: 0, 71: 0, 72: 0, 73: 0, 74: 0, 75: 0, 76: 0, 77: 0, 78: 0, 79: 0, 80: 0, 81: 0, 82: 0, 83: 0, 84: 0, 85: 0, 86: 0, 87: 0, 88: 0, 89: 0, 90: 0, 91: 0, 92: 0, 93: 0, 94: 0, 95: 0, 96: 0, 97: 0, 98: 0, 99: 0, 100: 0, 101: 0, 102: 0, 103: 0, 104: 0, 105: 0, 106: 0, 107: 0, 108: 0, 109: 0, 110: 0, 111: 0, 112: 0, 113: 0, 114: 0, 115: 0, 116: 0, 117: 0, 118: 0, 119: 0, 120: 0, 121: 0, 122: 0, 123: 0, 124: 0, 125: 0, 126: 0, 127: 0, 128: 0, 129: 0, 130: 0, 131: 0, 132: 0, 133: 0, 134: 0, 135: 0, 136: 0, 137: 0, 138: 0, 139: 0, 140: 0, 141: 0, 142: 0, 143: 0, 144: 0, 145: 0, 146: 0, 147: 0, 148: 0, 149: 0, 150: 0, 151: 0, 152: 0, 153: 0, 154: 0, 155: 0, 156: 0, 157: 0, 158: 0, 159: 0, 160: 0, 161: 0, 162: 0, 163: 0, 164: 0, 165: 0, 166: 0, 167: 0, 168: 0, 169: 0, 170: 0, 171: 0, 172: 0, 173: 0, 174: 0, 175: 0, 176: 0, 177: 0, 178: 0, 179: 0, 180: 0, 181: 0, 182: 0, 183: 0, 184: 0, 185: 0, 186: 0, 187: 0, 188: 0, 189: 0, 190: 0, 191: 0, 192: 0, 193: 0, 194: 0, 195: 0, 196: 0, 197: 0, 198: 0, 199: 0}\n",
      "{1599799: 4, 1599800: 4, 1599801: 4, 1599802: 4, 1599803: 4, 1599804: 4, 1599805: 4, 1599806: 4, 1599807: 4, 1599808: 4, 1599809: 4, 1599810: 4, 1599811: 4, 1599812: 4, 1599813: 4, 1599814: 4, 1599815: 4, 1599816: 4, 1599817: 4, 1599818: 4, 1599819: 4, 1599820: 4, 1599821: 4, 1599822: 4, 1599823: 4, 1599824: 4, 1599825: 4, 1599826: 4, 1599827: 4, 1599828: 4, 1599829: 4, 1599830: 4, 1599831: 4, 1599832: 4, 1599833: 4, 1599834: 4, 1599835: 4, 1599836: 4, 1599837: 4, 1599838: 4, 1599839: 4, 1599840: 4, 1599841: 4, 1599842: 4, 1599843: 4, 1599844: 4, 1599845: 4, 1599846: 4, 1599847: 4, 1599848: 4, 1599849: 4, 1599850: 4, 1599851: 4, 1599852: 4, 1599853: 4, 1599854: 4, 1599855: 4, 1599856: 4, 1599857: 4, 1599858: 4, 1599859: 4, 1599860: 4, 1599861: 4, 1599862: 4, 1599863: 4, 1599864: 4, 1599865: 4, 1599866: 4, 1599867: 4, 1599868: 4, 1599869: 4, 1599870: 4, 1599871: 4, 1599872: 4, 1599873: 4, 1599874: 4, 1599875: 4, 1599876: 4, 1599877: 4, 1599878: 4, 1599879: 4, 1599880: 4, 1599881: 4, 1599882: 4, 1599883: 4, 1599884: 4, 1599885: 4, 1599886: 4, 1599887: 4, 1599888: 4, 1599889: 4, 1599890: 4, 1599891: 4, 1599892: 4, 1599893: 4, 1599894: 4, 1599895: 4, 1599896: 4, 1599897: 4, 1599898: 4, 1599899: 4, 1599900: 4, 1599901: 4, 1599902: 4, 1599903: 4, 1599904: 4, 1599905: 4, 1599906: 4, 1599907: 4, 1599908: 4, 1599909: 4, 1599910: 4, 1599911: 4, 1599912: 4, 1599913: 4, 1599914: 4, 1599915: 4, 1599916: 4, 1599917: 4, 1599918: 4, 1599919: 4, 1599920: 4, 1599921: 4, 1599922: 4, 1599923: 4, 1599924: 4, 1599925: 4, 1599926: 4, 1599927: 4, 1599928: 4, 1599929: 4, 1599930: 4, 1599931: 4, 1599932: 4, 1599933: 4, 1599934: 4, 1599935: 4, 1599936: 4, 1599937: 4, 1599938: 4, 1599939: 4, 1599940: 4, 1599941: 4, 1599942: 4, 1599943: 4, 1599944: 4, 1599945: 4, 1599946: 4, 1599947: 4, 1599948: 4, 1599949: 4, 1599950: 4, 1599951: 4, 1599952: 4, 1599953: 4, 1599954: 4, 1599955: 4, 1599956: 4, 1599957: 4, 1599958: 4, 1599959: 4, 1599960: 4, 1599961: 4, 1599962: 4, 1599963: 4, 1599964: 4, 1599965: 4, 1599966: 4, 1599967: 4, 1599968: 4, 1599969: 4, 1599970: 4, 1599971: 4, 1599972: 4, 1599973: 4, 1599974: 4, 1599975: 4, 1599976: 4, 1599977: 4, 1599978: 4, 1599979: 4, 1599980: 4, 1599981: 4, 1599982: 4, 1599983: 4, 1599984: 4, 1599985: 4, 1599986: 4, 1599987: 4, 1599988: 4, 1599989: 4, 1599990: 4, 1599991: 4, 1599992: 4, 1599993: 4, 1599994: 4, 1599995: 4, 1599996: 4, 1599997: 4, 1599998: 4}\n"
     ]
    }
   ],
   "source": [
    "neg_index_tmp = negative_value.get('index')\n",
    "print(neg_index_tmp)\n",
    "pos_index_tmp = positive_value.get('index')\n",
    "print(pos_index_tmp)\n",
    "\n"
   ]
  },
  {
   "cell_type": "code",
   "execution_count": 62,
   "metadata": {
    "id": "zU9ma_aQat5c"
   },
   "outputs": [],
   "source": [
    "def tokenize(data):\n",
    "  # minuscule\n",
    "  dict_data_min = dict()\n",
    "  for k, v in data.items():\n",
    "    dict_data_min[k] = v.lower()\n",
    "\n",
    "  #tokenization\n",
    "  dict_data_token = dict()\n",
    "  for k, v in dict_data_min.items():\n",
    "    tokenizer = nltk.RegexpTokenizer(r'\\w+')\n",
    "    tokens = tokenizer.tokenize(v)\n",
    "    dict_data_token[k] = tokens\n",
    "\n",
    "  #stopwords\n",
    "  dict_data_stop = dict()\n",
    "  for k, v in dict_data_token.items():\n",
    "    dict_data_stop[k] = [w for w in v if not w in list(nltk.corpus.stopwords.words())]\n",
    "\n",
    "\n",
    "  dict_data_stem = dict()\n",
    "  st = LancasterStemmer()\n",
    "\n",
    "  for k, v in dict_data_stop.items():\n",
    "    dict_data_stem[k] = [st.stem(w) for w in v ]\n",
    "\n",
    "  return dict_data_stop\n",
    "  #return dict_data_stem\n",
    "\n"
   ]
  },
  {
   "cell_type": "code",
   "execution_count": 63,
   "metadata": {
    "id": "VUw7nWESgjC8"
   },
   "outputs": [],
   "source": [
    "dictionnaire_tokenized = tokenize(dictionnaire)\n"
   ]
  },
  {
   "cell_type": "code",
   "execution_count": 145,
   "metadata": {
    "colab": {
     "base_uri": "https://localhost:8080/"
    },
    "id": "4weQtf37bBAr",
    "outputId": "6b5e8aaa-da4c-448b-b126-f0062f0c0df6"
   },
   "outputs": [
    {
     "name": "stdout",
     "output_type": "stream",
     "text": [
      "The number of positive sentences: 400\n",
      "First sentences : is upset that he can't update his Facebook by texting it... and might cry as a result  School today also. Blah!\n",
      "First sentences tokenize : ['upset', 'update', 'facebook', 'texting', 'might', 'cry', 'result', 'school', 'today', 'blah']\n",
      " \n",
      "['upset', 'update', 'facebook', 'texting', 'might', 'cry', 'result', 'school', 'today', 'blah', 'kenichan', 'dived', 'many', 'times', 'ball', 'managed', 'save', '50', 'rest', 'go', 'bounds', 'whole', 'body', 'feels', 'itchy', 'like', 'fire', 'nationwideclass', 'behaving', 'mad', 'see', 'kwesidei', 'whole', 'crew', 'need', 'hug', 'loltrish', 'hey', 'long', 'time', 'see', 'yes', 'rains', 'bit', 'bit', 'lol', 'fine', 'thanks', 'tatiana_k', 'nope', 'twittera', 'muera', 'spring', 'break', 'plain', 'city', 'snowing', 'pierced', 'ears', 'caregiving', 'bear', 'watch', 'thought', 'ua', 'loss', 'embarrassing', 'octolinz16', 'counts', 'idk', 'either', 'never', 'talk', 'anymore', 'smarrison', 'would', 'first', 'gun', 'really', 'though', 'zac', 'snyder', 'doucheclown', 'iamjazzyfizzle', 'wish', 'got', 'watch', 'miss', 'iamlilnicki', 'premiere', 'hollis', 'death', 'scene', 'hurt', 'severely', 'watch', 'film', 'wry', 'directors', 'cut', 'file', 'taxes', 'lettya', 'ahh', 'ive', 'always', 'wanted', 'see', 'rent', 'love', 'soundtrack', 'fakerpattypattz', 'oh', 'dear', 'drinking', 'forgotten', 'table', 'drinks', 'alydesigns', 'day', 'get', 'much', 'done', 'friend', 'called', 'asked', 'meet', 'mid', 'valley', 'today', 'time', 'sigh', 'angry_barista', 'baked', 'cake', 'ated', 'week', 'going', 'hoped', 'blagh', 'class', '8', 'tomorrow', 'hate', 'call', 'wake', 'people', 'going', 'cry', 'sleep', 'watching', 'marley', 'sad', 'miss', 'lilly', 'ooooh', 'lol', 'leslie', 'ok', 'leslie', 'get', 'mad', 'meh', 'almost', 'lover', 'exception', 'track', 'gets', 'depressed', 'every', 'time', 'some1', 'hacked', 'account', 'aim', 'make', 'new', 'alielayus', 'go', 'promote', 'gear', 'groove', 'unfornately', 'ride', 'may', 'b', 'going', 'anaheim', 'may', 'though', 'thought', 'sleeping', 'option', 'tomorrow', 'realizing', 'evaluations', 'morning', 'work', 'afternoon', 'julieebaby', 'awe', 'love', '1', 'miss', 'humpninja', 'cry', 'asian', 'eyes', 'sleep', 'night', 'ok', 'sick', 'spent', 'hour', 'sitting', 'shower', 'cause', 'sick', 'stand', 'held', 'back', 'puke', 'like', 'champ', 'bed', 'cocomix04', 'tell', 'story', 'later', 'good', 'day', 'workin', 'like', 'three', 'hours', 'missxu', 'sorry', 'bed', 'time', 'came', 'gmt', '1', 'http', 'gd', 'fnge', 'fleurylis', 'either', 'depressing', 'think', 'even', 'know', 'kids', 'suitcases', 'bed', 'class', '8', '12', 'work', '12', '3', 'gym', '3', '5', '6', 'class', '6', '10', 'another', 'day', 'gonna', 'fly', 'miss', 'girlfriend', 'really', 'feel', 'like', 'getting', 'today', 'got', 'study', 'tomorrows', 'practical', 'exam', 'reason', 'teardrops', 'guitar', 'enough', 'break', 'heart', 'sad', 'sad', 'sad', 'know', 'hate', 'feeling', 'wanna', 'sleep', 'still', 'jonathanrknight', 'awww', 'soo', 'wish', 'see', 'finally', 'comfortable', 'sad', 'missed', 'falling', 'asleep', 'heard', 'tracy', 'girl', 'body', 'found', 'sad', 'heart', 'breaks', 'family', 'viennah', 'yay', 'happy', 'job', 'means', 'less', 'time', 'checked', 'user', 'timeline', 'blackberry', 'looks', 'like', 'twanking', 'still', 'happening', 'ppl', 'still', 'probs', 'w', 'bgs', 'uids', 'oh', 'ironing', 'jeancjumbe', 'fave', 'top', 'wear', 'meeting', 'burnt', 'strangely', 'sad', 'lilo', 'samro', 'breaking', 'tea', 'oh', 'sorry', 'think', 'retweeting', 'broadband', 'plan', 'massive', 'broken', 'promise', 'http', 'tinyurl', 'dcuc33', 'via', 'www', 'diigo', 'tautao', 'still', 'waiting', 'broadband', 'localtweeps', 'wow', 'tons', 'replies', 'may', 'unfollow', 'see', 'friends', 'tweets', 'scrolling', 'feed', 'lot', 'duck', 'chicken', 'taking', 'wayyy', 'long', 'hatch', 'put', 'vacation', 'photos', 'online', 'yrs', 'ago', 'pc', 'crashed', 'forget', 'site', 'need', 'hug', 'andywana', 'sure', 'pos', 'much', 'dont', 'think', 'trade', 'away', 'company', 'assets', 'sorry', 'andy', 'oanhlove', 'hate', 'happens', 'sad', 'feeling', 'dallas', 'going', 'show', 'gotta', 'say', 'though', 'think', 'shows', 'would', 'use', 'music', 'game', 'mmm', 'ugh', '92', 'degrees', 'tomorrow', 'move', 'thought', 'already', 'sd', 'hmmm', 'random', 'found', 'glad', 'hear', 'yer', 'well', 'batmanyng', 'miss', 'ps3', 'commission', 'wutcha', 'playing', 'copped', 'blood', 'sand', 'leaving', 'parking', 'lot', 'work', 'life', 'cool', 'sadly', 'though', 'never', 'gotten', 'experience', 'post', 'coitus', 'cigarette', 'never', 'nice', 'day', 'bad', 'rain', 'comes', 'tomorrow', '5am', 'starrbby', 'bad', 'around', 'lost', 'job', 'even', 'pay', 'phone', 'bill', 'lmao', 'aw', 'shucks', 'damm', 'back', 'school', 'tomorrow', 'mo', 'jobs', 'money', 'hell', 'wage', '4', 'f', 'clams', 'hour', 'katortiz', 'forever', 'see', 'soon', 'lt_algonquin', 'agreed', 'saw', 'failwhale', 'allllll', 'day', 'today', 'jdarter', 'oh', 'haha', 'dude', 'dont', 'really', 'look', 'unless', 'someone', 'says', 'hey', 'added', 'sorry', 'terrible', 'need', 'pop', 'ninjen', 'sure', 'right', 'need', 'start', 'working', 'nikster', 'jared', 'least', 'really', 'hate', 'people', 'diss', 'bands', 'trace', 'clearly', 'ugly', 'gym', 'attire', 'today', 'puma', 'singlet', 'adidas', 'shorts', 'black', 'business', 'socks', 'leather', 'shoes', 'lucky', 'run', 'cute', 'girls', 'show', 'location', 'http', 'twitpic', '2y2es', 'picnic', 'phone', 'smells', 'like', 'citrus', 'ashleyac', 'donkey', 'sensitive', 'comments', 'nevertheless', 'glad', 'see', 'mug', 'asap', 'charger', 'still', 'awol', 'new', 'csi', 'tonight', 'fml', 'think', 'arms', 'sore', 'tennis', 'wonders', 'someone', 'like', 'much', 'make', 'unhappy', 'split', 'seccond', 'depressed', 'sleep', 'soon', 'hate', 'saying', 'bye', 'see', 'tomorrow', 'night', 'statravelau', 'got', 'ur', 'newsletter', 'fares', 'really', 'unbelievable', 'shame', 'already', 'booked', 'paid', 'missin', 'boo', 'markhardy1974', 'itm', 'damn', 'chalk', 'chalkboard', 'useless', 'blast', 'getty', 'villa', 'hates', 'sore', 'throat', 'day', 'getting', 'worse', 'msdrama', 'hey', 'missed', 'meeting', 'sup', 'mama', 'tummy', 'hurts', 'wonder', 'hypnosis', 'anything', 'working', 'get', 'stop', 'smoking', 'always', 'fat', 'ones', 'januarycrimson', 'sorry', 'babe', 'fam', 'annoys', 'thankfully', 'asleep', 'right', 'muahaha', 'evil', 'laugh', 'hollywoodheat', 'paid', 'attention', 'covered', 'photoshop', 'webpage', 'design', 'class', 'undergrad', 'wednesday', 'b', 'day', 'know', '2', 'poor', 'cameron', 'hills', 'pray', 'please', 'ex', 'threatening', 'start', 'sh', 'babies', '1st', 'birthday', 'party', 'jerk', 'still', 'headache', 'makeherfamous', 'hmm', 'really', 'enjoy', 'problems', 'constants', 'think', 'things', 'find', 'someone', 'ulike', 'strider', 'sick', 'little', 'puppy', 'http', 'apps', 'facebook', 'dogbook', 'profile', 'view', '5248435', 'rylee', 'grace', 'wana', 'go', 'steve', 'party', 'sadly', 'since', 'easter', 'wnt', 'b', 'able', '2', 'much', 'ohh', 'well', 'hey', 'actually', 'bracket', 'pools', 'bad', 'money', 'stark', 'follow', 'either', 'work', 'bad', 'nite', 'favorite', 'teams', 'astros', 'spartans', 'lose', 'nite', 'w', 'good', 'body', 'missing', 'northern', 'calif', 'girl', 'found', 'police', 'found', 'remains', 'missing', 'northern', 'california', 'girl', 'http', 'tr', 'imji', 'mangaaa', 'hope', 'increase', 'capacity', 'fast', 'yesterday', 'pain', 'got', 'fail', 'whale', '15', 'times', '2', 'hours', 'behind', 'classes', 'work', 'watching', 'quot', 'house', 'quot', 'kpreyes', 'remember', 'bum', 'leg', 'strikes', 'back', 'time', 'serious', 'paradisej', 'cool', 'kinds', 'complaints', 'laptop', 'online', 'overheating', 'recalls', 'emily', 'glad', 'mommy', 'done', 'training', 'new', 'job', 'misses', 'http', 'apps', 'facebook', 'dogbook', 'profile', 'view', '6176014', 'would', 'rather', 'first', 'party', 'send', 'bad', 'messages', '3rd', 'party', 'send', 'mixed', 'ones', 'sophmore', 'year', 'henkuyinepu', 'overrated', 'marykatherine_q', 'know', 'heard', 'afternoon', 'wondered', 'thing', 'moscow', 'behind', 'times', 'laying', 'bed', 'voice', 'sooo', 'sad', 'killed', 'kutner', 'house', 'whyyyyyyyy', 'jacobsummers', 'sorry', 'tell', 'culpa', 'really', 'sorry', 'alliana07', 'make', 'sense', 'suicide', 'thing', 'refuse', 'believe', 'actually', 'happened', 'salancaster', 'hope', 'ok', 'mercedesashley', 'damn', 'grind', 'inspirational', 'saddening', 'time', 'stop', 'cuz', 'like', 'much', 'love', 'hibanick', 'yeah', 'aw', 'know', 'wudnt', 'stand', 'chance', 'ugh', 'cant', 'sleep', '1', '30am', 'hanging', 'crooners', 'wanna', 'sing', 'sucks', 'erre_sc', 'aaw', 'miss', 'leaving', 'bh', 'tomorrow', 'quot', 'morning', 'quot', 'think', 'aww', 'wanna', 'go', 'beach', 'w', 'girls', 'pissed', 'asba', 'radio', 'station', 'wednesday', 'b', 'day', 'know', '2', 'know', 'life', 'flipped', 'upside', 'thought', 'head', 'ramen', 'sounds', 'good', 'pain', 'back', 'sides', 'hurt', 'mention', 'crying', 'made', 'fail', 'late', 'night', 'snack', 'glass', 'oj', 'b', 'quot', 'sickness', 'quot', 'back', 'sleep', 'ugh', 'hate', 'getting', 'sick', 'allyheman', 'big', 'fan', 'camilla', 'belle', 'grum', 'see', 'clip', 'must', 'stupido', 'work', 'filters', 'wait', 'get', 'puter', 'something', 'else', '2', 'blame', 'ex', '4', 'broke', 'week', 'seems', 'get', 'longer', 'longer', 'terms', 'much', 'need', 'much', 'actually', 'going', 'get', 'done', 'cold', 'thecoolestout', 'ehhh', 'weather', 'gonna', 'turn', 'ugly', 'tomorrow', 'chelserlynn', 'haha', 'cooooold', 'still', 'go', 'show', 'incredible', 'stuff', 'hoping', 'tummy', 'rumbles', 'go', 'away', 'soon', 'knights_', 'notice', 'told', 'working', 'tomorrow', 'called', 'agency', 'follow', 'said', 'almost', 'bedtime', 'missing', 'babe', 'long', 'alive', 'happy', 'yawwwnn', 'tired', 'love', 'imma', 'try', 'sleep', 'hopefully', 'headstart', 'agh', 'snow', 'miss', 'kenny', 'powers', 'bridgetsbeaches', 'thank', 'letting', 'people', 'know', 'sad', 'direct', 'message', 'got', 'actually', 'bridget', 'india', 'missed', '100th', 'test', 'victory', '10th', 'consecutive', 'win', 'without', 'loss', 'jonathanrknight', 'guess', 'sadly', 'going', 'bed', 'ozesteph1992', 'shame', 'hear', 'stephan', 'mrsaintnick', 'hey', 'leavin', 'morning', 'intending', 'finish', 'editing', '536', 'page', 'novel', 'manuscript', 'tonight', 'probably', 'happen', '12', 'pages', 'left', 'laid', 'around', 'much', 'today', 'head', 'hurts', 'twista202', 'still', 'read', '9th', 'amp', '10th', 'princess', 'diaries', 'saving', 'francesca', 'made', 'cry', 'hmm', 'easy', 'books', 'nokia', '1110', 'died', 'mom', 'might', 'breast', 'cancer', 'find', 'anything', 'like', 'week', 'worried', 'going', 'sleep', 'hoping', 'tomorrow', 'better', 'day', 'rumblepurr', 'lol', 'wish', 'understood', 'daylight', 'savings', 'ended', 'though', 'breakfast', 'hour', 'later', 'keep', 'waking', 'kids', 'onemoreproject', 'lame', 'understand', 'really', 'heroes', 'season', 'living', 'downtown', 'sure', 'much', 'fun', 'jonathanchard', 'calorie', 'wise', 'wish', 'junk', 'food', 'calorie', 'free', 'ate', 'thing', 'sour', 'skittles', 'big', 'ass', 'cherry', 'coke', 'work', 'hard', 'getting', 'sick', 'time', 'hot', 'tea', 'studying', 'sleeeep', 'getting', 'eyebrows', 'waxed', 'pain', 'phantasy', 'star', 'yesterday', 'going', 'work', 'oh', 'got', 'macheist', '3', '0', 'apps', 'sweet', 'get', 'espresso', 'serial', 'though', 'although', 'said', 'sent', 'oh', 'well', 'picked', 'st', 'win', 'get', 'go', 'feeling', 'pretty', 'good', 'pick', 'way', 'tonight', 'lost', 'alone', 'downstairs', 'working', 'feel', 'bad', 'ryanseacrest', 'hates', 'anoop', 'mean', 'seriously', 'kinda', 'mean', 'pinkserendipity', 'yes', 'sprint', '4g', 'baltimore', 'chicago', 'far', 'stuck', 'awake', 'middle', 'night', 'second', 'day', 'row', 'felt', 'terrible', 'yesterday', 'thanks', 'bursting', 'bubble', 'going', 'school', 'soon', 'find', 'anything', 'wear', 'gosh', 'hard', 'marieclr', 'serious', 'lol', 'naughtyhaughty', 'page', 'sooooo', 'long', 'got', 'deleted', 'sad', 'day', 'history', 'crazy', 'wind', 'today', 'birding', 'http', 'ff', '1xtti', 'currently', 'work', 'grrr', 'ipods', 'acting', 'weird', 'jai', 'thinking', 'playing', 'full', 'songs', 'ughh', 'penndbad', 'send', 'dvd', 'cos', 'missed', 'heaps', 'happy', 'see', 'big', 'deal', 'website', 'machineplay', 'sorry', 'go', 'therapyfail', 'colindemar', 'far', 'way', 'rail', 'tips', 'still', 'swear', 'keep', 'losing', 'gaining', 'losing', 'gaining', 'tweeps', 'heart', 'wrenching', 'today', 'realized', 'good', 'hiding', 'things', 'even', 'find', 'staying', 'friends', 'house', 'house', 'sitting', 'neighbors', 'loud', 'party', 'dannyvegasbaby', 'danny', 'upset', 'wasnt', 'watch', 'live', 'chat', 'car', '3', 'hours', 'trip', 'soooo', 'upset', 'check', 'mug', 'http', 'www', 'erika', 'obscura', 'blogspot', 'borders', 'closed', '10', 'downloading', 'nin', 'new', 'album', 'quot', 'slip', 'quot', 'hell', 'behind', 'times', 'days', 'woke', 'already', 'written', 'mail', 'go', 'early', 'university', 'today', 'teach', '8', '30', 'watching', 'hill', 'making', 'sad', 'many', 'channels', 'yet', 'boring', 'lazy', 'day', 'may', 'find', 'hobby', 'supersport', 'miss', 'buddy', 'ny', '25th', 'robluketic', 'love', 'french', 'tell', 'people', 'south', 'qtr', 'french', 'snarl', 'french', 'beautiful', 'people', 'opps', 'said', 'still', 'got', 'day', 'remain', 'problem', 'activated', 'selfcontrol', 'block', 'early', 'meaning', 'check', 'new', 'qc', 'regularizing', 'internal', 'clock', 'might', 'difficult', 'fb', 'hillydop', 'oh', 'spencer', 'good', 'guy', 'goodlaura', 'reese', 'dying', 'ttsc', 'season', 'finale', 'next', 'week', '24', 'boring', 'madame', 'president', 'crazy', 'woman', 'jonathanrknight', 'hate', 'limited', 'letters', 'hope', 'guys', 'fine', 'pray', 'sheï', '½s', 'well', 'get', 'shit', 'done', 'today', 'screwed', 'wanttss', 'go', 'going', 'sleep', 'tonite', 'worried', 'tired', 'post', 'tonight', 'get', 'shit', 'done', 'today', 'screwed', 'job', 'interview', 'cardiff', 'today', 'wish', 'luck', 'got', '3', 'hours', 'sleep', 'cherub_rock123', 'ehh', 'day', 'haha', 'yess', 'making', 'maria', 'get', 'twitter', 'woooo', 'elliot', 'minor', '8', 'days', 'got', 'hoodie', 'today', 'tired', 'sick', 'good', 'quot', 'cheer', 'quot', 'thing', 'sanctuminc', 'right', 'click', 'repost', 'mrschicken', 'yes', 'yes', 'maximumswearing', 'yes', 'great', 'mind', 'escape', 'storming', 'day', 'love', 'coming', 'home', 'tomorrow', 'time', 'pack', 'logangator', 'figure', 'something', 'mco', '4am', 'thu', 'either', 'bug', '1am', 'house', 'see', 'wed', 'asimkovsky', 'thanks', 'info', 'gschan', 'malditamd', 'daydreamerping', 'ragdollgonewild', 'tarayqueen', 'manilenya', 'thank', 'owe', 'sanity', 'tonight', 'commtell09', 'patty', 'perkins', 'vp', 'desktop', 'video', 'manager', 'wachovia', 'next', 'understand', 'many', 'sharepoint', 'opps', 'happening', 'greenbaby_uk', 'please', 'follow', 'dm', 'giveaway', 'v2black', 'oh', 'okay', 'well', 'know', 'first', 'band', 'mentioned', 'know', 'sound', 'like', 'benabaker', 'probably', 'player', 'signing', 'maybe', 'rookies', 'see', 'office', 'planning', 'friends', 'go', 'mall', 'hope', 'lt', '3', 'lilkup', 'relief', 'conflict', 'exhausts', 'youluvme', 'sure', 'bighead', 'twitter', 'virginity', 'broken', 'job', 'interview', 'go', 'back', 'job', 'coffee', 'thanks', 'chimolschimols', 'piewacket1', 'good', 'sometimes', 'shot', 'attention', 'span', 'could', 'good', 'tho', 'p', 'agree', 'letting', 'bright', 'light', 'flow', 'pie', 'self', 'new', 'tatoo', 'love', 'megggiiiee', 'guilty', 'pleasure', 'yikes', 'wish', 'could', 'afford', 'shiz', 'http', 'tinyurl', 'kqztg5', 'hillsmarket', 'sweet', 'thanks', 'posting', 'letting', 'us', 'know', 'tonyhawk', 'yess', 'good', 'choice', 'laptop', 'typing', 'replica', 'lol', 'realized', 'room', 'color', 'theme', 'green', 'definitely', 'growing', 'go', 'green', 'hahaha', 'still', 'love', 'purple', 'though', 'good', 'morning', 'chicago', 'love', 'city', 'dfinchalicious', 'ends', 'like', 'good', 'bad', 'collide', 'ost8doc', 'photographing', 'nickkkjonasss', 'like', 'poison', 'ivy', 'best', 'david_wylie', 'could', 'born', 'emporer', 'penguin', 'minus', '200', 'carrying', 'kids', 'feet', 'food', 'water', 'quit', 'whining', 'extrabaggs', 'knbr', 'right', 'yay', 'love', 'reading', 'blog', 'wish', 'knew', 'looked', 'like', 'could', 'say', 'hi', 'park', 'lol', 'srsly', 'heading', 'bed', 'goodnight', 'twitterverse', '10', '40', 'start', '12', '30', 'finish', 'tomorrow', 'yesssss', 'lt', '3', 'college', 'x', 'alexandervelky', 'polite', 'version', 'heard', 'quot', 'look', 'much', 'better', 'bedroom', 'floor', 'quot', 'nice', 'would', 'hang', 'spindeezy', 'ur', 'queen', 'spindeezy', 'drwestgrace', 'yet', 'feel', 'sorry', 'lol', 'seriously', 'tho', 'safe', 'travels', 'new', 'twitta', 'someone', 'help', 'sky_1995', 'sorryyy', 'gotta', 'go', 'mom', 'go', 'computer', 'talk', 'time', 'pretty', 'day', 'quot', 'smile', 'quot', 'good', 'morning', 'everyone', 'hope', 'time', 'outside', 'amp', 'soak', 'beautiful', 'morning', 'starting', 'work', 'woke', 'might', 'watch', 'chick', 'flick', 'later', 'lol', 'minglebar', 'thanks', 'checking', 'mkvlln', 'mr', 'president', 'tweets', 'get', 'cut', 'cant', 'read', 'everything', 'send', 'email', 'thanks', 'love', 'catyfairy', 'revolta', 'follower', 'hj', 'borededup', 'job', 'actually', 'plenty', 'odd', 'jobs', 'get', 'far', 'screen', 'cleaning', 'intern', 'common_pigeon', 'quite', 'welcome', 'happened', 'world', 'actually', 'chores', 'nobody', 'told', 'proud', 'lol', 'free', 'apple', 'products', 'iphone', '3g', 'macbook', 'pro', 'air', 'ipod', 'touch', 'nano', 'imac', 'click', 'http', 'apple', 'freebiejeebies', 'co', 'uk', '45615', 'sick', 'sick', 'sick', 'today', 'still', 'fingers', 'crossed', 'ebay', 'job', 'send', 'good', 'thoughts', 'getting', 'ready', 'go', 'go', 'mac', 'buy', 'brushes', 'loves', 'visitors', 'goin', 'aerosmith', 'concert', 'hit', 'nice', 'going', 'leave', '6am', 'hike', 'probably', 'point', 'pack', 'tomorrow', 'willaryan', 'least', 'trees', 'spared', 'following', '69', 'people', 'many', 'people', 'following', 'taking', 'twit', 'break', 'lil', 'blown', 'boss', 'still', 'job', 'god', 'good', 'http', 'twitpic', '7joyo', 'feel', 'today', 'little', 'imagery', 'everyone', 'lol', 'day', 'long', 'date', 'god', 'today', 'phones', 'allowed', 'world', 'rage', 'tomorrow', 'today', 'safe', 'ritasummerstar', 'apparently', 'hiding', 'suspect', 'kazzc22', 'probs', 'kazz', 'think', 'theres', 'new', 'going', 'celebrity', 'twitterer', 'summat', 'lol', 'dunno', 'voted', 'misha', 'anyways', 'alanhchin', 'thanks', 'alan', 'need', 'fundraising', 'support', 'get', 'documentary', 'plus', 'shirts', 'cool', 'nlpride08', 'perfectly', 'reasonable', 'time', 'day', '6fuzzyfeet', 'hi', 'thanks', 'follow', 'going', 'tampa', 'saturday', 'watched', 'spongebob', 'going', '2', 'find', 'gr8', 'coffee', 'spot', 'even', 'feel', 'like', 'public', 'holiday', 'gonna', 'go', 'shower', 'turn', 'last', 'paper', 'deal', 'heich_dee', 'hahaha', 'cannot', 'luh', 'feel', 'bad', 'coz', 'got', 'work', 'talk', 'guess', 'thats', 'enough', 'hahaha', 'obatron', 'try', 'google', 'calendar', 'got', 'tasks', 'carahsollins', 'good', 'morning', 'lady', 'ddribin', 'saw', 'amp', 'approved', 'bike', 'years', 'exceedingly', 'bike', 'unfriendly', 'changin', 'lucky', 'enough', 'different', 'everybody', 'else', 'dont', 'change', 'fosho174', 'lmao', 'capture', 'flag', 'bless', 'lil', 'playing', 'hearts', 'bet', 'hott', 'heck', 'always', 'cinemattic', 'happy', 'birthday', 'sir', 'haz', 'big', 'piece', 'carrot', 'cake', 'home', 'ashleytisdale', 'hih', 'good', 'morning', 'austria', '17', '36', 'hihi', 'brunofigueiredo', 'ppinheiro76', 'pedrocs', 'top', 'gear', 'returns', 'sunday', 'btw', 'netscribe', 'thanks', 'considering', 'issuu', 'bruno108', 'would', 'like', 'please', 'aplusk', 'got', 'something', 'baseball', 'drives', 'license', 'moth', 'first', 'day', 'week', 'thought', 'sleep', '4', 'body', 'let', 'sleep', 'past', '8am', 'ugh', 'relaxin', 'workout', 'time', 'mama', 'afternoon', 'goal', 'run', '5k', 'summer', 'memory', 'greg', 'think', 'think', 'http', 'twitpic', '7joyw', 'bring', 'summer', 'busy', 'day', 'work', 'happy', 'burkharts', 'houston', 'wait', 'see', 'beautiful', 'home', 'ladyvanir', 'lol', 'break', 'head', 'denmark', 'kbgerth', 'well', 'still', 'tuesday', 'worries', 'made', 'twd', 'tuesday', 'times', 'tell', 'getting', 'ready', 'picnic', 'park', 'w', 'muh', 'partner', 'crime', 'bestie', 'oh', 'press', 'ctrl', 'ctrl', 'f', 'itunes', 'surprise', 'see', 'light', 'tunnel', 'bright', 'woo', 'fricken', 'hoo', 'going', 'south', 'streeeet', 'kate', 'hopefully', 'mom', 'gets', 'ring', 'wantt', 'jihav', 'actually', 'psn', 'id', 'gunsnspeedo', 'o_o', 'oh', 'welcome', 'paulmiller', 'appreciate', 'calories', 'missing', 'southmainmuse', 'perfectly', 'normal', 'thinking', 'someday', 'technology', 'social', 'networks', 'hardwired', 'brains', 'bizreviewer', 'thanks', 'much', 'acknowledgement', 'ahamachi', 'eggirock', 'drinking', 'water', 'trick', 'totally', 'worked', 'guys', 'cry', 'unworthysaint', 'fun', 'beach', 'universal', 'studios', 'yeeeeeeman', 'haveyouever', 'alone', 'night', 'thought', 'heard', 'footsteps', 'behind', 'fear', 'dark', 'iron', 'maiden', 'loved', 'usa', 'hockey', 'team', 'cris1015', 'goal', 'stocks', 'like', 'mtxx', 'help', 'person', 'avoided', 'stock', 'post', 'would', 'make', 'keystrokes', 'worth', 'wolfpack40', 'thinking', 'knock', 'water', 'satisfying', 'jchawes', 'yeah', 'remotes', 'car', 'find', 'know', 'gonna', 'get', 'car', 'keys', 'dumbass', 'post', 'mans', '2009', 'pics', 'really', 'shoot', 'much', 'bit', 'like', 'silverstone', 'http', 'tinyurl', 'nju67t', 'say_my_name', 'traitor', 'love', 'sarahg8s', 'lol', 'wasnt', 'burns', 'lol', 'sumone', 'know', 'seen', 'goin', 'twitter', 'gonna', 'talk', 'sophie', 'talk', 'later', 'playing', 'big', 'surf', 'island', 'unlocked', '5', 'trophies', 'already', 'hah', 'gabespears', 'morning', 'really', 'dont', 'get', 'jaylor', 'split', 'oh', 'well', 'lucas', 'suit', 'x', 'cluster', 'back', 'happy', 'excited', 'day', 'oh', 'god', 'cookie', 'dough', 'frijj', 'spaffed', 'pants', 'much', 'joy', 'â', '1', '05', 'shannongilliam', 'good', 'luck', 'exciting', 'day', 'real', 'fun', 'begins', 'going', 'love', 'mommy', 'xo', 'got', 'yearbooks', 'school', 'gonna', 'try', 'get', 'everyone', 'sing', 'wish', 'luck', 'pja4ever', 'back', 'drummeroy', 'nice', 'new', 'holding', 'hello', 'good', 'morning', 'wanna', 'something', 'today', '30stmwithjared', 'love', 'tattoo', 'mto', 'empire', 'sports', 'futebol', 'eh', 'pouco', 'dificil', 'pq', 'usa', 'mouse', 'eh', 'bem', 'divertido', 'online', 'planetchuckie', 'haha', 'wonder', 'made', 'hmm', 'change', 'soon', 'largest', 'fastest', 'hotspot', 'located', 'atlanta', 'suck', 'people', 'outside', 'atl', 'jk', 'idea', 'use', 'http', 'bit', 'ly', 'edjz7', 'switched', 'back', 'opera', 'using', 'skin', 'really', 'fast', 'amp', 'stable', 'work', 'loving', 'http', 'www', 'opera', 'download', 'scrubbed', 'surgery', 'today', 'bloody', 'knackered', 'still', 'got', 'two', 'hours', 'go', 'still', 'last', 'shift', 'tomorrow', 'whole', 'week', 'mcflyengland', 'haha', 'yeah', 'course', 'love', 'mcfly', 'lol', 'yeah', 'got', 'local', 'clinical', 'psychologist', 'job', 'wants', 'jonasbrothers', 'album', 'wow', '8', '40', 'pretty', 'early', 'wake', 'lol', 'dropping', 'molly', 'getting', 'ice', 'cream', 'aaron', 'meet', 'manda', 'spending', 'night', 'meredith', 'lauren', 'missed', 'dearly', 'mom2jwo', 'woo', 'hoo', 'keep', 'working', 'hard', 'dear', 'andrewdearling', 'yawns', 'injection', 'today', 'fun', 'rrst', 'school', 'day', 'good', 'tonight', 'going', 'dancing', 'yey', 'ahhh', 'yay', 'found', 'missing', 'sunglasses', 'cleaning', 'office', 'happy', 'lmao', 'seizuresalad', 'cute', 'awesome', 'hahahahahahahahahahahahahaha', 'â', 'http', 'blip', 'fm', '8bmo7', 'processing', 'another', 'credit', 'application', 'hours', 'bill', 'ohsosweettreats', 'omg', 'loveeeee', 'frosted', 'flakes', 'bananas', 'top', 'know', 'anybody', 'else', 'knew', 'back', 'getting', 'new', 'jonas', 'brothers', 'cd', 'ipod', 'goes', 'siahoney', 'good', 'thanks', 'eric', 'heard', 'anything', 'awhile', 'visited', 'recently', 'hope', 'feeling', 'better', 'varin', 'praying', 'hang', 'trust', 'docs', 'know', 'best', 'even', 'act', 'nicely', 'omg', 'dad', 'surgery', 'today', 'please', 'keep', 'prayers', 'mskcjones', 'yeah', 'irritating', 'right', 'god', 'side', 'cant', 'fail', 'gone2dmb', 'agreed', 'soulful', 'eyes', 'dsc', 'student', 'http', 'twitpic', '7jp4d', 'cate45_1999', 'love', 'pics', 'shanbutterfly', 'star', 'bowl', 'loves', 'stars', 'filled', 'dark', 'chocolate', 'card', 'oh', 'yes', 'btw', '8', '00', 'chriscuzzy', 'someone', 'wanted', 'quot', 'cuzzy', 'quot', 'memorabilia', 'charlottespeaks', 'funny', 'doggie', 'another', 'piece', 'media', 'homework', 'get', 'milkshake', 'diet', 'starts', 'today', 'woop', 'woop', 'finding', 'omg', 'good', 'jerrys', 'cookie', 'dough', 'icecream', 'really', 'well', 'goood', 'lol', 'justwaitin', 'bbq', 'hope', 'stays', 'like', 'oooo', 'haha', 'waking', 'ready', 'eat', 'delicious', 'breakfast', 'prepared', 'go', 'afternoon', 'watch', 'movie', 'traveltuesday', 'guyngirltravels', 'tweets', 'hilarious', 'lol', 'great', 'travelers', 'ideaz', 'get', 'dad', 'father', 'day', 'socks', 'tho', 'god', 'works', 'mysteriously', 'learn', 'think', 'world', 'wonderfully', 'receive', 'amp', 'get', 'ask', '_crc_', 'mornin', 'enjoying', 'beautiful', 'morning', 'phoenix', 'bad', 'yet', 'woke', 'feeling', 'rested', 'refreshed', 'today', 'time', 'naijagal', 'throw', 'tell', 'say', 'thanks', 'eye', 'contact', 'brixton', 'gig', 'managed', 'get', 'shot', 'siovene', 'lol', 'blame', 'safest', 'thing', 'world', 'ashinynewcoin', 'yeah', 'sorry', 'repetitive', 'pokapolas', 'love', 'donut', 'toadstool', 'crgrs359', 'skip', 'aquarium', 'check', 'fish', 'lot', 'cheaper', 'lol', 'http', 'bit', 'ly', '2lqbbv', 'groleaunet', 'yeah', 'ass', 'today', 'ohtristan', 'sunoudy', 'kbonded', 'newsflash', 'worked', 'stum450n', 'hi', 'thanks', 'follow', 'nice', 'website', 'check', 'carriage', 'returns', 'though', 'bottom', 'website', 'amp', 'brand', 'identity', 'got', 'home', 'hour', 'ago', 'ate', 'lunch', 'watched', 'tv', 'listening', 'kelly', 'clarkson', 'exam', 'tomorrow', 'yay', '3', '4', 'go', 'checking', 'mail', 'done', 'examen', 'easy', 'peasy', 'proud', 'davepell', 'undisputed', 'authority', 'topic', 'goog', 'recognizes', 'thanks', 'eastwestchic', 'amp', 'wangyip', 'thanks', 'looking', 'marttn', 'thanks', 'martin', 'imaginative', 'interface', 'mikejonesphoto', 'congrats', 'mike', 'way', 'go', 'http', 'twitpic', '7jp4n', 'omg', 'office', 'space', 'wanna', 'steal', 'yrclndstnlvr', 'ahaha', 'nooo', 'away', 'everyone', 'else', 'see', 'kara', 'yess', 'aree', 'see', 'saturday', 'bizcoachdeb', 'hey', 'baack', 'thanks', 'much', 'kind', 'notes', 'gone', 'made', 'smile', 'times', 'needed', 'mattycus', 'yeah', 'conscience', 'would', 'clear', 'case', 'mayordoriswolfe', 'thats', 'girl', 'dishing', 'quot', 'advice', 'quot', 'shebbs123', 'second', 'garden', 'myheartandmind', 'jen', 'nemuselo', 'zrovna', 'tã', 'holce', 'ael', 'co', 'nic', 'another', 'commenting', 'contest', 'yay', 'http', 'tinyurl', 'm6j2an', 'thrillmesoon', 'figured', 'see', 'tweets', 'facebook', 'status', 'updates', 'set', 'groups', 'seemed', 'like', 'pain', 'set', 'oxhot', 'theri', 'tomorrow', 'drinking', 'coffee', 'talking', 'important', 'favourite', 'issue', 'know', 'mean', 'heard', 'first', 'girl', 'hope', 'looks', 'wendy', 'brains', 'kidding', 'babe', 'ur', 'lead', 'singer', 'band', 'beware', 'falling', 'prey', 'lsd', 'quot', 'lead', 'singer', 'disease', 'quot', 'http', 'tinyurl', 'n65xjt', 'music', 'haveyouever', 'tarayqueen', 'much', 'ads', 'blog', 'la_r_a', 'neveer', 'think', 'get', 'well', 'roy_everitt', 'good', 'job', 'right', 'gotta', 'throw', 'bigrun', 'tag', 'everywhere', 'wanna', 'get', 'trending', 'start', 'ms_hip_hop', 'glad', 'ur', 'well', 'wooooo', 'xbox', 'back', 'rmedina', 'latati', 'mmmm', 'sounds', 'absolutely', 'perfect', 'schedule', 'full', 'time', 'lay', 'bed', 'sunday', 'ugh', 'recovering', 'long', 'weekend', 'scooby_gritboys', 'cliff_forster', 'yeah', 'work', 'better', 'waiting', 'wonder', 'time', 'keep', 'good', 'blog', 'woke', 'school', 'best', 'feeling', 'ever', 'thewdb', 'cool', 'hear', 'old', 'walt', 'interviews', 'â', 'http', 'blip', 'fm', '8bmta', 'ready', 'makeover', 'ask', 'details', 'happy', '38th', 'birthday', 'boo', 'alll', 'time', 'tupac', 'amaru', 'shakur', 'happy', 'charitytuesday', 'thenspcc', 'sparkscharity', 'speakinguph4h']\n",
      "[\"is upset that he can't update his Facebook by texting it... and might cry as a result  School today also. Blah!\", '@Kenichan I dived many times for the ball. Managed to save 50%  The rest go out of bounds', 'my whole body feels itchy and like its on fire ', \"@nationwideclass no, it's not behaving at all. i'm mad. why am i here? because I can't see you all over there. \", '@Kwesidei not the whole crew ', 'Need a hug ', \"@LOLTrish hey  long time no see! Yes.. Rains a bit ,only a bit  LOL , I'm fine thanks , how's you ?\", \"@Tatiana_K nope they didn't have it \", '@twittera que me muera ? ', \"spring break in plain city... it's snowing \", 'I just re-pierced my ears ', \"@caregiving I couldn't bear to watch it.  And I thought the UA loss was embarrassing . . . . .\", '@octolinz16 It it counts, idk why I did either. you never talk to me anymore ', \"@smarrison i would've been the first, but i didn't have a gun.    not really though, zac snyder's just a doucheclown.\", '@iamjazzyfizzle I wish I got to watch it with you!! I miss you and @iamlilnicki  how was the premiere?!', \"Hollis' death scene will hurt me severely to watch on film  wry is directors cut not out now?\", 'about to file taxes ', '@LettyA ahh ive always wanted to see rent  love the soundtrack!!', '@FakerPattyPattz Oh dear. Were you drinking out of the forgotten table drinks? ', \"@alydesigns i was out most of the day so didn't get much done \", \"one of my friend called me, and asked to meet with her at Mid Valley today...but i've no time *sigh* \", '@angry_barista I baked you a cake but I ated it ', 'this week is not going as i had hoped ', 'blagh class at 8 tomorrow ', 'I hate when I have to call and wake people up ', 'Just going to cry myself to sleep after watching Marley and Me.  ', 'im sad now  Miss.Lilly', \"ooooh.... LOL  that leslie.... and ok I won't do it again so leslie won't  get mad again \", 'Meh... Almost Lover is the exception... this track gets me depressed every time. ', 'some1 hacked my account on aim  now i have to make a new one', '@alielayus I want to go to promote GEAR AND GROOVE but unfornately no ride there  I may b going to the one in Anaheim in May though', 'thought sleeping in was an option tomorrow but realizing that it now is not. evaluations in the morning and work in the afternoon! ', '@julieebaby awe i love you too!!!! 1 am here  i miss you', '@HumpNinja I cry my asian eyes to sleep at night ', \"ok I'm sick and spent an hour sitting in the shower cause I was too sick to stand and held back the puke like a champ. BED now \", '@cocomix04 ill tell ya the story later  not a good day and ill be workin for like three more hours...', '@MissXu sorry! bed time came here (GMT+1)   http://is.gd/fNge', \"@fleurylis I don't either. Its depressing. I don't think I even want to know about the kids in suitcases. \", \"Bed. Class 8-12. Work 12-3. Gym 3-5 or 6. Then class 6-10. Another day that's gonna fly by. I miss my girlfriend \", \"really don't feel like getting up today... but got to study to for tomorrows practical exam... \", \"He's the reason for the teardrops on my guitar the only one who has enough of me to break my heart \", \"Sad, sad, sad. I don't know why but I hate this feeling  I wanna sleep and I still can't!\", '@JonathanRKnight Awww I soo wish I was there to see you finally comfortable! Im sad that I missed it ', \"Falling asleep. Just heard about that Tracy girl's body being found. How sad  My heart breaks for that family.\", \"@Viennah Yay! I'm happy for you with your job! But that also means less time for me and you... \", 'Just checked my user timeline on my blackberry, it looks like the twanking is still happening  Are ppl still having probs w/ BGs and UIDs?', \"Oh man...was ironing @jeancjumbe's fave top to wear to a meeting. Burnt it \", 'is strangely sad about LiLo and SamRo breaking up. ', \"@tea oh! i'm so sorry  i didn't think about that before retweeting.\", \"Broadband plan 'a massive broken promise' http://tinyurl.com/dcuc33 via www.diigo.com/~tautao Still waiting for broadband we are \", \"@localtweeps Wow, tons of replies from you, may have to unfollow so I can see my friends' tweets, you're scrolling the feed a lot. \", 'our duck and chicken are taking wayyy too long to hatch ', 'Put vacation photos online a few yrs ago. PC crashed, and now I forget the name of the site. ', 'I need a hug ', '@andywana Not sure what they are, only that they are PoS! As much as I want to, I dont think can trade away company assets sorry andy! ', '@oanhLove I hate when that happens... ', \"I have a sad feeling that Dallas is not going to show up  I gotta say though, you'd think more shows would use music from the game. mmm\", 'Ugh....92 degrees tomorrow ', 'Where did u move to?  I thought u were already in sd. ?? Hmmm. Random u found me. Glad to hear yer doing well.', \"@BatManYNG I miss my ps3, it's out of commission  Wutcha playing? Have you copped 'Blood On The Sand'?\", 'just leaving the parking lot of work! ', 'The Life is cool. But not for Me. ', \"Sadly though, I've never gotten to experience the post coitus cigarette before, and now I never will. \", 'I had such a nice day. Too bad the rain comes in tomorrow at 5am ', \"@Starrbby too bad I won't be around I lost my job and can't even pay my phone bill lmao aw shucks \", 'Damm back to school tomorrow ', \"Mo jobs, no money.  how in the hell is min wage here 4 f'n clams an hour?\", '@katortiz  Not forever... See you soon!', '@Lt_Algonquin agreed, I saw the failwhale allllll day today. ', \"@jdarter Oh! Haha... dude I dont really look at em unless someone says HEY I ADDED YOU. Sorry  I'm so terrible at that. I need a pop up!\", \"@ninjen I'm sure you're right...    I need to start working out with you and the Nikster... Or Jared at least!\", 'i really hate how people diss my bands!  Trace is clearly NOT ugly!', 'Gym attire today was: Puma singlet, Adidas shorts.......and black business socks and leather shoes  Lucky did not run into any cute girls.', \"Why won't you show my location?!   http://twitpic.com/2y2es\", 'No picnic  my phone smells like citrus.', \"@ashleyac My donkey is sensitive about such comments. Nevertheless, he'd (and me'd) be glad to see your mug asap. Charger is still awol. \", 'No new csi tonight.  FML', 'i think my arms are sore from tennis ', 'wonders why someone that u like so much can make you so unhappy in a split seccond . depressed . ', 'sleep soon... i just hate saying bye and see you tomorrow for the night. ', '@statravelAU just got ur newsletter, those fares really are unbelievable, shame I already booked and paid for mine ', \"missin' the boo \", '@markhardy1974 Me too  #itm', \"Damn... I don't have any chalk! MY CHALKBOARD IS USELESS \", \"had a blast at the Getty Villa, but hates that she's had a sore throat all day. It's just getting worse too \", '@msdrama hey missed ya at the meeting  sup mama', \"My tummy hurts.  I wonder if the hypnosis has anything to do with it? If so, it's working, I get it, STOP SMOKING!!!\", 'why is it always the fat ones?! ', \"@januarycrimson Sorry, babe!!  My fam annoys me too. Thankfully, they're asleep right now. Muahaha. *evil laugh*\", '@Hollywoodheat I should have paid more attention when we covered photoshop in my webpage design class in undergrad ', \"wednesday my b-day! don't know what 2 do!! \", 'Poor cameron (the hills) ', 'pray for me please, the ex is threatening to start sh** at my/our babies 1st Birthday party. what a jerk. and I still have a headache ', '@makeherfamous hmm  , do u really enjoy being with him ? if the problems are too constants u should think things more , find someone ulike', 'Strider is a sick little puppy  http://apps.facebook.com/dogbook/profile/view/5248435', \"so rylee,grace...wana go steve's party or not?? SADLY SINCE ITS EASTER I WNT B ABLE 2 DO MUCH  BUT OHH WELL.....\", \"hey, I actually won one of my bracket pools! Too bad it wasn't the one for money \", \"@stark YOU don't follow me, either  and i work for you!\", 'A bad nite for the favorite teams: Astros and Spartans lose.  The nite out with T.W. was good.', ' Body Of Missing Northern Calif. Girl Found: Police have found the remains of a missing Northern California girl .. http://tr.im/imji', '@mangaaa I hope they will increase the capacity fast, yesterday was such a pain. Got the fail whale +15 times in 2 hours.... ', 'Behind on my classes for work ', 'watching &quot;House&quot; ', '@kpreyes Remember my bum leg? Strikes back this time its serious ', '@paradisej cool, i will. their are all kinds of complaints about this laptop online about overheating, but no recalls ', 'Emily will be glad when Mommy is done training at her new job. She misses her.  http://apps.facebook.com/dogbook/profile/view/6176014', 'would rather the first party send bad messages than the 3rd party send mixed ones  Sophmore year all over again?', \"@Henkuyinepu it's overrated \", '@marykatherine_q i know! I heard it this afternoon and wondered the same thing. Moscow is so behind the times ', 'laying in bed with no voice.. ', \"I'm sooo sad!!! they killed off Kutner on House  whyyyyyyyy\", '@jacobsummers Sorry  tell them mea culpa from me and that I really am sorry.', \"@Alliana07 it didn't make any sense to me, the suicide thing. I refuse to believe that that is actually what happened. \", '@salancaster  hope your ok.', \"@mercedesashley Damn! The grind is inspirational and saddening at the same time.  Don't want you to stop cuz I like what u do! Much love\", '@HibaNick yeah aw but i know i wudnt stand a chance ', 'ugh. cant sleep. its 1:30am. ', \"Hanging in Crooners. Wanna sing. Can't. Sucks. \", '@eRRe_sC aaw i miss ya all too.. im leaving to BH tomorrow &quot;morning&quot; i think.. aww i wanna go to the beach w u girls!! ', \"Is pissed off that there's no ASBA's for a radio station. \", \"wednesday my b-day n don't know what 2 do!  \", 'I know my life has been flipped upside down when I just thought in my head that some Ramen sounds good. ', 'I am in pain. My back and sides hurt. Not to mention crying is made of fail. ', \"Late night snack, glass of OJ b/c I'm &quot;down with the sickness&quot;, then back to sleep...ugh I hate getting sick... \", \"@allyheman but.. but.. but.. I'm not a big fan on camilla belle \", \"@grum WAH I can't see clip, must be el-stupido work filters. Can't wait 'till I get a 'puter. Something else 2 blame ex 4. He broke mine \", \"This week just seems to get longer and longer in terms of how much I need to do.. and how much I'm actually going to get done \", \"I'm so cold \", \"@thecoolestout Ehhh don't. Weather's gonna take a turn for the ugly tomorrow \", '@chelserlynn haha its so cooooold in the d! and no  but you should still go to the show. they do some incredible stuff', 'Hoping the tummy rumbles go away soon ', \"@Knights_ No, no notice. They told me I'd be working tomorrow, and then I called the agency to follow up and they said it was over. \", 'almost bedtime ', \"I'm missing you babe..  but as long as your alive I'm happy.. Yawwwnn.. I'm tired my love imma try to sleep hopefully you had a headstart\", 'Agh...snow!!! ', 'i miss kenny powers ', \"@BridgetsBeaches Thank you for letting people know, but now I'm sad that the direct message I got wasn't actually from Bridget \", '...and, India missed out its 100th Test victory n 10th consecutive win without a loss. ', \"@JonathanRKnight I guess that's a no then. \", 'sadly is going to bed. ', '@ozesteph1992 Shame to hear this Stephan ', \"@mrsaintnick hey! i'm leavin in the morning... \", 'Was intending to finish editing my 536-page novel manuscript tonight, but that will probably not happen. And only 12 pages are left ', 'laid around too much today... now my head hurts ', \"@twista202 I still haven't read the 9th&amp;10th Princess diaries  Saving Francesca made me cry at the end. Hmm those are easy books.\", 'my nokia 1110 died..  ', \"My mom might have breast cancer won't find out anything for. Like a week I'm so worried! \", 'Going to sleep. Hoping tomorrow is a better day. ', '@rumblepurr lol.. wish they understood daylight savings has ended though and breakfast is an hour later  They keep waking the kids up too', '@onemoreproject that is lame ', \"I don't understand... I really don't \", \"HEROES just isn't doing it for me this season... \", \"Living not downtown sure isn't much fun.  \", '@jonathanchard Not calorie wise   I wish junk food was calorie free! I ate a thing of sour skittles and a big ass cherry coke!', 'Man Work is Hard ', 'getting sick  time for some hot tea, studying, and then sleeeep', 'Getting eyebrows waxed. More pain ', 'No phantasy star yesterday  going to work...', \"Oh - Just got all my MacHeist 3.0 apps - sweet. Didn't get the Espresso serial no though although they said they sent it - oh well \", \"Picked Mich St to win it all from the get go.  Was feeling pretty good about that pick all the way up until......tonight.  A's lost too \", 'is alone downstairs...working ', 'I feel bad for doing it ', \"@RyanSeacrest is it just me, or she hates anoop. i mean seriously, she's kinda mean to him. \", '@pinkserendipity yes sprint has 4g only in baltimore and chicago so far ', \"I'm stuck awake in the middle of the night for the second day in a row. And I felt terrible yesterday. \", 'Thanks for bursting my bubble ', \"Going to school soon... can't find anything to wear!! gosh it's so hard \", '@marieclr I was serious  LOL', '@naughtyhaughty I had on my page for sooooo long!!! Until it got deleted  Sad day in history', 'Crazy wind today = no birding  http://ff.im/1XTTi', 'currently at work.. ', \"Grrr.. my ipods acting weird too! Jai ho and thinking of you aren't playing the full songs.. ughh. \", '@penndbad send me the DVD cos I have missed out on heaps  NOT happy about that!', \"i don't see the big deal with this website \", \"@machineplay I'm so sorry you're having to go through this. Again.  #therapyfail\", '@ColinDeMar Far too out of the way for rail.  any other tips?', \"I'm not still up I swear. Why do I keep losing. gaining. losing. gaining. tweeps?  So heart wrenching.\", \"Today I realized I am too good at hiding things, even I can't find it \", 'Staying at a friends house...house sitting, neighbors are SO loud-having a party ', '@dannyvegasbaby danny im upset that i wasnt here to watch the live chat  i was in a car. for 3 hours on a trip im soooo upset!!', 'Check out my mug  http://www.erika-obscura.blogspot.com', 'Borders closed at 10 ', \"Downloading NIN's new album &quot;the slip&quot; - when the hell did this come out? I'm so behind the times these days \", \"Just woke up an already have written some e-mail... I've to go early at University today as I have to teach at 8:30 AM! \", 'is watching the hill . . .and its making me sad ', 'So many channels.... yet so so boring... lazy day again  may have to find a hobby', '@supersport I miss my buddy  ill be in NY on the 25th', \"@robluketic  love the french. I tell people here in the south i'm qtr. french and they snarl at me.  french are beautiful people\", 'Opps.. As I said.. I still got one day remain and now problem come ', \"I activated my Selfcontrol block early, meaning I can't check out the new QC.  Regularizing my internal clock is might be difficult. #fb\", '@HillyDoP  oH NO', 'spencer is not a good guy. ', '@goodlaura What about Reese dying on #TTSC? And season finale next week.  #24 boring, Madame President is a crazy woman.', '@JonathanRKnight I hate the limited letters,too.Hope you and the guys are fine?I pray for my dog,sheï¿½s not well ', \"didn't get shit done today ~ i'm so screwed \", 'wanttss to go out ', 'Is not going to sleep tonite. ', 'too worried and tired to post tonight ', \"couldn't get shit done today ~ i'm so screwed \", 'Job Interview in Cardiff today, wish me luck! Got about 3 hours sleep ']\n",
      "[\"@cherub_rock123 ehh....it's a day. \", 'Haha yess making maria get a twitter ', \"woooo elliot minor in 8 days!!! and i got my EM hoodie today!!! i'm tired and sick so it was a good....&quot;cheer myself up  &quot; thing \", '@SanctumInc right-click, Repost. ', '@mrschicken why yes, yes I am ', '@maximumswearing yes  But a great mind escape!', 'It has been storming all day . . . I love it  . Coming home tomorrow . Time to pack', \"@logangator We'll figure something out.  I just have to be to MCO by 4am Thu.   So, either I bug you at 1am at your house, or see you Wed.\", '@asimkovsky thanks for the info ', '@gschan @malditamd @daydreamerping @ragdollgonewild @tarayqueen @manilenya Thank you  I owe you my sanity tonight.', '#commtell09 Patty Perkins, VP Desktop Video Manager of Wachovia is up next- I understand many #SharePoint opps are  happening there ', 'to be with you ', '@GreenBaby_UK please follow so i can DM for the giveaway! ', \"@v2black oh okay, well I did know the first band you mentioned by name, but other than that  don't know what they sound like \", '@BenABaker Probably a player signing.  Maybe one of the rookies.  I can see it from my office ', 'I am planning with friends to go to the mall! Hope we can do it. &lt;3 ', \"@lilkup it's a relief. Conflict exhausts me \", '@YouLuvMe sure............. bighead ', 'twitter virginity broken ', 'job interview...here we go. ', 'Back on the job with some coffee thanks to @chimolschimols ', \"@Piewacket1 good   sometimes a shot attention span could be good tho ;P  don't you agree   letting bright light flow over pie and self\", 'new tatoo  love you megggiiiee', 'guilty pleasure - yikes  i wish i could afford this shiz http://tinyurl.com/kqztg5', '@hillsmarket Sweet.  Thanks for posting that.  And for letting us know ', '@tonyhawk Yess! Good choice of laptop there, typing on a replica myself ', 'lol. i just realized my room has a color theme. green is definitely growing in on me. go green! hahaha. i still love purple though! ', 'Good morning Chicago, I love this city! ', '@dfinchalicious  It ends up like that when good and bad collide ', '@ost8doc no, I am photographing them!! ', '@NickkkJonasss I like Poison Ivy the best ', '@David_Wylie  You could have been born as an Emporer Penguin. Minus 200, carrying your kids on your feet. no food, water...Quit whining ', '@extrabaggs on @KNBR right now!! Yay!! I LOVE reading his blog  I wish I knew what he looked like so I could say hi to him at the park lol', \"Srsly now, I'm heading to my bed now. Goodnight Twitterverse! \", '10.40 start and 12.30 finish tomorrow! yesssss. &lt;3 college  x', \"@alexandervelky that's polite version - i only heard &quot;look much better on my bedroom floor&quot; how nice that you would hang it up for her \", '@spindeezy for now on ur Queen Spindeezy ', \"@DrWestGRACE yet, why can't I feel sorry for you?  LOL.  Seriously tho, safe travels \", 'new to the twitta, someone help. ', \"@Sky_1995 sorryyy. i gotta go now, my mom want to go to this computer. i'll talk to u some other time \", 'What a pretty day  &quot;Just smile&quot;', 'Good morning everyone! I hope you take some time to be outside &amp; soak in the beautiful morning before starting work. ', 'just woke up, might watch a chick flick later. lol ', '@minglebar thanks for checking on it ', '@mkvlln Mr president, your tweets get cut off, i cant read everything. send it in an email? thanks love. ', '@CatyFairy revolta follower hj? ', \"@borededup no job actually.  but there have been plenty of odd jobs to get me by so far. i'll be your screen cleaning intern. \", \"@Common_Pigeon You're quite welcome. \", \"What has happened to the world...I'm actually doing chores and nobody told me to do them!!!  so proud! Lol\", 'want FREE Apple products? iPhone 3G S macbook pro air iPod touch nano imac? click here! http://apple.freebiejeebies.co.uk/45615 ', 'sick, sick, sick today, but still fingers crossed for eBay job! Send good thoughts ', 'Getting ready to go out   I have to go to mac to buy brushes', 'loves visitors so if you are goin to the Aerosmith concert you should hit me up!! ', 'Nice out, but If I am going to leave here at 6am for a hike, I probably should at some point, pack for tomorrow! ', '@WillaRyan At least trees are being spared. ', \"i'm following 69 people. ;D how many people are YOU following? \", 'taking a twit break...a lil blown about my boss...but i still have a job!  God is good', 'http://twitpic.com/7joyo - this is how i feel today  Just a little imagery for everyone! lol', 'has a day long date with God today, no phones allowed.  the world can rage tomorrow; but today, i am safe.', '@ritasummerstar that too.  Apparently, they are out there - but in hiding I suspect  ', '@kazzc22 no probs kazz hun,i think theres a new one going on now celebrity twitterer or summat? lol dunno?i just voted misha anyways ', '@AlanHChin Thanks Alan! I need all the fundraising support I can get for my documentary - plus the shirts are cool too ', \"@NLPride08 that's a perfectly reasonable time of day for me \", '@6FuzzyFeet  hi ! thanks for the follow ', 'Going to tampa saturday ', \"I've watched spongebob now I'm going 2 find a gr8 coffee spot! This didn't even feel like a public holiday \", \"I'm gonna go take a shower and turn in the last paper i have to deal with \", \"@heich_dee Hahaha. Cannot luh. I'll feel bad coz he's got to work. So we talk when we can. Guess thats enough  hahaha\", \"@obatron Try your Google Calendar. It's got tasks now. \", '@carahsollins Good Morning Lady ', \"@ddribin Saw that &amp; approved, re: bike. After years of being exceedingly bike UNfriendly, we are a' changin'! \", \"If you're lucky enough to be different from everybody else, dont change \", \"@FoSho174 LMAO @ capture the flag..bless their lil playing hearts  and i bet it is hott as heck..ain't it always\", '@cineMATTic happy birthday, sir ', 'I haz a big piece of carrot cake to take home! ', '@ashleytisdale hih good morning  in austria its 17:36 hihi', '@BrunoFigueiredo @ppinheiro76 @pedrocs Top Gear returns on Sunday btw ', '@netscribe Thanks for considering Issuu ', '@Bruno108 I would like some please! ', '@aplusk ya got something against Baseball?? ', 'No more drives. =D license in a moth ', \"First day off in over a week... Thought i'd sleep in 4 once, but NO! my body wouldn't let me sleep past 8am  ugh!\", 'Relaxin till workout time with Mama this afternoon. Goal- to run a 5k by end of summer in memory of Greg. I think I can, I think I can. ', 'http://twitpic.com/7joyw - bring on summer ', \"busy day at work!  So happy the Burkharts are in Houston!  I can't wait to see their beautiful home! \", \"@LadyVanir LOL no you didn't break it. \", 'Then  we head out again Denmark here we come ', \"@kbgerth Well it's still Tuesday so no worries   I've made my TWD on Tuesday more times than I can tell you!\", 'Getting ready to have a picnic in the park w/ muh partner in crime and bestie! Oh! Press ctrl+t and then ctrl+f on itunes for a surprise! ', \"I see the light at the end of the tunnel!  It's so bright   Woo fricken hoo!\", 'going to south streeeet with kate, hopefully my mom gets me the ring i wantt! ', '@Jihav actually my other PSN ID is GUNSnSPEEDO O_o and oh, your welcome ', \"@PaulMiller Do that! I appreciate the calories I'll be missing \", '@SouthMainMuse Perfectly normal.  Thinking someday technology and social networks will all be hardwired to our brains.', '@BizReviewer thanks so much for that acknowledgement...what is your name? ', \"@ahamachi @eggirock drinking water trick totally worked guys... Didn't cry once \", '@unworthysaint Are you having fun? ', 'Beach then universal studios! Yeeeeeeman! ', \"#haveyouever been alone at night, thought you heard footsteps behind and no one's there?? Fear of the Dark by Iron Maiden \", 'Loved the USA hockey team ', '@cris1015 My goal on stocks like $MTXX is to help, if just one person avoided this stock on my post, would make the keystrokes worth it.  ', \"@wolfpack40 That's what I'm thinking! Knock her out of the water... very satisfying...  \", \"@Jchawes yeah what about remotes for your car ? I couldn't find mine and didn't know how I was gonna get in my car.with your keys dumbass \", \"Post your Le Mans 2009 pics: .. I didn't really shoot much, it's a bit like Silverstone isn't it?  But here ar.. http://tinyurl.com/nju67t\", '@say_my_name TRAITOR!!!! love you ', '@SarahG8s lol i wasnt on about the burns lol i was on about sumone  i know just seen. goin off twitter now gonna talk to sophie,talk later', \"been playing big surf island and i've unlocked 5 trophies already hah \", '@gabespears morning ', 'I really dont get why Jaylor split . Oh well her and Lucas Till suit !  x', \"my cluster is back and I'm a happy man \", 'is excited for the day ', 'Oh my god. Cookie dough frijj. I just spaffed in my pants  so much joy for Â£1.05.', \"@ShannonGilliam good luck!!  what an exciting day   this is when the REAL fun begins, you're going to love being a mommy   xo\", 'got our yearbooks in school  gonna try and get everyone to sing them... wish me luck', '@PJA4ever Back.. ', '@drummeroy nice new name  how you holding up?', 'Hello good morning!  i wanna do something today.', '@30STMWithJared love your tattoo! ', 'MTO bom esse empire of sports...o futebol eh um pouco dificil pq usa o mouse mas eh bem divertido e online ', '@planetchuckie haha! i wonder why i made her my pic... hmm.. will change it soon ', 'Largest/fastest hotspot in U.S.A. is located in Atlanta. Suck it people outside the ATL  JK...no idea how to use it! http://bit.ly/eDjz7', \"I just switched back to Opera (using the moi skin). It's really fast &amp; stable to work with - I'm loving it  http://www.opera.com/download/\", 'scrubbed into surgery today ', 'Bloody knackered! And still got two hours to go. Still, last shift tomorrow then a whole week off ', '@McflyEngland haha yeah  but of course i love McFly more  lol', '**** yeah!! I got the local Clinical Psychologist job!! ', 'wants the @Jonasbrothers album ', 'Wow 8:40 am is pretty early for me to wake up. Lol. ', 'dropping molly off getting ice cream with Aaron I want him to meet Manda  spending the night with Meredith and Lauren I missed them dearly', '@mom2jwo Woo hoo!!!! Keep working hard my dear!! ', '@AndrewDearling *yawns* ', 'Had an injection today. Not fun  the rrst of the school day has been good. Tonight i am going dancing yey ', 'ahhh yay! found my missing sunglasses while cleaning my office!! so happy. ', 'Lmao @seizuresalad that was cute and awesome  hahahahahahahahahahahahahaha!!!!!!!!!!!!!!!!!!!!!!!!!!!!!!!!!! â\\x99« http://blip.fm/~8bmo7', 'Processing another credit application!  More hours to bill! ', \"@ohsosweettreats Omg, I loveeeee frosted flakes with bananas on top. I didn't know anybody else knew about that... \", 'Is back from getting the new jonas brothers cd!!!  on to my iPod it goes!!', \"@siahoney I am good thanks!    How is #Eric, I haven't heard anything in awhile, have u visited him recently?  I hope he is feeling better\", \"@varin I'm praying for you!!!  Hang in there, and trust your docs.  They know what's best, even if they don't act nicely. \", 'OMG!!!!!!!!!! My dad will be having surgery today  Please keep him in your prayers ', \"@MsKCJones Yeah it's very irritating, right? But with God on your side, you cant fail. \", '@gone2dmb agreed!  Soulful eyes.  ', 'is now a dsc student.  http://twitpic.com/7jp4d', '@cate45_1999 I love all the pics!! ', \"@ShanButterfly a star bowl (she loves stars) filled with dark chocolate. there's also a card. \", 'oh yes, and btw, 8.00 ', '@chriscuzzy someone wanted a &quot;Cuzzy&quot; memorabilia ', \"@CharlotteSpeaks So, wasn't that funny re. the doggie?.... \", 'doing another piece of media homework is that all i get now :/ milkshake diet starts today woop woop ', 'finding out what this is. ', 'OMG how good is ben and jerrys cookie dough icecream...come one really well goood lol, justwaitin to have a BBQ hope its stays like this ', 'oooo haha just waking up and ready to eat a delicious breakfast and prepared to go in the afternoon to watch a movie ', \"#Traveltuesday @GuyNGirlTravels Because their tweets are hilarious LOL and they're great travelers \", \"any ideaZ on what to get dad for father's day ? No socks tho \", 'God works mysteriously!i learn that if u think of the world wonderfully you will receive more &amp; get what u ask for ', \"@_CrC_ mornin.. I'm enjoying a beautiful morning here in Phoenix. not too bad out yet \", \"Woke up feeling rested and refreshed today! It's about time \", '@naijagal You just HAD to throw that in. Tell her that I say thanks for the eye contact at her Brixton gig. managed to get a shot! ', \"@siovene lol I don't blame you it's not the safest thing in the world \", \"@ashinynewcoin yeah, that'd be the one  sorry to be repetitive!\", '@pokapolas love the donut and the toadstool.  ', '@crgrs359 Skip the aquarium and check out these fish   A lot cheaper lol http://bit.ly/2lQbBv', \"@GroleauNET Yeah I'm being an ass today \", \"@OHTristaN it's sunoudy \", '@kbonded Newsflash: It worked ', \"@stum450n Hi. Thanks for the follow. Nice website... check your carriage returns though, the bottom of 'Website &amp; brand identity' is out \", 'got home an hour ago ate lunch watched some tv and now i listening to kelly clarkson no exam tomorrow yay!!!!!!!  3 down 4 to go', 'checking my mail ', 'done la examen! easy peasy  so proud of myself!!', \"@davepell you're the undisputed authority on the topic.  goog recognizes!  \", 'Thanks @eastwestchic &amp; @wangyip Thanks! That was just what I was looking for ', \"@marttn thanks Martin. not the most imaginative interface, but it'll do for now \", '@MikeJonesPhoto Congrats Mike  Way to go!', 'http://twitpic.com/7jp4n - OMG! Office Space... I wanna steal it. ', \"@yrclndstnlvr ahaha nooo you were just away from everyone else! i had to see Kara, she'd die. and yess we aree, ill see you saturday \", \"@BizCoachDeb  Hey, I'm baack! And, thanks so much for all those kind notes while I was gone. They made me smile at times when I needed it!\", '@mattycus Yeah, my conscience would be clear in that case. ', '@MayorDorisWolfe Thats my girl - dishing out the &quot;advice&quot; ', '@shebbs123 i second that ', 'In the garden ', '@myheartandmind jo jen by nemuselo zrovna tÃ© holce ael co nic ', 'Another Commenting Contest! [;: Yay!!!  http://tinyurl.com/m6j2an', '@thrillmesoon i figured out how to see my tweets and facebook status updates, and i was set  the groups seemed like a pain to set up...', '@oxhot theri tomorrow, drinking coffee, talking about our most important and favourite issue! YOU know what I mean ', \"You heard it here first -- We're having a girl. Hope it has my looks and Wendy's brains. (Kidding, babe). \", 'if ur the lead singer in a band, beware falling prey to LSD &quot;Lead Singer Disease&quot; http://tinyurl.com/n65xjt  #music #haveyouever?', '@tarayqueen too much ads on my blog. ', '@La_r_a NEVEER  I think that you both will get on well with each other...', \"@Roy_Everitt ha- good job. that's right - we gotta throw that #bigrun tag EVERYWHERE! I wanna get it trending before I start \", '@Ms_Hip_Hop im glad ur doing well ', 'WOOOOO! Xbox is back ', \"@rmedina @LaTati Mmmm  That sounds absolutely perfect... but my schedule is full. I won't have time to lay in bed until Sunday. Ugh!!\", 'ReCoVeRiNg FrOm ThE lOnG wEeKeNd ', '@SCOOBY_GRITBOYS ', '@Cliff_Forster Yeah, that does work better than just waiting for it  In the end I just wonder if I have time to keep up a good blog.', 'Just woke up. Having no school is the best feeling ever ', 'TheWDB.com - Very cool to hear old Walt interviews!  â\\x99« http://blip.fm/~8bmta', 'Are you ready for your MoJo Makeover? Ask me for details ', 'Happy 38th Birthday to my boo of alll time!!! Tupac Amaru Shakur ', 'happy #charitytuesday @theNSPCC @SparksCharity @SpeakingUpH4H ']\n"
     ]
    }
   ],
   "source": [
    "print(f\"The number of positive sentences: {len(dictionnaire_tokenized)}\")\n",
    "print(f\"First sentences : {neg[0]}\")\n",
    "print(f\"First sentences tokenize : {dictionnaire_tokenized[0]}\")\n",
    "print(\" \")\n",
    "\n",
    "#on converti en list\n",
    "word_list=list(dictionnaire_tokenized.values())\n",
    "word_list =sum(word_list,[])\n",
    "print(word_list)\n",
    "\n",
    "data_neg = list(neg.values())\n",
    "data_pos = list(pos.values())\n",
    "print(data_neg)\n",
    "print(data_pos)\n",
    "\n",
    "index_neg = list(neg_index_tmp.values())\n",
    "index_pos = list(pos_index_tmp.values())\n",
    "\n",
    "\n",
    "\n",
    "# on regarde si il n'y a rien en double\n",
    "\n",
    "#nltk.FreqDist(word_list) # il y a des mot en double ! \n"
   ]
  },
  {
   "cell_type": "code",
   "execution_count": 86,
   "metadata": {
    "colab": {
     "base_uri": "https://localhost:8080/"
    },
    "id": "Ul5z7tzubR12",
    "outputId": "d70e4825-d315-4233-be3f-b1621c643d38"
   },
   "outputs": [
    {
     "name": "stdout",
     "output_type": "stream",
     "text": [
      "Total words in vocab are 1729\n"
     ]
    }
   ],
   "source": [
    "#Creation du vocab\n",
    "\n",
    "Vocab = {'__PAD__': 0, '__</e>__': 1, '__UNK__': 2} \n",
    "\n",
    "for word in word_list: \n",
    "  if word not in Vocab: \n",
    "     Vocab[word] = len(Vocab)\n",
    "    \n",
    "print(\"Total words in vocab are\",len(Vocab))  #1519\n",
    "# display(Vocab)"
   ]
  },
  {
   "cell_type": "markdown",
   "metadata": {
    "id": "Mq_F_wF08jvT"
   },
   "source": [
    "# converting into tensor"
   ]
  },
  {
   "cell_type": "code",
   "execution_count": 99,
   "metadata": {
    "id": "qF_OGjBt8mfp"
   },
   "outputs": [],
   "source": [
    "def toTensor(sentence, vocabulary = Vocab , unknowToken = '__UNK__'):\n",
    "  '''\n",
    "  Input: \n",
    "    sentence - String qui contien la phrase\n",
    "    vocabulary - le dictionnaire vocab\n",
    "    unknowToken - si le mot n'est pad connu, on met le label '__UNK__'\n",
    "  Output:\n",
    "    tensor - la liste avec des chiffres consernant les mots a analyser    \n",
    "  '''  \n",
    "  tokenizer = nltk.RegexpTokenizer(r'\\w+')\n",
    "  tensor = []\n",
    "  # on tokenize la phrase\n",
    "    \n",
    "  tokened = tokenizer.tokenize(sentence)\n",
    "\n",
    "  # get __UNK__ index \n",
    "  unk_ID = vocabulary.get(unknowToken, -1)  # = 2\n",
    "\n",
    "  for word in tokened:\n",
    "    word_ID = vocabulary.get(word, unk_ID)\n",
    "\n",
    "    tensor.append(word_ID) \n",
    "  return tensor\n"
   ]
  },
  {
   "cell_type": "code",
   "execution_count": 100,
   "metadata": {
    "colab": {
     "base_uri": "https://localhost:8080/"
    },
    "id": "tYLHADjY-KaV",
    "outputId": "66e9520e-fa10-40f3-9923-e2978f87bd9f"
   },
   "outputs": [
    {
     "name": "stdout",
     "output_type": "stream",
     "text": [
      "sentence: is upset that he can't update his Facebook by texting it... and might cry as a result  School today also. Blah! \n",
      "sentence into tensor: [2, 3, 2, 2, 2, 2, 4, 2, 2, 2, 6, 2, 2, 7, 8, 2, 2, 9, 2, 11, 2, 2] \n"
     ]
    }
   ],
   "source": [
    "\n",
    "print(f\"sentence: {dictionnaire[0]} \")\n",
    "print(f\"sentence into tensor: {toTensor(dictionnaire[0])} \")"
   ]
  },
  {
   "cell_type": "markdown",
   "metadata": {
    "id": "0D2Z1vij5RsT"
   },
   "source": [
    "# Data generator\n"
   ]
  },
  {
   "cell_type": "code",
   "execution_count": 89,
   "metadata": {
    "id": "VjXLLPHUtv4d"
   },
   "outputs": [],
   "source": [
    "def data_generator(data_pos, data_neg, batch_size, loop, vocab_dict, shuffle=False):\n",
    "    '''\n",
    "    Input: \n",
    "        data_pos - Set of positive examples\n",
    "        data_neg - Set of negative examples\n",
    "        batch_size - number of samples per batch. Must be even\n",
    "        loop - True or False\n",
    "        vocab_dict - The words dictionary\n",
    "        shuffle - Shuffle the data order\n",
    "    Yield:\n",
    "        inputs - Subset of positive and negative examples\n",
    "        targets - The corresponding labels for the subset\n",
    "        example_weights - An array specifying the importance of each example\n",
    "        \n",
    "    '''     \n",
    "### START GIVEN CODE ###\n",
    "    # make sure the batch size is an even number\n",
    "    # to allow an equal number of positive and negative samples\n",
    "    assert batch_size % 2 == 0\n",
    "    \n",
    "    # Number of positive examples in each batch is half of the batch size\n",
    "    # same with number of negative examples in each batch\n",
    "    n_to_take = batch_size // 2\n",
    "    \n",
    "    # Use pos_index to walk through the data_pos array\n",
    "    # same with neg_index and data_neg\n",
    "    pos_index = 0\n",
    "    neg_index = 0\n",
    "    \n",
    "    len_data_pos = len(data_pos)\n",
    "    len_data_neg = len(data_neg)\n",
    "    \n",
    "    # Get and array with the data indexes\n",
    "    pos_index_lines = list(range(len_data_pos))\n",
    "    neg_index_lines = list(range(len_data_neg))\n",
    "    \n",
    "        \n",
    "    stop = False\n",
    "    \n",
    "    # Loop indefinitely\n",
    "    while not stop:  \n",
    "        \n",
    "        # create a batch with positive and negative examples\n",
    "        batch = []\n",
    "        \n",
    "        # First part: Pack n_to_take positive examples\n",
    "        \n",
    "        # Start from pos_index and increment i up to n_to_take\n",
    "        for i in range(n_to_take):\n",
    "                    \n",
    "            # If the positive index goes past the positive dataset lenght,\n",
    "            if pos_index >= len_data_pos: \n",
    "                \n",
    "                # If loop is set to False, break once we reach the end of the dataset\n",
    "                if not loop:\n",
    "                    stop = True;\n",
    "                    break;\n",
    "                \n",
    "                # If user wants to keep re-using the data, reset the index\n",
    "                pos_index = 0\n",
    "                \n",
    "                if shuffle:\n",
    "                    # Shuffle the index of the positive sample\n",
    "                    rnd.shuffle(pos_index_lines)\n",
    "                    \n",
    "            # get the tweet as pos_index\n",
    "            tweet = data_pos[pos_index_lines[pos_index]]\n",
    "            \n",
    "            # convert the tweet into tensors of integers representing the processed words\n",
    "            \n",
    "            tensor = toTensor(tweet, vocab_dict)\n",
    "            \n",
    "            # append the tensor to the batch list\n",
    "            batch.append(tensor)\n",
    "            \n",
    "            # Increment pos_index by one\n",
    "            pos_index = pos_index + 1\n",
    "\n",
    "### END GIVEN CODE ###\n",
    "            \n",
    "### START CODE HERE (Replace instances of 'None' with your code) ###\n",
    "\n",
    "        # Second part: Pack n_to_take negative examples\n",
    "    \n",
    "        # Using the same batch list, start from neg_index and increment i up to n_to_take\n",
    "        for i in range(n_to_take):\n",
    "            \n",
    "            # If the negative index goes past the negative dataset length,\n",
    "            if neg_index >= len_data_neg:\n",
    "                \n",
    "                # If loop is set to False, break once we reach the end of the dataset\n",
    "                if not loop:\n",
    "                    stop = True;\n",
    "                    break;\n",
    "                    \n",
    "                # If user wants to keep re-using the data, reset the index\n",
    "                neg_index = 0\n",
    "                \n",
    "               \n",
    "            # get the tweet as neg_index\n",
    "            tweet = data_neg[neg_index_lines[neg_index]]\n",
    "            \n",
    "            # convert the tweet into tensors of integers representing the processed words\n",
    "            tensor = toTensor(tweet, vocab_dict)\n",
    "            \n",
    "            # append the tensor to the batch list\n",
    "            batch.append(tensor)\n",
    "            \n",
    "            # Increment neg_index by one\n",
    "            neg_index += 1\n",
    "\n",
    "### END CODE HERE ###        \n",
    "\n",
    "### START GIVEN CODE ###\n",
    "        if stop:\n",
    "            break;\n",
    "\n",
    "        # Update the start index for positive data \n",
    "        # so that it's n_to_take positions after the current pos_index\n",
    "        pos_index += n_to_take\n",
    "        \n",
    "        # Update the start index for negative data \n",
    "        # so that it's n_to_take positions after the current neg_index\n",
    "        neg_index += n_to_take\n",
    "        \n",
    "        # Get the max tweet length (the length of the longest tweet) \n",
    "        # (you will pad all shorter tweets to have this length)\n",
    "        max_len = max([len(t) for t in batch]) \n",
    "        \n",
    "        \n",
    "        # Initialize the input_l, which will \n",
    "        # store the padded versions of the tensors\n",
    "        tensor_pad_l = []\n",
    "        # Pad shorter tweets with zeros\n",
    "        for tensor in batch:\n",
    "### END GIVEN CODE ###\n",
    "\n",
    "### START CODE HERE (Replace instances of 'None' with your code) ###\n",
    "            # Get the number of positions to pad for this tensor so that it will be max_len long\n",
    "            n_pad = max_len - len(tensor)\n",
    "            \n",
    "            # Generate a list of zeros, with length n_pad\n",
    "            pad_l = [0] * n_pad\n",
    "            \n",
    "            # concatenate the tensor and the list of padded zeros\n",
    "            tensor_pad = tensor + pad_l\n",
    "            \n",
    "            # append the padded tensor to the list of padded tensors\n",
    "            tensor_pad_l.append(tensor_pad)\n",
    "\n",
    "        # convert the list of padded tensors to a numpy array\n",
    "        # and store this as the model inputs\n",
    "        inputs = np.array(tensor_pad_l)\n",
    "  \n",
    "        # Generate the list of targets for the positive examples (a list of ones)\n",
    "        # The length is the number of positive examples in the batch\n",
    "        target_pos = [1] * n_to_take\n",
    "        \n",
    "        # Generate the list of targets for the negative examples (a list of zeros)\n",
    "        # The length is the number of negative examples in the batch\n",
    "        target_neg = [0] * n_to_take\n",
    "        \n",
    "        # Concatenate the positve and negative targets\n",
    "        target_l = target_pos + target_neg\n",
    "        \n",
    "        # Convert the target list into a numpy array\n",
    "        targets = np.array(target_l)\n",
    "\n",
    "        # Example weights: Treat all examples equally importantly.It should return an np.array. Hint: Use np.ones_like()\n",
    "        example_weights = np.ones_like(targets)\n",
    "        \n",
    "\n",
    "### END CODE HERE ###\n",
    "\n",
    "### GIVEN CODE ###\n",
    "        # note we use yield and not return\n",
    "        yield inputs, targets, example_weights"
   ]
  },
  {
   "cell_type": "code",
   "execution_count": 89,
   "metadata": {
    "id": "OiA-3BqNzdmz"
   },
   "outputs": [],
   "source": []
  },
  {
   "cell_type": "code",
   "execution_count": 129,
   "metadata": {
    "id": "QWkWi1ilGwlM"
   },
   "outputs": [],
   "source": []
  },
  {
   "cell_type": "code",
   "execution_count": 132,
   "metadata": {
    "colab": {
     "base_uri": "https://localhost:8080/"
    },
    "id": "0IuNQVW8Gwmt",
    "outputId": "0151ab32-0433-444b-8e07-7851a2abade6"
   },
   "outputs": [
    {
     "name": "stdout",
     "output_type": "stream",
     "text": [
      "The inputs shape is (4, 22)\n",
      "The targets shape is (4,)\n",
      "The example weights shape is (4,)\n",
      "input tensor: [964 965   2   2   2 115   0   0   0   0   0   0   0   0   0   0   0   0\n",
      "   0   0   0   0]; target 1; example weights 1\n",
      "input tensor: [  2 966 910 967 116   2 968   0   0   0   0   0   0   0   0   0   0   0\n",
      "   0   0   0   0]; target 1; example weights 1\n",
      "input tensor: [ 2  3  2  2  2  2  4  2  2  2  6  2  2  7  8  2  2  9  2 11  2  2]; target 0; example weights 1\n",
      "input tensor: [ 2  2 14 15 16  2  2 17  2  2 19 20  2 21 22  2  2 23  0  0  0  0]; target 0; example weights 1\n"
     ]
    }
   ],
   "source": [
    "\n",
    "# Test the data_generator\n",
    "batch_size=4\n",
    "shuffle = False\n",
    "# Create a data generator for training data,\n",
    "# which produces batches of size 4 (for tensors and their respective targets)\n",
    "tmp_data_gen = data_generator(data_pos, data_neg, batch_size, True, Vocab, shuffle)\n",
    "\n",
    "# Call the data generator to get one batch and its targets\n",
    "tmp_inputs, tmp_targets, tmp_example_weights = next(tmp_data_gen)\n",
    "\n",
    "print(f\"The inputs shape is {tmp_inputs.shape}\")\n",
    "print(f\"The targets shape is {tmp_targets.shape}\")\n",
    "print(f\"The example weights shape is {tmp_example_weights.shape}\")\n",
    "\n",
    "for i,t in enumerate(tmp_inputs):\n",
    "    print(f\"input tensor: {t}; target {tmp_targets[i]}; example weights {tmp_example_weights[i]}\")"
   ]
  },
  {
   "cell_type": "markdown",
   "metadata": {
    "id": "xSNz6XPPwjZl"
   },
   "source": [
    "#Build Model"
   ]
  },
  {
   "cell_type": "code",
   "execution_count": 159,
   "metadata": {
    "id": "EdnJIW-F5k-p"
   },
   "outputs": [],
   "source": [
    "def SER(vocab_size=len(Vocab), d_model=150):\n",
    "\n",
    "    '''\n",
    "      Input: \n",
    "        vocab_size - integer containing the size of the vocabulary\n",
    "        d_model - integer describing the embedding size\n",
    "      Output:\n",
    "        model - a trax serial model\n",
    "    '''\n",
    "     ### START CODE HERE (Replace instances of 'None' with your code) ###\n",
    "    model = tl.Serial(\n",
    "      tl.Embedding(vocab_size,d_model), # Embedding layer\n",
    "      tl.LSTM(d_model), # LSTM layer\n",
    "      tl.Dense(2), # Dense layer with len(tags) units\n",
    "      tl.LogSoftmax()  # LogSoftmax layer\n",
    "      )\n",
    "      ### END CODE HERE ###\n",
    "    return model"
   ]
  },
  {
   "cell_type": "code",
   "execution_count": 160,
   "metadata": {
    "colab": {
     "base_uri": "https://localhost:8080/"
    },
    "id": "qFGkFpMpwsp9",
    "outputId": "35417036-d06c-4b6c-c30d-dc019c9688c0"
   },
   "outputs": [
    {
     "name": "stdout",
     "output_type": "stream",
     "text": [
      "Serial[\n",
      "  Embedding_1729_150\n",
      "  LSTM_150\n",
      "  Dense_2\n",
      "  LogSoftmax\n",
      "]\n"
     ]
    }
   ],
   "source": [
    "# initializing your model\n",
    "model = SER()\n",
    "# display your model\n",
    "print(model)"
   ]
  },
  {
   "cell_type": "markdown",
   "metadata": {
    "id": "Irr1k-yPw1Lt"
   },
   "source": [
    "##Train your model "
   ]
  },
  {
   "cell_type": "code",
   "execution_count": 161,
   "metadata": {
    "id": "uo3dNX6Yw0sE"
   },
   "outputs": [],
   "source": [
    "from trax.supervised import training\n",
    "\n",
    "random.seed(33)\n",
    "\n",
    "batch_size = 64\n",
    "batch_size=4\n",
    "shuffle = False\n",
    "\n",
    "# Create training data, mask pad id=35180 for training.\n",
    "train_generator = trax.supervised.inputs.add_loss_weights(\n",
    "    data_generator(data_pos, data_neg, batch_size, True, Vocab, shuffle),\n",
    "    id_to_mask=Vocab['__PAD__'])\n",
    "\n",
    "\n",
    "# Create validation data, mask pad id=35180 for training.\n",
    "eval_generator = trax.supervised.inputs.add_loss_weights(\n",
    "    data_generator(index_pos, index_neg, batch_size, True, Vocab, shuffle),\n",
    "    id_to_mask=Vocab['__PAD__'])"
   ]
  },
  {
   "cell_type": "code",
   "execution_count": 162,
   "metadata": {
    "id": "DZdMM8xKxcvk"
   },
   "outputs": [],
   "source": [
    "def train_model(SER, train_generator, eval_generator, train_steps=1, output_dir='model'):\n",
    "    '''\n",
    "    Input: \n",
    "        NER - the model you are building\n",
    "        train_generator - The data generator for training examples\n",
    "        eval_generator - The data generator for validation examples,\n",
    "        train_steps - number of training steps\n",
    "        output_dir - folder to save your model\n",
    "    Output:\n",
    "        training_loop - a trax supervised training Loop\n",
    "    '''\n",
    "    ### START CODE HERE (Replace instances of 'None' with your code) ###\n",
    "    train_task = training.TrainTask(\n",
    "      train_generator, # A train data generator\n",
    "      loss_layer = tl.CrossEntropyLoss(), # A cross-entropy loss function\n",
    "      optimizer =  trax.optimizers.Adam(0.01),  # The adam optimizer\n",
    "    )\n",
    "\n",
    "    eval_task = training.EvalTask(\n",
    "      labeled_data = eval_generator, # A labeled data generator\n",
    "      metrics = [tl.CrossEntropyLoss(), tl.Accuracy()], # Evaluate with cross-entropy loss and accuracy\n",
    "      n_eval_batches = 10 # Number of batches to use on each evaluation\n",
    "    )\n",
    "\n",
    "    training_loop = training.Loop(\n",
    "        SER, # A model to train\n",
    "        train_task, # A train task\n",
    "        eval_task = eval_task, # The evaluation task\n",
    "        output_dir = output_dir) # The output directory\n",
    "\n",
    "    # Train with train_steps\n",
    "    training_loop.run(n_steps = train_steps)\n",
    "    ### END CODE HERE ###\n",
    "    return training_loop"
   ]
  },
  {
   "cell_type": "code",
   "execution_count": 163,
   "metadata": {
    "colab": {
     "base_uri": "https://localhost:8080/",
     "height": 362
    },
    "id": "_9mE_sD4xeu0",
    "outputId": "984f6ba1-6ac0-4fbd-c331-d2e6ea4a9c8a"
   },
   "outputs": [
    {
     "ename": "TypeError",
     "evalue": "ignored",
     "output_type": "error",
     "traceback": [
      "\u001b[0;31m---------------------------------------------------------------------------\u001b[0m",
      "\u001b[0;31mTypeError\u001b[0m                                 Traceback (most recent call last)",
      "\u001b[0;32m<ipython-input-163-a22cbb689b81>\u001b[0m in \u001b[0;36m<module>\u001b[0;34m()\u001b[0m\n\u001b[1;32m      3\u001b[0m \u001b[0;34m\u001b[0m\u001b[0m\n\u001b[1;32m      4\u001b[0m \u001b[0;31m# Train the model\u001b[0m\u001b[0;34m\u001b[0m\u001b[0;34m\u001b[0m\u001b[0;34m\u001b[0m\u001b[0m\n\u001b[0;32m----> 5\u001b[0;31m \u001b[0mtraining_loop\u001b[0m \u001b[0;34m=\u001b[0m \u001b[0mtrain_model\u001b[0m\u001b[0;34m(\u001b[0m\u001b[0mSER\u001b[0m\u001b[0;34m(\u001b[0m\u001b[0;34m)\u001b[0m\u001b[0;34m,\u001b[0m \u001b[0mtrain_generator\u001b[0m\u001b[0;34m,\u001b[0m \u001b[0meval_generator\u001b[0m\u001b[0;34m,\u001b[0m \u001b[0mtrain_steps\u001b[0m\u001b[0;34m)\u001b[0m\u001b[0;34m\u001b[0m\u001b[0;34m\u001b[0m\u001b[0m\n\u001b[0m",
      "\u001b[0;32m<ipython-input-162-b49d1f99f27d>\u001b[0m in \u001b[0;36mtrain_model\u001b[0;34m(SER, train_generator, eval_generator, train_steps, output_dir)\u001b[0m\n\u001b[1;32m     20\u001b[0m       \u001b[0mlabeled_data\u001b[0m \u001b[0;34m=\u001b[0m \u001b[0meval_generator\u001b[0m\u001b[0;34m,\u001b[0m \u001b[0;31m# A labeled data generator\u001b[0m\u001b[0;34m\u001b[0m\u001b[0;34m\u001b[0m\u001b[0m\n\u001b[1;32m     21\u001b[0m       \u001b[0mmetrics\u001b[0m \u001b[0;34m=\u001b[0m \u001b[0;34m[\u001b[0m\u001b[0mtl\u001b[0m\u001b[0;34m.\u001b[0m\u001b[0mCrossEntropyLoss\u001b[0m\u001b[0;34m(\u001b[0m\u001b[0;34m)\u001b[0m\u001b[0;34m,\u001b[0m \u001b[0mtl\u001b[0m\u001b[0;34m.\u001b[0m\u001b[0mAccuracy\u001b[0m\u001b[0;34m(\u001b[0m\u001b[0;34m)\u001b[0m\u001b[0;34m]\u001b[0m\u001b[0;34m,\u001b[0m \u001b[0;31m# Evaluate with cross-entropy loss and accuracy\u001b[0m\u001b[0;34m\u001b[0m\u001b[0;34m\u001b[0m\u001b[0m\n\u001b[0;32m---> 22\u001b[0;31m       \u001b[0mn_eval_batches\u001b[0m \u001b[0;34m=\u001b[0m \u001b[0;36m10\u001b[0m \u001b[0;31m# Number of batches to use on each evaluation\u001b[0m\u001b[0;34m\u001b[0m\u001b[0;34m\u001b[0m\u001b[0m\n\u001b[0m\u001b[1;32m     23\u001b[0m     )\n\u001b[1;32m     24\u001b[0m \u001b[0;34m\u001b[0m\u001b[0m\n",
      "\u001b[0;32m/usr/local/lib/python3.7/dist-packages/trax/supervised/training.py\u001b[0m in \u001b[0;36m__init__\u001b[0;34m(self, labeled_data, metrics, metric_names, n_eval_batches)\u001b[0m\n\u001b[1;32m    390\u001b[0m     \u001b[0mself\u001b[0m\u001b[0;34m.\u001b[0m\u001b[0m_n_eval_batches\u001b[0m \u001b[0;34m=\u001b[0m \u001b[0mn_eval_batches\u001b[0m  \u001b[0;31m# pylint: disable=invalid-name\u001b[0m\u001b[0;34m\u001b[0m\u001b[0;34m\u001b[0m\u001b[0m\n\u001b[1;32m    391\u001b[0m \u001b[0;34m\u001b[0m\u001b[0m\n\u001b[0;32m--> 392\u001b[0;31m     \u001b[0mself\u001b[0m\u001b[0;34m.\u001b[0m\u001b[0m_sample_batch\u001b[0m \u001b[0;34m=\u001b[0m \u001b[0mnext\u001b[0m\u001b[0;34m(\u001b[0m\u001b[0mlabeled_data\u001b[0m\u001b[0;34m)\u001b[0m\u001b[0;34m\u001b[0m\u001b[0;34m\u001b[0m\u001b[0m\n\u001b[0m\u001b[1;32m    393\u001b[0m     \u001b[0mself\u001b[0m\u001b[0;34m.\u001b[0m\u001b[0m_check_init_values\u001b[0m\u001b[0;34m(\u001b[0m\u001b[0;34m)\u001b[0m\u001b[0;34m\u001b[0m\u001b[0;34m\u001b[0m\u001b[0m\n\u001b[1;32m    394\u001b[0m \u001b[0;34m\u001b[0m\u001b[0m\n",
      "\u001b[0;32m/usr/local/lib/python3.7/dist-packages/trax/supervised/inputs.py\u001b[0m in \u001b[0;36madd_loss_weights\u001b[0;34m(generator, id_to_mask)\u001b[0m\n\u001b[1;32m    428\u001b[0m     \u001b[0mExamples\u001b[0m \u001b[0;32mfrom\u001b[0m \u001b[0mthe\u001b[0m \u001b[0maugmented\u001b[0m \u001b[0mstream\u001b[0m\u001b[0;34m.\u001b[0m\u001b[0;34m\u001b[0m\u001b[0;34m\u001b[0m\u001b[0m\n\u001b[1;32m    429\u001b[0m   \"\"\"\n\u001b[0;32m--> 430\u001b[0;31m   \u001b[0;32mfor\u001b[0m \u001b[0mexample\u001b[0m \u001b[0;32min\u001b[0m \u001b[0mgenerator\u001b[0m\u001b[0;34m:\u001b[0m\u001b[0;34m\u001b[0m\u001b[0;34m\u001b[0m\u001b[0m\n\u001b[0m\u001b[1;32m    431\u001b[0m     \u001b[0;32mif\u001b[0m \u001b[0mlen\u001b[0m\u001b[0;34m(\u001b[0m\u001b[0mexample\u001b[0m\u001b[0;34m)\u001b[0m \u001b[0;34m>\u001b[0m \u001b[0;36m3\u001b[0m \u001b[0;32mor\u001b[0m \u001b[0mlen\u001b[0m\u001b[0;34m(\u001b[0m\u001b[0mexample\u001b[0m\u001b[0;34m)\u001b[0m \u001b[0;34m<\u001b[0m \u001b[0;36m2\u001b[0m\u001b[0;34m:\u001b[0m\u001b[0;34m\u001b[0m\u001b[0;34m\u001b[0m\u001b[0m\n\u001b[1;32m    432\u001b[0m       \u001b[0;32massert\u001b[0m \u001b[0mid_to_mask\u001b[0m \u001b[0;32mis\u001b[0m \u001b[0;32mNone\u001b[0m\u001b[0;34m,\u001b[0m \u001b[0;34m'Cannot automatically mask this stream.'\u001b[0m\u001b[0;34m\u001b[0m\u001b[0;34m\u001b[0m\u001b[0m\n",
      "\u001b[0;32m<ipython-input-89-b89211f396aa>\u001b[0m in \u001b[0;36mdata_generator\u001b[0;34m(data_pos, data_neg, batch_size, loop, vocab_dict, shuffle)\u001b[0m\n\u001b[1;32m     68\u001b[0m \u001b[0;34m\u001b[0m\u001b[0m\n\u001b[1;32m     69\u001b[0m             \u001b[0;31m# convert the tweet into tensors of integers representing the processed words\u001b[0m\u001b[0;34m\u001b[0m\u001b[0;34m\u001b[0m\u001b[0;34m\u001b[0m\u001b[0m\n\u001b[0;32m---> 70\u001b[0;31m             \u001b[0mtensor\u001b[0m \u001b[0;34m=\u001b[0m \u001b[0mtoTensor\u001b[0m\u001b[0;34m(\u001b[0m\u001b[0mtweet\u001b[0m\u001b[0;34m,\u001b[0m \u001b[0mvocab_dict\u001b[0m\u001b[0;34m)\u001b[0m\u001b[0;34m\u001b[0m\u001b[0;34m\u001b[0m\u001b[0m\n\u001b[0m\u001b[1;32m     71\u001b[0m \u001b[0;34m\u001b[0m\u001b[0m\n\u001b[1;32m     72\u001b[0m             \u001b[0;31m# append the tensor to the batch list\u001b[0m\u001b[0;34m\u001b[0m\u001b[0;34m\u001b[0m\u001b[0;34m\u001b[0m\u001b[0m\n",
      "\u001b[0;32m<ipython-input-99-ac4a68835e79>\u001b[0m in \u001b[0;36mtoTensor\u001b[0;34m(sentence, vocabulary, unknowToken)\u001b[0m\n\u001b[1;32m     12\u001b[0m   \u001b[0;31m# on tokenize la phrase\u001b[0m\u001b[0;34m\u001b[0m\u001b[0;34m\u001b[0m\u001b[0;34m\u001b[0m\u001b[0m\n\u001b[1;32m     13\u001b[0m \u001b[0;34m\u001b[0m\u001b[0m\n\u001b[0;32m---> 14\u001b[0;31m   \u001b[0mtokened\u001b[0m \u001b[0;34m=\u001b[0m \u001b[0mtokenizer\u001b[0m\u001b[0;34m.\u001b[0m\u001b[0mtokenize\u001b[0m\u001b[0;34m(\u001b[0m\u001b[0msentence\u001b[0m\u001b[0;34m)\u001b[0m\u001b[0;34m\u001b[0m\u001b[0;34m\u001b[0m\u001b[0m\n\u001b[0m\u001b[1;32m     15\u001b[0m \u001b[0;34m\u001b[0m\u001b[0m\n\u001b[1;32m     16\u001b[0m   \u001b[0;31m# get __UNK__ index\u001b[0m\u001b[0;34m\u001b[0m\u001b[0;34m\u001b[0m\u001b[0;34m\u001b[0m\u001b[0m\n",
      "\u001b[0;32m/usr/local/lib/python3.7/dist-packages/nltk/tokenize/regexp.py\u001b[0m in \u001b[0;36mtokenize\u001b[0;34m(self, text)\u001b[0m\n\u001b[1;32m    127\u001b[0m         \u001b[0;31m# If our regexp matches tokens, use re.findall:\u001b[0m\u001b[0;34m\u001b[0m\u001b[0;34m\u001b[0m\u001b[0;34m\u001b[0m\u001b[0m\n\u001b[1;32m    128\u001b[0m         \u001b[0;32melse\u001b[0m\u001b[0;34m:\u001b[0m\u001b[0;34m\u001b[0m\u001b[0;34m\u001b[0m\u001b[0m\n\u001b[0;32m--> 129\u001b[0;31m             \u001b[0;32mreturn\u001b[0m \u001b[0mself\u001b[0m\u001b[0;34m.\u001b[0m\u001b[0m_regexp\u001b[0m\u001b[0;34m.\u001b[0m\u001b[0mfindall\u001b[0m\u001b[0;34m(\u001b[0m\u001b[0mtext\u001b[0m\u001b[0;34m)\u001b[0m\u001b[0;34m\u001b[0m\u001b[0;34m\u001b[0m\u001b[0m\n\u001b[0m\u001b[1;32m    130\u001b[0m \u001b[0;34m\u001b[0m\u001b[0m\n\u001b[1;32m    131\u001b[0m     \u001b[0;32mdef\u001b[0m \u001b[0mspan_tokenize\u001b[0m\u001b[0;34m(\u001b[0m\u001b[0mself\u001b[0m\u001b[0;34m,\u001b[0m \u001b[0mtext\u001b[0m\u001b[0;34m)\u001b[0m\u001b[0;34m:\u001b[0m\u001b[0;34m\u001b[0m\u001b[0;34m\u001b[0m\u001b[0m\n",
      "\u001b[0;31mTypeError\u001b[0m: expected string or bytes-like object"
     ]
    }
   ],
   "source": [
    "train_steps = 100            \n",
    "!rm -f 'model/model.pkl.gz'  # Remove old model.pkl if it exists\n",
    "\n",
    "# Train the model\n",
    "training_loop = train_model(SER(), train_generator, eval_generator, train_steps)"
   ]
  },
  {
   "cell_type": "code",
   "execution_count": null,
   "metadata": {
    "id": "KCuEUzljLkmN"
   },
   "outputs": [],
   "source": []
  }
 ],
 "metadata": {
  "colab": {
   "collapsed_sections": [],
   "include_colab_link": true,
   "name": "Projet_NLP_REINAROMAIN.ipynb",
   "provenance": []
  },
  "kernelspec": {
   "display_name": "Python 3",
   "language": "python",
   "name": "python3"
  },
  "language_info": {
   "codemirror_mode": {
    "name": "ipython",
    "version": 3
   },
   "file_extension": ".py",
   "mimetype": "text/x-python",
   "name": "python",
   "nbconvert_exporter": "python",
   "pygments_lexer": "ipython3",
   "version": "3.8.5"
  }
 },
 "nbformat": 4,
 "nbformat_minor": 1
}
